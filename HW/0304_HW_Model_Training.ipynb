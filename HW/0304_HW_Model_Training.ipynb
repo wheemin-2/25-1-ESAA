{
  "nbformat": 4,
  "nbformat_minor": 0,
  "metadata": {
    "colab": {
      "provenance": [],
      "toc_visible": true
    },
    "kernelspec": {
      "name": "python3",
      "display_name": "Python 3"
    },
    "language_info": {
      "name": "python"
    }
  },
  "cells": [
    {
      "cell_type": "markdown",
      "source": [
        "# **선형 회귀**"
      ],
      "metadata": {
        "id": "cY267Nj5myUh"
      }
    },
    {
      "cell_type": "markdown",
      "source": [
        "일반적인 선형 모델 : 입력 특성의 가중치 합 + 절편\n",
        "\n",
        " ![linear regression](https://img1.daumcdn.net/thumb/R1280x0/?scode=mtistory2&fname=https%3A%2F%2Fblog.kakaocdn.net%2Fdn%2Fb4gFyY%2FbtsIJehWt8i%2F9sWO9TwHtBa2Ki6fvXdJu1%2Fimg.png)\n",
        "\n",
        "벡터 형태\n",
        "\n",
        " ![vector form](https://img1.daumcdn.net/thumb/R1280x0/?scode=mtistory2&fname=https%3A%2F%2Fblog.kakaocdn.net%2Fdn%2FkVPr9%2FbtsILfTCClD%2FuM0l5XmkSrZt5WYGou3Hi0%2Fimg.png)\n",
        "\n",
        " * 여기서 θ 는 row vector"
      ],
      "metadata": {
        "id": "Bw7n_dGgnFrb"
      }
    },
    {
      "cell_type": "markdown",
      "source": [
        "## **비용함수와 정규방정식**"
      ],
      "metadata": {
        "id": "h6DOX-Iut536"
      }
    },
    {
      "cell_type": "markdown",
      "source": [
        "* 비용함수\n",
        "\n",
        " ![loss ft](https://img1.daumcdn.net/thumb/R1280x0/?scode=mtistory2&fname=https%3A%2F%2Fblog.kakaocdn.net%2Fdn%2Fb9XM2i%2FbtsIK5jhX44%2FO2XMlQeve811KJj58laWGK%2Fimg.png)\n",
        "\n",
        "* 비용함수를 최소화하는 ϴ 값을 찾기 위한 공식\n",
        "\n",
        " ![normal equation](https://img1.daumcdn.net/thumb/R1280x0/?scode=mtistory2&fname=https%3A%2F%2Fblog.kakaocdn.net%2Fdn%2FVD1Gn%2FbtsIJtFNhAq%2FptV7noUin6KUSul7iT4uK1%2Fimg.png)"
      ],
      "metadata": {
        "id": "Pk8mzL3HpNbx"
      }
    },
    {
      "cell_type": "markdown",
      "source": [
        "### **선형 회귀 수행 (np.linalg)**"
      ],
      "metadata": {
        "id": "354tl1EJuEvn"
      }
    },
    {
      "cell_type": "markdown",
      "source": [
        "넘파이의 linalg 모듈 내의 함수를 사용하여 직접 계산할 수 있음"
      ],
      "metadata": {
        "id": "f3hMdxPLusrh"
      }
    },
    {
      "cell_type": "code",
      "execution_count": 18,
      "metadata": {
        "colab": {
          "base_uri": "https://localhost:8080/",
          "height": 473
        },
        "id": "XRvlLAhAlTgY",
        "outputId": "b6d6bb93-1cc1-4710-a75f-601541fc8f98"
      },
      "outputs": [
        {
          "output_type": "execute_result",
          "data": {
            "text/plain": [
              "<matplotlib.collections.PathCollection at 0x7923fc24f690>"
            ]
          },
          "metadata": {},
          "execution_count": 18
        },
        {
          "output_type": "display_data",
          "data": {
            "text/plain": [
              "<Figure size 640x480 with 1 Axes>"
            ],
            "image/png": "[encoded data removed]"
          },
          "metadata": {}
        }
      ],
      "source": [
        "import numpy as np\n",
        "import matplotlib.pyplot as plt\n",
        "\n",
        "X = 2 * np.random.rand(100,1)\n",
        "y = 4 + 3*X + np.random.randn(100,1)\n",
        "\n",
        "plt.ylim(0,14);plt.ylabel('y'); plt.xlabel('X1')\n",
        "plt.scatter(X,y)"
      ]
    },
    {
      "cell_type": "code",
      "source": [
        "# design matrix 생성 (첫 칼럼을 모두 1로)\n",
        "X_b = np.c_[np.ones((100,1)),X]\n",
        "\n",
        "# 정규방정식 직접 계산\n",
        "# np.linalg 모듈에 있는 inv(), dot() 메서드 활용\n",
        "theta_best = np.linalg.inv(X_b.T.dot(X_b)).dot(X_b.T).dot(y)"
      ],
      "metadata": {
        "id": "FmiqbMt6p8Mk"
      },
      "execution_count": 19,
      "outputs": []
    },
    {
      "cell_type": "code",
      "source": [
        "theta_best"
      ],
      "metadata": {
        "colab": {
          "base_uri": "https://localhost:8080/"
        },
        "id": "dmwQwMVurA1x",
        "outputId": "c41f7faf-277f-4a2f-a546-76a585903ca4"
      },
      "execution_count": 20,
      "outputs": [
        {
          "output_type": "execute_result",
          "data": {
            "text/plain": [
              "array([[3.86191472],\n",
              "       [3.08301965]])"
            ]
          },
          "metadata": {},
          "execution_count": 20
        }
      ]
    },
    {
      "cell_type": "markdown",
      "source": [
        "*True theta0 = 4, theta1 = 3*\n",
        "\n",
        "Gaussian noise(np.random.randn)로 인해 정확한 예측은 X"
      ],
      "metadata": {
        "id": "HZFiuCRorDUA"
      }
    },
    {
      "cell_type": "code",
      "source": [
        "# 새로운 데이터 X_new에 대하여 예측\n",
        "X_new = np.array([[0], [2]]) # 2x1 column vector\n",
        "X_new_b = np.c_[np.ones((2,1)), X_new] # design matrix\n",
        "\n",
        "# 모델의 예측값 생성 (2x1 matrix)\n",
        "y_predict = X_new_b.dot(theta_best)\n",
        "y_predict"
      ],
      "metadata": {
        "colab": {
          "base_uri": "https://localhost:8080/"
        },
        "id": "77Lv1RsOrC3R",
        "outputId": "e00063a9-87d1-4aab-e65c-960a6449ed48"
      },
      "execution_count": 21,
      "outputs": [
        {
          "output_type": "execute_result",
          "data": {
            "text/plain": [
              "array([[ 3.86191472],\n",
              "       [10.02795402]])"
            ]
          },
          "metadata": {},
          "execution_count": 21
        }
      ]
    },
    {
      "cell_type": "code",
      "source": [
        "plt.plot(X_new, y_predict, 'r-', label='prediction')\n",
        "plt.plot(X, y, 'b.')\n",
        "plt.axis([0, 2, 0, 15])  # plt.axis([x_min, x_max, y_min, y_max])\n",
        "plt.legend()\n",
        "plt.show()"
      ],
      "metadata": {
        "colab": {
          "base_uri": "https://localhost:8080/",
          "height": 430
        },
        "id": "sJKUvjdgrkqH",
        "outputId": "4c958a95-cb3b-4d68-d350-ecd4dd0f4cc2"
      },
      "execution_count": 22,
      "outputs": [
        {
          "output_type": "display_data",
          "data": {
            "text/plain": [
              "<Figure size 640x480 with 1 Axes>"
            ],
            "image/png": "[encoded data removed]"
          },
          "metadata": {}
        }
      ]
    },
    {
      "cell_type": "markdown",
      "source": [
        "### **선형 회귀 수행 (sklearn)**"
      ],
      "metadata": {
        "id": "_iMH9g5VuTYG"
      }
    },
    {
      "cell_type": "markdown",
      "source": [
        "사용 모듈 : sklearn.linear_model.LinearRegression\n",
        "\n",
        "사용 순서 : 선형 회귀 모델 생성 > 학습 > 예측"
      ],
      "metadata": {
        "id": "OtqhMPr0ufL6"
      }
    },
    {
      "cell_type": "code",
      "source": [
        "# 사이킷런에서의 선형회귀\n",
        "from sklearn.linear_model import LinearRegression\n",
        "lin_reg = LinearRegression()\n",
        "lin_reg.fit(X,y)"
      ],
      "metadata": {
        "colab": {
          "base_uri": "https://localhost:8080/",
          "height": 80
        },
        "id": "oWsPTvVRssRK",
        "outputId": "653223d5-1a02-4409-e5e8-07a981b5f4dc"
      },
      "execution_count": 23,
      "outputs": [
        {
          "output_type": "execute_result",
          "data": {
            "text/plain": [
              "LinearRegression()"
            ],
            "text/html": [
              "<style>#sk-container-id-2 {\n",
              "  /* Definition of color scheme common for light and dark mode */\n",
              "  --sklearn-color-text: #000;\n",
              "  --sklearn-color-text-muted: #666;\n",
              "  --sklearn-color-line: gray;\n",
              "  /* Definition of color scheme for unfitted estimators */\n",
              "  --sklearn-color-unfitted-level-0: #fff5e6;\n",
              "  --sklearn-color-unfitted-level-1: #f6e4d2;\n",
              "  --sklearn-color-unfitted-level-2: #ffe0b3;\n",
              "  --sklearn-color-unfitted-level-3: chocolate;\n",
              "  /* Definition of color scheme for fitted estimators */\n",
              "  --sklearn-color-fitted-level-0: #f0f8ff;\n",
              "  --sklearn-color-fitted-level-1: #d4ebff;\n",
              "  --sklearn-color-fitted-level-2: #b3dbfd;\n",
              "  --sklearn-color-fitted-level-3: cornflowerblue;\n",
              "\n",
              "  /* Specific color for light theme */\n",
              "  --sklearn-color-text-on-default-background: var(--sg-text-color, var(--theme-code-foreground, var(--jp-content-font-color1, black)));\n",
              "  --sklearn-color-background: var(--sg-background-color, var(--theme-background, var(--jp-layout-color0, white)));\n",
              "  --sklearn-color-border-box: var(--sg-text-color, var(--theme-code-foreground, var(--jp-content-font-color1, black)));\n",
              "  --sklearn-color-icon: #696969;\n",
              "\n",
              "  @media (prefers-color-scheme: dark) {\n",
              "    /* Redefinition of color scheme for dark theme */\n",
              "    --sklearn-color-text-on-default-background: var(--sg-text-color, var(--theme-code-foreground, var(--jp-content-font-color1, white)));\n",
              "    --sklearn-color-background: var(--sg-background-color, var(--theme-background, var(--jp-layout-color0, #111)));\n",
              "    --sklearn-color-border-box: var(--sg-text-color, var(--theme-code-foreground, var(--jp-content-font-color1, white)));\n",
              "    --sklearn-color-icon: #878787;\n",
              "  }\n",
              "}\n",
              "\n",
              "#sk-container-id-2 {\n",
              "  color: var(--sklearn-color-text);\n",
              "}\n",
              "\n",
              "#sk-container-id-2 pre {\n",
              "  padding: 0;\n",
              "}\n",
              "\n",
              "#sk-container-id-2 input.sk-hidden--visually {\n",
              "  border: 0;\n",
              "  clip: rect(1px 1px 1px 1px);\n",
              "  clip: rect(1px, 1px, 1px, 1px);\n",
              "  height: 1px;\n",
              "  margin: -1px;\n",
              "  overflow: hidden;\n",
              "  padding: 0;\n",
              "  position: absolute;\n",
              "  width: 1px;\n",
              "}\n",
              "\n",
              "#sk-container-id-2 div.sk-dashed-wrapped {\n",
              "  border: 1px dashed var(--sklearn-color-line);\n",
              "  margin: 0 0.4em 0.5em 0.4em;\n",
              "  box-sizing: border-box;\n",
              "  padding-bottom: 0.4em;\n",
              "  background-color: var(--sklearn-color-background);\n",
              "}\n",
              "\n",
              "#sk-container-id-2 div.sk-container {\n",
              "  /* jupyter's `normalize.less` sets `[hidden] { display: none; }`\n",
              "     but bootstrap.min.css set `[hidden] { display: none !important; }`\n",
              "     so we also need the `!important` here to be able to override the\n",
              "     default hidden behavior on the sphinx rendered scikit-learn.org.\n",
              "     See: https://github.com/scikit-learn/scikit-learn/issues/21755 */\n",
              "  display: inline-block !important;\n",
              "  position: relative;\n",
              "}\n",
              "\n",
              "#sk-container-id-2 div.sk-text-repr-fallback {\n",
              "  display: none;\n",
              "}\n",
              "\n",
              "div.sk-parallel-item,\n",
              "div.sk-serial,\n",
              "div.sk-item {\n",
              "  /* draw centered vertical line to link estimators */\n",
              "  background-image: linear-gradient(var(--sklearn-color-text-on-default-background), var(--sklearn-color-text-on-default-background));\n",
              "  background-size: 2px 100%;\n",
              "  background-repeat: no-repeat;\n",
              "  background-position: center center;\n",
              "}\n",
              "\n",
              "/* Parallel-specific style estimator block */\n",
              "\n",
              "#sk-container-id-2 div.sk-parallel-item::after {\n",
              "  content: \"\";\n",
              "  width: 100%;\n",
              "  border-bottom: 2px solid var(--sklearn-color-text-on-default-background);\n",
              "  flex-grow: 1;\n",
              "}\n",
              "\n",
              "#sk-container-id-2 div.sk-parallel {\n",
              "  display: flex;\n",
              "  align-items: stretch;\n",
              "  justify-content: center;\n",
              "  background-color: var(--sklearn-color-background);\n",
              "  position: relative;\n",
              "}\n",
              "\n",
              "#sk-container-id-2 div.sk-parallel-item {\n",
              "  display: flex;\n",
              "  flex-direction: column;\n",
              "}\n",
              "\n",
              "#sk-container-id-2 div.sk-parallel-item:first-child::after {\n",
              "  align-self: flex-end;\n",
              "  width: 50%;\n",
              "}\n",
              "\n",
              "#sk-container-id-2 div.sk-parallel-item:last-child::after {\n",
              "  align-self: flex-start;\n",
              "  width: 50%;\n",
              "}\n",
              "\n",
              "#sk-container-id-2 div.sk-parallel-item:only-child::after {\n",
              "  width: 0;\n",
              "}\n",
              "\n",
              "/* Serial-specific style estimator block */\n",
              "\n",
              "#sk-container-id-2 div.sk-serial {\n",
              "  display: flex;\n",
              "  flex-direction: column;\n",
              "  align-items: center;\n",
              "  background-color: var(--sklearn-color-background);\n",
              "  padding-right: 1em;\n",
              "  padding-left: 1em;\n",
              "}\n",
              "\n",
              "\n",
              "/* Toggleable style: style used for estimator/Pipeline/ColumnTransformer box that is\n",
              "clickable and can be expanded/collapsed.\n",
              "- Pipeline and ColumnTransformer use this feature and define the default style\n",
              "- Estimators will overwrite some part of the style using the `sk-estimator` class\n",
              "*/\n",
              "\n",
              "/* Pipeline and ColumnTransformer style (default) */\n",
              "\n",
              "#sk-container-id-2 div.sk-toggleable {\n",
              "  /* Default theme specific background. It is overwritten whether we have a\n",
              "  specific estimator or a Pipeline/ColumnTransformer */\n",
              "  background-color: var(--sklearn-color-background);\n",
              "}\n",
              "\n",
              "/* Toggleable label */\n",
              "#sk-container-id-2 label.sk-toggleable__label {\n",
              "  cursor: pointer;\n",
              "  display: flex;\n",
              "  width: 100%;\n",
              "  margin-bottom: 0;\n",
              "  padding: 0.5em;\n",
              "  box-sizing: border-box;\n",
              "  text-align: center;\n",
              "  align-items: start;\n",
              "  justify-content: space-between;\n",
              "  gap: 0.5em;\n",
              "}\n",
              "\n",
              "#sk-container-id-2 label.sk-toggleable__label .caption {\n",
              "  font-size: 0.6rem;\n",
              "  font-weight: lighter;\n",
              "  color: var(--sklearn-color-text-muted);\n",
              "}\n",
              "\n",
              "#sk-container-id-2 label.sk-toggleable__label-arrow:before {\n",
              "  /* Arrow on the left of the label */\n",
              "  content: \"▸\";\n",
              "  float: left;\n",
              "  margin-right: 0.25em;\n",
              "  color: var(--sklearn-color-icon);\n",
              "}\n",
              "\n",
              "#sk-container-id-2 label.sk-toggleable__label-arrow:hover:before {\n",
              "  color: var(--sklearn-color-text);\n",
              "}\n",
              "\n",
              "/* Toggleable content - dropdown */\n",
              "\n",
              "#sk-container-id-2 div.sk-toggleable__content {\n",
              "  max-height: 0;\n",
              "  max-width: 0;\n",
              "  overflow: hidden;\n",
              "  text-align: left;\n",
              "  /* unfitted */\n",
              "  background-color: var(--sklearn-color-unfitted-level-0);\n",
              "}\n",
              "\n",
              "#sk-container-id-2 div.sk-toggleable__content.fitted {\n",
              "  /* fitted */\n",
              "  background-color: var(--sklearn-color-fitted-level-0);\n",
              "}\n",
              "\n",
              "#sk-container-id-2 div.sk-toggleable__content pre {\n",
              "  margin: 0.2em;\n",
              "  border-radius: 0.25em;\n",
              "  color: var(--sklearn-color-text);\n",
              "  /* unfitted */\n",
              "  background-color: var(--sklearn-color-unfitted-level-0);\n",
              "}\n",
              "\n",
              "#sk-container-id-2 div.sk-toggleable__content.fitted pre {\n",
              "  /* unfitted */\n",
              "  background-color: var(--sklearn-color-fitted-level-0);\n",
              "}\n",
              "\n",
              "#sk-container-id-2 input.sk-toggleable__control:checked~div.sk-toggleable__content {\n",
              "  /* Expand drop-down */\n",
              "  max-height: 200px;\n",
              "  max-width: 100%;\n",
              "  overflow: auto;\n",
              "}\n",
              "\n",
              "#sk-container-id-2 input.sk-toggleable__control:checked~label.sk-toggleable__label-arrow:before {\n",
              "  content: \"▾\";\n",
              "}\n",
              "\n",
              "/* Pipeline/ColumnTransformer-specific style */\n",
              "\n",
              "#sk-container-id-2 div.sk-label input.sk-toggleable__control:checked~label.sk-toggleable__label {\n",
              "  color: var(--sklearn-color-text);\n",
              "  background-color: var(--sklearn-color-unfitted-level-2);\n",
              "}\n",
              "\n",
              "#sk-container-id-2 div.sk-label.fitted input.sk-toggleable__control:checked~label.sk-toggleable__label {\n",
              "  background-color: var(--sklearn-color-fitted-level-2);\n",
              "}\n",
              "\n",
              "/* Estimator-specific style */\n",
              "\n",
              "/* Colorize estimator box */\n",
              "#sk-container-id-2 div.sk-estimator input.sk-toggleable__control:checked~label.sk-toggleable__label {\n",
              "  /* unfitted */\n",
              "  background-color: var(--sklearn-color-unfitted-level-2);\n",
              "}\n",
              "\n",
              "#sk-container-id-2 div.sk-estimator.fitted input.sk-toggleable__control:checked~label.sk-toggleable__label {\n",
              "  /* fitted */\n",
              "  background-color: var(--sklearn-color-fitted-level-2);\n",
              "}\n",
              "\n",
              "#sk-container-id-2 div.sk-label label.sk-toggleable__label,\n",
              "#sk-container-id-2 div.sk-label label {\n",
              "  /* The background is the default theme color */\n",
              "  color: var(--sklearn-color-text-on-default-background);\n",
              "}\n",
              "\n",
              "/* On hover, darken the color of the background */\n",
              "#sk-container-id-2 div.sk-label:hover label.sk-toggleable__label {\n",
              "  color: var(--sklearn-color-text);\n",
              "  background-color: var(--sklearn-color-unfitted-level-2);\n",
              "}\n",
              "\n",
              "/* Label box, darken color on hover, fitted */\n",
              "#sk-container-id-2 div.sk-label.fitted:hover label.sk-toggleable__label.fitted {\n",
              "  color: var(--sklearn-color-text);\n",
              "  background-color: var(--sklearn-color-fitted-level-2);\n",
              "}\n",
              "\n",
              "/* Estimator label */\n",
              "\n",
              "#sk-container-id-2 div.sk-label label {\n",
              "  font-family: monospace;\n",
              "  font-weight: bold;\n",
              "  display: inline-block;\n",
              "  line-height: 1.2em;\n",
              "}\n",
              "\n",
              "#sk-container-id-2 div.sk-label-container {\n",
              "  text-align: center;\n",
              "}\n",
              "\n",
              "/* Estimator-specific */\n",
              "#sk-container-id-2 div.sk-estimator {\n",
              "  font-family: monospace;\n",
              "  border: 1px dotted var(--sklearn-color-border-box);\n",
              "  border-radius: 0.25em;\n",
              "  box-sizing: border-box;\n",
              "  margin-bottom: 0.5em;\n",
              "  /* unfitted */\n",
              "  background-color: var(--sklearn-color-unfitted-level-0);\n",
              "}\n",
              "\n",
              "#sk-container-id-2 div.sk-estimator.fitted {\n",
              "  /* fitted */\n",
              "  background-color: var(--sklearn-color-fitted-level-0);\n",
              "}\n",
              "\n",
              "/* on hover */\n",
              "#sk-container-id-2 div.sk-estimator:hover {\n",
              "  /* unfitted */\n",
              "  background-color: var(--sklearn-color-unfitted-level-2);\n",
              "}\n",
              "\n",
              "#sk-container-id-2 div.sk-estimator.fitted:hover {\n",
              "  /* fitted */\n",
              "  background-color: var(--sklearn-color-fitted-level-2);\n",
              "}\n",
              "\n",
              "/* Specification for estimator info (e.g. \"i\" and \"?\") */\n",
              "\n",
              "/* Common style for \"i\" and \"?\" */\n",
              "\n",
              ".sk-estimator-doc-link,\n",
              "a:link.sk-estimator-doc-link,\n",
              "a:visited.sk-estimator-doc-link {\n",
              "  float: right;\n",
              "  font-size: smaller;\n",
              "  line-height: 1em;\n",
              "  font-family: monospace;\n",
              "  background-color: var(--sklearn-color-background);\n",
              "  border-radius: 1em;\n",
              "  height: 1em;\n",
              "  width: 1em;\n",
              "  text-decoration: none !important;\n",
              "  margin-left: 0.5em;\n",
              "  text-align: center;\n",
              "  /* unfitted */\n",
              "  border: var(--sklearn-color-unfitted-level-1) 1pt solid;\n",
              "  color: var(--sklearn-color-unfitted-level-1);\n",
              "}\n",
              "\n",
              ".sk-estimator-doc-link.fitted,\n",
              "a:link.sk-estimator-doc-link.fitted,\n",
              "a:visited.sk-estimator-doc-link.fitted {\n",
              "  /* fitted */\n",
              "  border: var(--sklearn-color-fitted-level-1) 1pt solid;\n",
              "  color: var(--sklearn-color-fitted-level-1);\n",
              "}\n",
              "\n",
              "/* On hover */\n",
              "div.sk-estimator:hover .sk-estimator-doc-link:hover,\n",
              ".sk-estimator-doc-link:hover,\n",
              "div.sk-label-container:hover .sk-estimator-doc-link:hover,\n",
              ".sk-estimator-doc-link:hover {\n",
              "  /* unfitted */\n",
              "  background-color: var(--sklearn-color-unfitted-level-3);\n",
              "  color: var(--sklearn-color-background);\n",
              "  text-decoration: none;\n",
              "}\n",
              "\n",
              "div.sk-estimator.fitted:hover .sk-estimator-doc-link.fitted:hover,\n",
              ".sk-estimator-doc-link.fitted:hover,\n",
              "div.sk-label-container:hover .sk-estimator-doc-link.fitted:hover,\n",
              ".sk-estimator-doc-link.fitted:hover {\n",
              "  /* fitted */\n",
              "  background-color: var(--sklearn-color-fitted-level-3);\n",
              "  color: var(--sklearn-color-background);\n",
              "  text-decoration: none;\n",
              "}\n",
              "\n",
              "/* Span, style for the box shown on hovering the info icon */\n",
              ".sk-estimator-doc-link span {\n",
              "  display: none;\n",
              "  z-index: 9999;\n",
              "  position: relative;\n",
              "  font-weight: normal;\n",
              "  right: .2ex;\n",
              "  padding: .5ex;\n",
              "  margin: .5ex;\n",
              "  width: min-content;\n",
              "  min-width: 20ex;\n",
              "  max-width: 50ex;\n",
              "  color: var(--sklearn-color-text);\n",
              "  box-shadow: 2pt 2pt 4pt #999;\n",
              "  /* unfitted */\n",
              "  background: var(--sklearn-color-unfitted-level-0);\n",
              "  border: .5pt solid var(--sklearn-color-unfitted-level-3);\n",
              "}\n",
              "\n",
              ".sk-estimator-doc-link.fitted span {\n",
              "  /* fitted */\n",
              "  background: var(--sklearn-color-fitted-level-0);\n",
              "  border: var(--sklearn-color-fitted-level-3);\n",
              "}\n",
              "\n",
              ".sk-estimator-doc-link:hover span {\n",
              "  display: block;\n",
              "}\n",
              "\n",
              "/* \"?\"-specific style due to the `<a>` HTML tag */\n",
              "\n",
              "#sk-container-id-2 a.estimator_doc_link {\n",
              "  float: right;\n",
              "  font-size: 1rem;\n",
              "  line-height: 1em;\n",
              "  font-family: monospace;\n",
              "  background-color: var(--sklearn-color-background);\n",
              "  border-radius: 1rem;\n",
              "  height: 1rem;\n",
              "  width: 1rem;\n",
              "  text-decoration: none;\n",
              "  /* unfitted */\n",
              "  color: var(--sklearn-color-unfitted-level-1);\n",
              "  border: var(--sklearn-color-unfitted-level-1) 1pt solid;\n",
              "}\n",
              "\n",
              "#sk-container-id-2 a.estimator_doc_link.fitted {\n",
              "  /* fitted */\n",
              "  border: var(--sklearn-color-fitted-level-1) 1pt solid;\n",
              "  color: var(--sklearn-color-fitted-level-1);\n",
              "}\n",
              "\n",
              "/* On hover */\n",
              "#sk-container-id-2 a.estimator_doc_link:hover {\n",
              "  /* unfitted */\n",
              "  background-color: var(--sklearn-color-unfitted-level-3);\n",
              "  color: var(--sklearn-color-background);\n",
              "  text-decoration: none;\n",
              "}\n",
              "\n",
              "#sk-container-id-2 a.estimator_doc_link.fitted:hover {\n",
              "  /* fitted */\n",
              "  background-color: var(--sklearn-color-fitted-level-3);\n",
              "}\n",
              "</style><div id=\"sk-container-id-2\" class=\"sk-top-container\"><div class=\"sk-text-repr-fallback\"><pre>LinearRegression()</pre><b>In a Jupyter environment, please rerun this cell to show the HTML representation or trust the notebook. <br />On GitHub, the HTML representation is unable to render, please try loading this page with nbviewer.org.</b></div><div class=\"sk-container\" hidden><div class=\"sk-item\"><div class=\"sk-estimator fitted sk-toggleable\"><input class=\"sk-toggleable__control sk-hidden--visually\" id=\"sk-estimator-id-2\" type=\"checkbox\" checked><label for=\"sk-estimator-id-2\" class=\"sk-toggleable__label fitted sk-toggleable__label-arrow\"><div><div>LinearRegression</div></div><div><a class=\"sk-estimator-doc-link fitted\" rel=\"noreferrer\" target=\"_blank\" href=\"https://scikit-learn.org/1.6/modules/generated/sklearn.linear_model.LinearRegression.html\">?<span>Documentation for LinearRegression</span></a><span class=\"sk-estimator-doc-link fitted\">i<span>Fitted</span></span></div></label><div class=\"sk-toggleable__content fitted\"><pre>LinearRegression()</pre></div> </div></div></div></div>"
            ]
          },
          "metadata": {},
          "execution_count": 23
        }
      ]
    },
    {
      "cell_type": "code",
      "source": [
        "# 회귀 함수의 절편과 회귀 계수 출력\n",
        "print(lin_reg.intercept_, lin_reg.coef_)\n",
        "\n",
        "# 예측값 출력\n",
        "print(lin_reg.predict(X_new))"
      ],
      "metadata": {
        "colab": {
          "base_uri": "https://localhost:8080/"
        },
        "id": "zcouvmfcuefn",
        "outputId": "244e82be-3d91-4697-d3f9-50fafa738200"
      },
      "execution_count": 24,
      "outputs": [
        {
          "output_type": "stream",
          "name": "stdout",
          "text": [
            "[3.86191472] [[3.08301965]]\n",
            "[[ 3.86191472]\n",
            " [10.02795402]]\n"
          ]
        }
      ]
    },
    {
      "cell_type": "code",
      "source": [
        "theta_best_svd, residuals, rank, s = np.linalg.lstsq(X_b, y, rcond=1e-6)\n",
        "theta_best_svd"
      ],
      "metadata": {
        "colab": {
          "base_uri": "https://localhost:8080/"
        },
        "id": "ZOumBHlguzyy",
        "outputId": "32f0c4ca-2ddf-45a2-8fe1-20a2f18f2f67"
      },
      "execution_count": 25,
      "outputs": [
        {
          "output_type": "execute_result",
          "data": {
            "text/plain": [
              "array([[3.86191472],\n",
              "       [3.08301965]])"
            ]
          },
          "metadata": {},
          "execution_count": 25
        }
      ]
    },
    {
      "cell_type": "code",
      "source": [
        "np.linalg.pinv(X_b).dot(y)"
      ],
      "metadata": {
        "colab": {
          "base_uri": "https://localhost:8080/"
        },
        "id": "fbwrzpvdvVjZ",
        "outputId": "79bffbb7-224b-4c8b-9228-41d5e9dc3ece"
      },
      "execution_count": 26,
      "outputs": [
        {
          "output_type": "execute_result",
          "data": {
            "text/plain": [
              "array([[3.86191472],\n",
              "       [3.08301965]])"
            ]
          },
          "metadata": {},
          "execution_count": 26
        }
      ]
    },
    {
      "cell_type": "markdown",
      "source": [
        "# **경사 하강법**"
      ],
      "metadata": {
        "id": "mPhM2tkYvnEJ"
      }
    },
    {
      "cell_type": "markdown",
      "source": [
        "경사하강법 (Gradient Descent)\n",
        "* 여러 종류의 문제에서 최적의 해법을 찾을 수 있는 일반적인 최적화 알고리즘\n",
        "* 기본 아이디어 : 비용 함수를 최소화하기 위해 반복해서 파라미터를 조정해가는 것\n",
        "\n",
        "경사하강법 과정\n",
        "* 임의의 θ 값을 설정 (random initialization)\n",
        "* 한 번에 조금씩 loss function이 감소하는 방향으로 진행\n",
        "* 최솟값에 수렴할 때까지 점진적으로 향상\n",
        "    * 이때 gradient = 0 이 되는 지점이 최솟값\n",
        "\n",
        " ![gradient descent](https://img1.daumcdn.net/thumb/R1280x0/?scode=mtistory2&fname=https%3A%2F%2Fblog.kakaocdn.net%2Fdn%2FvKLoI%2FbtsIKCPsa70%2FR0henGxjEDWqBHUfMbcrC1%2Fimg.png)"
      ],
      "metadata": {
        "id": "af6VuoKtwQzf"
      }
    },
    {
      "cell_type": "markdown",
      "source": [
        "주요 파라미터 : \"스텝\"의 크기\n",
        "* learning rate 파라미터로 결정됨\n",
        "* learning rate가 너무 작은 경우\n",
        "    * 알고리즘이 수렴하기 위해 반복을 많이 진행해야 함 > 시간 소요 큼\n",
        "* learning rate가 너무 큰 경우\n",
        "    * 알고리즘을 더 큰 값으로 발산하게 만들 위험이 있음\n",
        "    ![big learning rate](https://img1.daumcdn.net/thumb/R1280x0/?scode=mtistory2&fname=https%3A%2F%2Fblog.kakaocdn.net%2Fdn%2FCBIOY%2FbtsIJYS1ok2%2FywYbKlCppXi3uLISTFW0kk%2Fimg.png)"
      ],
      "metadata": {
        "id": "fYdZdKUrxGK6"
      }
    },
    {
      "cell_type": "markdown",
      "source": [
        "경사 하강법을 사용할 떄에는 StandardScaler 등을 사용하여 모든 특성이 같은 스케일을 갖도록 만들어야함!!\n",
        "\n",
        "모든 특성의 스케일이 같지 않으면 수렴하는 데 훨씬 오랜 시간이 걸림\n"
      ],
      "metadata": {
        "id": "XYL00AYdySml"
      }
    },
    {
      "cell_type": "markdown",
      "source": [
        "## **배치 경사 하강법**"
      ],
      "metadata": {
        "id": "OVseFuRyyo2q"
      }
    },
    {
      "cell_type": "markdown",
      "source": [
        "경사 하강법을 구현하기 위해서는 각 모델 파라미터 $\\theta_j$에 대해 비용 함수의 그래디언트를 계산해야함.\n",
        "\n",
        "즉, $\\theta_j$가 조금 변경될 때 비용 함수가 얼마나 바뀌는지 계산해야함 => *편도 함수 (Partial derivative)*"
      ],
      "metadata": {
        "id": "RUuevXdrhc0k"
      }
    },
    {
      "cell_type": "markdown",
      "source": [
        "**비용 함수의 편도함수**\n",
        "\n",
        "$\\frac{\\partial}{\\partial \\theta_j} \\text{MSE}(\\theta) = \\frac{1}{m} \\sum_{i=1}^{m} \\left( \\theta^T x^{(i)} - y^{(i)} \\right) x_j^{(i)}$\n",
        "\n"
      ],
      "metadata": {
        "id": "cegglruwiplH"
      }
    },
    {
      "cell_type": "markdown",
      "source": [
        "**경사 하강법의 스텝**\n",
        "\n",
        "$\\theta^{\\text{next step}} = \\theta - \\eta \\nabla_{\\theta} \\text{MSE}(\\theta)$"
      ],
      "metadata": {
        "id": "uFRaqU0bjlG3"
      }
    },
    {
      "cell_type": "code",
      "source": [
        "# 알고리즘 구현\n",
        "eta = 0.1 # 학습률\n",
        "n_iterations = 1000\n",
        "m = 100\n",
        "\n",
        "theta = np.random.randn(2,1) # random initialization\n",
        "\n",
        "for iteration in range(n_iterations):\n",
        "    gradients = 2/m * X_b.T.dot(X_b.dot(theta)-y)\n",
        "    theta = theta - eta * gradients\n",
        "\n",
        "print(theta)"
      ],
      "metadata": {
        "colab": {
          "base_uri": "https://localhost:8080/"
        },
        "id": "Of39Q04HipDp",
        "outputId": "7a41996b-0ae0-454a-8934-49b2954dd5ff"
      },
      "execution_count": 27,
      "outputs": [
        {
          "output_type": "stream",
          "name": "stdout",
          "text": [
            "[[3.86191472]\n",
            " [3.08301965]]\n"
          ]
        }
      ]
    },
    {
      "cell_type": "markdown",
      "source": [
        "**여러가지 학습률에 대한 경사 하강법 결과**\n",
        "\n",
        "(처음 10개의 결과를 나타냄)\n",
        "\n",
        "![learning rate](https://velog.velcdn.com/images/cha-suyeon/post/af47be77-11d9-4252-99d8-6f713ced7a28/image.png)"
      ],
      "metadata": {
        "id": "J2N5I0opkNH5"
      }
    },
    {
      "cell_type": "markdown",
      "source": [
        "배치 경사 하강법의 장/단점\n",
        "\n",
        "* 장점 : 비용 함수가 볼록 함수이고 기울기가 급격하게 바뀌지 않는 경우 (MSE loss function 같은), 학습률을 고정한 배치 경사 하강법은 결국 최적의 솔루션에 수렴함\n",
        "\n",
        "* 단점 : 매 스텝에서 전체 훈련 세트를 사용하여 그래디언트를 계산함\n",
        "\n",
        "    \\> 훈련세트가 커지면 수행 속도가 매우 느려짐"
      ],
      "metadata": {
        "id": "4cm9XipEk2o5"
      }
    },
    {
      "cell_type": "markdown",
      "source": [
        "## **확률적 경사 하강법**"
      ],
      "metadata": {
        "id": "6hWKmDxWkjR6"
      }
    },
    {
      "cell_type": "markdown",
      "source": [
        "매 스텝에서 한 개의 샘플을 무작위로 선택하고 그 하나의 샘플에 대한 그래디언트를 계산함\n",
        "\n",
        "\\> 매 반복에서 다뤄야 할 데이터가 매우 적기 때문에 알고리즘이 훨씬 빠름 (배치 경사 하강법에 비해)"
      ],
      "metadata": {
        "id": "nzrbu2u9k0wl"
      }
    },
    {
      "cell_type": "markdown",
      "source": [
        "**단점**\n",
        "\n",
        "'확률적(=무작위)' 이기 때문에 알고리즘이 불안정함\n",
        "* 비용 함수가 최솟값에 다다를 때까지 부드럽게 감소하지 X, 요동치면서 평균적으로 감소함 > 결과적으로는 최솟값에 근접하겠지만 요동이 지속되면서 최솟값에 안착하지는 못할 것 (최선o, 최고x)\n",
        "\n",
        "**장점**\n",
        "\n",
        "비용함수가 불규칙한 경우에는 알고리즘이 지역 최솟값을 건너뛸 수 있도록 도와줌 > 전역 최솟값을 찾을 가능성이 높음 (배치 경사하강법보다)\n",
        "\n",
        "* <-> 무작위성은 지역 최솟값에서 탈출시켜주지만 전역 최솟값에는 다다르지 못 하게 함.\n",
        "    * 이를 해결하기 위해서는 학습률을 점진적으로 감소시키면 됨\n",
        "    * 시작할 때 : 학습률을 크게 잡아 지역 최솟값에 빠지지 않게 함\n",
        "    * 점점 학습률을 감소시키며 전역 최솟값에 도달하게 함\n",
        "    * 매 반복에서 학습률을 결정하는 함수 : **학습 스케줄(learning schedule)**"
      ],
      "metadata": {
        "id": "TflCsyYBl7an"
      }
    },
    {
      "cell_type": "code",
      "source": [
        "# 학습 스케줄을 사용한 확률적 경사 하강법 구현\n",
        "n_epochs = 50\n",
        "t0, t1 = 5, 50   # learning schedule hyper-parameter\n",
        "\n",
        "def learning_schedule(t):\n",
        "    return t0 / (t + t1)\n",
        "\n",
        "theta = np.random.randn(2,1)   # random initialization\n",
        "\n",
        "for epoch in range(n_epochs):\n",
        "    for i in range(m):\n",
        "        random_index = np.random.randint(m)\n",
        "        xi = X_b[random_index:random_index+1]\n",
        "        yi = y[random_index:random_index+1]\n",
        "        gradients = 2 * xi.T.dot(xi.dot(theta)-yi)\n",
        "        eta = learning_schedule(epoch*m + i)\n",
        "        theta = theta - eta * gradients"
      ],
      "metadata": {
        "id": "XXtMw2Cwki7O"
      },
      "execution_count": 28,
      "outputs": []
    },
    {
      "cell_type": "markdown",
      "source": [
        "일반적으로 한 반복에서 m번(m = 훈련 세트의 샘플 수) 되풀이 됨. 이때 각 반복을 epoch 라고 함"
      ],
      "metadata": {
        "id": "lr06O08Wnj6P"
      }
    },
    {
      "cell_type": "code",
      "source": [
        "theta"
      ],
      "metadata": {
        "colab": {
          "base_uri": "https://localhost:8080/"
        },
        "id": "yyuoiurYkMyU",
        "outputId": "cd5173a0-9b6b-483b-c686-26ee4b264425"
      },
      "execution_count": 29,
      "outputs": [
        {
          "output_type": "execute_result",
          "data": {
            "text/plain": [
              "array([[3.786914  ],\n",
              "       [3.12471905]])"
            ]
          },
          "metadata": {},
          "execution_count": 29
        }
      ]
    },
    {
      "cell_type": "code",
      "source": [
        "# 사이킷런의 SGDRegressor 모듈로 구현\n",
        "from sklearn.linear_model import SGDRegressor\n",
        "sgd_reg = SGDRegressor(max_iter = 1000, tol=1e-3, penalty=None, eta0=0.1)\n",
        "sgd_reg.fit(X, y.ravel())\n",
        "\n",
        "sgd_reg.intercept_, sgd_reg.coef_"
      ],
      "metadata": {
        "colab": {
          "base_uri": "https://localhost:8080/"
        },
        "id": "uT28LyU6n5TB",
        "outputId": "6905cbe0-2296-4b1e-b59a-283b6f010b04"
      },
      "execution_count": 30,
      "outputs": [
        {
          "output_type": "execute_result",
          "data": {
            "text/plain": [
              "(array([3.87249822]), array([3.10294379]))"
            ]
          },
          "metadata": {},
          "execution_count": 30
        }
      ]
    },
    {
      "cell_type": "markdown",
      "source": [
        "## **미니배치 경사 하강법**"
      ],
      "metadata": {
        "id": "j-qdX-gAocY7"
      }
    },
    {
      "cell_type": "markdown",
      "source": [
        "'미니배치'라 부르는 임의의 작은 샘플 세트에 대하여 그래디언트를 계산함"
      ],
      "metadata": {
        "id": "GXIolTp3pNoK"
      }
    },
    {
      "cell_type": "markdown",
      "source": [
        "각 경사 하강법 알고리즘이 훈련 과정동안 파라미터 공간에서 움직인 경로\n",
        "\n",
        "![mini batch](https://velog.velcdn.com/images/cha-suyeon/post/5165f457-7a79-4298-92ec-ada2a6be520b/image.png)\n",
        "\n",
        "* 배치 경사하강법 : 실제로 최솟값에서 멈춤, ⓑ 시간 소요 ↑\n",
        "* 확률적 경사 하강법 / 미니배치 경사 하강법 : 근처에서 맴돌고 있음\n",
        "    * 적절한 학습 스케줄 사용 시 최솟값에 도달할 수 있음"
      ],
      "metadata": {
        "id": "8aWfNTvVphaK"
      }
    },
    {
      "cell_type": "markdown",
      "source": [
        "# **다항 회귀**"
      ],
      "metadata": {
        "id": "LjQOCYoEy3kf"
      }
    },
    {
      "cell_type": "code",
      "source": [
        "m = 100\n",
        "X = 6 * np.random.rand(m,1) - 3\n",
        "y = 0.5 * X**2 + X + 2 + np.random.randn(m,1)\n",
        "\n",
        "plt.scatter(X, y)"
      ],
      "metadata": {
        "colab": {
          "base_uri": "https://localhost:8080/",
          "height": 449
        },
        "id": "wA63gNDIvat6",
        "outputId": "f559de58-c4a0-4627-bba6-c21a5756ca73"
      },
      "execution_count": 50,
      "outputs": [
        {
          "output_type": "execute_result",
          "data": {
            "text/plain": [
              "<matplotlib.collections.PathCollection at 0x7923fc4ea690>"
            ]
          },
          "metadata": {},
          "execution_count": 50
        },
        {
          "output_type": "display_data",
          "data": {
            "text/plain": [
              "<Figure size 640x480 with 1 Axes>"
            ],
            "image/png": "[encoded data removed]"
          },
          "metadata": {}
        }
      ]
    },
    {
      "cell_type": "markdown",
      "source": [
        "PolynomialFeatures()를 사용해 훈련 데이터를 변환할 수 있음\n",
        "* degree : 다항 회귀 모델의 차수, default는 2\n",
        "* include_bias : bias를 위한 x0(=1)의 추가 여부를 설정, default = True"
      ],
      "metadata": {
        "id": "YH0FW3M12XOP"
      }
    },
    {
      "cell_type": "code",
      "source": [
        "from sklearn.preprocessing import PolynomialFeatures\n",
        "\n",
        "# 피처가 X 1개 이므로 PolynomialFeatures(degree=2) 수행 시 X => X, X^2로 변환됨\n",
        "poly_features = PolynomialFeatures(degree=2, include_bias=False)\n",
        "X_poly = poly_features.fit_transform(X)\n",
        "\n",
        "print(X[0], X_poly[0])"
      ],
      "metadata": {
        "colab": {
          "base_uri": "https://localhost:8080/"
        },
        "id": "93NJKns7zHRY",
        "outputId": "1198aa2e-e95a-4841-e484-405b69838366"
      },
      "execution_count": 51,
      "outputs": [
        {
          "output_type": "stream",
          "name": "stdout",
          "text": [
            "[1.65626536] [1.65626536 2.74321493]\n"
          ]
        }
      ]
    },
    {
      "cell_type": "code",
      "source": [
        "lin_reg = LinearRegression()\n",
        "lin_reg.fit(X_poly, y)\n",
        "\n",
        "# 다항 회귀 모델의 절편, 회귀 계수 확인\n",
        "lin_reg.intercept_, lin_reg.coef_"
      ],
      "metadata": {
        "colab": {
          "base_uri": "https://localhost:8080/"
        },
        "id": "BNI6qweAzZEb",
        "outputId": "b28643ff-d4c8-423a-db1c-b3b84e83be5a"
      },
      "execution_count": 52,
      "outputs": [
        {
          "output_type": "execute_result",
          "data": {
            "text/plain": [
              "(array([2.02545695]), array([[0.88801121, 0.50311242]]))"
            ]
          },
          "metadata": {},
          "execution_count": 52
        }
      ]
    },
    {
      "cell_type": "code",
      "source": [
        "# 시각화\n",
        "plt.plot(X, lin_reg.predict(X_poly), 'r.', marker='x', label='prediction')\n",
        "plt.legend()\n",
        "plt.plot(X, y, 'b.')"
      ],
      "metadata": {
        "colab": {
          "base_uri": "https://localhost:8080/",
          "height": 505
        },
        "id": "uxMRy3Z-zx5R",
        "outputId": "24a81f07-a7c7-40ae-bf72-c073e9b1211c"
      },
      "execution_count": 53,
      "outputs": [
        {
          "output_type": "stream",
          "name": "stderr",
          "text": [
            "<ipython-input-53-a686dded23c7>:2: UserWarning: marker is redundantly defined by the 'marker' keyword argument and the fmt string \"r.\" (-> marker='.'). The keyword argument will take precedence.\n",
            "  plt.plot(X, lin_reg.predict(X_poly), 'r.', marker='x', label='prediction')\n"
          ]
        },
        {
          "output_type": "execute_result",
          "data": {
            "text/plain": [
              "[<matplotlib.lines.Line2D at 0x7923fc42f750>]"
            ]
          },
          "metadata": {},
          "execution_count": 53
        },
        {
          "output_type": "display_data",
          "data": {
            "text/plain": [
              "<Figure size 640x480 with 1 Axes>"
            ],
            "image/png": "[encoded data removed]"
          },
          "metadata": {}
        }
      ]
    },
    {
      "cell_type": "markdown",
      "source": [
        "특성이 여러 개일 때 다항 회귀는 특성 간의 관계를 찾을 수 있음\n",
        "\n",
        "이는 PolynomialFeatures가 주어진 차수까지 특성 간의 모든 교차항을 추가하기 때문임\n",
        "* ex) 두 개의 특성 a, b를 degree=3으로 변환하면 $a^2,a^3,b^2,b^3$ 뿐 아니라 $ab, a^2b,ab^2$까지 특성으로 추가함"
      ],
      "metadata": {
        "id": "3BpBb5dN3TPG"
      }
    },
    {
      "cell_type": "markdown",
      "source": [
        "# **학습 곡선**"
      ],
      "metadata": {
        "id": "PvbIScf63yxI"
      }
    },
    {
      "cell_type": "markdown",
      "source": [
        "고차 다항 회귀를 적용하면 보통의 선형 회귀에서보다 훨씬 더 훈련 데이터에 잘 맞추려고 함 >> 과대적합(overfitting)의 문제가 있음\n",
        "\n",
        "하지만 선형 모델은 과소적합임\n",
        "\n",
        "![over/under fitting](https://velog.velcdn.com/images/cha-suyeon/post/fc9f287e-4c1b-4ad0-898a-1baaf2327ad6/image.png)"
      ],
      "metadata": {
        "id": "ZXoT_TS-qVlw"
      }
    },
    {
      "cell_type": "markdown",
      "source": [
        "얼마나 복잡한 모델을 사용할지 결정하는 것 + 모델이 데이터에 과대/과소적합 되었는지 확인하는 것이 중요함\n",
        "\n",
        "* 교차 검증 : 모델의 일반화 성능을 추정할 수 있음\n",
        "    * 훈련 데이터에서는 성능이 좋지만 교차 검증 점수가 나쁨 : over-fitting\n",
        "    * 양쪽에 모두 좋지 않은 점수 : under-fitting\n",
        "\n",
        "* 학습 곡선\n",
        "    * 훈련 세트와 검증 세트의 모델 성능을 함수로 나타냄"
      ],
      "metadata": {
        "id": "ys4ULlfrqu0F"
      }
    },
    {
      "cell_type": "code",
      "source": [
        "from sklearn.metrics import mean_squared_error\n",
        "from sklearn.model_selection import train_test_split\n",
        "\n",
        "def plot_learning_curves(model,X,y):\n",
        "    X_train, X_val, y_train, y_val = train_test_split(X, y, test_size=0.2)\n",
        "    train_errors, val_errors = [], []\n",
        "    for m in range(1, len(X_train)):\n",
        "        model.fit(X_train[:m], y_train[:m])\n",
        "        y_train_predict = model.predict(X_train[:m])\n",
        "        y_val_predict = model.predict(X_val)\n",
        "        train_errors.append(mean_squared_error(y_train[:m], y_train_predict))\n",
        "        val_errors.append(mean_squared_error(y_val, y_val_predict))\n",
        "    plt.plot(np.sqrt(train_errors), \"r-+\", linewidth=2, label='train set')\n",
        "    plt.plot(np.sqrt(val_errors), \"b-\", linewidth=3, label='validation set')\n",
        "    plt.legend()"
      ],
      "metadata": {
        "id": "SfZIxQff0O7U"
      },
      "execution_count": 54,
      "outputs": []
    },
    {
      "cell_type": "code",
      "source": [
        "# 단순 선형 회귀 모델의 학습 곡선\n",
        "lin_reg = LinearRegression()\n",
        "plot_learning_curves(lin_reg, X, y)"
      ],
      "metadata": {
        "colab": {
          "base_uri": "https://localhost:8080/",
          "height": 430
        },
        "id": "SuARBNkots3J",
        "outputId": "f97c1168-936a-4a58-ad02-73dcd20ad30b"
      },
      "execution_count": 55,
      "outputs": [
        {
          "output_type": "display_data",
          "data": {
            "text/plain": [
              "<Figure size 640x480 with 1 Axes>"
            ],
            "image/png": "[encoded data removed]"
          },
          "metadata": {}
        }
      ]
    },
    {
      "cell_type": "markdown",
      "source": [
        "과소적합 모델의 전형적인 학습 곡선 : 두 곡선이 수평한 구간을 만들고 꽤 높은 오차에서 매우 가까이 근접해 있음\n",
        "\n",
        "* 모델이 훈련 데이터에 과소적합되어있다면 훈련 샘플을 추가하더라도 효과가 X, 더 복잡한 모델을 사용하거나 더 나은 특성을 선택해야함\n",
        "\n",
        "(True model : 이차함수 형태)"
      ],
      "metadata": {
        "id": "b0ykZomdw1rW"
      }
    },
    {
      "cell_type": "code",
      "source": [
        "# 10차 다항 회귀모델의 학습 곡선\n",
        "from sklearn.pipeline import Pipeline\n",
        "\n",
        "polynomial_regression = Pipeline([('poly_features', PolynomialFeatures(degree=10, include_bias=False)),\n",
        "                                  ('lin_reg',LinearRegression())])\n",
        "\n",
        "plt.ylim(0,3)\n",
        "plot_learning_curves(polynomial_regression, X, y)"
      ],
      "metadata": {
        "colab": {
          "base_uri": "https://localhost:8080/",
          "height": 435
        },
        "id": "WYE8eFNCt5vt",
        "outputId": "14c19234-5482-4ecb-d214-afba74dd7cdf"
      },
      "execution_count": 56,
      "outputs": [
        {
          "output_type": "display_data",
          "data": {
            "text/plain": [
              "<Figure size 640x480 with 1 Axes>"
            ],
            "image/png": "[encoded data removed]"
          },
          "metadata": {}
        }
      ]
    },
    {
      "cell_type": "markdown",
      "source": [
        "과대적합 모델의 특징 : 두 곡선 사이에 공간이 있음. 즉, 훈련 데이터에서의 성능이 검증 데이터에서보다 훨씬 낫다는 의미\n",
        "\n",
        "* 훈련 데이터의 오차가 선형 회귀 모델보다 훨씬 낮음\n",
        "* 더 큰 훈련 세트를 사용하면 두 곡선이 점점 가까워짐\n"
      ],
      "metadata": {
        "id": "IC979296xKw5"
      }
    }
  ]
}
