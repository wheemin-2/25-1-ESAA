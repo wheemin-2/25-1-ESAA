{
  "nbformat": 4,
  "nbformat_minor": 0,
  "metadata": {
    "colab": {
      "provenance": [],
      "authorship_tag": "ABX9TyMbCru/2aGmA3b0NA/WL0s/",
      "include_colab_link": true
    },
    "kernelspec": {
      "name": "python3",
      "display_name": "Python 3"
    },
    "language_info": {
      "name": "python"
    }
  },
  "cells": [
    {
      "cell_type": "markdown",
      "metadata": {
        "id": "view-in-github",
        "colab_type": "text"
      },
      "source": [
        "<a href=\"https://colab.research.google.com/github/wheemin-2/25-1-ESAA/blob/main/0530_HW_TimeSeries2.ipynb\" target=\"_parent\"><img src=\"https://colab.research.google.com/assets/colab-badge.svg\" alt=\"Open In Colab\"/></a>"
      ]
    },
    {
      "cell_type": "markdown",
      "source": [
        "# **시계열 분석 (2)**"
      ],
      "metadata": {
        "id": "pS0Bt7D4G7de"
      }
    },
    {
      "cell_type": "markdown",
      "source": [
        "# **LSTM**"
      ],
      "metadata": {
        "id": "RLWV-qIMKuss"
      }
    },
    {
      "cell_type": "markdown",
      "source": [
        "LSTM : 확장된 RNN 방식\n",
        "- RNN은 가중치가 업데이트되는 과정에서 기울기가 1보다 작은 값이 계속 곱해지기 때문에 기울기 소멸 문제가 발생함\n",
        "- LSTM, GRU 와 같은 확장된 RNN 방식을 사용하여 문제를 해결"
      ],
      "metadata": {
        "id": "JQDq5vQiQa-R"
      }
    },
    {
      "cell_type": "markdown",
      "source": [
        "## **LSTM 구조**"
      ],
      "metadata": {
        "id": "PAUwbx2QQJDS"
      }
    },
    {
      "cell_type": "markdown",
      "source": [
        "### **LSTM 순전파**"
      ],
      "metadata": {
        "id": "4bcGqstHQnMJ"
      }
    },
    {
      "cell_type": "markdown",
      "source": [
        "기울기 소멸 문제를 해결하기 위해 망각 게이트, 입력 게이트, 출력 게이트라는 새로운 요소를 은닉층의 각 뉴런에 추가"
      ],
      "metadata": {
        "id": "9JH7qr_sQpjc"
      }
    },
    {
      "cell_type": "markdown",
      "source": [
        "**1. 망각 게이트(forget gate)**"
      ],
      "metadata": {
        "id": "2-_DCrYIQx4K"
      }
    },
    {
      "cell_type": "markdown",
      "source": [
        "과거 정보를 어느 정도 기억할지 결정하는 게이트\n",
        "- 과거 정보와 현재 데이터를 입력받아 시그모이드를 취한 후, 그 값을 과거 정보에 곱함\n",
        "- 시그모이드의 출력 값에 따른 결과\n",
        "    - 0 : 과거 정보를 버린다\n",
        "    - 1 : 과거 정보를 온전히 보존한다\n",
        "\n"
      ],
      "metadata": {
        "id": "2e_W4ybEQ2NH"
      }
    },
    {
      "cell_type": "markdown",
      "source": [
        "[망각 게이트의 수식]\n",
        "\n",
        "$ f_t = \\sigma(w_f[h_{t-1}, x_t])$\n",
        "\n",
        "$ c_t = f_t \\cdot c_{t-1} $\n",
        "\n",
        "![forget gate](https://thebook.io/img/080289/394.jpg)\n",
        "\n",
        "- 0~1 사이의 출력 값을 가지는 $h_{t-1}$과 $x_t$를 입력 값으로 받음\n",
        "    - 이 두 값을 이용하여 이전 상태 정보를 현재 메모리에 반영할지 결정함\n",
        "    - 1 : 직전 정보를 메모리에 유지\n",
        "    - 0 : 초기화\n",
        "- $x_t$ : 새로운 입력 값\n",
        "- $h_{t-1}$ : 이전 은닉층에서 입력되는 값"
      ],
      "metadata": {
        "id": "jmmGhSr5RKE8"
      }
    },
    {
      "cell_type": "markdown",
      "source": [
        "**2. 입력 게이트(input gate)**"
      ],
      "metadata": {
        "id": "fbupzfmoRvqw"
      }
    },
    {
      "cell_type": "markdown",
      "source": [
        "현재 정보를 기억하기 위해 만들어진 게이트\n",
        "- 과거 정보와 현재 데이터를 입력받아 시그모이드와 하이퍼볼릭 탄젠트 함수를 기반으로 현재 정보에 대한 보존량을 결정\n",
        "- 즉, 현재 메모리에 새로운 정보를 반영할지 결정하는 역할\n",
        "- 계산 값에 따른 결과\n",
        "    - 1 : 입력 $x_t$가 들어올 수 있도록 허용(open)\n",
        "    - 0 : 차단"
      ],
      "metadata": {
        "id": "3JPIPb4LSir-"
      }
    },
    {
      "cell_type": "markdown",
      "source": [
        "[입력 게이트의 수식]\n",
        "\n",
        "$ i_t = \\sigma(w_i[h_{t-1}, x_t])$\n",
        "\n",
        "$ \\tilde c_t = tanh(w_c[h_{t-1}, x_t])$\n",
        "\n",
        "$ c_t = c_{t-1} + i_t \\cdot \\tilde c_t$\n",
        "\n",
        "![input gate](https://thebook.io/img/080289/395.jpg)"
      ],
      "metadata": {
        "id": "3ANKLVqUS3eq"
      }
    },
    {
      "cell_type": "markdown",
      "source": [
        "**3. 셀(cell)**"
      ],
      "metadata": {
        "id": "23lIaKh6Thwt"
      }
    },
    {
      "cell_type": "markdown",
      "source": [
        "각 단계에 대한 은닉 노드(hidden node)를 메모리 셀이라고 함\n",
        "- '총합(sum)'을 사용하여 셀 값을 반영하며, 이를 통해 기울기 소멸 문제를 해결"
      ],
      "metadata": {
        "id": "eBXqMDcATlwQ"
      }
    },
    {
      "cell_type": "markdown",
      "source": [
        "셀을 업데이트 하는 방법\n",
        "\n",
        ": 망각 게이트와 입력 게이트의 이전 단계 셀 정보를 계산하여 현재 단계의 셀 상태(cell state)를 업데이트함\n"
      ],
      "metadata": {
        "id": "7lzd6GGlTuzy"
      }
    },
    {
      "cell_type": "markdown",
      "source": [
        "[셀에 대한 수식]\n",
        "\n",
        "$ f_t = \\sigma(w_f[h_{t-1}, x_t])$\n",
        "\n",
        "$ c_t = c_{t-1} + i_t \\cdot \\tilde c_t $\n",
        "\n",
        "![cell](https://thebook.io/img/080289/396.jpg)"
      ],
      "metadata": {
        "id": "mO8Mft-fUik_"
      }
    },
    {
      "cell_type": "markdown",
      "source": [
        "**4. 출력 게이트(output gate)**"
      ],
      "metadata": {
        "id": "SMS_foQbUwnj"
      }
    },
    {
      "cell_type": "markdown",
      "source": [
        "과거 정보와 현재 데이터를 사용하여 뉴런의 출력을 결정\n",
        "- 이전 은닉 상태(hidden state)와 t번째 입력을 고려하여 다음 은닉 상태를 계산함\n",
        "- 이 은닉 상태가 그 시점에서의 출력이 됨\n",
        "- 계산한 값에 따른 결과\n",
        "    - 1 : 의미 있는 결과로 최종 출력\n",
        "    - 0 : 해당 연산 출력을 하지 않음\n",
        "\n",
        "[출력 게이트의 수식]\n",
        "\n",
        "$ o_t = \\sigma(w_o[t_{t-1}, x_t])$\n",
        "\n",
        "$ h_t = o_t \\cdot tanh(c_{t-1})$\n",
        "\n",
        "![output_gate](https://thebook.io/img/080289/397_1.jpg)"
      ],
      "metadata": {
        "id": "HQ_tRktsVD8J"
      }
    },
    {
      "cell_type": "markdown",
      "source": [
        "**LSTM 전체 게이트 도식화**\n",
        "\n",
        "![TOTAL GATE](https://thebook.io/img/080289/397_2.jpg)"
      ],
      "metadata": {
        "id": "ukNjvCI1Vs7C"
      }
    },
    {
      "cell_type": "markdown",
      "source": [
        "### **LSTM 역전파**"
      ],
      "metadata": {
        "id": "CYIGmc-gV2Fn"
      }
    },
    {
      "cell_type": "markdown",
      "source": [
        "LSTM 은 셀을 통해서 역전파를 수행하기 때문에 '중단 없는 기울기(uniterrupted gradient flow)'라고도 함\n",
        "\n",
        "최종 오차는 모든 노드에 전파되는데, 이때 셀을 통해서 중단 없이 전파됨"
      ],
      "metadata": {
        "id": "mNW4twiFg8We"
      }
    },
    {
      "cell_type": "markdown",
      "source": [
        "![lstm_역전파](https://thebook.io/img/080289/398_1.jpg)"
      ],
      "metadata": {
        "id": "hiVi5jd5hJsT"
      }
    },
    {
      "cell_type": "markdown",
      "source": [
        "[역전파 수행 공식]\n",
        "\n",
        "![formula](https://thebook.io/img/080289/fn2-58.jpg)"
      ],
      "metadata": {
        "id": "0mVD7NfIhcNu"
      }
    },
    {
      "cell_type": "markdown",
      "source": [
        "## **LSTM 셀 구현**"
      ],
      "metadata": {
        "id": "LbUBMmoDhpv-"
      }
    },
    {
      "cell_type": "markdown",
      "source": [
        "MNIST 데이터를 활용하여 LSTM 셀과 LSTM 계층 살펴보기"
      ],
      "metadata": {
        "id": "6zrChAWti-VJ"
      }
    },
    {
      "cell_type": "code",
      "execution_count": null,
      "metadata": {
        "id": "AlfXAQz5GS0I"
      },
      "outputs": [],
      "source": [
        "import torch\n",
        "import torch.nn as nn\n",
        "import torchvision.transforms as transforms\n",
        "import torchvision.datasets as dataset\n",
        "from torch.autograd import Variable\n",
        "from torch.nn import Parameter  # 파라미터 목록을 가지고 있는 라이브러리\n",
        "from torch import Tensor\n",
        "import torch.nn.functional as F\n",
        "from torch.utils.data import DataLoader\n",
        "import math\n",
        "\n",
        "device = torch.device('cuda:0' if torch.cuda.is_available() else 'cpu')\n",
        "cuda = True if torch.cuda.is_available() else False\n",
        "\n",
        "Tensor = torch.cuda.FloatTensor if cuda else torch.FloatTensor\n",
        "\n",
        "torch.manual_seed(125)\n",
        "if torch.cuda.is_available():\n",
        "    torch.cuda.manual_seed_all(125)"
      ]
    },
    {
      "cell_type": "code",
      "source": [
        "# 데이터 전처리\n",
        "import torchvision.transforms as transforms\n",
        "\n",
        "mnist_transform = transforms.Compose([\n",
        "    transforms.ToTensor(),\n",
        "    transforms.Normalize((0.5, ), (1.0, )) # 평균 0.5, 표준편차 1.0으로 정규화\n",
        "])"
      ],
      "metadata": {
        "id": "_VGoZlMZigfj"
      },
      "execution_count": null,
      "outputs": []
    },
    {
      "cell_type": "code",
      "source": [
        "# 데이터셋 내려받기\n",
        "# torchvision.datasets에서 제공하는 데이터셋 중 MNIST 사용\n",
        "\n",
        "from torchvision.datasets import MNIST\n",
        "\n",
        "download_root = '../chap07/MNIST_DATASET'\n",
        "\n",
        "train_dataset = MNIST(download_root, transform=mnist_transform, train=True, download=True)\n",
        "\n",
        "valid_dataset = MNIST(download_root, transform=mnist_transform, train=False, download=True)\n",
        "\n",
        "test_dataset = MNIST(download_root, transform=mnist_transform, train=False, download=True)"
      ],
      "metadata": {
        "colab": {
          "base_uri": "https://localhost:8080/"
        },
        "id": "73FRNtjZkHW0",
        "outputId": "80ef87fa-023f-46e4-eb3e-14c04acc30dc"
      },
      "execution_count": null,
      "outputs": [
        {
          "output_type": "stream",
          "name": "stderr",
          "text": [
            "100%|██████████| 9.91M/9.91M [00:01<00:00, 5.47MB/s]\n",
            "100%|██████████| 28.9k/28.9k [00:00<00:00, 160kB/s]\n",
            "100%|██████████| 1.65M/1.65M [00:01<00:00, 1.30MB/s]\n",
            "100%|██████████| 4.54k/4.54k [00:00<00:00, 7.86MB/s]\n"
          ]
        }
      ]
    },
    {
      "cell_type": "markdown",
      "source": [
        "코드 설명\n",
        "\n",
        "1. `download_root` : MNIST 데이터셋을 내려받을 위치 지정\n",
        "2. `transform` : 앞에서 정의한 데이터 전처리 적용\n",
        "3. `train` : True의 경우 훈련용 데이터셋을 가져오며, False로 설정할 경우 테스트용 데이터셋을 가져옴\n",
        "4. `download` : True의 경우 내려받으려는 위치에 MNIST 파일이 없으면 내려받지만 파일이 있다면 내려받지 않음\n",
        "\n"
      ],
      "metadata": {
        "id": "IIDoztsBk3U0"
      }
    },
    {
      "cell_type": "code",
      "source": [
        "# 내려받은 MNIST 파일을 메모리로 불러옴 (DataLoader 이용)\n",
        "# 주의 : 데이터로더 객체가 \"호출될 때\" 메모리로 불러옴!\n",
        "\n",
        "batch_size = 64\n",
        "train_loader = DataLoader(dataset=train_dataset, batch_size=batch_size,\n",
        "                          shuffle=True)\n",
        "valid_loader = DataLoader(dataset=valid_dataset, batch_size=batch_size,\n",
        "                          shuffle=True)\n",
        "test_loader = DataLoader(dataset=test_dataset, batch_size=batch_size,\n",
        "                          shuffle=True)"
      ],
      "metadata": {
        "id": "0QXwQq0NkvSt"
      },
      "execution_count": null,
      "outputs": []
    },
    {
      "cell_type": "code",
      "source": [
        "# 변수 값 지정\n",
        "batch_size = 100\n",
        "n_iters = 6000\n",
        "num_epochs = n_iters / (len(train_dataset) / batch_size)\n",
        "num_epochs = int(num_epochs)"
      ],
      "metadata": {
        "id": "X7IVmMODlymw"
      },
      "execution_count": null,
      "outputs": []
    },
    {
      "cell_type": "code",
      "source": [
        "# LSTM 셀 네트워크 구축\n",
        "\n",
        "class LSTMCell(nn.Module):\n",
        "    def __init__(self, input_size, hidden_size, bias=True):\n",
        "        super(LSTMCell, self).__init__()\n",
        "        self.input_size = input_size\n",
        "        self.hidden_size = hidden_size\n",
        "        self.bias = bias\n",
        "        self.x2h = nn.Linear(input_size, 4 * hidden_size, bias=bias)\n",
        "        self.h2h = nn.Linear(hidden_size, 4 * hidden_size, bias=bias)\n",
        "        self.reset_parameters()\n",
        "\n",
        "    def reset_parameters(self):\n",
        "        std = 1.0 / math.sqrt(self.hidden_size)\n",
        "        for w in self.parameters():\n",
        "            w.data.uniform_(-std, std)\n",
        "\n",
        "    def forward(self, x, hidden):\n",
        "        hx, cx = hidden\n",
        "        x = x.view(-1, x.size(1))\n",
        "\n",
        "        gates = self.x2h(x) + self.h2h(hx)\n",
        "        gates = gates.squeeze()\n",
        "        ingate, forgetgate, cellgate, outgate = gates.chunk(4, 1)\n",
        "\n",
        "        ingate = F.sigmoid(ingate)\n",
        "        forgetgate = F.sigmoid(forgetgate)\n",
        "        cellgate = F.tanh(cellgate)\n",
        "        outgate = F.sigmoid(outgate)\n",
        "\n",
        "        cy = torch.mul(cx, forgetgate) +  torch.mul(ingate, cellgate)\n",
        "        hy = torch.mul(outgate, F.tanh(cy))\n",
        "        return (hy, cy)"
      ],
      "metadata": {
        "id": "9MwqOQ12mCjZ"
      },
      "execution_count": null,
      "outputs": []
    },
    {
      "cell_type": "markdown",
      "source": [
        "`self.x2h = nn.Linear(input_size, 4 * hidden_size, bias=bias)` 에서 은닉층의 뉴런/유닛에 4를 곱하는 이유?\n",
        "\n",
        ": `gates`가 네 개로 쪼개지는 상황이기 때문\n",
        "- `ingate, forgetgate, cellgate, outgate = gates.chunk(4,1)` 에서 게이트가 쪼개져서 각각 망각, 입력, 셀, 출력 게이트를 의미하는 변수에 저장됨"
      ],
      "metadata": {
        "id": "73FqsXBP4S7n"
      }
    },
    {
      "cell_type": "code",
      "source": [
        "# LSTM 셀의 전반적 네트워크\n",
        "\n",
        "class LSTMModel(nn.Module) :\n",
        "   def __init__(self, input_dim, hidden_dim, layer_dim, output_dim, bias=True) :\n",
        "       super(LSTMModel, self).__init__()\n",
        "       self.hidden_dim = hidden_dim # 은닉층의 뉴런/유닛 개수\n",
        "\n",
        "       self.layer_dim = layer_dim\n",
        "       self.lstm = LSTMCell(input_dim, hidden_dim, layer_dim)\n",
        "       self.fc = nn.Linear(hidden_dim, output_dim)\n",
        "\n",
        "   def forward(self, x) :\n",
        "       if torch.cuda.is_available() :\n",
        "           h0 = Variable(torch.zeros(self.layer_dim, x.size(0), self.hidden_dim).cuda())\n",
        "       else :\n",
        "           h0 = Variable(torch.zeros(self.layer_dim, x.size(0), self.hidden_dim))\n",
        "\n",
        "       if torch.cuda.is_available() :\n",
        "           c0 = Variable(torch.zeros(self.layer_dim, x.size(0), self.hidden_dim).cuda())\n",
        "       else :\n",
        "           c0 = Variable(torch.zeros(self.layer_dim, x.size(0), hidden_dim))\n",
        "\n",
        "       outs = []\n",
        "       cn =  c0[0,:,:]\n",
        "       hn = h0[0,:,:]\n",
        "\n",
        "       for seq in range(x.size(1)) : #LSTM 겔 계층 반복해 쌓음\n",
        "           hn, cn = self.lstm(x[:, seq, :], (hn, cn))\n",
        "           outs.append(hn)\n",
        "\n",
        "       out = outs[-1].squeeze()\n",
        "       out = self.fc(out)\n",
        "       return out"
      ],
      "metadata": {
        "id": "fKCO34mOjmJs"
      },
      "execution_count": null,
      "outputs": []
    },
    {
      "cell_type": "markdown",
      "source": [
        "LSTM 셀 : 앞에서 정의한 함수를 불러오는 부분\n",
        "\n",
        "[파라미터]\n",
        "\n",
        "`self.lstm = LSTMCell(input_dim, hidden_dim, layer_dim)`\n",
        "- input_dim : 입력에 대한 특성 수 (칼럼 개수)\n",
        "- hidde_dim : 은닉층의 뉴런 개수\n",
        "- layer_dim : 은닉층의 계층 개수"
      ],
      "metadata": {
        "id": "_WNhm-1z5DNZ"
      }
    },
    {
      "cell_type": "code",
      "source": [
        "# 옵티마이저와 손실 함수 지정\n",
        "\n",
        "input_dim = 28\n",
        "hidden_dim = 128\n",
        "layer_dim = 1\n",
        "output_dim = 10\n",
        "\n",
        "model = LSTMModel(input_dim, hidden_dim, layer_dim, output_dim)\n",
        "if torch.cuda.is_available():\n",
        "    model.cuda()\n",
        "criterion = nn.CrossEntropyLoss()\n",
        "learning_rate = 0.1\n",
        "optimizer = torch.optim.SGD(model.parameters(), lr=learning_rate)"
      ],
      "metadata": {
        "id": "Ug-k7UhEj1x8"
      },
      "execution_count": null,
      "outputs": []
    },
    {
      "cell_type": "code",
      "source": [
        "# 모델 학습 및 성능 확인 (성능 확인 : 검증 데이터셋으로)\n",
        "seq_dim = 28\n",
        "loss_list = []\n",
        "iter = 0\n",
        "for epoch in range(num_epochs):\n",
        "    for i, (images, labels) in enumerate(train_loader):\n",
        "        if torch.cuda.is_available():\n",
        "            images = Variable(images.view(-1, seq_dim, input_dim).cuda())\n",
        "            labels = Variable(labels.cuda())\n",
        "        else:\n",
        "            images = Variable(images.view(-1, seq_dim, input_dim))\n",
        "            labels = Variable(labels)\n",
        "\n",
        "        optimizer.zero_grad()\n",
        "        outputs = model(images)\n",
        "        loss = criterion(outputs, labels)\n",
        "\n",
        "        if torch.cuda.is_available():\n",
        "            loss.cuda()\n",
        "\n",
        "        loss.backward()\n",
        "        optimizer.step()\n",
        "        loss_list.append(loss.item())\n",
        "        iter += 1\n",
        "\n",
        "        if iter % 500 == 0:\n",
        "            correct = 0\n",
        "            total = 0\n",
        "            for images, labels in valid_loader:\n",
        "                if torch.cuda.is_available():\n",
        "                    images = Variable(images.view(-1, seq_dim, input_dim).cuda())\n",
        "                else:\n",
        "                    images = Variable(images.view(-1 , seq_dim, input_dim))\n",
        "\n",
        "                outputs = model(images)\n",
        "                _, predicted = torch.max(outputs.data, 1)\n",
        "\n",
        "                total += labels.size(0)\n",
        "                if torch.cuda.is_available():\n",
        "                    correct += (predicted.cpu() == labels.cpu()).sum()\n",
        "                else:\n",
        "                    correct += (predicted == labels).sum()\n",
        "\n",
        "            accuracy = 100 * correct / total\n",
        "            print('Iteration: {}. Loss: {}. Accuracy: {}'.format(iter, loss.item(), accuracy))"
      ],
      "metadata": {
        "colab": {
          "base_uri": "https://localhost:8080/"
        },
        "id": "t-vMVwuLj4DM",
        "outputId": "8ead5e67-e949-4c52-d644-c51d49e6726b"
      },
      "execution_count": null,
      "outputs": [
        {
          "output_type": "stream",
          "name": "stdout",
          "text": [
            "Iteration: 500. Loss: 2.237457513809204. Accuracy: 21.420000076293945\n",
            "Iteration: 1000. Loss: 0.8865489363670349. Accuracy: 75.66000366210938\n",
            "Iteration: 1500. Loss: 0.36925092339515686. Accuracy: 89.68000030517578\n",
            "Iteration: 2000. Loss: 0.22741778194904327. Accuracy: 93.22000122070312\n",
            "Iteration: 2500. Loss: 0.04691021144390106. Accuracy: 95.62999725341797\n",
            "Iteration: 3000. Loss: 0.05541188269853592. Accuracy: 95.95999908447266\n",
            "Iteration: 3500. Loss: 0.08951079845428467. Accuracy: 96.51000213623047\n",
            "Iteration: 4000. Loss: 0.02204427309334278. Accuracy: 96.95999908447266\n",
            "Iteration: 4500. Loss: 0.07599193602800369. Accuracy: 96.76000213623047\n",
            "Iteration: 5000. Loss: 0.05491260439157486. Accuracy: 97.11000061035156\n",
            "Iteration: 5500. Loss: 0.16436734795570374. Accuracy: 96.5199966430664\n",
            "Iteration: 6000. Loss: 0.01572381891310215. Accuracy: 97.20999908447266\n",
            "Iteration: 6500. Loss: 0.01401564758270979. Accuracy: 97.88999938964844\n",
            "Iteration: 7000. Loss: 0.01943875104188919. Accuracy: 97.91999816894531\n",
            "Iteration: 7500. Loss: 0.016851885244250298. Accuracy: 97.9800033569336\n",
            "Iteration: 8000. Loss: 0.11844594776630402. Accuracy: 97.83999633789062\n",
            "Iteration: 8500. Loss: 0.00998073909431696. Accuracy: 98.05000305175781\n",
            "Iteration: 9000. Loss: 0.035114556550979614. Accuracy: 97.83999633789062\n"
          ]
        }
      ]
    },
    {
      "cell_type": "code",
      "source": [
        "# 테스트 데이터셋을 이용한 모델 예측 성능 확인\n",
        "\n",
        "def evaluate(model, val_iter):\n",
        "    corrects, total, total_loss = 0, 0, 0\n",
        "    model.eval()\n",
        "    for images, labels in val_iter:\n",
        "        if torch.cuda.is_available():\n",
        "            images = Variable(images.view(-1, seq_dim, input_dim).cuda())\n",
        "        else:\n",
        "            images = Variable(images.view(-1 , seq_dim, input_dim)).to(device)\n",
        "\n",
        "        logit = model(images).to(device)\n",
        "        loss = F.cross_entropy(logit, labels, reduction = \"sum\")\n",
        "        _, predicted = torch.max(logit.data, 1)\n",
        "        total += labels.size(0)\n",
        "        total_loss += loss.item()\n",
        "        corrects += (predicted == labels).sum()\n",
        "\n",
        "    avg_loss = total_loss / len(val_iter.dataset)\n",
        "    avg_accuracy = corrects / total\n",
        "    return avg_loss, avg_accuracy"
      ],
      "metadata": {
        "id": "dXuc04Plj50z"
      },
      "execution_count": null,
      "outputs": []
    },
    {
      "cell_type": "code",
      "source": [
        "# 모델 예측 성능 확인\n",
        "test_loss, test_acc = evaluate(model,test_loader)\n",
        "print(\"Test Loss: %5.2f | Test Accuracy: %5.2f\" % (test_loss, test_acc))"
      ],
      "metadata": {
        "colab": {
          "base_uri": "https://localhost:8080/"
        },
        "id": "xZARyMfNj7b6",
        "outputId": "23722e87-df72-4f7d-9b8b-3e6f3edcc40d"
      },
      "execution_count": null,
      "outputs": [
        {
          "output_type": "stream",
          "name": "stdout",
          "text": [
            "Test Loss:  0.07 | Test Accuracy:  0.98\n"
          ]
        }
      ]
    },
    {
      "cell_type": "markdown",
      "source": [
        "사전에 전처리가 되지 않은 데이터셋의 경우, 정확도를 높이기 위해 은닉층의 개수(혹은 뉴런의 개수) 및 하이퍼파라미터 수정 등이 필요"
      ],
      "metadata": {
        "id": "g3r5WYoX5u4r"
      }
    },
    {
      "cell_type": "markdown",
      "source": [
        "## **LSTM 계층 구현**"
      ],
      "metadata": {
        "id": "TCgYAlwvj8oD"
      }
    },
    {
      "cell_type": "markdown",
      "source": [
        "스타벅스 주가 데이터셋 활용, 얼마나 주가 예측을 잘 하는지 !"
      ],
      "metadata": {
        "id": "uMGIL17t568y"
      }
    },
    {
      "cell_type": "code",
      "source": [
        "import os\n",
        "import time\n",
        "\n",
        "import numpy as np\n",
        "import pandas as pd\n",
        "import matplotlib.pyplot as plt\n",
        "\n",
        "import torch\n",
        "import torch.nn as nn\n",
        "from torch.utils.data import TensorDataset, DataLoader\n",
        "from torch.autograd import Variable\n",
        "from tqdm import tqdm_notebook\n",
        "from sklearn.preprocessing import StandardScaler, MinMaxScaler\n",
        "from sklearn.model_selection import train_test_split\n",
        "\n",
        "device = torch.device('cuda:0' if torch.cuda.is_available() else 'cpu')"
      ],
      "metadata": {
        "id": "eU7tr477kADO"
      },
      "execution_count": null,
      "outputs": []
    },
    {
      "cell_type": "code",
      "source": [
        "from google.colab import drive\n",
        "drive.mount('/content/drive')"
      ],
      "metadata": {
        "colab": {
          "base_uri": "https://localhost:8080/"
        },
        "id": "M0Lq6koEkE8m",
        "outputId": "cb840c16-a6ea-4963-99a5-1e1e202ac3bf"
      },
      "execution_count": null,
      "outputs": [
        {
          "output_type": "stream",
          "name": "stdout",
          "text": [
            "Mounted at /content/drive\n"
          ]
        }
      ]
    },
    {
      "cell_type": "code",
      "source": [
        "# 데이터 불러오기\n",
        "data = pd.read_csv('/content/drive/MyDrive/Colab Notebooks/ESAA/25-1 OB/SBUX.csv')\n",
        "print(data.dtypes)"
      ],
      "metadata": {
        "colab": {
          "base_uri": "https://localhost:8080/"
        },
        "id": "L8KLkx5IkcrP",
        "outputId": "66ef92fc-43ff-4476-bd0a-46498d32456f"
      },
      "execution_count": null,
      "outputs": [
        {
          "output_type": "stream",
          "name": "stdout",
          "text": [
            "Date          object\n",
            "Open         float64\n",
            "High         float64\n",
            "Low          float64\n",
            "Close        float64\n",
            "Adj Close    float64\n",
            "Volume         int64\n",
            "dtype: object\n"
          ]
        }
      ]
    },
    {
      "cell_type": "code",
      "source": [
        "# 날짜 칼럼을 인덱스로 사용\n",
        "data['Date'] = pd.to_datetime(data['Date'])\n",
        "data.set_index('Date', inplace=True)"
      ],
      "metadata": {
        "id": "tuAxMtSAkrZc"
      },
      "execution_count": null,
      "outputs": []
    },
    {
      "cell_type": "code",
      "source": [
        "# 데이터 형식 변경\n",
        "data['Volume'] = data['Volume'].astype(float)"
      ],
      "metadata": {
        "id": "ElnYl9K7kuDr"
      },
      "execution_count": null,
      "outputs": []
    },
    {
      "cell_type": "code",
      "source": [
        "# 훈련과 레이블 분리\n",
        "X = data.iloc[:, :-1]\n",
        "y = data.iloc[:, 5:6]\n",
        "print(X)\n",
        "print(y)"
      ],
      "metadata": {
        "colab": {
          "base_uri": "https://localhost:8080/"
        },
        "id": "SPbqZGe2k4qi",
        "outputId": "59048e43-555e-4e25-e61b-2eb8608e3649"
      },
      "execution_count": null,
      "outputs": [
        {
          "output_type": "stream",
          "name": "stdout",
          "text": [
            "                  Open        High         Low       Close   Adj Close\n",
            "Date                                                                  \n",
            "2019-12-11   86.260002   86.870003   85.849998   86.589996   84.145752\n",
            "2019-12-12   88.000000   88.889999   87.540001   88.209999   85.720032\n",
            "2019-12-13   88.019997   88.790001   87.580002   88.669998   86.167046\n",
            "2019-12-16   89.139999   89.300003   88.430000   88.779999   86.273941\n",
            "2019-12-17   88.870003   88.970001   87.470001   88.129997   85.642288\n",
            "...                ...         ...         ...         ...         ...\n",
            "2020-12-04  101.349998  102.940002  101.070000  102.279999  101.442787\n",
            "2020-12-07  102.010002  102.220001  100.690002  101.410004  100.579918\n",
            "2020-12-08  100.370003  101.570000  100.010002  101.209999  100.381554\n",
            "2020-12-09  101.940002  102.209999  100.099998  100.400002   99.578186\n",
            "2020-12-10  103.510002  106.089996  102.750000  105.389999  104.527336\n",
            "\n",
            "[253 rows x 5 columns]\n",
            "                Volume\n",
            "Date                  \n",
            "2019-12-11   4921900.0\n",
            "2019-12-12  10282100.0\n",
            "2019-12-13   6714100.0\n",
            "2019-12-16   6705600.0\n",
            "2019-12-17   7296900.0\n",
            "...                ...\n",
            "2020-12-04   6952700.0\n",
            "2020-12-07   4514800.0\n",
            "2020-12-08   3911300.0\n",
            "2020-12-09   6629900.0\n",
            "2020-12-10  12939200.0\n",
            "\n",
            "[253 rows x 1 columns]\n"
          ]
        }
      ]
    },
    {
      "cell_type": "code",
      "source": [
        "# 데이터 분포 조정\n",
        "ms = MinMaxScaler()  # 데이터의 모든 값이 0~1 사이에 존재하도록 분산 조정\n",
        "ss = StandardScaler()   # 평균 0, 분산 1이 되도록 분산 조정\n",
        "\n",
        "X_ss = ss.fit_transform(X)\n",
        "y_ms = ms.fit_transform(y)\n",
        "\n",
        "X_train = X_ss[:200, :]\n",
        "X_test = X_ss[200:, :]\n",
        "\n",
        "y_train = y_ms[:200, :]\n",
        "y_test = y_ms[200:, :]\n",
        "\n",
        "print('Training Shape :', X_train.shape, y_train.shape)\n",
        "print('Testing Shape :', X_test.shape, y_test.shape)"
      ],
      "metadata": {
        "colab": {
          "base_uri": "https://localhost:8080/"
        },
        "id": "UcoGP9tLk5Ey",
        "outputId": "0ad6cf34-2a52-45a0-ca2a-33f44e017cf7"
      },
      "execution_count": null,
      "outputs": [
        {
          "output_type": "stream",
          "name": "stdout",
          "text": [
            "Training Shape : (200, 5) (200, 1)\n",
            "Testing Shape : (53, 5) (53, 1)\n"
          ]
        }
      ]
    },
    {
      "cell_type": "code",
      "source": [
        "# 데이터셋의 형태 및 크기 조정\n",
        "\n",
        "X_train_tensors = Variable(torch.Tensor(X_train))\n",
        "X_test_tensors = Variable(torch.Tensor(X_test))\n",
        "\n",
        "y_train_tensors = Variable(torch.Tensor(y_train))\n",
        "y_test_tensors = Variable(torch.Tensor(y_test))\n",
        "\n",
        "X_train_tensors_f = torch.reshape(X_train_tensors, (X_train_tensors.shape[0],\n",
        "                                                  1, X_train_tensors.shape[1]))\n",
        "X_test_tensors_f = torch.reshape(X_test_tensors, (X_test_tensors.shape[0],\n",
        "                                                 1, X_test_tensors.shape[1]))\n",
        "\n",
        "print('Training Shape :', X_train_tensors_f.shape, y_train_tensors.shape)\n",
        "print('Testing Shape :', X_test_tensors_f.shape, y_test_tensors.shape)"
      ],
      "metadata": {
        "colab": {
          "base_uri": "https://localhost:8080/"
        },
        "id": "KYA-ac0Jk7y7",
        "outputId": "b45f0d10-8aa3-40f9-891f-3350810bab84"
      },
      "execution_count": null,
      "outputs": [
        {
          "output_type": "stream",
          "name": "stdout",
          "text": [
            "Training Shape : torch.Size([200, 1, 5]) torch.Size([200, 1])\n",
            "Testing Shape : torch.Size([53, 1, 5]) torch.Size([53, 1])\n"
          ]
        }
      ]
    },
    {
      "cell_type": "code",
      "source": [
        "# LSTM 네트워크\n",
        "class LSTM(nn.Module) :\n",
        "    def __init__(self, num_classes, input_size, hidden_size, num_layers, seq_length) :\n",
        "        super(LSTM, self).__init__()\n",
        "        self.num_classes = num_classes\n",
        "        self.num_layers = num_layers\n",
        "        self.input_size = input_size\n",
        "        self.hidden_size = hidden_size\n",
        "        self.seq_length = seq_length\n",
        "\n",
        "        self.lstm = nn.LSTM(input_size=input_size, hidden_size=hidden_size,\n",
        "                           num_layers=num_layers, batch_first=True)\n",
        "        self.fc_1 = nn.Linear(hidden_size, 128)\n",
        "        self.fc = nn.Linear(128, num_classes)\n",
        "        self.relu = nn.ReLU()\n",
        "\n",
        "    def forward(self, x) :\n",
        "        h_0 = Variable(torch.zeros(self.num_layers, x.size(0), self.hidden_size))\n",
        "        c_0 = Variable(torch.zeros(self.num_layers, x.size(0), self.hidden_size))\n",
        "        output, (hn, cn) = self.lstm(x, (h_0, c_0))\n",
        "        hn = hn.view(-1, self.hidden_size)\n",
        "        out = self.relu(hn)\n",
        "        out = self.fc_1(out)\n",
        "        out = self.relu(out)\n",
        "        out = self.fc(out)\n",
        "        return out"
      ],
      "metadata": {
        "id": "Ilh_g4EclAtK"
      },
      "execution_count": null,
      "outputs": []
    },
    {
      "cell_type": "code",
      "source": [
        "# 변수 값 설정\n",
        "num_epochs = 1000\n",
        "lr = 0.0001\n",
        "\n",
        "input_size=5\n",
        "hidden_size=2\n",
        "num_layers=1\n",
        "\n",
        "num_classes=1\n",
        "model = LSTM(num_classes, input_size, hidden_size, num_layers, X_train_tensors_f.shape[1])\n",
        "\n",
        "criterion = torch.nn.MSELoss()\n",
        "optimizer = torch.optim.Adam(model.parameters(), lr=learning_rate)"
      ],
      "metadata": {
        "id": "6N1twKa6lBj7"
      },
      "execution_count": null,
      "outputs": []
    },
    {
      "cell_type": "code",
      "source": [
        "# 모델 학습\n",
        "for epoch in range(num_epochs) :\n",
        "    outputs = model.forward(X_train_tensors_f)\n",
        "    optimizer.zero_grad()\n",
        "    loss = criterion(outputs, y_train_tensors)\n",
        "    loss.backward()\n",
        "\n",
        "    optimizer.step()\n",
        "    if epoch % 100 == 0 :\n",
        "        print(f'Epoch : {epoch}, loss : {loss.item():1.5f}')"
      ],
      "metadata": {
        "colab": {
          "base_uri": "https://localhost:8080/"
        },
        "id": "WcOjUZQZlFsS",
        "outputId": "5815c94d-1341-4c54-9a3f-0bd9b14a5318"
      },
      "execution_count": null,
      "outputs": [
        {
          "output_type": "stream",
          "name": "stdout",
          "text": [
            "Epoch : 0, loss : 0.18287\n",
            "Epoch : 100, loss : 0.01743\n",
            "Epoch : 200, loss : 0.01511\n",
            "Epoch : 300, loss : 0.01205\n",
            "Epoch : 400, loss : 0.01163\n",
            "Epoch : 500, loss : 0.01164\n",
            "Epoch : 600, loss : 0.01157\n",
            "Epoch : 700, loss : 0.01150\n",
            "Epoch : 800, loss : 0.01199\n",
            "Epoch : 900, loss : 0.01047\n"
          ]
        }
      ]
    },
    {
      "cell_type": "code",
      "source": [
        "# 모델 예측 결과 출력을 위한 데이터 크기 재구성\n",
        "df_x_ss = ss.transform(data.iloc[:, :-1])\n",
        "df_y_ms = ms.transform(data.iloc[:, -1:])\n",
        "\n",
        "df_x_ss = Variable(torch.Tensor(df_x_ss))\n",
        "df_y_ms = Variable(torch.Tensor(df_y_ms))\n",
        "df_x_ss = torch.reshape(df_x_ss, (df_x_ss.shape[0], 1, df_x_ss.shape[1]))"
      ],
      "metadata": {
        "id": "VLShKD_wlIfC"
      },
      "execution_count": null,
      "outputs": []
    },
    {
      "cell_type": "code",
      "source": [
        "# 모델 예측 결과 출력\n",
        "train_predict = model(df_x_ss)\n",
        "predicted = train_predict.data.numpy()\n",
        "label_y = df_y_ms.data.numpy()\n",
        "\n",
        "predicted = ms.inverse_transform(predicted)\n",
        "label_y = ms.inverse_transform(label_y)\n",
        "plt.figure(figsize=(10, 6))\n",
        "plt.axvline(x=200, c='r', linestyle='--')\n",
        "\n",
        "plt.plot(label_y, label='Actual Data')\n",
        "plt.plot(predicted, label='Predicted Data')\n",
        "plt.title('Time-Series Prediction')\n",
        "plt.legend()\n",
        "plt.show()"
      ],
      "metadata": {
        "colab": {
          "base_uri": "https://localhost:8080/",
          "height": 545
        },
        "id": "Bem1SuCElN3y",
        "outputId": "a59f9e88-56f0-46fa-d49a-2659ec51d1e9"
      },
      "execution_count": null,
      "outputs": [
        {
          "output_type": "display_data",
          "data": {
            "text/plain": [
              "<Figure size 1000x600 with 1 Axes>"
            ],
            "image/png": "[encoded data removed]"
          },
          "metadata": {}
        }
      ]
    }
  ]
}
