{
  "nbformat": 4,
  "nbformat_minor": 0,
  "metadata": {
    "colab": {
      "provenance": [],
      "toc_visible": true,
      "authorship_tag": "ABX9TyMYmX8hRwDEvd0a0b7obQij",
      "include_colab_link": true
    },
    "kernelspec": {
      "name": "python3",
      "display_name": "Python 3"
    },
    "language_info": {
      "name": "python"
    }
  },
  "cells": [
    {
      "cell_type": "markdown",
      "metadata": {
        "id": "view-in-github",
        "colab_type": "text"
      },
      "source": [
        "<a href=\"https://colab.research.google.com/github/wheemin-2/25-1-ESAA/blob/main/0321_HW_Unsupervised_Learning2.ipynb\" target=\"_parent\"><img src=\"https://colab.research.google.com/assets/colab-badge.svg\" alt=\"Open In Colab\"/></a>"
      ]
    },
    {
      "cell_type": "markdown",
      "source": [
        "# **가우시안 혼합 (Gaussian Mixture)**"
      ],
      "metadata": {
        "id": "s2zdeZN4i4aO"
      }
    },
    {
      "cell_type": "markdown",
      "source": [
        "샘플이 파라미터가 알려지지 않은 여러 개의 혼합된 가우시안 분포에서 생성되었다고 가정하는 확률 모델\n",
        "\n",
        "하나의 가우시안 분포에서 생성된 모든 샘플은 하나의 클러스터를 형성하며, 일반적으로 클러스터는 타원형임"
      ],
      "metadata": {
        "id": "ufiUxVawjrwD"
      }
    },
    {
      "cell_type": "code",
      "source": [
        "# 데이터 로드\n",
        "from sklearn.datasets import make_moons\n",
        "\n",
        "X, y = make_moons(n_samples=1000, noise= 0.05)"
      ],
      "metadata": {
        "id": "ye5g8qLGlCoB"
      },
      "execution_count": 1,
      "outputs": []
    },
    {
      "cell_type": "code",
      "execution_count": 2,
      "metadata": {
        "colab": {
          "base_uri": "https://localhost:8080/",
          "height": 80
        },
        "id": "DmSs2Uneiylw",
        "outputId": "3da72225-e99d-4c10-ad27-a315ba393ca9"
      },
      "outputs": [
        {
          "output_type": "execute_result",
          "data": {
            "text/plain": [
              "GaussianMixture(n_components=3, n_init=10)"
            ],
            "text/html": [
              "<style>#sk-container-id-1 {\n",
              "  /* Definition of color scheme common for light and dark mode */\n",
              "  --sklearn-color-text: #000;\n",
              "  --sklearn-color-text-muted: #666;\n",
              "  --sklearn-color-line: gray;\n",
              "  /* Definition of color scheme for unfitted estimators */\n",
              "  --sklearn-color-unfitted-level-0: #fff5e6;\n",
              "  --sklearn-color-unfitted-level-1: #f6e4d2;\n",
              "  --sklearn-color-unfitted-level-2: #ffe0b3;\n",
              "  --sklearn-color-unfitted-level-3: chocolate;\n",
              "  /* Definition of color scheme for fitted estimators */\n",
              "  --sklearn-color-fitted-level-0: #f0f8ff;\n",
              "  --sklearn-color-fitted-level-1: #d4ebff;\n",
              "  --sklearn-color-fitted-level-2: #b3dbfd;\n",
              "  --sklearn-color-fitted-level-3: cornflowerblue;\n",
              "\n",
              "  /* Specific color for light theme */\n",
              "  --sklearn-color-text-on-default-background: var(--sg-text-color, var(--theme-code-foreground, var(--jp-content-font-color1, black)));\n",
              "  --sklearn-color-background: var(--sg-background-color, var(--theme-background, var(--jp-layout-color0, white)));\n",
              "  --sklearn-color-border-box: var(--sg-text-color, var(--theme-code-foreground, var(--jp-content-font-color1, black)));\n",
              "  --sklearn-color-icon: #696969;\n",
              "\n",
              "  @media (prefers-color-scheme: dark) {\n",
              "    /* Redefinition of color scheme for dark theme */\n",
              "    --sklearn-color-text-on-default-background: var(--sg-text-color, var(--theme-code-foreground, var(--jp-content-font-color1, white)));\n",
              "    --sklearn-color-background: var(--sg-background-color, var(--theme-background, var(--jp-layout-color0, #111)));\n",
              "    --sklearn-color-border-box: var(--sg-text-color, var(--theme-code-foreground, var(--jp-content-font-color1, white)));\n",
              "    --sklearn-color-icon: #878787;\n",
              "  }\n",
              "}\n",
              "\n",
              "#sk-container-id-1 {\n",
              "  color: var(--sklearn-color-text);\n",
              "}\n",
              "\n",
              "#sk-container-id-1 pre {\n",
              "  padding: 0;\n",
              "}\n",
              "\n",
              "#sk-container-id-1 input.sk-hidden--visually {\n",
              "  border: 0;\n",
              "  clip: rect(1px 1px 1px 1px);\n",
              "  clip: rect(1px, 1px, 1px, 1px);\n",
              "  height: 1px;\n",
              "  margin: -1px;\n",
              "  overflow: hidden;\n",
              "  padding: 0;\n",
              "  position: absolute;\n",
              "  width: 1px;\n",
              "}\n",
              "\n",
              "#sk-container-id-1 div.sk-dashed-wrapped {\n",
              "  border: 1px dashed var(--sklearn-color-line);\n",
              "  margin: 0 0.4em 0.5em 0.4em;\n",
              "  box-sizing: border-box;\n",
              "  padding-bottom: 0.4em;\n",
              "  background-color: var(--sklearn-color-background);\n",
              "}\n",
              "\n",
              "#sk-container-id-1 div.sk-container {\n",
              "  /* jupyter's `normalize.less` sets `[hidden] { display: none; }`\n",
              "     but bootstrap.min.css set `[hidden] { display: none !important; }`\n",
              "     so we also need the `!important` here to be able to override the\n",
              "     default hidden behavior on the sphinx rendered scikit-learn.org.\n",
              "     See: https://github.com/scikit-learn/scikit-learn/issues/21755 */\n",
              "  display: inline-block !important;\n",
              "  position: relative;\n",
              "}\n",
              "\n",
              "#sk-container-id-1 div.sk-text-repr-fallback {\n",
              "  display: none;\n",
              "}\n",
              "\n",
              "div.sk-parallel-item,\n",
              "div.sk-serial,\n",
              "div.sk-item {\n",
              "  /* draw centered vertical line to link estimators */\n",
              "  background-image: linear-gradient(var(--sklearn-color-text-on-default-background), var(--sklearn-color-text-on-default-background));\n",
              "  background-size: 2px 100%;\n",
              "  background-repeat: no-repeat;\n",
              "  background-position: center center;\n",
              "}\n",
              "\n",
              "/* Parallel-specific style estimator block */\n",
              "\n",
              "#sk-container-id-1 div.sk-parallel-item::after {\n",
              "  content: \"\";\n",
              "  width: 100%;\n",
              "  border-bottom: 2px solid var(--sklearn-color-text-on-default-background);\n",
              "  flex-grow: 1;\n",
              "}\n",
              "\n",
              "#sk-container-id-1 div.sk-parallel {\n",
              "  display: flex;\n",
              "  align-items: stretch;\n",
              "  justify-content: center;\n",
              "  background-color: var(--sklearn-color-background);\n",
              "  position: relative;\n",
              "}\n",
              "\n",
              "#sk-container-id-1 div.sk-parallel-item {\n",
              "  display: flex;\n",
              "  flex-direction: column;\n",
              "}\n",
              "\n",
              "#sk-container-id-1 div.sk-parallel-item:first-child::after {\n",
              "  align-self: flex-end;\n",
              "  width: 50%;\n",
              "}\n",
              "\n",
              "#sk-container-id-1 div.sk-parallel-item:last-child::after {\n",
              "  align-self: flex-start;\n",
              "  width: 50%;\n",
              "}\n",
              "\n",
              "#sk-container-id-1 div.sk-parallel-item:only-child::after {\n",
              "  width: 0;\n",
              "}\n",
              "\n",
              "/* Serial-specific style estimator block */\n",
              "\n",
              "#sk-container-id-1 div.sk-serial {\n",
              "  display: flex;\n",
              "  flex-direction: column;\n",
              "  align-items: center;\n",
              "  background-color: var(--sklearn-color-background);\n",
              "  padding-right: 1em;\n",
              "  padding-left: 1em;\n",
              "}\n",
              "\n",
              "\n",
              "/* Toggleable style: style used for estimator/Pipeline/ColumnTransformer box that is\n",
              "clickable and can be expanded/collapsed.\n",
              "- Pipeline and ColumnTransformer use this feature and define the default style\n",
              "- Estimators will overwrite some part of the style using the `sk-estimator` class\n",
              "*/\n",
              "\n",
              "/* Pipeline and ColumnTransformer style (default) */\n",
              "\n",
              "#sk-container-id-1 div.sk-toggleable {\n",
              "  /* Default theme specific background. It is overwritten whether we have a\n",
              "  specific estimator or a Pipeline/ColumnTransformer */\n",
              "  background-color: var(--sklearn-color-background);\n",
              "}\n",
              "\n",
              "/* Toggleable label */\n",
              "#sk-container-id-1 label.sk-toggleable__label {\n",
              "  cursor: pointer;\n",
              "  display: flex;\n",
              "  width: 100%;\n",
              "  margin-bottom: 0;\n",
              "  padding: 0.5em;\n",
              "  box-sizing: border-box;\n",
              "  text-align: center;\n",
              "  align-items: start;\n",
              "  justify-content: space-between;\n",
              "  gap: 0.5em;\n",
              "}\n",
              "\n",
              "#sk-container-id-1 label.sk-toggleable__label .caption {\n",
              "  font-size: 0.6rem;\n",
              "  font-weight: lighter;\n",
              "  color: var(--sklearn-color-text-muted);\n",
              "}\n",
              "\n",
              "#sk-container-id-1 label.sk-toggleable__label-arrow:before {\n",
              "  /* Arrow on the left of the label */\n",
              "  content: \"▸\";\n",
              "  float: left;\n",
              "  margin-right: 0.25em;\n",
              "  color: var(--sklearn-color-icon);\n",
              "}\n",
              "\n",
              "#sk-container-id-1 label.sk-toggleable__label-arrow:hover:before {\n",
              "  color: var(--sklearn-color-text);\n",
              "}\n",
              "\n",
              "/* Toggleable content - dropdown */\n",
              "\n",
              "#sk-container-id-1 div.sk-toggleable__content {\n",
              "  max-height: 0;\n",
              "  max-width: 0;\n",
              "  overflow: hidden;\n",
              "  text-align: left;\n",
              "  /* unfitted */\n",
              "  background-color: var(--sklearn-color-unfitted-level-0);\n",
              "}\n",
              "\n",
              "#sk-container-id-1 div.sk-toggleable__content.fitted {\n",
              "  /* fitted */\n",
              "  background-color: var(--sklearn-color-fitted-level-0);\n",
              "}\n",
              "\n",
              "#sk-container-id-1 div.sk-toggleable__content pre {\n",
              "  margin: 0.2em;\n",
              "  border-radius: 0.25em;\n",
              "  color: var(--sklearn-color-text);\n",
              "  /* unfitted */\n",
              "  background-color: var(--sklearn-color-unfitted-level-0);\n",
              "}\n",
              "\n",
              "#sk-container-id-1 div.sk-toggleable__content.fitted pre {\n",
              "  /* unfitted */\n",
              "  background-color: var(--sklearn-color-fitted-level-0);\n",
              "}\n",
              "\n",
              "#sk-container-id-1 input.sk-toggleable__control:checked~div.sk-toggleable__content {\n",
              "  /* Expand drop-down */\n",
              "  max-height: 200px;\n",
              "  max-width: 100%;\n",
              "  overflow: auto;\n",
              "}\n",
              "\n",
              "#sk-container-id-1 input.sk-toggleable__control:checked~label.sk-toggleable__label-arrow:before {\n",
              "  content: \"▾\";\n",
              "}\n",
              "\n",
              "/* Pipeline/ColumnTransformer-specific style */\n",
              "\n",
              "#sk-container-id-1 div.sk-label input.sk-toggleable__control:checked~label.sk-toggleable__label {\n",
              "  color: var(--sklearn-color-text);\n",
              "  background-color: var(--sklearn-color-unfitted-level-2);\n",
              "}\n",
              "\n",
              "#sk-container-id-1 div.sk-label.fitted input.sk-toggleable__control:checked~label.sk-toggleable__label {\n",
              "  background-color: var(--sklearn-color-fitted-level-2);\n",
              "}\n",
              "\n",
              "/* Estimator-specific style */\n",
              "\n",
              "/* Colorize estimator box */\n",
              "#sk-container-id-1 div.sk-estimator input.sk-toggleable__control:checked~label.sk-toggleable__label {\n",
              "  /* unfitted */\n",
              "  background-color: var(--sklearn-color-unfitted-level-2);\n",
              "}\n",
              "\n",
              "#sk-container-id-1 div.sk-estimator.fitted input.sk-toggleable__control:checked~label.sk-toggleable__label {\n",
              "  /* fitted */\n",
              "  background-color: var(--sklearn-color-fitted-level-2);\n",
              "}\n",
              "\n",
              "#sk-container-id-1 div.sk-label label.sk-toggleable__label,\n",
              "#sk-container-id-1 div.sk-label label {\n",
              "  /* The background is the default theme color */\n",
              "  color: var(--sklearn-color-text-on-default-background);\n",
              "}\n",
              "\n",
              "/* On hover, darken the color of the background */\n",
              "#sk-container-id-1 div.sk-label:hover label.sk-toggleable__label {\n",
              "  color: var(--sklearn-color-text);\n",
              "  background-color: var(--sklearn-color-unfitted-level-2);\n",
              "}\n",
              "\n",
              "/* Label box, darken color on hover, fitted */\n",
              "#sk-container-id-1 div.sk-label.fitted:hover label.sk-toggleable__label.fitted {\n",
              "  color: var(--sklearn-color-text);\n",
              "  background-color: var(--sklearn-color-fitted-level-2);\n",
              "}\n",
              "\n",
              "/* Estimator label */\n",
              "\n",
              "#sk-container-id-1 div.sk-label label {\n",
              "  font-family: monospace;\n",
              "  font-weight: bold;\n",
              "  display: inline-block;\n",
              "  line-height: 1.2em;\n",
              "}\n",
              "\n",
              "#sk-container-id-1 div.sk-label-container {\n",
              "  text-align: center;\n",
              "}\n",
              "\n",
              "/* Estimator-specific */\n",
              "#sk-container-id-1 div.sk-estimator {\n",
              "  font-family: monospace;\n",
              "  border: 1px dotted var(--sklearn-color-border-box);\n",
              "  border-radius: 0.25em;\n",
              "  box-sizing: border-box;\n",
              "  margin-bottom: 0.5em;\n",
              "  /* unfitted */\n",
              "  background-color: var(--sklearn-color-unfitted-level-0);\n",
              "}\n",
              "\n",
              "#sk-container-id-1 div.sk-estimator.fitted {\n",
              "  /* fitted */\n",
              "  background-color: var(--sklearn-color-fitted-level-0);\n",
              "}\n",
              "\n",
              "/* on hover */\n",
              "#sk-container-id-1 div.sk-estimator:hover {\n",
              "  /* unfitted */\n",
              "  background-color: var(--sklearn-color-unfitted-level-2);\n",
              "}\n",
              "\n",
              "#sk-container-id-1 div.sk-estimator.fitted:hover {\n",
              "  /* fitted */\n",
              "  background-color: var(--sklearn-color-fitted-level-2);\n",
              "}\n",
              "\n",
              "/* Specification for estimator info (e.g. \"i\" and \"?\") */\n",
              "\n",
              "/* Common style for \"i\" and \"?\" */\n",
              "\n",
              ".sk-estimator-doc-link,\n",
              "a:link.sk-estimator-doc-link,\n",
              "a:visited.sk-estimator-doc-link {\n",
              "  float: right;\n",
              "  font-size: smaller;\n",
              "  line-height: 1em;\n",
              "  font-family: monospace;\n",
              "  background-color: var(--sklearn-color-background);\n",
              "  border-radius: 1em;\n",
              "  height: 1em;\n",
              "  width: 1em;\n",
              "  text-decoration: none !important;\n",
              "  margin-left: 0.5em;\n",
              "  text-align: center;\n",
              "  /* unfitted */\n",
              "  border: var(--sklearn-color-unfitted-level-1) 1pt solid;\n",
              "  color: var(--sklearn-color-unfitted-level-1);\n",
              "}\n",
              "\n",
              ".sk-estimator-doc-link.fitted,\n",
              "a:link.sk-estimator-doc-link.fitted,\n",
              "a:visited.sk-estimator-doc-link.fitted {\n",
              "  /* fitted */\n",
              "  border: var(--sklearn-color-fitted-level-1) 1pt solid;\n",
              "  color: var(--sklearn-color-fitted-level-1);\n",
              "}\n",
              "\n",
              "/* On hover */\n",
              "div.sk-estimator:hover .sk-estimator-doc-link:hover,\n",
              ".sk-estimator-doc-link:hover,\n",
              "div.sk-label-container:hover .sk-estimator-doc-link:hover,\n",
              ".sk-estimator-doc-link:hover {\n",
              "  /* unfitted */\n",
              "  background-color: var(--sklearn-color-unfitted-level-3);\n",
              "  color: var(--sklearn-color-background);\n",
              "  text-decoration: none;\n",
              "}\n",
              "\n",
              "div.sk-estimator.fitted:hover .sk-estimator-doc-link.fitted:hover,\n",
              ".sk-estimator-doc-link.fitted:hover,\n",
              "div.sk-label-container:hover .sk-estimator-doc-link.fitted:hover,\n",
              ".sk-estimator-doc-link.fitted:hover {\n",
              "  /* fitted */\n",
              "  background-color: var(--sklearn-color-fitted-level-3);\n",
              "  color: var(--sklearn-color-background);\n",
              "  text-decoration: none;\n",
              "}\n",
              "\n",
              "/* Span, style for the box shown on hovering the info icon */\n",
              ".sk-estimator-doc-link span {\n",
              "  display: none;\n",
              "  z-index: 9999;\n",
              "  position: relative;\n",
              "  font-weight: normal;\n",
              "  right: .2ex;\n",
              "  padding: .5ex;\n",
              "  margin: .5ex;\n",
              "  width: min-content;\n",
              "  min-width: 20ex;\n",
              "  max-width: 50ex;\n",
              "  color: var(--sklearn-color-text);\n",
              "  box-shadow: 2pt 2pt 4pt #999;\n",
              "  /* unfitted */\n",
              "  background: var(--sklearn-color-unfitted-level-0);\n",
              "  border: .5pt solid var(--sklearn-color-unfitted-level-3);\n",
              "}\n",
              "\n",
              ".sk-estimator-doc-link.fitted span {\n",
              "  /* fitted */\n",
              "  background: var(--sklearn-color-fitted-level-0);\n",
              "  border: var(--sklearn-color-fitted-level-3);\n",
              "}\n",
              "\n",
              ".sk-estimator-doc-link:hover span {\n",
              "  display: block;\n",
              "}\n",
              "\n",
              "/* \"?\"-specific style due to the `<a>` HTML tag */\n",
              "\n",
              "#sk-container-id-1 a.estimator_doc_link {\n",
              "  float: right;\n",
              "  font-size: 1rem;\n",
              "  line-height: 1em;\n",
              "  font-family: monospace;\n",
              "  background-color: var(--sklearn-color-background);\n",
              "  border-radius: 1rem;\n",
              "  height: 1rem;\n",
              "  width: 1rem;\n",
              "  text-decoration: none;\n",
              "  /* unfitted */\n",
              "  color: var(--sklearn-color-unfitted-level-1);\n",
              "  border: var(--sklearn-color-unfitted-level-1) 1pt solid;\n",
              "}\n",
              "\n",
              "#sk-container-id-1 a.estimator_doc_link.fitted {\n",
              "  /* fitted */\n",
              "  border: var(--sklearn-color-fitted-level-1) 1pt solid;\n",
              "  color: var(--sklearn-color-fitted-level-1);\n",
              "}\n",
              "\n",
              "/* On hover */\n",
              "#sk-container-id-1 a.estimator_doc_link:hover {\n",
              "  /* unfitted */\n",
              "  background-color: var(--sklearn-color-unfitted-level-3);\n",
              "  color: var(--sklearn-color-background);\n",
              "  text-decoration: none;\n",
              "}\n",
              "\n",
              "#sk-container-id-1 a.estimator_doc_link.fitted:hover {\n",
              "  /* fitted */\n",
              "  background-color: var(--sklearn-color-fitted-level-3);\n",
              "}\n",
              "</style><div id=\"sk-container-id-1\" class=\"sk-top-container\"><div class=\"sk-text-repr-fallback\"><pre>GaussianMixture(n_components=3, n_init=10)</pre><b>In a Jupyter environment, please rerun this cell to show the HTML representation or trust the notebook. <br />On GitHub, the HTML representation is unable to render, please try loading this page with nbviewer.org.</b></div><div class=\"sk-container\" hidden><div class=\"sk-item\"><div class=\"sk-estimator fitted sk-toggleable\"><input class=\"sk-toggleable__control sk-hidden--visually\" id=\"sk-estimator-id-1\" type=\"checkbox\" checked><label for=\"sk-estimator-id-1\" class=\"sk-toggleable__label fitted sk-toggleable__label-arrow\"><div><div>GaussianMixture</div></div><div><a class=\"sk-estimator-doc-link fitted\" rel=\"noreferrer\" target=\"_blank\" href=\"https://scikit-learn.org/1.6/modules/generated/sklearn.mixture.GaussianMixture.html\">?<span>Documentation for GaussianMixture</span></a><span class=\"sk-estimator-doc-link fitted\">i<span>Fitted</span></span></div></label><div class=\"sk-toggleable__content fitted\"><pre>GaussianMixture(n_components=3, n_init=10)</pre></div> </div></div></div></div>"
            ]
          },
          "metadata": {},
          "execution_count": 2
        }
      ],
      "source": [
        "# GMM 구현\n",
        "from sklearn.mixture import GaussianMixture\n",
        "\n",
        "gm = GaussianMixture(n_components=3, n_init=10)\n",
        "gm.fit(X)"
      ]
    },
    {
      "cell_type": "code",
      "source": [
        "# 파라미터 확인\n",
        "print('가중치: {0}, \\n평균: {1}, \\n공분산 행렬: {2}'.\n",
        "      format(gm.weights_, gm.means_, gm.covariances_))"
      ],
      "metadata": {
        "colab": {
          "base_uri": "https://localhost:8080/"
        },
        "id": "-HnKwaYclIFO",
        "outputId": "118fd6b0-c6b8-4d1b-ecf6-c4bc6fc64d50"
      },
      "execution_count": 3,
      "outputs": [
        {
          "output_type": "stream",
          "name": "stdout",
          "text": [
            "가중치: [0.60447211 0.18656204 0.20896585], \n",
            "평균: [[ 0.53032487  0.22306046]\n",
            " [ 1.78245549 -0.02871566]\n",
            " [-0.72964534  0.57189989]], \n",
            "공분산 행렬: [[[ 0.17724481 -0.11004126]\n",
            "  [-0.11004126  0.29289199]]\n",
            "\n",
            " [[ 0.04010086  0.05129794]\n",
            "  [ 0.05129794  0.08163791]]\n",
            "\n",
            " [[ 0.06014152  0.06769829]\n",
            "  [ 0.06769829  0.0929207 ]]]\n"
          ]
        }
      ]
    },
    {
      "cell_type": "markdown",
      "source": [
        "## **기댓값-최대화 알고리즘**\n",
        "\n",
        " GMM이 파라미터를 찾는 방법, 클러스터 파라미터를 랜덤하게 초기화하고 수렴할 때까지 반복한다는 점에서 K-평균과 유사\n"
      ],
      "metadata": {
        "id": "7QVME0wymo2y"
      }
    },
    {
      "cell_type": "markdown",
      "source": [
        "Step 0) 클러스터 파라미터를 랜덤하게 초기화\n",
        "\n",
        "Step 1) 샘플을 클러스터에 할당함 (기댓값 단계)\n",
        "\n",
        "Step 2) 클러스터를 업데이트 (최대화 단계)\n",
        "\n",
        "=> k-평균의 일반화로 간주할 수 있음"
      ],
      "metadata": {
        "id": "_IzhsFHnnASL"
      }
    },
    {
      "cell_type": "markdown",
      "source": [
        "*k-평균 알고리즘과의 차이*\n",
        "\n",
        "- EM (Expectation-Maximization) 알고리즘은 하드 클러스터 할당이 아니라 소프트 글러스터 할당을 사용함\n",
        "\n",
        "- 즉, 기댓값 단계에서 알고리즘은 현재 클러스터 파라미터에 기반하여 각 클러스터에 속할 **확률**을 예측\n",
        "\n",
        "- 그다음 최대화 단계에서 각 클러스터가 데이터셋에 있는 모든 샘플을 사용해 업데이트 됨\n",
        "    - 이때 클러스터에 속할 추정 확률로 샘플에 가중치가 적용됨\n",
        "    - 이 확률을 샘플에 대한 클러스터의 **책임** 이라고 부르며, 업데이트는 책임이 가장 많은 샘플에 크게 영향을 받음"
      ],
      "metadata": {
        "id": "g2HRv-JDodCB"
      }
    },
    {
      "cell_type": "markdown",
      "source": [
        "이또한 k-평균처럼 나쁜 솔루션으로 수렴할 수 있으므로 여러 번 실행하여 가장 좋은 솔루션을 선택해야함\n",
        "\n",
        "n_init 옵션을 통해 여러 번 실행하게 할 수 있음 (n_init의 기본값이 1이므로 주의!!)"
      ],
      "metadata": {
        "id": "XtiKvZgmntbv"
      }
    },
    {
      "cell_type": "code",
      "source": [
        "# 알고리즘의 수렴 여부와 반복 횟수 확인\n",
        "print(gm.converged_)\n",
        "print(gm.n_iter_)"
      ],
      "metadata": {
        "colab": {
          "base_uri": "https://localhost:8080/"
        },
        "id": "FDC4SLYil9Em",
        "outputId": "590e9c37-21ab-4f32-f4a2-7bbbb62abfd8"
      },
      "execution_count": 4,
      "outputs": [
        {
          "output_type": "stream",
          "name": "stdout",
          "text": [
            "True\n",
            "17\n"
          ]
        }
      ]
    },
    {
      "cell_type": "code",
      "source": [
        "# 새로운 샘플에 대한 예측\n",
        "# 클러스터에 할당 (하드 군집)\n",
        "gm.predict(X)[:5]"
      ],
      "metadata": {
        "colab": {
          "base_uri": "https://localhost:8080/"
        },
        "id": "GzQzc92goJvB",
        "outputId": "2b625496-e3e9-43e4-88ff-b661f21f06c4"
      },
      "execution_count": 5,
      "outputs": [
        {
          "output_type": "execute_result",
          "data": {
            "text/plain": [
              "array([0, 1, 2, 0, 0])"
            ]
          },
          "metadata": {},
          "execution_count": 5
        }
      ]
    },
    {
      "cell_type": "code",
      "source": [
        "# 특정 클러스터에 속할 확률 예측 (소프트 군집)\n",
        "gm.predict_proba(X)"
      ],
      "metadata": {
        "colab": {
          "base_uri": "https://localhost:8080/"
        },
        "id": "Vw2zIN5VpI9k",
        "outputId": "45acb0e6-e556-4907-e590-4279b44aef99"
      },
      "execution_count": 6,
      "outputs": [
        {
          "output_type": "execute_result",
          "data": {
            "text/plain": [
              "array([[1.00000000e+000, 9.17713232e-043, 2.10146246e-055],\n",
              "       [3.40086985e-003, 9.96599130e-001, 2.45269565e-192],\n",
              "       [4.47053878e-002, 1.04664870e-227, 9.55294612e-001],\n",
              "       ...,\n",
              "       [3.26074922e-001, 1.23664243e-200, 6.73925078e-001],\n",
              "       [1.01486536e-003, 9.98985135e-001, 1.05592496e-165],\n",
              "       [1.00000000e+000, 1.80733611e-044, 1.54835266e-053]])"
            ]
          },
          "metadata": {},
          "execution_count": 6
        }
      ]
    },
    {
      "cell_type": "markdown",
      "source": [
        "가우시안 혼합 모델은 **생성 모델 (generative model)**임. 즉, 이 모델에서 새로운 샘플을 만들 수 있다!"
      ],
      "metadata": {
        "id": "C5wrYKyPpife"
      }
    },
    {
      "cell_type": "code",
      "source": [
        "X_new, y_new = gm.sample(6)\n",
        "\n",
        "# 반환된 샘플은 클러스터 인덱스 순으로 정렬되어 있음\n",
        "print(X_new)\n",
        "print()\n",
        "print(y_new)"
      ],
      "metadata": {
        "colab": {
          "base_uri": "https://localhost:8080/"
        },
        "id": "BPxgU2XfpfLg",
        "outputId": "6ee9fff7-7113-42c5-b804-321e12f16fb9"
      },
      "execution_count": 7,
      "outputs": [
        {
          "output_type": "stream",
          "name": "stdout",
          "text": [
            "[[ 0.91230523 -0.42480364]\n",
            " [ 0.19020576  0.33301912]\n",
            " [ 0.2281136  -0.35476291]\n",
            " [-0.03742326  0.97767243]\n",
            " [ 0.88140111 -0.77261074]\n",
            " [ 0.17726254  0.47119739]]\n",
            "\n",
            "[0 0 0 0 0 0]\n"
          ]
        }
      ]
    },
    {
      "cell_type": "code",
      "source": [
        "# score_smaples() 메서드 : 샘플의 위치에서의 log(pdf) 값을 예측\n",
        "# 해당 점수의 지숫값을 계산하면 샘플 위치에서의 pdf 값을 얻을 수 있음\n",
        "print(gm.score_samples(X).shape)\n",
        "gm.score_samples(X)[:5]"
      ],
      "metadata": {
        "colab": {
          "base_uri": "https://localhost:8080/"
        },
        "id": "6Yey8LPtpuFr",
        "outputId": "b14413eb-285f-4aec-a6f6-cd673895f05b"
      },
      "execution_count": 8,
      "outputs": [
        {
          "output_type": "stream",
          "name": "stdout",
          "text": [
            "(1000,)\n"
          ]
        },
        {
          "output_type": "execute_result",
          "data": {
            "text/plain": [
              "array([-1.65275662, -0.95799496, -0.52208317, -1.67846625, -1.73845474])"
            ]
          },
          "metadata": {},
          "execution_count": 8
        }
      ]
    },
    {
      "cell_type": "markdown",
      "source": [
        "훈련된 가우시안 혼합 모델의 클러스터 평균, 결정 경계, 밀도 등고선\n",
        "![GMM](https://blog.kakaocdn.net/dn/FOS7u/btqVFBq78Hf/WkuTOGkeUNlXhY4ps1ktTK/img.png)"
      ],
      "metadata": {
        "id": "5ZuzIhnArGwb"
      }
    },
    {
      "cell_type": "markdown",
      "source": [
        "covariance_type 파라미터\n",
        "\n",
        "default : \"full\" 이며 각 클러스터의 모양/크기/방향에 제약 X\n",
        "\n",
        "**[제약]**\n",
        "- spherical : 모든 클러스터가 원형 (지름, 즉 분산은 다를 수 있음)\n",
        "\n",
        "- diag : 클러스터가 크기에 상관없이 어떠한 타원형도 가능, but 타원의 축은 좌표 축과 나란해야 함 (즉, 공분산 행렬이 대각행렬)\n",
        "\n",
        "- tied : 모든 클러스터가 동일한 타원 모양,크기,방향을 가짐 (모든 클러스터의 공분산 행렬 동일)"
      ],
      "metadata": {
        "id": "sCt_UuNbrUYw"
      }
    },
    {
      "cell_type": "markdown",
      "source": [
        "## **가우시안 혼합을 사용한 이상치 탐지**"
      ],
      "metadata": {
        "id": "LcRZu5gAsogY"
      }
    },
    {
      "cell_type": "markdown",
      "source": [
        "밀도가 낮은 지역에 있는 모든 샘플을 이상치로 판단하는 원리 >> 임계값 지정이 필요함"
      ],
      "metadata": {
        "id": "lgfFQhg2svn2"
      }
    },
    {
      "cell_type": "code",
      "source": [
        "# 밀도 임계값 4% 지정 후 이상치 탐지\n",
        "import numpy as np\n",
        "\n",
        "densities = gm.score_samples(X)\n",
        "density_threshold = np.percentile(densities, 4)\n",
        "anomalies = X[densities < density_threshold]"
      ],
      "metadata": {
        "id": "9-BjFQ_0p6r3"
      },
      "execution_count": 9,
      "outputs": []
    },
    {
      "cell_type": "markdown",
      "source": [
        "![anomalies](https://img1.daumcdn.net/thumb/R1280x0/?scode=mtistory2&fname=https%3A%2F%2Fblog.kakaocdn.net%2Fdn%2Fo8lhx%2FbtraFFGccCi%2Fi9PXuzdez6PchGvS8t2eyk%2Fimg.png)"
      ],
      "metadata": {
        "id": "wKuopP63ufMV"
      }
    },
    {
      "cell_type": "markdown",
      "source": [
        "## **클러스터 개수 선택하기**"
      ],
      "metadata": {
        "id": "UzeA6Zy9uzul"
      }
    },
    {
      "cell_type": "markdown",
      "source": [
        "k-평균에서의 클러스터 개수 선택 방법\n",
        "\n",
        "- 이너셔 그래프를 그려 그래프가 느리게 감소하기 시작하는 '엘보'를 클러스터의 개수로 선정\n",
        "- 실루엣 점수 및 실루엣 다이어그램 활용\n",
        "\n",
        "=> 클러스터가 타원형이나 크기가 다를 때 안정적이지 않으므로 GMM에서는 사용 불가\n",
        "\n",
        "=> **AIC, BIC** 를 사용"
      ],
      "metadata": {
        "id": "lKMqI70jvo1j"
      }
    },
    {
      "cell_type": "markdown",
      "source": [
        "**BIC (Bayseian information criterion) / AIC (Akaike information criterion)**\n",
        "\n",
        "$BIC = log(m)p - 2log(\\hat{L})$      \n",
        "\n",
        "$AIC = 2p - 2log(\\hat{L})$\n",
        "\n",
        "- m : 샘플 수\n",
        "- p : 모델이 학습할 파라미터 개수\n",
        "- $\\hat{L}$ : 모델의 likelihood function의 최댓값"
      ],
      "metadata": {
        "id": "Wlxpj29UwVZR"
      }
    },
    {
      "cell_type": "markdown",
      "source": [
        "AIC, BIC는 모두 학습할 파라미터가 많은 (=클러스터가 많은) 모델에 페널티를 가하고 데이터에 잘 학습하는 모델에 보상을 더함\n",
        "\n",
        "AIC, BIC가 선택한 모델이 각각 다른 경우\n",
        "- BIC의 모델이 AIC의 모델보다 간단한(=파라미터가 적은) 경향이 있음\n",
        "- 따라서 데이터에 아주 잘 맞지는 않을 수 있음"
      ],
      "metadata": {
        "id": "eo3AsD6Hxfz5"
      }
    },
    {
      "cell_type": "code",
      "source": [
        "# bic(), aic() 메서드로 계산 가능\n",
        "print(\"BIC: {0:.4f}, AIC: {1:.4f}\".format(gm.bic(X), gm.aic(X)))"
      ],
      "metadata": {
        "colab": {
          "base_uri": "https://localhost:8080/"
        },
        "id": "O1MslRRYyL6m",
        "outputId": "47780e0c-8ff0-4c61-d314-20b08649928a"
      },
      "execution_count": 10,
      "outputs": [
        {
          "output_type": "stream",
          "name": "stdout",
          "text": [
            "BIC: 2787.9703, AIC: 2704.5385\n"
          ]
        }
      ]
    },
    {
      "cell_type": "markdown",
      "source": [
        "![aic_bic](https://blog.kakaocdn.net/dn/ZztWM/btraLsTP1ca/9K7Sm2xCi1QV1Cy2uvAB20/img.png)\n",
        "\n",
        "k=3이 최선"
      ],
      "metadata": {
        "id": "vk7Q7nnIypmn"
      }
    },
    {
      "cell_type": "markdown",
      "source": [
        "## **⭐Likelihood Function**"
      ],
      "metadata": {
        "id": "2jwHsI5Ux-mN"
      }
    },
    {
      "cell_type": "markdown",
      "source": [
        "가능도 : 출력 x를 알고 있을 때 특정 파라미터 값 $\\theta$가 얼마나 그럴듯한지 설명함\n",
        "\n",
        "cf) 확률 : 미래 출력 x가 얼마나 그럴듯한지 설명 ($\\theta$를 알고 있는 경우)\n",
        "\n",
        "- 가능도 함수는 $\\theta$에 대한 함수이며, *확률 분포가 아님*\n",
        "- 데이터셋 X가 주어졌을 때 일반적으로 모델 파라미터에 대해 가장 그럴듯한 값을 예측\n",
        "    - X에 대한 likelihood를 최대화하는 값(MLE)을 찾음\n",
        "    - log likelihood를 maximize하는 값을 구하는 것이 더 쉬움\n",
        "\n",
        "![likelihood](https://yunhwankim2.github.io/assets/images/likelihood_function_plot.png)"
      ],
      "metadata": {
        "id": "Or9RrBUf4mz2"
      }
    },
    {
      "cell_type": "markdown",
      "source": [
        "## **베이즈 가우시안 혼합 모델**"
      ],
      "metadata": {
        "id": "q_bmT1gwyF8A"
      }
    },
    {
      "cell_type": "markdown",
      "source": [
        "최적의 클러스터 개수를 수동으로 찾지 않고 불필요한 클러스터의 가중치를 0으로 (또는 0에 가깝게) 만드는 알고리즘\n",
        "\n",
        "- n_components를 최적의 클러스터 개수보다 '크다'고 믿을 만한 값으로 지정\n",
        "    - 자동으로 불필요한 클러스터를 제거하기 때문"
      ],
      "metadata": {
        "id": "ORNKyZ8ry-6n"
      }
    },
    {
      "cell_type": "code",
      "source": [
        "from sklearn.mixture import BayesianGaussianMixture\n",
        "bgm = BayesianGaussianMixture(n_components=10, n_init=10)\n",
        "bgm.fit(X)\n",
        "np.round(bgm.weights_, 2)"
      ],
      "metadata": {
        "colab": {
          "base_uri": "https://localhost:8080/"
        },
        "id": "5q1PPUt2uOfl",
        "outputId": "cd45b718-e6f7-47e7-9f45-5f553b1ed1fb"
      },
      "execution_count": 11,
      "outputs": [
        {
          "output_type": "stream",
          "name": "stderr",
          "text": [
            "/usr/local/lib/python3.11/dist-packages/sklearn/mixture/_base.py:269: ConvergenceWarning: Best performing initialization did not converge. Try different init parameters, or increase max_iter, tol, or check for degenerate data.\n",
            "  warnings.warn(\n"
          ]
        },
        {
          "output_type": "execute_result",
          "data": {
            "text/plain": [
              "array([0.11, 0.16, 0.16, 0.11, 0.13, 0.14, 0.09, 0.  , 0.11, 0.  ])"
            ]
          },
          "metadata": {},
          "execution_count": 11
        }
      ]
    },
    {
      "cell_type": "markdown",
      "source": [
        "3개의 클러스터는 필요 없음을 감지함"
      ],
      "metadata": {
        "id": "Tu_S4_BCzndo"
      }
    },
    {
      "cell_type": "markdown",
      "source": [
        "**가우시안 혼합 모델의 단점**\n",
        "\n",
        "타원형 클러스터에 잘 작동함 > 다른 모양을 가진 데이터셋을 훈련하면 나쁜 결과를 얻음\n",
        "\n",
        "![GMM2](https://blog.kakaocdn.net/dn/bWkeU2/btqVIb6KRJb/a1nhUKcKqpuEmlnSgjMFAK/img.png)\n",
        "\n",
        "- GMM은 타원이 되도록 클러스터를 찾기 때문에 8개의 클러스터를 찾음\n",
        "- 밀도 추정은 나쁘지 않으므로 이상치 감지를 위해서는 사용할 수 있을 것"
      ],
      "metadata": {
        "id": "49Vz7Xvl2X_w"
      }
    },
    {
      "cell_type": "markdown",
      "source": [
        "## **이상치 탐지와 특이치 탐지를 위한 다른 알고리즘**"
      ],
      "metadata": {
        "id": "NmDLHk4Z3qzA"
      }
    },
    {
      "cell_type": "markdown",
      "source": [
        "* PCA\n",
        "* Fast-MCD\n",
        "* 아이솔레이션 포레스트\n",
        "* LOF (local outlier factor)\n",
        "* one-class SVM"
      ],
      "metadata": {
        "id": "fiMZ8FJF38Ux"
      }
    }
  ]
}
