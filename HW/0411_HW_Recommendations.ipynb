{
  "nbformat": 4,
  "nbformat_minor": 0,
  "metadata": {
    "colab": {
      "provenance": [],
      "authorship_tag": "ABX9TyOb5GJohxdQQofk/CN6IzmP",
      "include_colab_link": true
    },
    "kernelspec": {
      "name": "python3",
      "display_name": "Python 3"
    },
    "language_info": {
      "name": "python"
    }
  },
  "cells": [
    {
      "cell_type": "markdown",
      "metadata": {
        "id": "view-in-github",
        "colab_type": "text"
      },
      "source": [
        "<a href=\"https://colab.research.google.com/github/wheemin-2/25-1-ESAA/blob/main/0411_HW_Recommendations.ipynb\" target=\"_parent\"><img src=\"https://colab.research.google.com/assets/colab-badge.svg\" alt=\"Open In Colab\"/></a>"
      ]
    },
    {
      "cell_type": "markdown",
      "source": [
        "# **추천 시스템**"
      ],
      "metadata": {
        "id": "7vTKgeoGpx_e"
      }
    },
    {
      "cell_type": "markdown",
      "source": [
        "**추천 시스템의 유형**\n",
        "\n",
        "1. 콘텐츠 기반 필터링 방식\n",
        "\n",
        "2. 협업 필터링 방식\n",
        "    - 최근접 이웃 협업 필터링\n",
        "    - 잠재 요인 협업 필터링\n"
      ],
      "metadata": {
        "id": "-Yr_qZcipJG9"
      }
    },
    {
      "cell_type": "markdown",
      "source": [
        "## **콘텐츠 기반 필터링 추천 시스템**"
      ],
      "metadata": {
        "id": "xDYG8JSwqOab"
      }
    },
    {
      "cell_type": "markdown",
      "source": [
        "사용자가 특정한 아이템을 매우 선호하는 경우, 그 아이템과 비슷한 콘텐츠를 가진 다른 아이템을 추천하는 방식용자가 특정한 아이템을 매우 선호하는 경우, 그 아이템과 비슷한 콘텐츠를 가진 다른 아이템을 추천하는 방식\n",
        "\n",
        "![content based filtering](https://velog.velcdn.com/images%2Fgjtang%2Fpost%2F5cf5aa39-a095-455e-8eb8-27aaf49b026f%2Fimage.png)"
      ],
      "metadata": {
        "id": "nmJFhmTpqasZ"
      }
    },
    {
      "cell_type": "markdown",
      "source": [
        "## **협업 필터링 방식 추천 시스템**"
      ],
      "metadata": {
        "id": "iscfnxgUrCey"
      }
    },
    {
      "cell_type": "markdown",
      "source": [
        "사용자가 아이템에 매긴 평점 정보나 상품 구매 이력과 같은 사용자 행동 양식(User Behavior)만을 기반으로 추천을 수행하는 방식"
      ],
      "metadata": {
        "id": "37WxIhJurPi6"
      }
    },
    {
      "cell_type": "markdown",
      "source": [
        "**협업 필터링의 주요 목표**\n",
        "\n",
        ": 사용자-아이템 평점 행렬과 같은 축적된 사용자 행동 데이터를 기바능로 사용자가 아직 평가하지 않은 아이템을 예측 평가(Predicted Rating)하는 것\n",
        "\n",
        "![collaborative filtering](https://velog.velcdn.com/images%2Fgjtang%2Fpost%2F8e54b423-3231-4317-88ec-38d8c012494b%2Fimage.png)"
      ],
      "metadata": {
        "id": "qAD4gjQtrXo3"
      }
    },
    {
      "cell_type": "markdown",
      "source": [
        "협업 필터링 기반의 추천 시스템은 최근접 이웃 방식과 잠재 요인 방식으로 나뉘고, 두 방식 모두 **사용자-아이템 평점 행렬 데이터**에만 의지하여 추천을 수행\n",
        "\n",
        "**사용자-아이템 평점 행렬 데이터**\n",
        "\n",
        "- 행(Row) : 개별 사용자\n",
        "- 열(Column) : 개별 아이템\n",
        "- 값 : 평점\n",
        "- 데이터가 레코드 레벨 형태라면, `pd.pivot_table()`과 같은 함수를 사용하여 행렬 형태로 변경해야함\n",
        "- 일반적으로 많은 아이템을 column으로 가지는 **다차원 행렬 + 희소 행렬** 특성을 가짐\n",
        "    - 사용자가 아이템에 대한 평점을 매기는 경우가 많지 않기 때문\n",
        "\n",
        "  ![user-item mtx](https://velog.velcdn.com/images%2Fgjtang%2Fpost%2Fe46591a2-504d-4ba4-acbb-43414fca5a78%2Fimage.png)"
      ],
      "metadata": {
        "id": "sK9S7DOAsTsc"
      }
    },
    {
      "cell_type": "markdown",
      "source": [
        "### **최근접 이웃 협업 필터링**"
      ],
      "metadata": {
        "id": "WQ5O_Xgdtsp8"
      }
    },
    {
      "cell_type": "markdown",
      "source": [
        "메모리(Memory) 협업 필터링이라고도 하며, 일반적으로 사용자 기반과 아이템 기반으로 다시 나뉠 수 있음\n",
        "\n",
        "- 사용자 기반 (User-User) : 당신과 비슷한 고객들이 다음 상품도 구매했습니다\n",
        "- 아이템 기반 (Item-Item) : 이 상품을 선택한 다른 고객들은 다음 상품도 구매했습니다"
      ],
      "metadata": {
        "id": "jr04v63MtvAW"
      }
    },
    {
      "cell_type": "markdown",
      "source": [
        "**사용자 기반 최근접 이웃 방식**\n",
        "\n",
        ": 특정 사용자와 유사한 다른 사용자를 Top-N으로 선정하여 이 Top-N 사용자가 좋아하는 아이템을 추천하는 방식\n",
        "\n",
        "- 즉, 특정 사용자와 타 사용자 간의 유사도(Similarity)를 측정한 뒤 가장 유사도가 높은 Top-N 사용자를 추출해 그들이 선호하는 아이템을 추천하는 것\n",
        "\n",
        "  ![user-user](https://velog.velcdn.com/images%2Fgjtang%2Fpost%2Fbd4ad44a-cd30-49d5-890e-415506c33b49%2Fimage.png)"
      ],
      "metadata": {
        "id": "5oFSDs7PuDS3"
      }
    },
    {
      "cell_type": "markdown",
      "source": [
        "**아이템 기반 최근접 이웃 방식**\n",
        "\n",
        ": 사용자들이 그 아이템을 좋아하는지/싫어하는지의 평가 척도가 유사한 아이템을 추천하는 기준이 되는 알고리즘 (아이템이 가지는 속성과는 상관 없음!)\n",
        "\n",
        " ![item-item](https://velog.velcdn.com/images%2Fgjtang%2Fpost%2F2dcbb40a-7a14-47f6-8503-1c9bbb3dfc8d%2Fimage.png)\n",
        "\n",
        " - 사용자 기반 최근접 이웃 데이터 세트와 행과 열이 서로 반대\n",
        " - 아이템(영화) '다크나이트'는 '프로메테우스'와 상호 간 아이템 유사도가 상대적으로 높음 >> 아이템 기반 협업 필터링은 '다크나이트'를 좋아하는 사용자 D에게 '프로메테우스'를 추천함(스타워즈 vs. 프로메테우스일 때)\n"
      ],
      "metadata": {
        "id": "taAYjkhPv0LW"
      }
    },
    {
      "cell_type": "markdown",
      "source": [
        "일반적으로 사용자 기반보다는 아이템 기반 협업 필터링이 정확도가 더 높음 >> Why??\n",
        "\n",
        "- 비슷한 상품을 좋아한다고 해서 사람들의 취향이 비슷하다고 판단하기는 어려운 경우가 많음\n",
        "- 매우 유명한 영화는 취향과 관계없이 대부분의 사람이 관람하는 경우가 많음\n",
        "- 사용자들이 평점을 매긴 영화(또는 상품)의 개수가 많지 않은 경우가 일반적인데, 이를 기반으로 다른 사람과의 유사도를 비교하는 것 또한 어려움\n",
        "\n",
        "*따라서 최근접 이웃 협업 필터링은 대부분 아이템 기반의 알고리즘을 적용*"
      ],
      "metadata": {
        "id": "_8pOcSyw5ZPy"
      }
    },
    {
      "cell_type": "markdown",
      "source": [
        "### **잠재 요인 협업 필터링**"
      ],
      "metadata": {
        "id": "Md8oAGRG6HqM"
      }
    },
    {
      "cell_type": "markdown",
      "source": [
        "사용자-아이템 평점 매트릭스 속에 숨어 있는 잠재 요인을 추출해 추천 예측을 할 수 있게 하는 기법\n",
        "- 대규모 다차원 행렬을 SVD와 같은 차원 감소 기법으로 분해하는 과정에서 잠재 요인을 추출 >> 행렬 분해 (Matrix Factorization) !!\n",
        "- 잠재 요인을 기반으로 다차원 희소 행렬인 사용자-아이템 행렬 데이터를 저차원 밀집 행렬의 사용자-잠재 요인 행렬과 아이템-잠재 요인 행렬의 전치 행렬 (잠재 요인-아이템 행렬)로 분해가 가능\n",
        "- '잠재 요인'이 어떤 것인지는 명확히 정의 불가능\n",
        "    - 하지만 가령 영화 평점 기반의 사용자-아이템 평점 행렬 데이터라면 영화가 가지는 장르별 특성 선호도로 가정할 수 있음\n",
        "    - 사용자-잠재 요인 행렬 : 사용자의 영화 장르에 대한 선호도\n",
        "    - 아이템-잠재 요인 행렬 : 영화의 장르별 특성값으로 정의 가능"
      ],
      "metadata": {
        "id": "b9m4KCoh6yWq"
      }
    },
    {
      "cell_type": "markdown",
      "source": [
        "**잠재 요인 협력 필터링 알고리즘의 구조**\n",
        "\n",
        "- 사용자-아이템 행렬 => 사용자-잠재요인 행렬 + (아이템-잠재요인 행렬).T 로 분해\n",
        "    - 다차원 희소행렬에서 저차원 밀집 행렬로 분해 >> 행렬 분해 기법 (Matrix Factorization)\n",
        "\n",
        "- 이렇게 분해된 두 행렬의 \"내적\"을 통해 새로운 예측 사용자-아이템 평점 행렬 데이터를 생성\n",
        "- 사용자가 아직 평점을 부여하지 않은 아이템에 대한 예측 평점을 생성함\n",
        "\n",
        " ![latent factor](https://velog.velcdn.com/images%2Fgjtang%2Fpost%2F4fac5e69-c54f-42b8-8303-1ae7ae5a8abd%2Fimage.png)\n"
      ],
      "metadata": {
        "id": "5wfkkYXv7mw5"
      }
    },
    {
      "cell_type": "markdown",
      "source": [
        "Notation\n",
        "\n",
        "- R : 사용자 - 아이템 평점 행렬\n",
        "    - R(u, i) : 사용자(User, u)의 아이템(Item, i)에 대한 평점\n",
        "- P : 사용자 - 잠재요인 행렬 (사용자의 영화 장르별 선호도 행렬)\n",
        "    - P(u, k), k : 장르별 선호도 (잠재요인 칼럼)\n",
        "- Q : 영화의 장르별 요소 행렬\n",
        "    - Q(i, k), k : 장르별 요소\n",
        "    - 이후 P와의 내적 계산을 위해 transpose 진행, Q.T(k, i)\n",
        "- 잠재요인 (가정)\n",
        "    - factor 1 : 액션 선호도\n",
        "    - factor 2 : 로맨스 선호도\n",
        "\n",
        "**R=P*Q.T**\n",
        "![svd](https://velog.velcdn.com/images%2Fgjtang%2Fpost%2Fbd58557f-9545-4acd-8f9b-860cd9847af7%2Fimage.png)\n",
        "*예측\n",
        "![pred](https://velog.velcdn.com/images%2Fgjtang%2Fpost%2F3e9c6825-d272-47cd-8809-a1ff3c543ebe%2Fimage.png)"
      ],
      "metadata": {
        "id": "DgBTs5Pn8rSY"
      }
    },
    {
      "cell_type": "markdown",
      "source": [
        "*아이디어 부연 설명*\n",
        "\n",
        "- 평점이란? : 사용자의 특정 영화 장르에 대한 선호도와 개별 영화의 그 장르적 특성값을 반영해 결정된다고 생각할 수 있음\n",
        "\n",
        "- 예를 들어 사용자가 액션 영화를 매우 좋아하고, 특정 영화가 액션 영화의 특 성이 매우 크다면 사용자가 해당 영화에 높은 평점을 줄 것.\n",
        "- 따라서 평점은 사용자의 장르별 선호도 벡터와 영화의 장르별 특성 벡터를 서로 곱해서 만들 수 있음.\n",
        "- 즉, User 1 의 item 1의 평점인 R（1, 1）의 4점은 P 매트릭스의 User 1 벡터와 Q.T 매트릭스의 Item 1 벡터를 곱한 값으로 구할 수 있음\n",
        "- 예측도 마찬가지 : R ( 1 , 2 ) 는 행렬 분해된 P 매트릭스의 User 1 벡터와 Q.T 매트릭스의 Item 2 벡터의 내적 결과값으로 예측 가능"
      ],
      "metadata": {
        "id": "OOZN8KIwCVIk"
      }
    },
    {
      "cell_type": "markdown",
      "source": [
        "#### **행렬 분해의 이해**"
      ],
      "metadata": {
        "id": "l2vUqV7jDgex"
      }
    },
    {
      "cell_type": "markdown",
      "source": [
        "행렬 분해 : 다차원의 매트릭스를 저차원 매트릭스로 분해하는 기법\n",
        "\n",
        "- SVD (Singular Vector Decomposition)\n",
        "- NMF (Non-Negatvie Matrix Factorization)\n"
      ],
      "metadata": {
        "id": "9XpIcb8RDjwg"
      }
    },
    {
      "cell_type": "markdown",
      "source": [
        "![mtx factorization](https://velog.velcdn.com/images%2Fgjtang%2Fpost%2F13e60118-374f-4edb-bd4d-aa2988fe142e%2Fimage.png)"
      ],
      "metadata": {
        "id": "1yY1PnGpEy54"
      }
    },
    {
      "cell_type": "markdown",
      "source": [
        "R 행렬의 u행 사용자와 i열 아이템 위치에 있는 평점 데이터를 $r_{(u,i)}$ 라고 하면,\n",
        "\n",
        "$ r_{(u,i)} = p_u * q^t_i $ 로 유추 가능\n",
        "\n",
        "- $p_u$ : 행렬 P에서 u행 사용자의 vector\n",
        "- $q^t_i$ : 행렬 Q의 i행 아이템 벡터의 transpose vector\n",
        "\n",
        "사용자가 평가하지 않은 NaN(미정) 데이터에 대한 유추도 같은 방식으로 가능\n",
        "\n",
        " ![pred](https://velog.velcdn.com/images%2Fgjtang%2Fpost%2F2d1699f5-90cc-4693-8778-cf7daeb293a9%2Fimage.png)"
      ],
      "metadata": {
        "id": "jTZGkTckP78e"
      }
    },
    {
      "cell_type": "markdown",
      "source": [
        "사용자-아이템 평점 행렬의 미정 값을 포함한 모든 평점 값은 행렬 분해를 통해 얻어진 P 행렬과 Q.T 행렬의 내적을 통하여 예측 평점으로 다시 계산 가능\n",
        "\n",
        "**R ~ R_hat = P*Q.T**\n",
        "![R_hat](https://velog.velcdn.com/images%2Fgjtang%2Fpost%2Fe58cd971-975b-4df5-b823-bd6f2ec55445%2Fimage.png)"
      ],
      "metadata": {
        "id": "bBspvHMUQ1rW"
      }
    },
    {
      "cell_type": "markdown",
      "source": [
        "#### **확률적 경사 하강법을 이용한 행렬 분해**"
      ],
      "metadata": {
        "id": "pxhQKaWCRahe"
      }
    },
    {
      "cell_type": "markdown",
      "source": [
        "*왜 SGD (Stochastic Gradient Descnet) 를 사용할까?*\n",
        "\n",
        "행렬 분해는 주로 SVD 방식을 이용하지만, SVD는 **Null 값이 없는 행렬에만** 적용 가능\n",
        "\n",
        "R 행렬에는 아직 평점이 입력되지 않은 Null 값이 많기 때문에 일반적인 SVD 방식으로는 P와 Q 행렬로 분해가 불가능함 >> 확률적 경사 하강법 (SGD) 이나 ALS 방식을 이용하여 SVD를 수행!"
      ],
      "metadata": {
        "id": "Mc4K0SvrUdDB"
      }
    },
    {
      "cell_type": "markdown",
      "source": [
        "*SGD를 이용한 행렬 분해의 절차*\n",
        "\n",
        "![SGD Step](https://velog.velcdn.com/images%2Fgjtang%2Fpost%2F7fabb386-b63c-4701-9281-2bec7ddfd367%2Fimage.png)\n",
        "\n",
        "*실제값과 예측값의 오류 최소화와 L2 규제를 고려한 비용 함수식*\n",
        "\n",
        "![loss ft](https://velog.velcdn.com/images%2Fgjtang%2Fpost%2F8598e529-7d9a-4e2e-b9b2-fc63752112f3%2Fimage.png)\n",
        "\n",
        "*새롭게 업데이트되는 값 계산식*\n",
        "![update](https://velog.velcdn.com/images%2Fgjtang%2Fpost%2Fe574176a-1209-46b7-9fe1-b0fa599c9e6e%2Fimage.png)"
      ],
      "metadata": {
        "id": "okk9ppkRU9Ve"
      }
    },
    {
      "cell_type": "code",
      "execution_count": 2,
      "metadata": {
        "id": "5tIAYl2tphsO"
      },
      "outputs": [],
      "source": [
        "import numpy as np\n",
        "\n",
        "# 원본 행렬 R 생성, 분해 행렬 P와 Q 초기화, 잠재 요인 차원 K는 3으로 설정\n",
        "# R : 4*5 mtx\n",
        "R = np.array([[4, np.nan, np.nan, 2, np.nan],\n",
        "              [np.nan, 5, np.nan, 3, 1],\n",
        "              [np.nan, np.nan, 3, 4, 4],\n",
        "              [5, 2, 1, 2, np.nan]])\n",
        "num_users, num_items = R.shape\n",
        "K=3\n",
        "\n",
        "# P와 Q 행렬의 크기를 지정하고 정규 분포를 가진 임의의 값으로 입력\n",
        "np.random.seed(1)\n",
        "P = np.random.normal(scale=1./K, size=(num_users, K))\n",
        "Q = np.random.normal(scale=1./K, size=(num_items, K))\n"
      ]
    },
    {
      "cell_type": "code",
      "source": [
        "from sklearn.metrics import mean_squared_error\n",
        "\n",
        "def get_rmse(R, P, Q, non_zeros):\n",
        "    error = 0\n",
        "    # 두 개의 분해된 행렬 P와 Q.T의 내적으로 예측 R 행렬 생성\n",
        "    full_pred_matrix = np.dot(P, Q.T)\n",
        "\n",
        "    # 실제 R 행렬에서 NULL이 아닌 값의 위치 인덱스를 추출해 실제 R 행렬과 R_hat의 RMSE 추출\n",
        "    x_non_zero_ind = [non_zero[0] for non_zero in non_zeros]\n",
        "    y_non_zero_ind = [non_zero[1] for non_zero in non_zeros]\n",
        "    R_non_zeros = R[x_non_zero_ind, y_non_zero_ind]\n",
        "    full_pred_matrix_non_zeros = full_pred_matrix[x_non_zero_ind, y_non_zero_ind]\n",
        "    mse = mean_squared_error(R_non_zeros, full_pred_matrix_non_zeros)\n",
        "    rmse = np.sqrt(mse)\n",
        "\n",
        "    return rmse"
      ],
      "metadata": {
        "id": "um9Gjk3XSCgg"
      },
      "execution_count": 3,
      "outputs": []
    },
    {
      "cell_type": "code",
      "source": [
        "# R > 0 인 행 위치, 열 위치, 값을 non_zeros 리스트에 저장\n",
        "non_zeros = [ (i, j, R[i,j]) for i in range(num_users) for j in range(num_items) if R[i,j]>0 ]\n",
        "\n",
        "steps = 1000\n",
        "learning_rate = 0.01\n",
        "r_lambda = 0.01\n",
        "\n",
        "# SGD 기법으로 P와 Q matrix를 계속 업데이트\n",
        "for step in range(steps):\n",
        "    for i,j,r in non_zeros:\n",
        "        # 실제 값과 예측 값의 차이인 오류 값 구하기\n",
        "        eij = r - np.dot(P[i,:], Q[j,:].T)\n",
        "        # l2 규제를 반영한 SGD 업데이트 공식 적용\n",
        "        P[i, :] = P[i, :] + learning_rate * (eij * Q[j, :] - r_lambda*P[i, :])\n",
        "        Q[j, :] = Q[j, :] + learning_rate * (eij * P[i, :] - r_lambda*Q[j, :])\n",
        "\n",
        "        rmse = get_rmse(R, P, Q, non_zeros)\n",
        "        if (step % 50) == 0 :\n",
        "            print('### iteration step :', step, 'rmse :', rmse)"
      ],
      "metadata": {
        "colab": {
          "base_uri": "https://localhost:8080/"
        },
        "id": "Kzm7F1DjS3d1",
        "outputId": "0f23257f-b834-498d-c53d-0a80058f033b"
      },
      "execution_count": 4,
      "outputs": [
        {
          "output_type": "stream",
          "name": "stdout",
          "text": [
            "### iteration step : 0 rmse : 3.261355059488935\n",
            "### iteration step : 0 rmse : 3.26040057174686\n",
            "### iteration step : 0 rmse : 3.253984404542389\n",
            "### iteration step : 0 rmse : 3.2521583839863624\n",
            "### iteration step : 0 rmse : 3.252335303789125\n",
            "### iteration step : 0 rmse : 3.251072196430487\n",
            "### iteration step : 0 rmse : 3.2492449982564864\n",
            "### iteration step : 0 rmse : 3.247416477570409\n",
            "### iteration step : 0 rmse : 3.241926055455223\n",
            "### iteration step : 0 rmse : 3.2400454107613084\n",
            "### iteration step : 0 rmse : 3.240166740749792\n",
            "### iteration step : 0 rmse : 3.2388050277987723\n",
            "### iteration step : 50 rmse : 0.5003190892212748\n",
            "### iteration step : 50 rmse : 0.5001616291326989\n",
            "### iteration step : 50 rmse : 0.49899601202578087\n",
            "### iteration step : 50 rmse : 0.4988483450145831\n",
            "### iteration step : 50 rmse : 0.49895189256631756\n",
            "### iteration step : 50 rmse : 0.49833236830090993\n",
            "### iteration step : 50 rmse : 0.4984148489378701\n",
            "### iteration step : 50 rmse : 0.49792599580240876\n",
            "### iteration step : 50 rmse : 0.4900605568692785\n",
            "### iteration step : 50 rmse : 0.4890370238665435\n",
            "### iteration step : 50 rmse : 0.48869176023997846\n",
            "### iteration step : 50 rmse : 0.4876723101369648\n",
            "### iteration step : 100 rmse : 0.15911521988578564\n",
            "### iteration step : 100 rmse : 0.1588091617801093\n",
            "### iteration step : 100 rmse : 0.1587409221708901\n",
            "### iteration step : 100 rmse : 0.1582856952842508\n",
            "### iteration step : 100 rmse : 0.1583080948216876\n",
            "### iteration step : 100 rmse : 0.15828832993767403\n",
            "### iteration step : 100 rmse : 0.15787486893092847\n",
            "### iteration step : 100 rmse : 0.15792073606567072\n",
            "### iteration step : 100 rmse : 0.15725245215457084\n",
            "### iteration step : 100 rmse : 0.15710664164665206\n",
            "### iteration step : 100 rmse : 0.15690252144190003\n",
            "### iteration step : 100 rmse : 0.1564340384819247\n",
            "### iteration step : 150 rmse : 0.07546004875264435\n",
            "### iteration step : 150 rmse : 0.07544589133447106\n",
            "### iteration step : 150 rmse : 0.07543234329653023\n",
            "### iteration step : 150 rmse : 0.07514800672233914\n",
            "### iteration step : 150 rmse : 0.07518867696418177\n",
            "### iteration step : 150 rmse : 0.0752288950993841\n",
            "### iteration step : 150 rmse : 0.07489318864469259\n",
            "### iteration step : 150 rmse : 0.07493400425933257\n",
            "### iteration step : 150 rmse : 0.07462695506527872\n",
            "### iteration step : 150 rmse : 0.07464332131959663\n",
            "### iteration step : 150 rmse : 0.0746444164156341\n",
            "### iteration step : 150 rmse : 0.07455141311978046\n",
            "### iteration step : 200 rmse : 0.04361016579439073\n",
            "### iteration step : 200 rmse : 0.04370913068953006\n",
            "### iteration step : 200 rmse : 0.04369072102767977\n",
            "### iteration step : 200 rmse : 0.043475549832271414\n",
            "### iteration step : 200 rmse : 0.0435313092537358\n",
            "### iteration step : 200 rmse : 0.04359240037575283\n",
            "### iteration step : 200 rmse : 0.04329647906053838\n",
            "### iteration step : 200 rmse : 0.04332057192123618\n",
            "### iteration step : 200 rmse : 0.04310448294502512\n",
            "### iteration step : 200 rmse : 0.04313550286658552\n",
            "### iteration step : 200 rmse : 0.04313786864806258\n",
            "### iteration step : 200 rmse : 0.04325226798579314\n",
            "### iteration step : 250 rmse : 0.029395183185609734\n",
            "### iteration step : 250 rmse : 0.02954402948437167\n",
            "### iteration step : 250 rmse : 0.02950187436758184\n",
            "### iteration step : 250 rmse : 0.029329609713572593\n",
            "### iteration step : 250 rmse : 0.02940211807327667\n",
            "### iteration step : 250 rmse : 0.02946720568417511\n",
            "### iteration step : 250 rmse : 0.029189294191791375\n",
            "### iteration step : 250 rmse : 0.029198757426747605\n",
            "### iteration step : 250 rmse : 0.028995742260002243\n",
            "### iteration step : 250 rmse : 0.02904415445054541\n",
            "### iteration step : 250 rmse : 0.029049587101179365\n",
            "### iteration step : 250 rmse : 0.029248328780878973\n",
            "### iteration step : 300 rmse : 0.022678715233749362\n",
            "### iteration step : 300 rmse : 0.022844873864300484\n",
            "### iteration step : 300 rmse : 0.022773566650325074\n",
            "### iteration step : 300 rmse : 0.02263234507322516\n",
            "### iteration step : 300 rmse : 0.02272006255153119\n",
            "### iteration step : 300 rmse : 0.022778917442558434\n",
            "### iteration step : 300 rmse : 0.022516243062381223\n",
            "### iteration step : 300 rmse : 0.022515508246519694\n",
            "### iteration step : 300 rmse : 0.02229491665298542\n",
            "### iteration step : 300 rmse : 0.022367287171783136\n",
            "### iteration step : 300 rmse : 0.022392303480653113\n",
            "### iteration step : 300 rmse : 0.022621116143829466\n",
            "### iteration step : 350 rmse : 0.019516973680183715\n",
            "### iteration step : 350 rmse : 0.019681605297160464\n",
            "### iteration step : 350 rmse : 0.019585635379668415\n",
            "### iteration step : 350 rmse : 0.01946716545524988\n",
            "### iteration step : 350 rmse : 0.01956568678979253\n",
            "### iteration step : 350 rmse : 0.019614020075870497\n",
            "### iteration step : 350 rmse : 0.019368393329296258\n",
            "### iteration step : 350 rmse : 0.019361014872334943\n",
            "### iteration step : 350 rmse : 0.019116038405167533\n",
            "### iteration step : 350 rmse : 0.01920981547997513\n",
            "### iteration step : 350 rmse : 0.019255623979392192\n",
            "### iteration step : 350 rmse : 0.019493636196525135\n",
            "### iteration step : 400 rmse : 0.01803666559195465\n",
            "### iteration step : 400 rmse : 0.01819133106334419\n",
            "### iteration step : 400 rmse : 0.018078504374883574\n",
            "### iteration step : 400 rmse : 0.01797554592952707\n",
            "### iteration step : 400 rmse : 0.018080509676855847\n",
            "### iteration step : 400 rmse : 0.018118882879536648\n",
            "### iteration step : 400 rmse : 0.017889686482489363\n",
            "### iteration step : 400 rmse : 0.017878066671070433\n",
            "### iteration step : 400 rmse : 0.01761224433968553\n",
            "### iteration step : 400 rmse : 0.01772096734904666\n",
            "### iteration step : 400 rmse : 0.01778179645659777\n",
            "### iteration step : 400 rmse : 0.018022719092132704\n",
            "### iteration step : 450 rmse : 0.017334045429542092\n",
            "### iteration step : 450 rmse : 0.01747683493759156\n",
            "### iteration step : 450 rmse : 0.01735361907510825\n",
            "### iteration step : 450 rmse : 0.017260553985290646\n",
            "### iteration step : 450 rmse : 0.01736909385010645\n",
            "### iteration step : 450 rmse : 0.017399933857257726\n",
            "### iteration step : 450 rmse : 0.01718431757863743\n",
            "### iteration step : 450 rmse : 0.01716990649625117\n",
            "### iteration step : 450 rmse : 0.01688861579579296\n",
            "### iteration step : 450 rmse : 0.017006638154083088\n",
            "### iteration step : 450 rmse : 0.01707679250866153\n",
            "### iteration step : 450 rmse : 0.01731968595344266\n",
            "### iteration step : 500 rmse : 0.016991609248052833\n",
            "### iteration step : 500 rmse : 0.01712340891578616\n",
            "### iteration step : 500 rmse : 0.01699398405641037\n",
            "### iteration step : 500 rmse : 0.01690707049203008\n",
            "### iteration step : 500 rmse : 0.01701760577221745\n",
            "### iteration step : 500 rmse : 0.017043277556700362\n",
            "### iteration step : 500 rmse : 0.01683803145900356\n",
            "### iteration step : 500 rmse : 0.016821674312725313\n",
            "### iteration step : 500 rmse : 0.016529281264429145\n",
            "### iteration step : 500 rmse : 0.0166528887951985\n",
            "### iteration step : 500 rmse : 0.016728541275490984\n",
            "### iteration step : 500 rmse : 0.016973657887570753\n",
            "### iteration step : 550 rmse : 0.016818969716266233\n",
            "### iteration step : 550 rmse : 0.016941445597444732\n",
            "### iteration step : 550 rmse : 0.0168082592988841\n",
            "### iteration step : 550 rmse : 0.016725234339747562\n",
            "### iteration step : 550 rmse : 0.01683693849143515\n",
            "### iteration step : 550 rmse : 0.016859187050621206\n",
            "### iteration step : 550 rmse : 0.016661644526141564\n",
            "### iteration step : 550 rmse : 0.01664385102006508\n",
            "### iteration step : 550 rmse : 0.016343446075494233\n",
            "### iteration step : 550 rmse : 0.01647044082182643\n",
            "### iteration step : 550 rmse : 0.01654932331426952\n",
            "### iteration step : 550 rmse : 0.016796804595895633\n",
            "### iteration step : 600 rmse : 0.016727439717439115\n",
            "### iteration step : 600 rmse : 0.016842259158977232\n",
            "### iteration step : 600 rmse : 0.016706687924467476\n",
            "### iteration step : 600 rmse : 0.016626255644609397\n",
            "### iteration step : 600 rmse : 0.016738696939262717\n",
            "### iteration step : 600 rmse : 0.016758682415985614\n",
            "### iteration step : 600 rmse : 0.0165668572000528\n",
            "### iteration step : 600 rmse : 0.016547954461110684\n",
            "### iteration step : 600 rmse : 0.016241668760761063\n",
            "### iteration step : 600 rmse : 0.016370800056137867\n",
            "### iteration step : 600 rmse : 0.016451627209257007\n",
            "### iteration step : 600 rmse : 0.01670132290188466\n",
            "### iteration step : 650 rmse : 0.016674291334806343\n",
            "### iteration step : 650 rmse : 0.016782895588885082\n",
            "### iteration step : 650 rmse : 0.016645698091647773\n",
            "### iteration step : 650 rmse : 0.01656714079916223\n",
            "### iteration step : 650 rmse : 0.016680091021598568\n",
            "### iteration step : 650 rmse : 0.016698554271430792\n",
            "### iteration step : 650 rmse : 0.016511017732427972\n",
            "### iteration step : 650 rmse : 0.016491228766905293\n",
            "### iteration step : 650 rmse : 0.01618054419796173\n",
            "### iteration step : 650 rmse : 0.01631111150707529\n",
            "### iteration step : 650 rmse : 0.01639316772050061\n",
            "### iteration step : 650 rmse : 0.01664473691247669\n",
            "### iteration step : 700 rmse : 0.0166383624426085\n",
            "### iteration step : 700 rmse : 0.016741936743323586\n",
            "### iteration step : 700 rmse : 0.016603524189001625\n",
            "### iteration step : 700 rmse : 0.016526454393300468\n",
            "### iteration step : 700 rmse : 0.016639792083379498\n",
            "### iteration step : 700 rmse : 0.016657201345297346\n",
            "### iteration step : 700 rmse : 0.016472928381641428\n",
            "### iteration step : 700 rmse : 0.01645241257047358\n",
            "### iteration step : 700 rmse : 0.016138379086448083\n",
            "### iteration step : 700 rmse : 0.016269993747904915\n",
            "### iteration step : 700 rmse : 0.01635288508504558\n",
            "### iteration step : 700 rmse : 0.016605910068210026\n",
            "### iteration step : 750 rmse : 0.01660906046895522\n",
            "### iteration step : 750 rmse : 0.016708562969098305\n",
            "### iteration step : 750 rmse : 0.016569153528341783\n",
            "### iteration step : 750 rmse : 0.016493367054249922\n",
            "### iteration step : 750 rmse : 0.016607027966870924\n",
            "### iteration step : 750 rmse : 0.01662368102752549\n",
            "### iteration step : 750 rmse : 0.016441927271724666\n",
            "### iteration step : 750 rmse : 0.0164208024653437\n",
            "### iteration step : 750 rmse : 0.016104179990850755\n",
            "### iteration step : 750 rmse : 0.016236628551952913\n",
            "### iteration step : 750 rmse : 0.016320141009292095\n",
            "### iteration step : 750 rmse : 0.016574200475705\n",
            "### iteration step : 800 rmse : 0.016581161561119846\n",
            "### iteration step : 800 rmse : 0.016677363428436936\n",
            "### iteration step : 800 rmse : 0.016537069269613652\n",
            "### iteration step : 800 rmse : 0.0164624613777787\n",
            "### iteration step : 800 rmse : 0.016576412350487568\n",
            "### iteration step : 800 rmse : 0.01659250180024954\n",
            "### iteration step : 800 rmse : 0.01641271740942833\n",
            "### iteration step : 800 rmse : 0.016391072859801518\n",
            "### iteration step : 800 rmse : 0.01607242307736876\n",
            "### iteration step : 800 rmse : 0.016205589842521878\n",
            "### iteration step : 800 rmse : 0.016289609430091494\n",
            "### iteration step : 800 rmse : 0.01654431582921597\n",
            "### iteration step : 850 rmse : 0.01655222898431553\n",
            "### iteration step : 850 rmse : 0.01664575121547569\n",
            "### iteration step : 850 rmse : 0.016504627328190514\n",
            "### iteration step : 850 rmse : 0.016431145801748863\n",
            "### iteration step : 850 rmse : 0.016545370571042432\n",
            "### iteration step : 850 rmse : 0.016561024020105147\n",
            "### iteration step : 850 rmse : 0.016382795627019747\n",
            "### iteration step : 850 rmse : 0.016360700076085824\n",
            "### iteration step : 850 rmse : 0.016040446344395578\n",
            "### iteration step : 850 rmse : 0.016174269580681345\n",
            "### iteration step : 850 rmse : 0.016258737354641353\n",
            "### iteration step : 850 rmse : 0.01651375177473524\n",
            "### iteration step : 900 rmse : 0.016521280433777957\n",
            "### iteration step : 900 rmse : 0.016612624200841405\n",
            "### iteration step : 900 rmse : 0.016470695682261876\n",
            "### iteration step : 900 rmse : 0.016398314989165292\n",
            "### iteration step : 900 rmse : 0.016512806333073466\n",
            "### iteration step : 900 rmse : 0.01652811087350182\n",
            "### iteration step : 900 rmse : 0.016351122754892394\n",
            "### iteration step : 900 rmse : 0.016328629783842166\n",
            "### iteration step : 900 rmse : 0.016007096878603234\n",
            "### iteration step : 900 rmse : 0.016141544071514122\n",
            "### iteration step : 900 rmse : 0.016226430843994055\n",
            "### iteration step : 900 rmse : 0.01648146573819501\n",
            "### iteration step : 950 rmse : 0.016488081335748316\n",
            "### iteration step : 950 rmse : 0.016577652134974717\n",
            "### iteration step : 950 rmse : 0.01643492933498176\n",
            "### iteration step : 950 rmse : 0.0163636366204062\n",
            "### iteration step : 950 rmse : 0.01647839195954869\n",
            "### iteration step : 950 rmse : 0.01649340903060659\n",
            "### iteration step : 950 rmse : 0.016317416842511007\n",
            "### iteration step : 950 rmse : 0.016294568571753248\n",
            "### iteration step : 950 rmse : 0.015972009545965248\n",
            "### iteration step : 950 rmse : 0.0161070634587959\n",
            "### iteration step : 950 rmse : 0.016192355609214733\n",
            "### iteration step : 950 rmse : 0.016447171683479155\n"
          ]
        }
      ]
    },
    {
      "cell_type": "code",
      "source": [
        "# 분해된 P, Q 함수를 통해 예측 행렬 생성\n",
        "pred_mtx = np.dot(P, Q.T)\n",
        "print('예측 행렬:\\n', np.round(pred_mtx, 3))"
      ],
      "metadata": {
        "colab": {
          "base_uri": "https://localhost:8080/"
        },
        "id": "Lb0Cilv4T04Q",
        "outputId": "a24a93a4-c1ac-4dfe-c191-769c24d356dd"
      },
      "execution_count": 5,
      "outputs": [
        {
          "output_type": "stream",
          "name": "stdout",
          "text": [
            "예측 행렬:\n",
            " [[3.991 0.897 1.306 2.002 1.663]\n",
            " [6.696 4.978 0.979 2.981 1.003]\n",
            " [6.677 0.391 2.987 3.977 3.986]\n",
            " [4.968 2.005 1.006 2.017 1.14 ]]\n"
          ]
        }
      ]
    },
    {
      "cell_type": "markdown",
      "source": [
        "원본 행렬과 비교해 null이 아닌 값은 큰 차이 X, null인 값은 새로운 예측값으로 채워짐"
      ],
      "metadata": {
        "id": "t-LOivmlUTZL"
      }
    }
  ]
}
