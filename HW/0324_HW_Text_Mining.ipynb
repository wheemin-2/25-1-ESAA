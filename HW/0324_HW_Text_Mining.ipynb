{
  "nbformat": 4,
  "nbformat_minor": 0,
  "metadata": {
    "colab": {
      "provenance": [],
      "toc_visible": true,
      "authorship_tag": "ABX9TyOs/nCbK9Q60qRewuJu73wA",
      "include_colab_link": true
    },
    "kernelspec": {
      "name": "python3",
      "display_name": "Python 3"
    },
    "language_info": {
      "name": "python"
    }
  },
  "cells": [
    {
      "cell_type": "markdown",
      "metadata": {
        "id": "view-in-github",
        "colab_type": "text"
      },
      "source": [
        "<a href=\"https://colab.research.google.com/github/wheemin-2/25-1-ESAA/blob/main/0324_HW_Text_Mining.ipynb\" target=\"_parent\"><img src=\"https://colab.research.google.com/assets/colab-badge.svg\" alt=\"Open In Colab\"/></a>"
      ]
    },
    {
      "cell_type": "markdown",
      "source": [
        "# **텍스트 분석**"
      ],
      "metadata": {
        "id": "fFoumc7VL9X9"
      }
    },
    {
      "cell_type": "markdown",
      "source": [
        "텍스트 분석의 영역\n",
        "\n",
        "* 텍스트 분류 (Text Classification / Categorization)\n",
        "    - 문서가 특정 분류 또는 카테고리에 속하는 것을 예측하는 기법\n",
        "    - ex. 특정 신문 기사 내용이 연예/정치/사회/문화 중 어떤 카테고리에 속하는지 분류, 스팸 메일 검출\n",
        "    - 지도학습 적용\n",
        "\n",
        "* 감성 분석 (Sentiment Analysis)\n",
        "    - 텍스트에서 나타나는 감정/판단/믿음/의견/기분 등의 주관적인 요소를 분석하는 기법\n",
        "    - ex. 소셜 미디어 감정 분석, 영화/제품에 대한 리뷰, 여론조사 의견 분석\n",
        "    - 텍스트 분석에서 가장 활발하게 사용되는 분야\n",
        "    - 지도학습 및 비지도학습 적용\n",
        "\n",
        "* 텍스트 요약 (Summarization)\n",
        "    - 텍스트 내에서 중요한 주제나 중심 사상을 추출하는 기법\n",
        "    - Topic Modeling\n",
        "\n",
        "* 텍스트 군집화 (Clustering), 유사도 측정\n",
        "    - 비슷한 유형의 문서에 대해 군집화를 수행하는 기법\n",
        "    - 텍스트 분류를 비지도학습으로 수행하는 방법의 일환으로 사용가능\n",
        "    - 유사도 측정 : 문서들 간의 유사도를 측정, 비슷한 문서끼리 모으는 방법\n"
      ],
      "metadata": {
        "id": "q9WQzjywMz30"
      }
    },
    {
      "cell_type": "markdown",
      "source": [
        "## **텍스트 분석 수행 프로세스**"
      ],
      "metadata": {
        "id": "w-tJOu1YOE7L"
      }
    },
    {
      "cell_type": "markdown",
      "source": [
        "머신러닝 알고리즘 : 숫자형의 피처 기반 데이터만 입력받을 수 있음\n",
        "\n",
        "> *비정형 텍스트 데이터를 어떻게 피처 형태로 추출하고 의미있는 값을 부여하는가?*\n",
        "\n",
        "텍스트를 변환하는 피처 벡터화 / 피처 추출 과정이 필요"
      ],
      "metadata": {
        "id": "MVnbIHXHOQ5i"
      }
    },
    {
      "cell_type": "markdown",
      "source": [
        "Step 1) 텍스트 사전 준비작업 (텍스트 전처리)\n",
        "- 텍스트를 피처로 만들기 전에 미리 클렌징, 대/소문자 변경, 특수문자 삭제 등의 클렌징 작업, 단어(Word) 등의 토큰화 작업, 불용어(Stop word) 제거 작업, 어근 추출(Stemming, Lemmatization) 등의 텍스트 정규화 작업\n",
        "\n",
        "Step 2) 피처 벡터화/추출\n",
        "- 가공된 텍스트에서 피처를 추출, 벡터값 할당\n",
        "- BOW, Word2Vec 방법이 대표적\n",
        "    - Bow : Count 기반, TF-IDF 기반 벡터화\n",
        "\n",
        "Step 3) 모델 수립 및 학습/예측/평가\n",
        "- 피처 벡터화된 데이터 세트에 ML 모델 적용, 학습/예측 및 평가 수행"
      ],
      "metadata": {
        "id": "_lFdX79lOpI-"
      }
    },
    {
      "cell_type": "markdown",
      "source": [
        "**파이썬 기반의 NLP, 텍스트 분석 패키지**\n",
        "\n",
        "- NLTK : 파이썬의 가장 대표적인 NLP 패키지, NLP의 거의 모든 영역을 커버하고 있으나 수행 속도 ↓\n",
        "\n",
        "- Gensim : 토픽 모델링 분야에서 가장 두각을 나타냄, SapCy와 함께 가장 많이 사용되는 NLP 패키지\n",
        "\n",
        "- SpaCy : 수행 성능이 뛰어나 최근 주목받는 NLP 패키지"
      ],
      "metadata": {
        "id": "ezz1zJdNPfto"
      }
    },
    {
      "cell_type": "markdown",
      "source": [
        "## **텍스트 전처리 - 텍스트 정규화**"
      ],
      "metadata": {
        "id": "dhTJ--52QSwR"
      }
    },
    {
      "cell_type": "markdown",
      "source": [
        "텍스트 정규화 작업의 종류\n",
        "- 클렌징 (Cleansing)\n",
        "- 토큰화 (Tokenization)\n",
        "- 필터링 / 불용어 제거 / 철자 수정\n",
        "- Stemming\n",
        "- Lemmatization"
      ],
      "metadata": {
        "id": "YvwSWqdkQZGS"
      }
    },
    {
      "cell_type": "markdown",
      "source": [
        "### **클렌징**\n",
        "\n",
        "텍스트 분석에서 오히려 방해가 되는 불필요한 문자, 기호 등을 사전에 제거하는 작업\n",
        "- ex. HTML, XML 태그, 특정 기호 제거"
      ],
      "metadata": {
        "id": "VySiQlaHQnI-"
      }
    },
    {
      "cell_type": "markdown",
      "source": [
        "### **텍스트 토큰화**"
      ],
      "metadata": {
        "id": "k7DHPbz6QyxS"
      }
    },
    {
      "cell_type": "markdown",
      "source": [
        "#### **문장 토큰화**"
      ],
      "metadata": {
        "id": "6jbdPAJTQ1hW"
      }
    },
    {
      "cell_type": "markdown",
      "source": [
        "문장의 마침표(.), 개행문자(\\n) 등 문장의 마지막을 뜻하는 기호에 따라 분리하는 것이 일반적\n",
        "\n",
        "정규 표현식에 따른 문장 토큰화도 가능\n",
        "\n",
        "NLTK : sent_tokenize() 모듈로 수행 가능"
      ],
      "metadata": {
        "id": "yMQ03NoOQ5hT"
      }
    },
    {
      "cell_type": "code",
      "source": [
        "# nltk 버전 다운그레이드\n",
        "# 셀 수행 후 런타임 다시 시작!!\n",
        "!pip install --user nltk==3.8.1"
      ],
      "metadata": {
        "colab": {
          "base_uri": "https://localhost:8080/"
        },
        "id": "K82WSU_kTtyS",
        "outputId": "73832746-e9f1-40e8-e739-b9fb5bbd312e"
      },
      "execution_count": null,
      "outputs": [
        {
          "output_type": "stream",
          "name": "stdout",
          "text": [
            "Collecting nltk==3.8.1\n",
            "  Downloading nltk-3.8.1-py3-none-any.whl.metadata (2.8 kB)\n",
            "Requirement already satisfied: click in /usr/local/lib/python3.11/dist-packages (from nltk==3.8.1) (8.1.8)\n",
            "Requirement already satisfied: joblib in /usr/local/lib/python3.11/dist-packages (from nltk==3.8.1) (1.4.2)\n",
            "Requirement already satisfied: regex>=2021.8.3 in /usr/local/lib/python3.11/dist-packages (from nltk==3.8.1) (2024.11.6)\n",
            "Requirement already satisfied: tqdm in /usr/local/lib/python3.11/dist-packages (from nltk==3.8.1) (4.67.1)\n",
            "Downloading nltk-3.8.1-py3-none-any.whl (1.5 MB)\n",
            "\u001b[2K   \u001b[90m━━━━━━━━━━━━━━━━━━━━━━━━━━━━━━━━━━━━━━━━\u001b[0m \u001b[32m1.5/1.5 MB\u001b[0m \u001b[31m13.3 MB/s\u001b[0m eta \u001b[36m0:00:00\u001b[0m\n",
            "\u001b[?25hInstalling collected packages: nltk\n",
            "\u001b[33m  WARNING: The script nltk is installed in '/root/.local/bin' which is not on PATH.\n",
            "  Consider adding this directory to PATH or, if you prefer to suppress this warning, use --no-warn-script-location.\u001b[0m\u001b[33m\n",
            "\u001b[0m\u001b[31mERROR: pip's dependency resolver does not currently take into account all the packages that are installed. This behaviour is the source of the following dependency conflicts.\n",
            "textblob 0.19.0 requires nltk>=3.9, but you have nltk 3.8.1 which is incompatible.\u001b[0m\u001b[31m\n",
            "\u001b[0mSuccessfully installed nltk-3.8.1\n"
          ]
        }
      ]
    },
    {
      "cell_type": "code",
      "source": [
        "from nltk import sent_tokenize\n",
        "import nltk\n",
        "nltk.download('punkt')   # 마침표, 개행 문자 등의 데이터 세트 다운로드"
      ],
      "metadata": {
        "colab": {
          "base_uri": "https://localhost:8080/"
        },
        "id": "YW36Fg7JSW83",
        "outputId": "0309b0e9-cb69-4448-fe99-ae2fb1be37bf"
      },
      "execution_count": null,
      "outputs": [
        {
          "output_type": "stream",
          "name": "stderr",
          "text": [
            "[nltk_data] Downloading package punkt to /root/nltk_data...\n",
            "[nltk_data]   Unzipping tokenizers/punkt.zip.\n"
          ]
        },
        {
          "output_type": "execute_result",
          "data": {
            "text/plain": [
              "True"
            ]
          },
          "metadata": {},
          "execution_count": 1
        }
      ]
    },
    {
      "cell_type": "code",
      "execution_count": null,
      "metadata": {
        "id": "NJdtJR31L5du"
      },
      "outputs": [],
      "source": [
        "text_sample = 'The Matrix is everywhere its all around us, here even in this room. \\\n",
        "               You can see it out your window or on your television. \\\n",
        "               You feel it wen you go to work, or go to church or pay your taxes.'\n",
        "\n",
        "sentences = sent_tokenize(text=text_sample)"
      ]
    },
    {
      "cell_type": "code",
      "source": [
        "# sent_tokenize()는 list 객체를 반환\n",
        "print(type(sentences), len(sentences))\n",
        "print(sentences)"
      ],
      "metadata": {
        "colab": {
          "base_uri": "https://localhost:8080/"
        },
        "id": "aQy5hqklRwKa",
        "outputId": "b14be4a5-5a14-4a4a-bfd8-4d011f777166"
      },
      "execution_count": null,
      "outputs": [
        {
          "output_type": "stream",
          "name": "stdout",
          "text": [
            "<class 'list'> 3\n",
            "['The Matrix is everywhere its all around us, here even in this room.', 'You can see it out your window or on your television.', 'You feel it wen you go to work, or go to church or pay your taxes.']\n"
          ]
        }
      ]
    },
    {
      "cell_type": "markdown",
      "source": [
        "#### **단어 토큰화**"
      ],
      "metadata": {
        "id": "QOOJVaMSUCFg"
      }
    },
    {
      "cell_type": "markdown",
      "source": [
        "문장을 단어로 토큰화\n",
        "\n",
        "기본적으로 공백, 콤마(,), 마침표(.), 개행문자 등으로 단어를 분리하지만, 정규 표현식을 이용하여 다양한 유형으로 토큰화를 수행할 수도 있음!\n",
        "- 문장을 분리하는 구분자를 이용해 단어를 토큰화할 수 있으므로 단어의 순서가 중요하지 않은 경우, 문장 토큰화 없이 단어 토큰화만 사용해도 충분함\n",
        "- 일반적으로 문장 토큰화는 각 문장이 가지는 시맨틱적인 의미가 중요한 요소로 사용될 때 사용\n",
        "\n",
        "NLTK : word_tokenize() 모듈로 수행 가능"
      ],
      "metadata": {
        "id": "7QsDD23uUOxI"
      }
    },
    {
      "cell_type": "code",
      "source": [
        "from nltk import word_tokenize\n",
        "\n",
        "sentence = 'The Matrix is everywhere its all around us, here even in this room.'\n",
        "words = word_tokenize(sentence)\n",
        "print(type(words), len(words))\n",
        "print(words)"
      ],
      "metadata": {
        "colab": {
          "base_uri": "https://localhost:8080/"
        },
        "id": "GpnOhMUVT9cM",
        "outputId": "c5d6582f-890a-4ee0-a5ad-a9aa1b8fc53b"
      },
      "execution_count": null,
      "outputs": [
        {
          "output_type": "stream",
          "name": "stdout",
          "text": [
            "<class 'list'> 15\n",
            "['The', 'Matrix', 'is', 'everywhere', 'its', 'all', 'around', 'us', ',', 'here', 'even', 'in', 'this', 'room', '.']\n"
          ]
        }
      ]
    },
    {
      "cell_type": "code",
      "source": [
        "# 문장 토큰화와 단어 토큰화를 조합\n",
        "from nltk import word_tokenize, sent_tokenize\n",
        "\n",
        "# 여러 개의 문장으로 된 입력 데이터를 문장별로 단어 토큰화하게 만드는 함수\n",
        "def tokenize_text(text):\n",
        "\n",
        "    # 문장별로 분리\n",
        "    sentences = sent_tokenize(text)\n",
        "    # 문장별 단어 토큰화\n",
        "    word_tokens = [word_tokenize(sentence) for sentence in sentences]\n",
        "    return word_tokens\n",
        "\n",
        "word_tokens = tokenize_text(text_sample)\n",
        "# 3개의 문장을 먼저 토큰화 > length 3인 리스트\n",
        "print(type(word_tokens), len(word_tokens))\n",
        "print(word_tokens)"
      ],
      "metadata": {
        "colab": {
          "base_uri": "https://localhost:8080/"
        },
        "id": "AbJdyaBdVfVx",
        "outputId": "ace9a008-a833-4995-aa29-01c165720185"
      },
      "execution_count": null,
      "outputs": [
        {
          "output_type": "stream",
          "name": "stdout",
          "text": [
            "<class 'list'> 3\n",
            "[['The', 'Matrix', 'is', 'everywhere', 'its', 'all', 'around', 'us', ',', 'here', 'even', 'in', 'this', 'room', '.'], ['You', 'can', 'see', 'it', 'out', 'your', 'window', 'or', 'on', 'your', 'television', '.'], ['You', 'feel', 'it', 'wen', 'you', 'go', 'to', 'work', ',', 'or', 'go', 'to', 'church', 'or', 'pay', 'your', 'taxes', '.']]\n"
          ]
        }
      ]
    },
    {
      "cell_type": "markdown",
      "source": [
        "문장을 단어별로 하나씩 토큰화 할 경우 문맥적인 의미는 무시될 수밖에 없음. 이러한 문제를 해결해 보고자 *n-gram*을 도입함\n",
        "\n",
        "**n-gram**\n",
        "\n",
        "연속된 n개의 단어를 하나의 토큰화 단위로 분리하는 것\n",
        "\n",
        "ex) \"Agent Smith knocks the door\", 2-gram (bigram)\n",
        "\n",
        "=> (Agent, Smith), (Smith, knocks), (knocks, the), (the, door) 로 토큰화\n",
        "\n"
      ],
      "metadata": {
        "id": "T6JQuSluWoD5"
      }
    },
    {
      "cell_type": "markdown",
      "source": [
        "### **불용어 제거**"
      ],
      "metadata": {
        "id": "-2HZUNjRXcuY"
      }
    },
    {
      "cell_type": "markdown",
      "source": [
        "불용어(Stop word) : 분석에 큰 의미가 없는 단어 (is, the, a, will...)"
      ],
      "metadata": {
        "id": "AlM22bgWSsm5"
      }
    },
    {
      "cell_type": "code",
      "source": [
        "# NTLK 패키지에서 불용어 리스트 다운로드\n",
        "import nltk\n",
        "nltk.download('stopwords')"
      ],
      "metadata": {
        "id": "O0emdosQWT60",
        "colab": {
          "base_uri": "https://localhost:8080/"
        },
        "outputId": "7ef27075-23ef-4c59-daa7-856703c560ed"
      },
      "execution_count": null,
      "outputs": [
        {
          "output_type": "stream",
          "name": "stderr",
          "text": [
            "[nltk_data] Downloading package stopwords to /root/nltk_data...\n",
            "[nltk_data]   Unzipping corpora/stopwords.zip.\n"
          ]
        },
        {
          "output_type": "execute_result",
          "data": {
            "text/plain": [
              "True"
            ]
          },
          "metadata": {},
          "execution_count": 6
        }
      ]
    },
    {
      "cell_type": "code",
      "source": [
        "print('영어 stop words 개수:', len(nltk.corpus.stopwords.words('english')))\n",
        "print(nltk.corpus.stopwords.words('english')[:20])"
      ],
      "metadata": {
        "colab": {
          "base_uri": "https://localhost:8080/"
        },
        "id": "bgjUmXDOTNCL",
        "outputId": "2ab4ab48-5463-4064-fe2c-fa16950d88db"
      },
      "execution_count": null,
      "outputs": [
        {
          "output_type": "stream",
          "name": "stdout",
          "text": [
            "영어 stop words 개수: 198\n",
            "['a', 'about', 'above', 'after', 'again', 'against', 'ain', 'all', 'am', 'an', 'and', 'any', 'are', 'aren', \"aren't\", 'as', 'at', 'be', 'because', 'been']\n"
          ]
        }
      ]
    },
    {
      "cell_type": "code",
      "source": [
        "stopwords = nltk.corpus.stopwords.words('english')\n",
        "all_tokens = []\n",
        "\n",
        "# 위 예제에서 얻은 word_tokens list에 대해 불용어 제거\n",
        "for sentence in word_tokens:\n",
        "    filtered_words = []\n",
        "    for word in sentence:\n",
        "        # 소문자로 변환\n",
        "        word = word.lower()\n",
        "        # 토큰화된 개별 단어가 스톱 워드의 단어에 포함되지 x > word_tokens에 추가\n",
        "        if word not in stopwords:\n",
        "            filtered_words.append(word)\n",
        "\n",
        "    all_tokens.append(filtered_words)\n",
        "\n",
        "print(all_tokens)"
      ],
      "metadata": {
        "colab": {
          "base_uri": "https://localhost:8080/"
        },
        "id": "QvjUmFrhTUcj",
        "outputId": "01e17093-2fae-4ab0-f637-c3828535cf1e"
      },
      "execution_count": null,
      "outputs": [
        {
          "output_type": "stream",
          "name": "stdout",
          "text": [
            "[['matrix', 'everywhere', 'around', 'us', ',', 'even', 'room', '.'], ['see', 'window', 'television', '.'], ['feel', 'wen', 'go', 'work', ',', 'go', 'church', 'pay', 'taxes', '.']]\n"
          ]
        }
      ]
    },
    {
      "cell_type": "markdown",
      "source": [
        "### **Stemming & Lemmatization**\n",
        "\n",
        "문법적, 의미적으로 변화하는 단어의 원형을 찾는 것"
      ],
      "metadata": {
        "id": "4ySOgp8yT8uu"
      }
    },
    {
      "cell_type": "markdown",
      "source": [
        "\n",
        "[Stemming]\n",
        "- 원형 단어로 변환 시 일반적인 방법을 적용하거나 더 단순화된 방법을 적용\n",
        "- 원래 단어에서 일부 철자가 훼손된 어근 단어를 추출하는 경향이 있음\n",
        "- NLTK : Porter, Lancaster, Snowball Stemmer 등의 stemmer를 제공\n",
        "\n",
        "[Lemmatization]\n",
        "- 품사와 같은 문법적인 요소와 더 의미적인 부분을 감안하여 정확한 철자로 된 어근 단어를 찾아줌\n",
        "- Stemming보다 더 정교하며 의미론적인 기반에서 단어의 원형을 찾음 > 변환 시간 ↑\n",
        "- NLTK : WordNetLemmatizer 제공"
      ],
      "metadata": {
        "id": "3CPgPtn1UBRy"
      }
    },
    {
      "cell_type": "code",
      "source": [
        "from nltk.stem import LancasterStemmer\n",
        "stemmer = LancasterStemmer()\n",
        "\n",
        "print(stemmer.stem('working'), stemmer.stem('works'), stemmer.stem('worked'))\n",
        "print(stemmer.stem('amusing'), stemmer.stem('amuses'), stemmer.stem('amused'))\n",
        "print(stemmer.stem('happier'), stemmer.stem('happiest'))\n",
        "print(stemmer.stem('fancier'), stemmer.stem('fanciest'))"
      ],
      "metadata": {
        "colab": {
          "base_uri": "https://localhost:8080/"
        },
        "id": "jq25WTIiT3PB",
        "outputId": "1372f8a0-ce32-490a-da4c-19c2a22cb2af"
      },
      "execution_count": null,
      "outputs": [
        {
          "output_type": "stream",
          "name": "stdout",
          "text": [
            "work work work\n",
            "amus amus amus\n",
            "happy happiest\n",
            "fant fanciest\n"
          ]
        }
      ]
    },
    {
      "cell_type": "markdown",
      "source": [
        "LancasterStemmer : 단순한 변화가 아닌 경우 제대로 인식하지 못 함"
      ],
      "metadata": {
        "id": "WpB1Jgt8VSFW"
      }
    },
    {
      "cell_type": "code",
      "source": [
        "# WordNetLemmatizer 이용, Lemmatization 수행\n",
        "# Lemmatization은 정확한 원형 단어 추출을 위해 단어의 품사를 입력받음\n",
        "from nltk.stem import WordNetLemmatizer\n",
        "import nltk\n",
        "nltk.download('wordnet')\n",
        "\n",
        "lemma = WordNetLemmatizer()\n",
        "print(lemma.lemmatize('amusing', 'v'), lemma.lemmatize('amuses', 'v'), lemma.lemmatize('amused', 'v'))\n",
        "print(lemma.lemmatize('happier','a'), lemma.lemmatize('happiest','a'))\n",
        "print(lemma.lemmatize('fancier','a'), lemma.lemmatize('fanciest','a'))"
      ],
      "metadata": {
        "colab": {
          "base_uri": "https://localhost:8080/"
        },
        "id": "L1Gav42TVJcb",
        "outputId": "21c41797-b2cb-4c19-e086-9e8f3078b9fb"
      },
      "execution_count": null,
      "outputs": [
        {
          "output_type": "stream",
          "name": "stderr",
          "text": [
            "[nltk_data] Downloading package wordnet to /root/nltk_data...\n"
          ]
        },
        {
          "output_type": "stream",
          "name": "stdout",
          "text": [
            "amuse amuse amuse\n",
            "happy happy\n",
            "fancy fancy\n"
          ]
        }
      ]
    },
    {
      "cell_type": "markdown",
      "source": [
        "## **Bag of Words - BOW**"
      ],
      "metadata": {
        "id": "utYpeAyoV_0D"
      }
    },
    {
      "cell_type": "markdown",
      "source": [
        "Bag of Words 모델\n",
        "- 문서가 가지는 모든 단어를 문맥이나 순서를 무시하고 일괄적으로 단어에 대해 빈도 값을 부여해 피처값을 추출하는 모델"
      ],
      "metadata": {
        "id": "mr9MZlB6WQHG"
      }
    },
    {
      "cell_type": "markdown",
      "source": [
        "**장점**\n",
        "- 쉽고 빠른 구축 : 단순히 단어의 발생 횟수에 기반하고 있지만, 예상보다 문서의 특징을 잘 타나낼 수 있는 모델임, 전통적으로 여러 분야에서 활용도 높음\n",
        "\n",
        "**단점**\n",
        "- 문맥 의미(Semantic Context) 반영 부족 : 단어의 순서를 고려하지 않으므로 문장 내에서 단어의 문맥적인 의미가 무시됨\n",
        "    - 이를 보완하기 위해 n_gram 기법을 활용할 수 있으나 제한적인 부분에 그침\n",
        "- 희소 행렬 문제 : BOW로 피처 벡터화를 수행하면 희소 행렬 형태의 데이터 세트가 만들어지기 쉬움\n",
        "    - 많은 문서에서 단어를 추출하면 매우 많은 단어가 칼럼을 만들어짐\n",
        "    - 대규모의 칼럼으로 구성된 행렬에서 대부분의 값이 0으로 채워지는 '희소 행렬(Sparse Matrix)'가 만들어짐\n",
        "    - 희소 행렬은 일반적으로 ML 알고리즘의 수행 시간과 예측 성능을 떨어트리므로 희소 행렬을 위한 특별한 기법을 사용해야 함"
      ],
      "metadata": {
        "id": "9r_eiZjxXMHZ"
      }
    },
    {
      "cell_type": "markdown",
      "source": [
        "#### **BOW 피처 벡터화**"
      ],
      "metadata": {
        "id": "1Ycv7u3PYRlX"
      }
    },
    {
      "cell_type": "markdown",
      "source": [
        "머신러닝 알고리즘은 일반적으로 숫자형 피처를 데이터로 입력받아 동작하기 때문에 텍스트와 같은 데이터는 머신러닝 알고리즘에 바로 입력할 수 X\n",
        "=> 텍스트는 특정 의미를 가지는 숫자형 값인 벡터값으로 변환해야함, **피처 벡터화!**"
      ],
      "metadata": {
        "id": "sHWv96c9SWnK"
      }
    },
    {
      "cell_type": "markdown",
      "source": [
        "(피처 벡터화 예시)\n",
        "\n",
        "각 문서의 텍스트를 단어로 추출해 피처로 할당 > 각 단어의 발생 빈도와 같은 값을 피처의 값으로 부여 > 각 문서를 이 단어 피처의 발생 빈도값으로 구성된 벡터로 만듦"
      ],
      "metadata": {
        "id": "utpMMn2uSy7-"
      }
    },
    {
      "cell_type": "markdown",
      "source": [
        "**BOW 모델에서의 피처 벡터화**\n",
        "\n",
        "- 모든 문서에서 모든 단어를 칼럼 형태로 나열하고 각 문서에서 해당 단어의 횟수나 정규화된 빈도를 값으로 부여하는 데이터 세트 모델로 변경하는 것\n",
        "- ex. M개의 텍스트 문서에서 총 N개의 단어가 추출됨 -> 피처 벡터화 수행 시 M x N 개의 단어 피처로 이루어진 행렬이 반환됨\n",
        "\n",
        " ![bow feature vectorization](https://velog.velcdn.com/images/dsob/post/f1b5af0a-9b47-4635-987e-973239899c26/image.png)"
      ],
      "metadata": {
        "id": "koE0TfKLTLmv"
      }
    },
    {
      "cell_type": "markdown",
      "source": [
        "**BOW의 피처 벡터화 방식**\n",
        "\n",
        "- 카운트 기반 벡터화\n",
        "- TF-IDF (Term Frequency - Inverse Document Frequency) 기반 벡터화\n",
        "\n",
        "[카운트 기반 벡터화]\n",
        "\n",
        "- 단어 피처에 값을 부여할 때 각 문서에서 해당 단어가 나타나는 횟수(Count)를 부여하는 방법\n",
        "- 카운트 값이 높을 수록 중요한 단어로 인식됨\n",
        "- 카운트만 부여할 경우 문서의 특징을 나타내기보다는 언어의 특성상 문장에서 자주 사용될 수밖에 없는 단어까지 높은 값을 부여하게 됨\n",
        "\n",
        "  -> *TF-IDF 사용*\n",
        "\n",
        "[TF-IDF 기반 벡터화]\n",
        "\n",
        "- 개별 문서에서 자주 나타나는 단어에 높은 가중치를 주되, 모든 문서에서 자주 나오는 단어에 페널티를 주는 방식으로 값을 부여\n",
        "- 문서마다 텍스트가 길고 문서의 개수가 많은 경우 더 좋은 예측 성능을 보장함"
      ],
      "metadata": {
        "id": "In6aV5coVjqM"
      }
    },
    {
      "cell_type": "markdown",
      "source": [
        "### **사이킷런의 Count 및 TF-IDF 벡터화 구현 : CountVectorizer, TfidfVectorizer**"
      ],
      "metadata": {
        "id": "rnghZzmrYGF8"
      }
    },
    {
      "cell_type": "markdown",
      "source": [
        "[CounterVectorizer 클래스]\n",
        "- 카운트 기반의 벡터화 구현\n",
        "- 소문자 일괄 별환, 토큰화, 불용어 필터링 등의 전처리도 함께 수행\n",
        "- fit(), transform() 메서드를 통해 피처 벡터화된 객체 반환\n",
        "- CountVectorizer 입력 파라미터 :\n",
        "\n",
        " ![CountVec_params](https://velog.velcdn.com/images/dsob/post/d01d2e26-e08b-4ac7-9a1d-b37ea34a6d39/image.png)\n",
        "\n",
        "- 피처 벡터화 과정\n",
        "\n",
        " ![process](https://velog.velcdn.com/images/dsob/post/bf8d69de-8d82-4099-8ba4-1809bad4e8df/image.png)"
      ],
      "metadata": {
        "id": "7QxXphVyYR22"
      }
    },
    {
      "cell_type": "markdown",
      "source": [
        "[TfidfVectorizer 클래스]\n",
        "- TF-IDF 벡터화 수행\n",
        "- 파라미터 및 변환 방법은 위와 동일"
      ],
      "metadata": {
        "id": "ACG0s9wLbr61"
      }
    },
    {
      "cell_type": "markdown",
      "source": [
        "### **BOW 벡터화를 위한 희소 행렬**"
      ],
      "metadata": {
        "id": "1HBNmjnwkh_J"
      }
    },
    {
      "cell_type": "markdown",
      "source": [
        "희소 행렬 : 대규모 행렬의 대부분의 값을 0이 차지하는 행렬, BOW 형태를 가진 언어 모델의 피처 벡터화는 대부분 희소 행렬\n",
        "\n",
        "![sparse mtx](https://velog.velcdn.com/images/dsob/post/312dd94f-3012-4a92-b172-a719e78e0dfa/image.png)"
      ],
      "metadata": {
        "id": "dXzxC-sPkknG"
      }
    },
    {
      "cell_type": "markdown",
      "source": [
        "*희소 행렬을 물리적으로 적은 메모리 공간을 차지할 수 있도록 변환하는 방법 :*\n",
        "\n",
        "- COO 형식\n",
        "- CSR 형식"
      ],
      "metadata": {
        "id": "3wPtDCkRlEgE"
      }
    },
    {
      "cell_type": "markdown",
      "source": [
        "#### **희소 행렬 - COO 형식**"
      ],
      "metadata": {
        "id": "ySom0ceDlOLQ"
      }
    },
    {
      "cell_type": "markdown",
      "source": [
        "COO (coordinate : 좌표) 형식\n",
        "\n",
        "- 0이 아닌 데이터만 별도의 배열(Array)에 저장 + 그 데이터가 가리키는 행과 열의 위치를 별도의 배열로 저장하는 방식\n",
        "- 주로 Scipy 사용\n",
        "    - Scipy의 sparse 패키지는 희소 행렬 변환을 위한 다양한 모듈 제공"
      ],
      "metadata": {
        "id": "yPbuvAF0lbXu"
      }
    },
    {
      "cell_type": "code",
      "source": [
        "import numpy as np\n",
        "\n",
        "dense = np.array([ [3,0,1], [0,2,0]])"
      ],
      "metadata": {
        "id": "94vMVzMrVzor"
      },
      "execution_count": 1,
      "outputs": []
    },
    {
      "cell_type": "code",
      "source": [
        "from scipy import sparse\n",
        "\n",
        "# 0이 아닌 데이터 추출\n",
        "data = np.array([3,1,2])\n",
        "\n",
        "# 행 위치와 열 위치를 각각 배열로 생성\n",
        "row_pos = np.array([0,0,1])\n",
        "col_pos = np.array([0,2,1])\n",
        "\n",
        "# sparse 패키지의 coo_matrix를 이용, COO 형식으로 희소 행렬 생성\n",
        "sparse_coo = sparse.coo_matrix((data, (row_pos, col_pos)))"
      ],
      "metadata": {
        "id": "7LPAk9Bvl-FE"
      },
      "execution_count": 2,
      "outputs": []
    },
    {
      "cell_type": "code",
      "source": [
        "# coo_matrix 결과 : COO 형식의 희소 행렬 객체\n",
        "# toarray() 메서드로 다시 밀집 형태의 행렬로 출력 (=원본 데이터)\n",
        "sparse_coo.toarray()"
      ],
      "metadata": {
        "colab": {
          "base_uri": "https://localhost:8080/"
        },
        "id": "tgHupsIWmRyX",
        "outputId": "1d3935ad-c16b-4e86-afb5-631eb56b1620"
      },
      "execution_count": 3,
      "outputs": [
        {
          "output_type": "execute_result",
          "data": {
            "text/plain": [
              "array([[3, 0, 1],\n",
              "       [0, 2, 0]])"
            ]
          },
          "metadata": {},
          "execution_count": 3
        }
      ]
    },
    {
      "cell_type": "markdown",
      "source": [
        "#### **희소 행렬 - CSR 형식**"
      ],
      "metadata": {
        "id": "BEFIZHVWmmsY"
      }
    },
    {
      "cell_type": "markdown",
      "source": [
        "CSR (Compressed Sparse Row) 형식\n",
        "\n",
        "- COO 형식이 행과 열의 위치를 나타내기 위해 반복적인 위치 데이터를 사용해야 한다는 문제점을 해열한 방식\n",
        "- Scipy의 csr_matrix 클래스를 사용"
      ],
      "metadata": {
        "id": "yLpfNXlAmqnJ"
      }
    },
    {
      "cell_type": "markdown",
      "source": [
        "COO 변환 방식의 문제점\n",
        "\n",
        " ![COO problem](https://velog.velcdn.com/images/dsob/post/ff4311dd-9f80-4235-82b4-7b47bb68ba16/image.png)\n",
        "\n",
        "- 행 위치 배열인 [0,0,1,1,1,1,1,2,2,3,4,4,5]를 보면 순차적으로 같은 값이 반복적으로 나타남\n",
        "- 행 위치 배열이 0부터 순차적으로 증가하는 값으로 이루어졌다는 특성을 고려하면, 행 위치 배열의 고유한 값의 시작 위치만 표기하는 방법으로 반복 제거 가능\n",
        "    - 즉, 위치의 위치를 표기하는 방법\n",
        "\n",
        "- CSR : 행 위치 배열 내에 있는 고유한 값의 시작 위치만 다시 별도의 위치 배열로 가지는 변환 방식\n",
        "\n",
        " ![csr](https://velog.velcdn.com/images/dsob/post/a4243264-f4db-4868-b4f2-f3375854c02e/image.png)"
      ],
      "metadata": {
        "id": "Gk_K2g2mnkYh"
      }
    },
    {
      "cell_type": "markdown",
      "source": [
        "고유값의 시작 위치만 알고 있으면 얼마든지 행 위치 배열을 다시 만들 수 있으므로 COO 방식보다 메모리가 적게 들고 빠른 연산이 가능"
      ],
      "metadata": {
        "id": "-bkIIjXBoyB4"
      }
    },
    {
      "cell_type": "code",
      "source": [
        "from scipy import sparse\n",
        "\n",
        "dense2 = np.array([ [0,0,1,0,0,5],\n",
        "                    [1,4,0,3,2,5],\n",
        "                    [0,6,0,3,0,0],\n",
        "                    [2,0,0,0,0,0],\n",
        "                    [0,0,0,7,0,8],\n",
        "                    [1,0,0,0,0,0]])\n",
        "\n",
        "# 0이 아닌 데이터 추출\n",
        "data2 = np.array([1,5,1,4,3,2,5,6,3,2,7,8,1])\n",
        "\n",
        "# 행 위치와 열 위치를 각각 array로 생성\n",
        "row_pos = np.array([0,0,1,1,1,1,1,2,2,3,4,4,5])\n",
        "col_pos = np.array([2,5,0,1,3,4,5,1,3,0,3,5,0])\n",
        "\n",
        "# COO 형식으로 변환\n",
        "sparse_coo = sparse.coo_matrix((data2, (row_pos, col_pos)))\n",
        "\n",
        "# 행 위치 배열의 고유한 값의 시작 위치 인덱스를 배열로 생성\n",
        "row_pos_ind = np.array([0,2,7,9,10,12,13])\n",
        "\n",
        "# CSR 형식으로 변환\n",
        "sparse_csr = sparse.csr_matrix((data2, col_pos, row_pos_ind))\n",
        "\n",
        "print('COO 변환된 데이터가 제대로 되었는지 다시 Dense로 출력 확인')\n",
        "print(sparse_coo.toarray())\n",
        "print('CSR 변환된 데이터가 제대로 되었는지 다시 Dense로 출력 확인')\n",
        "print(sparse_csr.toarray())"
      ],
      "metadata": {
        "colab": {
          "base_uri": "https://localhost:8080/"
        },
        "id": "zdfyORHdmbVp",
        "outputId": "2d6baeb3-b0bb-4793-c434-9ca665df7e9a"
      },
      "execution_count": 4,
      "outputs": [
        {
          "output_type": "stream",
          "name": "stdout",
          "text": [
            "COO 변환된 데이터가 제대로 되었는지 다시 Dense로 출력 확인\n",
            "[[0 0 1 0 0 5]\n",
            " [1 4 0 3 2 5]\n",
            " [0 6 0 3 0 0]\n",
            " [2 0 0 0 0 0]\n",
            " [0 0 0 7 0 8]\n",
            " [1 0 0 0 0 0]]\n",
            "CSR 변환된 데이터가 제대로 되었는지 다시 Dense로 출력 확인\n",
            "[[0 0 1 0 0 5]\n",
            " [1 4 0 3 2 5]\n",
            " [0 6 0 3 0 0]\n",
            " [2 0 0 0 0 0]\n",
            " [0 0 0 7 0 8]\n",
            " [1 0 0 0 0 0]]\n"
          ]
        }
      ]
    },
    {
      "cell_type": "code",
      "source": [
        "# 실제 사용 시에는 dense mtx만 생성 파라미터로 입력하면 됨\n",
        "dense3 = np.array([ [0,0,1,0,0,5],\n",
        "                    [1,4,0,3,2,5],\n",
        "                    [0,6,0,3,0,0],\n",
        "                    [2,0,0,0,0,0],\n",
        "                    [0,0,0,7,0,8],\n",
        "                    [1,0,0,0,0,0]])\n",
        "\n",
        "coo = sparse.coo_matrix(dense3)\n",
        "csr = sparse.csr_matrix(dense3)\n",
        "\n",
        "# 확인\n",
        "print(coo.toarray())\n",
        "print()\n",
        "print(csr.toarray())"
      ],
      "metadata": {
        "colab": {
          "base_uri": "https://localhost:8080/"
        },
        "id": "0asczxbHqDoI",
        "outputId": "6116c760-5023-428a-9ea9-83f9ddc2db7d"
      },
      "execution_count": 6,
      "outputs": [
        {
          "output_type": "stream",
          "name": "stdout",
          "text": [
            "[[0 0 1 0 0 5]\n",
            " [1 4 0 3 2 5]\n",
            " [0 6 0 3 0 0]\n",
            " [2 0 0 0 0 0]\n",
            " [0 0 0 7 0 8]\n",
            " [1 0 0 0 0 0]]\n",
            "\n",
            "[[0 0 1 0 0 5]\n",
            " [1 4 0 3 2 5]\n",
            " [0 6 0 3 0 0]\n",
            " [2 0 0 0 0 0]\n",
            " [0 0 0 7 0 8]\n",
            " [1 0 0 0 0 0]]\n"
          ]
        }
      ]
    },
    {
      "cell_type": "markdown",
      "source": [
        "참고) 사이킷런의 CountVectorizer(), TfidfVectorizer() 클래스로 변환된 피처 벡터화 행렬은 모두 사이파이의 CSR 형태의 희소행렬"
      ],
      "metadata": {
        "id": "DVUQd1Y0qkyO"
      }
    }
  ]
}
