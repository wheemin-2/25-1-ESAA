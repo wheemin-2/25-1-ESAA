{
  "nbformat": 4,
  "nbformat_minor": 0,
  "metadata": {
    "colab": {
      "provenance": [],
      "toc_visible": true,
      "authorship_tag": "ABX9TyPfJ9wIaDs+CODyEPC3luuC",
      "include_colab_link": true
    },
    "kernelspec": {
      "name": "python3",
      "display_name": "Python 3"
    },
    "language_info": {
      "name": "python"
    }
  },
  "cells": [
    {
      "cell_type": "markdown",
      "metadata": {
        "id": "view-in-github",
        "colab_type": "text"
      },
      "source": [
        "<a href=\"https://colab.research.google.com/github/wheemin-2/25-1-ESAA/blob/main/0310_HW_Ensemble%2BRandom_Forest.ipynb\" target=\"_parent\"><img src=\"https://colab.research.google.com/assets/colab-badge.svg\" alt=\"Open In Colab\"/></a>"
      ]
    },
    {
      "cell_type": "markdown",
      "source": [
        "# **앙상블 학습 (Ensemble Learning)**"
      ],
      "metadata": {
        "id": "kLuEyn1qG_9g"
      }
    },
    {
      "cell_type": "markdown",
      "source": [
        "* 배깅, 부스팅 스태킹 등"
      ],
      "metadata": {
        "id": "AFXq7_JTHEHo"
      }
    },
    {
      "cell_type": "markdown",
      "source": [
        "## **투표 기반 분류기**"
      ],
      "metadata": {
        "id": "4wURgdGrGyAy"
      }
    },
    {
      "cell_type": "markdown",
      "source": [
        "**직접 투표 (hard voting)**\n",
        "\n",
        "* 각 분류기의 예측을 모아 가장 많이 선택된 클래스를 예측하는 방식 (= 다수결 투표)\n",
        "* 다수결 투표 분류기가 앙상블에 포함된 개별 분류기 중 가장 뛰어난 것보다 정확도가 높은 경우가 많음\n",
        "* 각 분류기가 **약한 학습기(weak learner)**일지라도 그 종류가 많고 다양하다면 **강한 학습기(strong learner)**가 될 수 있음\n",
        "    * 큰 수의 법칙 (Law of large numbers) 때문\n",
        "    * 따라서 앙상블 방법은 예측기가 가능한 한 서로 독립적일 때(큰 수의 법칙의 조건) 최고의 성능을 발휘함\n",
        "    * 분류기를 각기 다른 알고리즘으로 학습시킴으로써 다양한 분류기를 얻을 수 있으며, 이를 통해 앙상블 모델의 정확도를 향상시킬 수 있음\n"
      ],
      "metadata": {
        "id": "2Meo14CEHiSG"
      }
    },
    {
      "cell_type": "markdown",
      "source": [
        "**간접 투표 (soft voting)**\n",
        "\n",
        "* 개별 분류기의 예측을 평균 내어 확률이 가장 높은 클래스를 예측하는 방식 (predict_proba() 메서드가 있는 경우)\n",
        "* 확률이 높은 투표에 비중을 더 둠 >> 직접 투표 방식보다 성능이 높음\n",
        "* VotingClassifier()의 voting='soft' 옵션을 통해 구현 가능"
      ],
      "metadata": {
        "id": "0bRSR8wIKIEL"
      }
    },
    {
      "cell_type": "code",
      "execution_count": 1,
      "metadata": {
        "colab": {
          "base_uri": "https://localhost:8080/",
          "height": 134
        },
        "id": "QbeLcCu4FB-U",
        "outputId": "8eace858-409b-469a-c059-d00a9f29fe6d"
      },
      "outputs": [
        {
          "output_type": "execute_result",
          "data": {
            "text/plain": [
              "VotingClassifier(estimators=[('lr', LogisticRegression()),\n",
              "                             ('rf', RandomForestClassifier()), ('svc', SVC())])"
            ],
            "text/html": [
              "<style>#sk-container-id-1 {\n",
              "  /* Definition of color scheme common for light and dark mode */\n",
              "  --sklearn-color-text: #000;\n",
              "  --sklearn-color-text-muted: #666;\n",
              "  --sklearn-color-line: gray;\n",
              "  /* Definition of color scheme for unfitted estimators */\n",
              "  --sklearn-color-unfitted-level-0: #fff5e6;\n",
              "  --sklearn-color-unfitted-level-1: #f6e4d2;\n",
              "  --sklearn-color-unfitted-level-2: #ffe0b3;\n",
              "  --sklearn-color-unfitted-level-3: chocolate;\n",
              "  /* Definition of color scheme for fitted estimators */\n",
              "  --sklearn-color-fitted-level-0: #f0f8ff;\n",
              "  --sklearn-color-fitted-level-1: #d4ebff;\n",
              "  --sklearn-color-fitted-level-2: #b3dbfd;\n",
              "  --sklearn-color-fitted-level-3: cornflowerblue;\n",
              "\n",
              "  /* Specific color for light theme */\n",
              "  --sklearn-color-text-on-default-background: var(--sg-text-color, var(--theme-code-foreground, var(--jp-content-font-color1, black)));\n",
              "  --sklearn-color-background: var(--sg-background-color, var(--theme-background, var(--jp-layout-color0, white)));\n",
              "  --sklearn-color-border-box: var(--sg-text-color, var(--theme-code-foreground, var(--jp-content-font-color1, black)));\n",
              "  --sklearn-color-icon: #696969;\n",
              "\n",
              "  @media (prefers-color-scheme: dark) {\n",
              "    /* Redefinition of color scheme for dark theme */\n",
              "    --sklearn-color-text-on-default-background: var(--sg-text-color, var(--theme-code-foreground, var(--jp-content-font-color1, white)));\n",
              "    --sklearn-color-background: var(--sg-background-color, var(--theme-background, var(--jp-layout-color0, #111)));\n",
              "    --sklearn-color-border-box: var(--sg-text-color, var(--theme-code-foreground, var(--jp-content-font-color1, white)));\n",
              "    --sklearn-color-icon: #878787;\n",
              "  }\n",
              "}\n",
              "\n",
              "#sk-container-id-1 {\n",
              "  color: var(--sklearn-color-text);\n",
              "}\n",
              "\n",
              "#sk-container-id-1 pre {\n",
              "  padding: 0;\n",
              "}\n",
              "\n",
              "#sk-container-id-1 input.sk-hidden--visually {\n",
              "  border: 0;\n",
              "  clip: rect(1px 1px 1px 1px);\n",
              "  clip: rect(1px, 1px, 1px, 1px);\n",
              "  height: 1px;\n",
              "  margin: -1px;\n",
              "  overflow: hidden;\n",
              "  padding: 0;\n",
              "  position: absolute;\n",
              "  width: 1px;\n",
              "}\n",
              "\n",
              "#sk-container-id-1 div.sk-dashed-wrapped {\n",
              "  border: 1px dashed var(--sklearn-color-line);\n",
              "  margin: 0 0.4em 0.5em 0.4em;\n",
              "  box-sizing: border-box;\n",
              "  padding-bottom: 0.4em;\n",
              "  background-color: var(--sklearn-color-background);\n",
              "}\n",
              "\n",
              "#sk-container-id-1 div.sk-container {\n",
              "  /* jupyter's `normalize.less` sets `[hidden] { display: none; }`\n",
              "     but bootstrap.min.css set `[hidden] { display: none !important; }`\n",
              "     so we also need the `!important` here to be able to override the\n",
              "     default hidden behavior on the sphinx rendered scikit-learn.org.\n",
              "     See: https://github.com/scikit-learn/scikit-learn/issues/21755 */\n",
              "  display: inline-block !important;\n",
              "  position: relative;\n",
              "}\n",
              "\n",
              "#sk-container-id-1 div.sk-text-repr-fallback {\n",
              "  display: none;\n",
              "}\n",
              "\n",
              "div.sk-parallel-item,\n",
              "div.sk-serial,\n",
              "div.sk-item {\n",
              "  /* draw centered vertical line to link estimators */\n",
              "  background-image: linear-gradient(var(--sklearn-color-text-on-default-background), var(--sklearn-color-text-on-default-background));\n",
              "  background-size: 2px 100%;\n",
              "  background-repeat: no-repeat;\n",
              "  background-position: center center;\n",
              "}\n",
              "\n",
              "/* Parallel-specific style estimator block */\n",
              "\n",
              "#sk-container-id-1 div.sk-parallel-item::after {\n",
              "  content: \"\";\n",
              "  width: 100%;\n",
              "  border-bottom: 2px solid var(--sklearn-color-text-on-default-background);\n",
              "  flex-grow: 1;\n",
              "}\n",
              "\n",
              "#sk-container-id-1 div.sk-parallel {\n",
              "  display: flex;\n",
              "  align-items: stretch;\n",
              "  justify-content: center;\n",
              "  background-color: var(--sklearn-color-background);\n",
              "  position: relative;\n",
              "}\n",
              "\n",
              "#sk-container-id-1 div.sk-parallel-item {\n",
              "  display: flex;\n",
              "  flex-direction: column;\n",
              "}\n",
              "\n",
              "#sk-container-id-1 div.sk-parallel-item:first-child::after {\n",
              "  align-self: flex-end;\n",
              "  width: 50%;\n",
              "}\n",
              "\n",
              "#sk-container-id-1 div.sk-parallel-item:last-child::after {\n",
              "  align-self: flex-start;\n",
              "  width: 50%;\n",
              "}\n",
              "\n",
              "#sk-container-id-1 div.sk-parallel-item:only-child::after {\n",
              "  width: 0;\n",
              "}\n",
              "\n",
              "/* Serial-specific style estimator block */\n",
              "\n",
              "#sk-container-id-1 div.sk-serial {\n",
              "  display: flex;\n",
              "  flex-direction: column;\n",
              "  align-items: center;\n",
              "  background-color: var(--sklearn-color-background);\n",
              "  padding-right: 1em;\n",
              "  padding-left: 1em;\n",
              "}\n",
              "\n",
              "\n",
              "/* Toggleable style: style used for estimator/Pipeline/ColumnTransformer box that is\n",
              "clickable and can be expanded/collapsed.\n",
              "- Pipeline and ColumnTransformer use this feature and define the default style\n",
              "- Estimators will overwrite some part of the style using the `sk-estimator` class\n",
              "*/\n",
              "\n",
              "/* Pipeline and ColumnTransformer style (default) */\n",
              "\n",
              "#sk-container-id-1 div.sk-toggleable {\n",
              "  /* Default theme specific background. It is overwritten whether we have a\n",
              "  specific estimator or a Pipeline/ColumnTransformer */\n",
              "  background-color: var(--sklearn-color-background);\n",
              "}\n",
              "\n",
              "/* Toggleable label */\n",
              "#sk-container-id-1 label.sk-toggleable__label {\n",
              "  cursor: pointer;\n",
              "  display: flex;\n",
              "  width: 100%;\n",
              "  margin-bottom: 0;\n",
              "  padding: 0.5em;\n",
              "  box-sizing: border-box;\n",
              "  text-align: center;\n",
              "  align-items: start;\n",
              "  justify-content: space-between;\n",
              "  gap: 0.5em;\n",
              "}\n",
              "\n",
              "#sk-container-id-1 label.sk-toggleable__label .caption {\n",
              "  font-size: 0.6rem;\n",
              "  font-weight: lighter;\n",
              "  color: var(--sklearn-color-text-muted);\n",
              "}\n",
              "\n",
              "#sk-container-id-1 label.sk-toggleable__label-arrow:before {\n",
              "  /* Arrow on the left of the label */\n",
              "  content: \"▸\";\n",
              "  float: left;\n",
              "  margin-right: 0.25em;\n",
              "  color: var(--sklearn-color-icon);\n",
              "}\n",
              "\n",
              "#sk-container-id-1 label.sk-toggleable__label-arrow:hover:before {\n",
              "  color: var(--sklearn-color-text);\n",
              "}\n",
              "\n",
              "/* Toggleable content - dropdown */\n",
              "\n",
              "#sk-container-id-1 div.sk-toggleable__content {\n",
              "  max-height: 0;\n",
              "  max-width: 0;\n",
              "  overflow: hidden;\n",
              "  text-align: left;\n",
              "  /* unfitted */\n",
              "  background-color: var(--sklearn-color-unfitted-level-0);\n",
              "}\n",
              "\n",
              "#sk-container-id-1 div.sk-toggleable__content.fitted {\n",
              "  /* fitted */\n",
              "  background-color: var(--sklearn-color-fitted-level-0);\n",
              "}\n",
              "\n",
              "#sk-container-id-1 div.sk-toggleable__content pre {\n",
              "  margin: 0.2em;\n",
              "  border-radius: 0.25em;\n",
              "  color: var(--sklearn-color-text);\n",
              "  /* unfitted */\n",
              "  background-color: var(--sklearn-color-unfitted-level-0);\n",
              "}\n",
              "\n",
              "#sk-container-id-1 div.sk-toggleable__content.fitted pre {\n",
              "  /* unfitted */\n",
              "  background-color: var(--sklearn-color-fitted-level-0);\n",
              "}\n",
              "\n",
              "#sk-container-id-1 input.sk-toggleable__control:checked~div.sk-toggleable__content {\n",
              "  /* Expand drop-down */\n",
              "  max-height: 200px;\n",
              "  max-width: 100%;\n",
              "  overflow: auto;\n",
              "}\n",
              "\n",
              "#sk-container-id-1 input.sk-toggleable__control:checked~label.sk-toggleable__label-arrow:before {\n",
              "  content: \"▾\";\n",
              "}\n",
              "\n",
              "/* Pipeline/ColumnTransformer-specific style */\n",
              "\n",
              "#sk-container-id-1 div.sk-label input.sk-toggleable__control:checked~label.sk-toggleable__label {\n",
              "  color: var(--sklearn-color-text);\n",
              "  background-color: var(--sklearn-color-unfitted-level-2);\n",
              "}\n",
              "\n",
              "#sk-container-id-1 div.sk-label.fitted input.sk-toggleable__control:checked~label.sk-toggleable__label {\n",
              "  background-color: var(--sklearn-color-fitted-level-2);\n",
              "}\n",
              "\n",
              "/* Estimator-specific style */\n",
              "\n",
              "/* Colorize estimator box */\n",
              "#sk-container-id-1 div.sk-estimator input.sk-toggleable__control:checked~label.sk-toggleable__label {\n",
              "  /* unfitted */\n",
              "  background-color: var(--sklearn-color-unfitted-level-2);\n",
              "}\n",
              "\n",
              "#sk-container-id-1 div.sk-estimator.fitted input.sk-toggleable__control:checked~label.sk-toggleable__label {\n",
              "  /* fitted */\n",
              "  background-color: var(--sklearn-color-fitted-level-2);\n",
              "}\n",
              "\n",
              "#sk-container-id-1 div.sk-label label.sk-toggleable__label,\n",
              "#sk-container-id-1 div.sk-label label {\n",
              "  /* The background is the default theme color */\n",
              "  color: var(--sklearn-color-text-on-default-background);\n",
              "}\n",
              "\n",
              "/* On hover, darken the color of the background */\n",
              "#sk-container-id-1 div.sk-label:hover label.sk-toggleable__label {\n",
              "  color: var(--sklearn-color-text);\n",
              "  background-color: var(--sklearn-color-unfitted-level-2);\n",
              "}\n",
              "\n",
              "/* Label box, darken color on hover, fitted */\n",
              "#sk-container-id-1 div.sk-label.fitted:hover label.sk-toggleable__label.fitted {\n",
              "  color: var(--sklearn-color-text);\n",
              "  background-color: var(--sklearn-color-fitted-level-2);\n",
              "}\n",
              "\n",
              "/* Estimator label */\n",
              "\n",
              "#sk-container-id-1 div.sk-label label {\n",
              "  font-family: monospace;\n",
              "  font-weight: bold;\n",
              "  display: inline-block;\n",
              "  line-height: 1.2em;\n",
              "}\n",
              "\n",
              "#sk-container-id-1 div.sk-label-container {\n",
              "  text-align: center;\n",
              "}\n",
              "\n",
              "/* Estimator-specific */\n",
              "#sk-container-id-1 div.sk-estimator {\n",
              "  font-family: monospace;\n",
              "  border: 1px dotted var(--sklearn-color-border-box);\n",
              "  border-radius: 0.25em;\n",
              "  box-sizing: border-box;\n",
              "  margin-bottom: 0.5em;\n",
              "  /* unfitted */\n",
              "  background-color: var(--sklearn-color-unfitted-level-0);\n",
              "}\n",
              "\n",
              "#sk-container-id-1 div.sk-estimator.fitted {\n",
              "  /* fitted */\n",
              "  background-color: var(--sklearn-color-fitted-level-0);\n",
              "}\n",
              "\n",
              "/* on hover */\n",
              "#sk-container-id-1 div.sk-estimator:hover {\n",
              "  /* unfitted */\n",
              "  background-color: var(--sklearn-color-unfitted-level-2);\n",
              "}\n",
              "\n",
              "#sk-container-id-1 div.sk-estimator.fitted:hover {\n",
              "  /* fitted */\n",
              "  background-color: var(--sklearn-color-fitted-level-2);\n",
              "}\n",
              "\n",
              "/* Specification for estimator info (e.g. \"i\" and \"?\") */\n",
              "\n",
              "/* Common style for \"i\" and \"?\" */\n",
              "\n",
              ".sk-estimator-doc-link,\n",
              "a:link.sk-estimator-doc-link,\n",
              "a:visited.sk-estimator-doc-link {\n",
              "  float: right;\n",
              "  font-size: smaller;\n",
              "  line-height: 1em;\n",
              "  font-family: monospace;\n",
              "  background-color: var(--sklearn-color-background);\n",
              "  border-radius: 1em;\n",
              "  height: 1em;\n",
              "  width: 1em;\n",
              "  text-decoration: none !important;\n",
              "  margin-left: 0.5em;\n",
              "  text-align: center;\n",
              "  /* unfitted */\n",
              "  border: var(--sklearn-color-unfitted-level-1) 1pt solid;\n",
              "  color: var(--sklearn-color-unfitted-level-1);\n",
              "}\n",
              "\n",
              ".sk-estimator-doc-link.fitted,\n",
              "a:link.sk-estimator-doc-link.fitted,\n",
              "a:visited.sk-estimator-doc-link.fitted {\n",
              "  /* fitted */\n",
              "  border: var(--sklearn-color-fitted-level-1) 1pt solid;\n",
              "  color: var(--sklearn-color-fitted-level-1);\n",
              "}\n",
              "\n",
              "/* On hover */\n",
              "div.sk-estimator:hover .sk-estimator-doc-link:hover,\n",
              ".sk-estimator-doc-link:hover,\n",
              "div.sk-label-container:hover .sk-estimator-doc-link:hover,\n",
              ".sk-estimator-doc-link:hover {\n",
              "  /* unfitted */\n",
              "  background-color: var(--sklearn-color-unfitted-level-3);\n",
              "  color: var(--sklearn-color-background);\n",
              "  text-decoration: none;\n",
              "}\n",
              "\n",
              "div.sk-estimator.fitted:hover .sk-estimator-doc-link.fitted:hover,\n",
              ".sk-estimator-doc-link.fitted:hover,\n",
              "div.sk-label-container:hover .sk-estimator-doc-link.fitted:hover,\n",
              ".sk-estimator-doc-link.fitted:hover {\n",
              "  /* fitted */\n",
              "  background-color: var(--sklearn-color-fitted-level-3);\n",
              "  color: var(--sklearn-color-background);\n",
              "  text-decoration: none;\n",
              "}\n",
              "\n",
              "/* Span, style for the box shown on hovering the info icon */\n",
              ".sk-estimator-doc-link span {\n",
              "  display: none;\n",
              "  z-index: 9999;\n",
              "  position: relative;\n",
              "  font-weight: normal;\n",
              "  right: .2ex;\n",
              "  padding: .5ex;\n",
              "  margin: .5ex;\n",
              "  width: min-content;\n",
              "  min-width: 20ex;\n",
              "  max-width: 50ex;\n",
              "  color: var(--sklearn-color-text);\n",
              "  box-shadow: 2pt 2pt 4pt #999;\n",
              "  /* unfitted */\n",
              "  background: var(--sklearn-color-unfitted-level-0);\n",
              "  border: .5pt solid var(--sklearn-color-unfitted-level-3);\n",
              "}\n",
              "\n",
              ".sk-estimator-doc-link.fitted span {\n",
              "  /* fitted */\n",
              "  background: var(--sklearn-color-fitted-level-0);\n",
              "  border: var(--sklearn-color-fitted-level-3);\n",
              "}\n",
              "\n",
              ".sk-estimator-doc-link:hover span {\n",
              "  display: block;\n",
              "}\n",
              "\n",
              "/* \"?\"-specific style due to the `<a>` HTML tag */\n",
              "\n",
              "#sk-container-id-1 a.estimator_doc_link {\n",
              "  float: right;\n",
              "  font-size: 1rem;\n",
              "  line-height: 1em;\n",
              "  font-family: monospace;\n",
              "  background-color: var(--sklearn-color-background);\n",
              "  border-radius: 1rem;\n",
              "  height: 1rem;\n",
              "  width: 1rem;\n",
              "  text-decoration: none;\n",
              "  /* unfitted */\n",
              "  color: var(--sklearn-color-unfitted-level-1);\n",
              "  border: var(--sklearn-color-unfitted-level-1) 1pt solid;\n",
              "}\n",
              "\n",
              "#sk-container-id-1 a.estimator_doc_link.fitted {\n",
              "  /* fitted */\n",
              "  border: var(--sklearn-color-fitted-level-1) 1pt solid;\n",
              "  color: var(--sklearn-color-fitted-level-1);\n",
              "}\n",
              "\n",
              "/* On hover */\n",
              "#sk-container-id-1 a.estimator_doc_link:hover {\n",
              "  /* unfitted */\n",
              "  background-color: var(--sklearn-color-unfitted-level-3);\n",
              "  color: var(--sklearn-color-background);\n",
              "  text-decoration: none;\n",
              "}\n",
              "\n",
              "#sk-container-id-1 a.estimator_doc_link.fitted:hover {\n",
              "  /* fitted */\n",
              "  background-color: var(--sklearn-color-fitted-level-3);\n",
              "}\n",
              "</style><div id=\"sk-container-id-1\" class=\"sk-top-container\"><div class=\"sk-text-repr-fallback\"><pre>VotingClassifier(estimators=[(&#x27;lr&#x27;, LogisticRegression()),\n",
              "                             (&#x27;rf&#x27;, RandomForestClassifier()), (&#x27;svc&#x27;, SVC())])</pre><b>In a Jupyter environment, please rerun this cell to show the HTML representation or trust the notebook. <br />On GitHub, the HTML representation is unable to render, please try loading this page with nbviewer.org.</b></div><div class=\"sk-container\" hidden><div class=\"sk-item sk-dashed-wrapped\"><div class=\"sk-label-container\"><div class=\"sk-label fitted sk-toggleable\"><input class=\"sk-toggleable__control sk-hidden--visually\" id=\"sk-estimator-id-1\" type=\"checkbox\" ><label for=\"sk-estimator-id-1\" class=\"sk-toggleable__label fitted sk-toggleable__label-arrow\"><div><div>VotingClassifier</div></div><div><a class=\"sk-estimator-doc-link fitted\" rel=\"noreferrer\" target=\"_blank\" href=\"https://scikit-learn.org/1.6/modules/generated/sklearn.ensemble.VotingClassifier.html\">?<span>Documentation for VotingClassifier</span></a><span class=\"sk-estimator-doc-link fitted\">i<span>Fitted</span></span></div></label><div class=\"sk-toggleable__content fitted\"><pre>VotingClassifier(estimators=[(&#x27;lr&#x27;, LogisticRegression()),\n",
              "                             (&#x27;rf&#x27;, RandomForestClassifier()), (&#x27;svc&#x27;, SVC())])</pre></div> </div></div><div class=\"sk-parallel\"><div class=\"sk-parallel-item\"><div class=\"sk-item\"><div class=\"sk-label-container\"><div class=\"sk-label fitted sk-toggleable\"><label>lr</label></div></div><div class=\"sk-serial\"><div class=\"sk-item\"><div class=\"sk-estimator fitted sk-toggleable\"><input class=\"sk-toggleable__control sk-hidden--visually\" id=\"sk-estimator-id-2\" type=\"checkbox\" ><label for=\"sk-estimator-id-2\" class=\"sk-toggleable__label fitted sk-toggleable__label-arrow\"><div><div>LogisticRegression</div></div><div><a class=\"sk-estimator-doc-link fitted\" rel=\"noreferrer\" target=\"_blank\" href=\"https://scikit-learn.org/1.6/modules/generated/sklearn.linear_model.LogisticRegression.html\">?<span>Documentation for LogisticRegression</span></a></div></label><div class=\"sk-toggleable__content fitted\"><pre>LogisticRegression()</pre></div> </div></div></div></div></div><div class=\"sk-parallel-item\"><div class=\"sk-item\"><div class=\"sk-label-container\"><div class=\"sk-label fitted sk-toggleable\"><label>rf</label></div></div><div class=\"sk-serial\"><div class=\"sk-item\"><div class=\"sk-estimator fitted sk-toggleable\"><input class=\"sk-toggleable__control sk-hidden--visually\" id=\"sk-estimator-id-3\" type=\"checkbox\" ><label for=\"sk-estimator-id-3\" class=\"sk-toggleable__label fitted sk-toggleable__label-arrow\"><div><div>RandomForestClassifier</div></div><div><a class=\"sk-estimator-doc-link fitted\" rel=\"noreferrer\" target=\"_blank\" href=\"https://scikit-learn.org/1.6/modules/generated/sklearn.ensemble.RandomForestClassifier.html\">?<span>Documentation for RandomForestClassifier</span></a></div></label><div class=\"sk-toggleable__content fitted\"><pre>RandomForestClassifier()</pre></div> </div></div></div></div></div><div class=\"sk-parallel-item\"><div class=\"sk-item\"><div class=\"sk-label-container\"><div class=\"sk-label fitted sk-toggleable\"><label>svc</label></div></div><div class=\"sk-serial\"><div class=\"sk-item\"><div class=\"sk-estimator fitted sk-toggleable\"><input class=\"sk-toggleable__control sk-hidden--visually\" id=\"sk-estimator-id-4\" type=\"checkbox\" ><label for=\"sk-estimator-id-4\" class=\"sk-toggleable__label fitted sk-toggleable__label-arrow\"><div><div>SVC</div></div><div><a class=\"sk-estimator-doc-link fitted\" rel=\"noreferrer\" target=\"_blank\" href=\"https://scikit-learn.org/1.6/modules/generated/sklearn.svm.SVC.html\">?<span>Documentation for SVC</span></a></div></label><div class=\"sk-toggleable__content fitted\"><pre>SVC()</pre></div> </div></div></div></div></div></div></div></div></div>"
            ]
          },
          "metadata": {},
          "execution_count": 1
        }
      ],
      "source": [
        "import numpy as np\n",
        "import os\n",
        "import warnings\n",
        "warnings.filterwarnings('ignore')\n",
        "\n",
        "# 데이터 로드 (moons 데이터셋)\n",
        "from sklearn.datasets import make_moons\n",
        "from sklearn.model_selection import train_test_split\n",
        "\n",
        "X,y = make_moons(n_samples=100, noise=0.15)\n",
        "X_train, X_test, y_train, y_test = train_test_split(X, y, test_size=0.2)\n",
        "\n",
        "# VotingClassifier 생성/훈련\n",
        "from sklearn.ensemble import RandomForestClassifier, VotingClassifier\n",
        "from sklearn.linear_model import LogisticRegression\n",
        "from sklearn.svm import SVC\n",
        "\n",
        "log_clf = LogisticRegression()\n",
        "rnd_clf = RandomForestClassifier()\n",
        "svm_clf = SVC()\n",
        "\n",
        "voting_clf = VotingClassifier(estimators=[('lr', log_clf), ('rf', rnd_clf), ('svc', svm_clf)],\n",
        "                             voting='hard')\n",
        "voting_clf.fit(X_train, y_train)"
      ]
    },
    {
      "cell_type": "code",
      "source": [
        "# 각 분류기의 테스트셋 정확도 확인\n",
        "from sklearn.metrics import accuracy_score\n",
        "for clf in (log_clf, rnd_clf, svm_clf, voting_clf):\n",
        "    clf.fit(X_train, y_train)\n",
        "    y_pred = clf.predict(X_test)\n",
        "    print(clf.__class__.__name__, accuracy_score(y_pred, y_test))"
      ],
      "metadata": {
        "colab": {
          "base_uri": "https://localhost:8080/"
        },
        "id": "tSaaealRJnG1",
        "outputId": "1c8e8c70-9cbd-4535-8c1a-33983987678c"
      },
      "execution_count": 2,
      "outputs": [
        {
          "output_type": "stream",
          "name": "stdout",
          "text": [
            "LogisticRegression 0.8\n",
            "RandomForestClassifier 1.0\n",
            "SVC 1.0\n",
            "VotingClassifier 1.0\n"
          ]
        }
      ]
    },
    {
      "cell_type": "code",
      "source": [
        "# soft voting 구현\n",
        "log_clf = LogisticRegression()\n",
        "rnd_clf = RandomForestClassifier()\n",
        "svm_clf = SVC(probability=True)   # SVC : 기본값에서는 클래스 확률을 제공하지 않음 (Probability=True 옵션 설정 필요)\n",
        "\n",
        "voting_clf = VotingClassifier(estimators=[('lr', log_clf), ('rf', rnd_clf), ('svc', svm_clf)],\n",
        "                             voting='soft')\n",
        "voting_clf.fit(X_train, y_train)\n",
        "\n",
        "# 각 분류기의 테스트셋 정확도 확인\n",
        "from sklearn.metrics import accuracy_score\n",
        "for clf in (log_clf, rnd_clf, svm_clf, voting_clf):\n",
        "    clf.fit(X_train, y_train)\n",
        "    y_pred = clf.predict(X_test)\n",
        "    print(clf.__class__.__name__, accuracy_score(y_pred, y_test))"
      ],
      "metadata": {
        "colab": {
          "base_uri": "https://localhost:8080/"
        },
        "id": "UjaMivsHJ8mY",
        "outputId": "3e5a25d3-1d9c-4472-cd9f-aef66f7ae1d8"
      },
      "execution_count": 3,
      "outputs": [
        {
          "output_type": "stream",
          "name": "stdout",
          "text": [
            "LogisticRegression 0.8\n",
            "RandomForestClassifier 1.0\n",
            "SVC 1.0\n",
            "VotingClassifier 1.0\n"
          ]
        }
      ]
    },
    {
      "cell_type": "markdown",
      "source": [
        "## **배깅과 페이스팅 (Bagging and Pasting)**"
      ],
      "metadata": {
        "id": "6HxwlZjwLFUG"
      }
    },
    {
      "cell_type": "markdown",
      "source": [
        "다양한 분류기를 만드는 방법\n",
        "* 각기 다른 훈련 알고리즘 사용\n",
        "* 같은 알고리즘을 사용하되 훈련 세트의 서브셋을 무작위로 구성하여 분류기를 각기 다르게 학습\n",
        "\n",
        "**배깅 (Bagging)**\n",
        "* 훈련 세트에서 중복을 허용하여 샘플링하는 방식\n",
        "* Bootstrap aggregating의 줄임말\n",
        "\n",
        "**페이스팅 (Pasting)**\n",
        "* 중복을 허용하지 않고 샘플링하는 방식\n",
        "\n",
        "> 즉, 배깅과 페이스팅에서는 같은 훈련 샘플을 여러 개의 예측기에 사용할 수 있음"
      ],
      "metadata": {
        "id": "9NoAUXGbLNnQ"
      }
    },
    {
      "cell_type": "markdown",
      "source": [
        "![bagging&pasting](https://velog.velcdn.com/images/kyungmin1029/post/bbb0f2f0-7f96-4828-8e05-ba8f86e965ce/image.png)"
      ],
      "metadata": {
        "id": "zhCzwwnDMIHY"
      }
    },
    {
      "cell_type": "markdown",
      "source": [
        "모든 예측기가 훈련을 마치면 앙상블은 모든 예측기의 예측을 모아 **새로운 샘플**에 대한 예측을 생성\n",
        "* 분류의 경우, 최빈값을 채택 (= 직접투표)\n",
        "* 회귀의 경우, 평균을 채택"
      ],
      "metadata": {
        "id": "1bvp-WAmMOAU"
      }
    },
    {
      "cell_type": "markdown",
      "source": [
        "### **사이킷런의 배깅과 페이스팅**"
      ],
      "metadata": {
        "id": "R3iTtybWMtSX"
      }
    },
    {
      "cell_type": "code",
      "source": [
        "# 배깅 구현\n",
        "from sklearn.ensemble import BaggingClassifier\n",
        "from sklearn.tree import DecisionTreeClassifier\n",
        "\n",
        "# 500개의 앙상블 훈련, 각 분류기 중복허용 50개의 샘플로 훈련 (페이스팅 : bootstrap=False)\n",
        "bag_clf = BaggingClassifier(DecisionTreeClassifier(), n_estimators=500,\n",
        "                            max_samples=50, bootstrap=True, n_jobs=-1)\n",
        "bag_clf.fit(X_train, y_train)\n",
        "y_pred = bag_clf.predict(X_test)"
      ],
      "metadata": {
        "id": "BjhSpzDDLB3L"
      },
      "execution_count": 4,
      "outputs": []
    },
    {
      "cell_type": "markdown",
      "source": [
        "![bagging](https://velog.velcdn.com/images/kyungmin1029/post/1a691798-6072-4617-af51-d548f1335b9b/image.png)\n",
        "\n",
        "* 앙상블 예측이 결정 트리 하나의 예측보다 일반화가 더 잘 됨\n",
        "* 앙상블은 비슷한 편향에서 더 작은 분산\n",
        "    * 훈련 시트의 오차 수가 거의 비슷하나 결정 경계는 덜 불규칙함"
      ],
      "metadata": {
        "id": "5I93yrWZOPFZ"
      }
    },
    {
      "cell_type": "markdown",
      "source": [
        "### **oob 평가**"
      ],
      "metadata": {
        "id": "J99XM847OjeN"
      }
    },
    {
      "cell_type": "markdown",
      "source": [
        "**oob 샘플**\n",
        "* out-of-bag 샘플\n",
        "* 선택되지 않은 훈련 샘플을 칭함\n",
        "    * 평균적으로 각 예측기에 훈련 샘플의 63% 정도만 샘플링 됨\n",
        "    * 즉, 나머지 37%가 oob 샘플\n",
        "* 예측기마다 남겨진 oob 샘플은 모두 다름"
      ],
      "metadata": {
        "id": "NwUvqzgzPz9I"
      }
    },
    {
      "cell_type": "markdown",
      "source": [
        "결국 예측기가 훈련되는 동안에는 oob 샘플을 사용하지 않음\n",
        "* 따라서 별도의 검증 세트(validation set)를 사용하지 않고 oob 샘플을 사용하여 평가할 수 있음\n",
        "* 앙상블의 평가는 각 예측기의 oob 평가를 평균하여 얻음"
      ],
      "metadata": {
        "id": "CYH2dsAyQix_"
      }
    },
    {
      "cell_type": "code",
      "source": [
        "# oob_score=True 지정 : 훈련이 끝난 후 자동으로 oob 평가 수행\n",
        "# oob_score_ 변수를 통해 출력 가능\n",
        "bag_clf = BaggingClassifier(DecisionTreeClassifier(), n_estimators=500,\n",
        "                            bootstrap=True, n_jobs=-1, oob_score=True)\n",
        "\n",
        "bag_clf.fit(X_train, y_train)\n",
        "bag_clf.oob_score_"
      ],
      "metadata": {
        "colab": {
          "base_uri": "https://localhost:8080/"
        },
        "id": "5rYe7BB3NVmw",
        "outputId": "658df633-7f37-440f-d9dd-0192d268e036"
      },
      "execution_count": 5,
      "outputs": [
        {
          "output_type": "execute_result",
          "data": {
            "text/plain": [
              "0.9"
            ]
          },
          "metadata": {},
          "execution_count": 5
        }
      ]
    },
    {
      "cell_type": "code",
      "source": [
        "from sklearn.metrics import accuracy_score\n",
        "y_pred = bag_clf.predict(X_test)\n",
        "accuracy_score(y_pred, y_test)"
      ],
      "metadata": {
        "colab": {
          "base_uri": "https://localhost:8080/"
        },
        "id": "IHeZkpc1RIdu",
        "outputId": "a3627687-c87c-4d8b-ed80-7d28b12be3e0"
      },
      "execution_count": 6,
      "outputs": [
        {
          "output_type": "execute_result",
          "data": {
            "text/plain": [
              "0.9"
            ]
          },
          "metadata": {},
          "execution_count": 6
        }
      ]
    },
    {
      "cell_type": "code",
      "source": [
        "# oob 샘플에 대한 결정 함수의 값 확인\n",
        "# 첫번째 훈련 세트의 경우, 음성클래스에 속할 확률을 96.87% 정도로 추정함\n",
        "bag_clf.oob_decision_function_"
      ],
      "metadata": {
        "colab": {
          "base_uri": "https://localhost:8080/"
        },
        "id": "Nb1vknS4RawV",
        "outputId": "634d5298-cb6f-4e7a-dfcd-e107dffd92c7"
      },
      "execution_count": 7,
      "outputs": [
        {
          "output_type": "execute_result",
          "data": {
            "text/plain": [
              "array([[0.78461538, 0.21538462],\n",
              "       [0.02051282, 0.97948718],\n",
              "       [0.98863636, 0.01136364],\n",
              "       [0.046875  , 0.953125  ],\n",
              "       [0.0052356 , 0.9947644 ],\n",
              "       [0.21649485, 0.78350515],\n",
              "       [0.81656805, 0.18343195],\n",
              "       [0.01104972, 0.98895028],\n",
              "       [0.        , 1.        ],\n",
              "       [0.08333333, 0.91666667],\n",
              "       [1.        , 0.        ],\n",
              "       [0.59473684, 0.40526316],\n",
              "       [0.96385542, 0.03614458],\n",
              "       [0.94708995, 0.05291005],\n",
              "       [0.99346405, 0.00653595],\n",
              "       [0.0201005 , 0.9798995 ],\n",
              "       [0.92265193, 0.07734807],\n",
              "       [1.        , 0.        ],\n",
              "       [0.        , 1.        ],\n",
              "       [1.        , 0.        ],\n",
              "       [0.        , 1.        ],\n",
              "       [0.48019802, 0.51980198],\n",
              "       [0.80412371, 0.19587629],\n",
              "       [0.27388535, 0.72611465],\n",
              "       [0.19889503, 0.80110497],\n",
              "       [0.        , 1.        ],\n",
              "       [0.99447514, 0.00552486],\n",
              "       [1.        , 0.        ],\n",
              "       [0.02659574, 0.97340426],\n",
              "       [0.00995025, 0.99004975],\n",
              "       [1.        , 0.        ],\n",
              "       [0.94972067, 0.05027933],\n",
              "       [0.52747253, 0.47252747],\n",
              "       [0.97311828, 0.02688172],\n",
              "       [0.97191011, 0.02808989],\n",
              "       [0.00595238, 0.99404762],\n",
              "       [0.1797235 , 0.8202765 ],\n",
              "       [0.68478261, 0.31521739],\n",
              "       [0.04864865, 0.95135135],\n",
              "       [0.75531915, 0.24468085],\n",
              "       [0.71428571, 0.28571429],\n",
              "       [0.03157895, 0.96842105],\n",
              "       [0.        , 1.        ],\n",
              "       [1.        , 0.        ],\n",
              "       [0.00561798, 0.99438202],\n",
              "       [0.        , 1.        ],\n",
              "       [0.04864865, 0.95135135],\n",
              "       [0.984375  , 0.015625  ],\n",
              "       [0.01075269, 0.98924731],\n",
              "       [0.26344086, 0.73655914],\n",
              "       [0.86631016, 0.13368984],\n",
              "       [0.76331361, 0.23668639],\n",
              "       [1.        , 0.        ],\n",
              "       [0.00561798, 0.99438202],\n",
              "       [0.02512563, 0.97487437],\n",
              "       [0.88461538, 0.11538462],\n",
              "       [0.02259887, 0.97740113],\n",
              "       [1.        , 0.        ],\n",
              "       [0.96449704, 0.03550296],\n",
              "       [0.21084337, 0.78915663],\n",
              "       [0.63953488, 0.36046512],\n",
              "       [0.58947368, 0.41052632],\n",
              "       [0.85164835, 0.14835165],\n",
              "       [0.56896552, 0.43103448],\n",
              "       [0.        , 1.        ],\n",
              "       [0.76165803, 0.23834197],\n",
              "       [1.        , 0.        ],\n",
              "       [0.01169591, 0.98830409],\n",
              "       [0.        , 1.        ],\n",
              "       [0.9281768 , 0.0718232 ],\n",
              "       [0.09278351, 0.90721649],\n",
              "       [0.00507614, 0.99492386],\n",
              "       [0.79207921, 0.20792079],\n",
              "       [0.02020202, 0.97979798],\n",
              "       [0.62352941, 0.37647059],\n",
              "       [1.        , 0.        ],\n",
              "       [0.07650273, 0.92349727],\n",
              "       [0.96428571, 0.03571429],\n",
              "       [0.02366864, 0.97633136],\n",
              "       [0.01648352, 0.98351648]])"
            ]
          },
          "metadata": {},
          "execution_count": 7
        }
      ]
    },
    {
      "cell_type": "markdown",
      "source": [
        "## **랜덤 패치와 랜덤 서브스페이스**"
      ],
      "metadata": {
        "id": "UD1_kdENSIOc"
      }
    },
    {
      "cell_type": "markdown",
      "source": [
        "이미지와 같은 고차원의 데이터셋을 다룰 때 유용\n",
        "\n",
        "**랜덤 패치 방식**\n",
        "* 훈련 특성과 샘플을 모두 샘플링하는 것\n",
        "\n",
        "**랜덤 서브스페이스**\n",
        "* 훈련 샘플을 모두 사용하고 특성은 샘플링하는 것\n",
        "\n",
        "\n",
        "```\n",
        "# 랜덤 서브스페이스 구현 옵션\n",
        "bootstrap = False, max_samples=1.0, bootstrap=True, max_features 1.0보다 작게 설정)\n",
        "```\n",
        "\n"
      ],
      "metadata": {
        "id": "1paLO9hUTNGO"
      }
    },
    {
      "cell_type": "markdown",
      "source": [
        "# **랜덤 포레스트**"
      ],
      "metadata": {
        "id": "6lRqL_hRSSco"
      }
    },
    {
      "cell_type": "markdown",
      "source": [
        "배깅(또는 페이스팅)을 적용한 결정 트리의 앙상블\n",
        "\n",
        "랜덤 포레스트 알고리즘은 트리의 노드를 분할할 때 전체 특성 중에서 최선의 특성을 찾는 대신 무작위로 선택한 특성 후보 중에서 최적의 특성을 찾는 식으로 무작위성을 더 주입함\n",
        "* 트리를 더욱 다양하게 만들고 편향을 손해보는 대신 분산을 낮추어 전체적으로 더 좋은 모델을 만들어냄"
      ],
      "metadata": {
        "id": "IotNH-7_TxKL"
      }
    },
    {
      "cell_type": "code",
      "source": [
        "from sklearn.ensemble import RandomForestClassifier\n",
        "\n",
        "rnd_clf = RandomForestClassifier(n_estimators=500, max_leaf_nodes=16, n_jobs=-1)\n",
        "rnd_clf.fit(X_train, y_train)\n",
        "\n",
        "y_pred_rf = rnd_clf.predict(X_test)"
      ],
      "metadata": {
        "id": "fS2WUVkXR3SW"
      },
      "execution_count": 8,
      "outputs": []
    },
    {
      "cell_type": "code",
      "source": [
        "# BaggingClassifier로 랜덤포레스트 구현\n",
        "bag_clf = BaggingClassifier(DecisionTreeClassifier(max_features='auto', max_leaf_nodes=16),\n",
        "                            n_estimators=500, max_samples=1.0, bootstrap=True, n_jobs=-1)"
      ],
      "metadata": {
        "id": "LMDL2N6_WRra"
      },
      "execution_count": 9,
      "outputs": []
    },
    {
      "cell_type": "markdown",
      "source": [
        "## **엑스트라 트리**"
      ],
      "metadata": {
        "id": "O0xZc2tdXQq8"
      }
    },
    {
      "cell_type": "markdown",
      "source": [
        "**엑스트라 트리 (Extra-trees)**\n",
        "* 익스트림 랜덤 트리 (extremely randomized trees)\n",
        "* 극단적으로 무작위한 트리의 랜덤 포레스트\n",
        "    * 트리를 더욱 무작위하게 만들기 위해 최적의 임곗값을 찾는 대신(보통의 결정트리) 후보 특성을 사용해 무작위로 분할한 다음 그 중에서 최상의 분할을 선택\n",
        "\n",
        "\n",
        "\n",
        "```\n",
        "ExtraTreesClassifier()\n",
        "```\n",
        "\n"
      ],
      "metadata": {
        "id": "5ccxwb6psdc0"
      }
    },
    {
      "cell_type": "markdown",
      "source": [
        "## **특성 중요도 (Feature Importance)**"
      ],
      "metadata": {
        "id": "xx6enrFXXcZO"
      }
    },
    {
      "cell_type": "markdown",
      "source": [
        "* 사이킷런은 랜덤 포레스트에 있는 모든 트리에 걸쳐 *어떤 특성을 사용한 노드가 평균적으로 불순도를 얼마나 감소시키는지* 확인하여 특성 중요도를 측정\n",
        "    * 훈련이 끝나면 자동으로 특성 중요도 점수를 계산\n",
        "    * feature_importances_ 변수에 저장됨"
      ],
      "metadata": {
        "id": "DEuDpVKctm2r"
      }
    },
    {
      "cell_type": "code",
      "source": [
        "# iris 데이터를 통해 확인\n",
        "from sklearn.datasets import load_iris\n",
        "iris = load_iris()\n",
        "\n",
        "rnd_clf = RandomForestClassifier(n_estimators=500, n_jobs=-1)\n",
        "rnd_clf.fit(iris['data'], iris['target'])\n",
        "\n",
        "for name, score in zip(iris['feature_names'], rnd_clf.feature_importances_):\n",
        "    print(name, score)"
      ],
      "metadata": {
        "id": "ZnhMrhnVWkhj",
        "colab": {
          "base_uri": "https://localhost:8080/"
        },
        "outputId": "6f646f5b-56e8-4b93-8409-819c7b210167"
      },
      "execution_count": 11,
      "outputs": [
        {
          "output_type": "stream",
          "name": "stdout",
          "text": [
            "sepal length (cm) 0.10042623726159093\n",
            "sepal width (cm) 0.020913805993213207\n",
            "petal length (cm) 0.44255456784871616\n",
            "petal width (cm) 0.43610538889647976\n"
          ]
        }
      ]
    },
    {
      "cell_type": "markdown",
      "source": [
        "sepal_lenght, sepal_width (꽃잎의 길이, 너비) 피처가 중요함"
      ],
      "metadata": {
        "id": "RFf-VAutuekU"
      }
    },
    {
      "cell_type": "markdown",
      "source": [
        "*MNIST 데이터셋에 랜덤 포레스트 분류기 훈련 후 각 픽셀의 중요도 시각화*\n",
        "\n",
        " ![MNIST Feature Importance](https://user-images.githubusercontent.com/37871541/50535298-1066a480-0b8c-11e9-8825-0d10c12e2423.png)"
      ],
      "metadata": {
        "id": "d2n-z5uVu_Ti"
      }
    }
  ]
}
