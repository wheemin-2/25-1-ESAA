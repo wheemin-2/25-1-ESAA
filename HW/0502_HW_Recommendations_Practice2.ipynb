{
  "nbformat": 4,
  "nbformat_minor": 0,
  "metadata": {
    "colab": {
      "provenance": [],
      "mount_file_id": "1C3sNtQSC0w4Hs2B9TA-zJkUTaSG_zBcp",
      "authorship_tag": "ABX9TyPFqe2slSdAPOl3U6yrxP6W",
      "include_colab_link": true
    },
    "kernelspec": {
      "name": "python3",
      "display_name": "Python 3"
    },
    "language_info": {
      "name": "python"
    }
  },
  "cells": [
    {
      "cell_type": "markdown",
      "metadata": {
        "id": "view-in-github",
        "colab_type": "text"
      },
      "source": [
        "<a href=\"https://colab.research.google.com/github/wheemin-2/25-1-ESAA/blob/main/0502_HW_Recommendations_Practice2.ipynb\" target=\"_parent\"><img src=\"https://colab.research.google.com/assets/colab-badge.svg\" alt=\"Open In Colab\"/></a>"
      ]
    },
    {
      "cell_type": "markdown",
      "source": [
        "# **행렬 분해를 이용한 잠재 요인 협업 필터링 실습**"
      ],
      "metadata": {
        "id": "_XnMNKk0x1xq"
      }
    },
    {
      "cell_type": "markdown",
      "source": [
        "(Review)\n",
        "\n",
        "행렬 분해 잠재 요인 협업 필터링은 SVD나 NMF 등을 적용할 수 있는데, 일반적으로 행렬 분해에는 SVD가 자주 사용됨. 하지만 사용자-아이템 평점 행렬에는 사용자가 평점을 매기지 않은 Null 데이터가 많기 때문에 주로 SGD나 ALS 기반의 행렬 분해를 이용"
      ],
      "metadata": {
        "id": "9Q7l4lmUySSL"
      }
    },
    {
      "cell_type": "code",
      "source": [
        "from google.colab import drive\n",
        "drive.mount('/content/drive')"
      ],
      "metadata": {
        "colab": {
          "base_uri": "https://localhost:8080/"
        },
        "id": "Dt4vGXHs0azx",
        "outputId": "0b6ff54a-ad7c-459f-ac05-46ddef23e3e1"
      },
      "execution_count": 1,
      "outputs": [
        {
          "output_type": "stream",
          "name": "stdout",
          "text": [
            "Drive already mounted at /content/drive; to attempt to forcibly remount, call drive.mount(\"/content/drive\", force_remount=True).\n"
          ]
        }
      ]
    },
    {
      "cell_type": "code",
      "source": [
        "import numpy as np\n",
        "import pandas as pd\n",
        "\n",
        "movies = pd.read_csv('/content/drive/MyDrive/Colab Notebooks/ESAA/25-1 OB/movies.csv')\n",
        "ratings = pd.read_csv('/content/drive/MyDrive/Colab Notebooks/ESAA/25-1 OB/ratings.csv')"
      ],
      "metadata": {
        "id": "xkekC9OqzCxv"
      },
      "execution_count": null,
      "outputs": []
    },
    {
      "cell_type": "code",
      "execution_count": null,
      "metadata": {
        "id": "BHwPqswnxvNS"
      },
      "outputs": [],
      "source": [
        "from sklearn.metrics import mean_squared_error\n",
        "\n",
        "def get_rmse(R, P, Q, non_zeros):\n",
        "    error = 0\n",
        "    # 두 개의 분해된 행렬 P와 Q.T의 내적으로 예측 R 행렬 생성\n",
        "    full_pred_matrix = np.dot(P, Q.T)\n",
        "\n",
        "    # 실제 R 행렬에서 NULL이 아닌 값의 위치 인덱스를 추출해 실제 R 행렬과 R_hat의 RMSE 추출\n",
        "    x_non_zero_ind = [non_zero[0] for non_zero in non_zeros]\n",
        "    y_non_zero_ind = [non_zero[1] for non_zero in non_zeros]\n",
        "    R_non_zeros = R[x_non_zero_ind, y_non_zero_ind]\n",
        "    full_pred_matrix_non_zeros = full_pred_matrix[x_non_zero_ind, y_non_zero_ind]\n",
        "    mse = mean_squared_error(R_non_zeros, full_pred_matrix_non_zeros)\n",
        "    rmse = np.sqrt(mse)\n",
        "\n",
        "    return rmse"
      ]
    },
    {
      "cell_type": "code",
      "source": [
        "def matrix_factorization(R, K, steps=200, learning_rate=0.01, r_lambda=0.01):\n",
        "    num_users, num_items = R.shape\n",
        "    # P와 Q 매트릭스의 크기 지정, 정규 분포를 가진 랜덤한 값으로 입력\n",
        "    np.random.seed(1)\n",
        "    P = np.random.normal(scale=1./K, size=(num_users, K))\n",
        "    Q = np.random.normal(scale=1./K, size=(num_items, K))\n",
        "\n",
        "    # R > 0 인 행 위치, 열 위치, 값을 non_zeros 리스트 객체에 저장\n",
        "    non_zeros = [ (i, j, R[i,j]) for i in range(num_users) for j in range(num_items) if R[i,j] > 0]\n",
        "\n",
        "    # SGD 기법으로 P와 Q 매트릭스를 계속해서 업데이트\n",
        "    for step in range(steps):\n",
        "        for i, j, r in non_zeros:\n",
        "            # 실제값과 예측값의 차이인 오류값 구함\n",
        "            eij = r - np.dot(P[i,:], Q[j,:].T)\n",
        "            # Regularization을 반영한 SGD 업데이트 공식 적용\n",
        "            P[i, :] = P[i, :] + learning_rate*(eij * Q[j, :] - r_lambda*P[i,:])\n",
        "            Q[j, :] = Q[j, :] + learning_rate*(eij * P[i, :] - r_lambda*Q[j,:])\n",
        "\n",
        "        rmse = get_rmse(R, P, Q, non_zeros)\n",
        "        if (step % 10)==0:\n",
        "            print('### iteration step:', step, 'rmse:', rmse)\n",
        "\n",
        "    return P, Q"
      ],
      "metadata": {
        "id": "iwt5ordGywaW"
      },
      "execution_count": null,
      "outputs": []
    },
    {
      "cell_type": "code",
      "source": [
        "ratings = ratings[['userId','movieId','rating']]\n",
        "ratings_matrix = ratings.pivot_table('rating',index='userId',columns='movieId')\n",
        "\n",
        "# title 칼럼을 얻기 위해 movies와 조인 수행\n",
        "rating_movies = pd.merge(ratings, movies, on='movieId')\n",
        "\n",
        "# title 칼럼으로 pivot 수행\n",
        "ratings_matrix = rating_movies.pivot_table('rating',index='userId',columns='title')"
      ],
      "metadata": {
        "id": "Hqikf1cB0WuZ"
      },
      "execution_count": null,
      "outputs": []
    },
    {
      "cell_type": "code",
      "source": [
        "# 사용자-아이템 평점 행렬을 분해\n",
        "# 수행 시간이 오래 걸리므로 SGD 반복 횟수인 steps=200으로 설정\n",
        "# 잠재 요인 차원 K = 50, L2 규제 계수는 0.01로 설정\n",
        "P, Q = matrix_factorization(ratings_matrix.values, K=50, steps=200,\n",
        "                            learning_rate=0.01, r_lambda=0.01)\n",
        "pred_matrix = np.dot(P, Q.T)"
      ],
      "metadata": {
        "colab": {
          "base_uri": "https://localhost:8080/"
        },
        "id": "IJ9y_lIu1eh4",
        "outputId": "902a28d3-1939-4c95-9220-228badeb6789"
      },
      "execution_count": null,
      "outputs": [
        {
          "output_type": "stream",
          "name": "stdout",
          "text": [
            "### iteration step: 0 rmse: 2.9023619751336867\n",
            "### iteration step: 10 rmse: 0.7335768591017927\n",
            "### iteration step: 20 rmse: 0.5115539026853442\n",
            "### iteration step: 30 rmse: 0.37261628282537446\n",
            "### iteration step: 40 rmse: 0.2960818299181014\n",
            "### iteration step: 50 rmse: 0.2520353192341642\n",
            "### iteration step: 60 rmse: 0.22487503275269854\n",
            "### iteration step: 70 rmse: 0.2068545530233154\n",
            "### iteration step: 80 rmse: 0.19413418783028685\n",
            "### iteration step: 90 rmse: 0.18470082002720406\n",
            "### iteration step: 100 rmse: 0.17742927527209104\n",
            "### iteration step: 110 rmse: 0.1716522696470749\n",
            "### iteration step: 120 rmse: 0.16695181946871726\n",
            "### iteration step: 130 rmse: 0.16305292191997542\n",
            "### iteration step: 140 rmse: 0.15976691929679646\n",
            "### iteration step: 150 rmse: 0.1569598699945732\n",
            "### iteration step: 160 rmse: 0.15453398186715425\n",
            "### iteration step: 170 rmse: 0.15241618551077643\n",
            "### iteration step: 180 rmse: 0.1505508073962831\n",
            "### iteration step: 190 rmse: 0.1488947091323209\n"
          ]
        }
      ]
    },
    {
      "cell_type": "code",
      "source": [],
      "metadata": {
        "id": "XqtoEsN619Ho"
      },
      "execution_count": null,
      "outputs": []
    },
    {
      "cell_type": "code",
      "source": [
        "ratings_pred_matrix = pd.DataFrame(data=pred_matrix, index=ratings_matrix.index,\n",
        "                                   columns=ratings_matrix.columns)\n",
        "ratings_pred_matrix.head(3)"
      ],
      "metadata": {
        "colab": {
          "base_uri": "https://localhost:8080/",
          "height": 345
        },
        "id": "yPnQK9SJ2UZg",
        "outputId": "bdac5ab1-1d9e-4213-e12c-821efe32f4db"
      },
      "execution_count": null,
      "outputs": [
        {
          "output_type": "execute_result",
          "data": {
            "text/plain": [
              "title   '71 (2014)  'Hellboy': The Seeds of Creation (2004)  \\\n",
              "userId                                                        \n",
              "1         3.055084                                 4.092018   \n",
              "2         3.170119                                 3.657992   \n",
              "3         2.307073                                 1.658853   \n",
              "\n",
              "title   'Round Midnight (1986)  'Salem's Lot (2004)  \\\n",
              "userId                                                \n",
              "1                     3.564130             4.502167   \n",
              "2                     3.308707             4.166521   \n",
              "3                     1.443538             2.208859   \n",
              "\n",
              "title   'Til There Was You (1997)  'Tis the Season for Love (2015)  \\\n",
              "userId                                                               \n",
              "1                        3.981215                         1.271694   \n",
              "2                        4.311890                         1.275469   \n",
              "3                        2.229486                         0.780760   \n",
              "\n",
              "title   'burbs, The (1989)  'night Mother (1986)  (500) Days of Summer (2009)  \\\n",
              "userId                                                                          \n",
              "1                 3.603274              2.333266                     5.091749   \n",
              "2                 4.237972              1.900366                     3.392859   \n",
              "3                 1.997043              0.924908                     2.970700   \n",
              "\n",
              "title   *batteries not included (1987)  ...  Zulu (2013)  [REC] (2007)  \\\n",
              "userId                                  ...                              \n",
              "1                             3.972454  ...     1.402608      4.208382   \n",
              "2                             3.647421  ...     0.973811      3.528264   \n",
              "3                             2.551446  ...     0.520354      1.709494   \n",
              "\n",
              "title   [REC]² (2009)  [REC]³ 3 Génesis (2012)  \\\n",
              "userId                                           \n",
              "1            3.705957                 2.720514   \n",
              "2            3.361532                 2.672535   \n",
              "3            2.281596                 1.782833   \n",
              "\n",
              "title   anohana: The Flower We Saw That Day - The Movie (2013)  \\\n",
              "userId                                                           \n",
              "1                                                2.787331        \n",
              "2                                                2.404456        \n",
              "3                                                1.635173        \n",
              "\n",
              "title   eXistenZ (1999)  xXx (2002)  xXx: State of the Union (2005)  \\\n",
              "userId                                                                \n",
              "1              3.475076    3.253458                        2.161087   \n",
              "2              4.232789    2.911602                        1.634576   \n",
              "3              1.323276    2.887580                        1.042618   \n",
              "\n",
              "title   ¡Three Amigos! (1986)  À nous la liberté (Freedom for Us) (1931)  \n",
              "userId                                                                    \n",
              "1                    4.010495                                   0.859474  \n",
              "2                    4.135735                                   0.725684  \n",
              "3                    2.293890                                   0.396941  \n",
              "\n",
              "[3 rows x 9719 columns]"
            ],
            "text/html": [
              "\n",
              "  <div id=\"df-602388db-6b4f-4a2b-85ec-0e41d875d28d\" class=\"colab-df-container\">\n",
              "    <div>\n",
              "<style scoped>\n",
              "    .dataframe tbody tr th:only-of-type {\n",
              "        vertical-align: middle;\n",
              "    }\n",
              "\n",
              "    .dataframe tbody tr th {\n",
              "        vertical-align: top;\n",
              "    }\n",
              "\n",
              "    .dataframe thead th {\n",
              "        text-align: right;\n",
              "    }\n",
              "</style>\n",
              "<table border=\"1\" class=\"dataframe\">\n",
              "  <thead>\n",
              "    <tr style=\"text-align: right;\">\n",
              "      <th>title</th>\n",
              "      <th>'71 (2014)</th>\n",
              "      <th>'Hellboy': The Seeds of Creation (2004)</th>\n",
              "      <th>'Round Midnight (1986)</th>\n",
              "      <th>'Salem's Lot (2004)</th>\n",
              "      <th>'Til There Was You (1997)</th>\n",
              "      <th>'Tis the Season for Love (2015)</th>\n",
              "      <th>'burbs, The (1989)</th>\n",
              "      <th>'night Mother (1986)</th>\n",
              "      <th>(500) Days of Summer (2009)</th>\n",
              "      <th>*batteries not included (1987)</th>\n",
              "      <th>...</th>\n",
              "      <th>Zulu (2013)</th>\n",
              "      <th>[REC] (2007)</th>\n",
              "      <th>[REC]² (2009)</th>\n",
              "      <th>[REC]³ 3 Génesis (2012)</th>\n",
              "      <th>anohana: The Flower We Saw That Day - The Movie (2013)</th>\n",
              "      <th>eXistenZ (1999)</th>\n",
              "      <th>xXx (2002)</th>\n",
              "      <th>xXx: State of the Union (2005)</th>\n",
              "      <th>¡Three Amigos! (1986)</th>\n",
              "      <th>À nous la liberté (Freedom for Us) (1931)</th>\n",
              "    </tr>\n",
              "    <tr>\n",
              "      <th>userId</th>\n",
              "      <th></th>\n",
              "      <th></th>\n",
              "      <th></th>\n",
              "      <th></th>\n",
              "      <th></th>\n",
              "      <th></th>\n",
              "      <th></th>\n",
              "      <th></th>\n",
              "      <th></th>\n",
              "      <th></th>\n",
              "      <th></th>\n",
              "      <th></th>\n",
              "      <th></th>\n",
              "      <th></th>\n",
              "      <th></th>\n",
              "      <th></th>\n",
              "      <th></th>\n",
              "      <th></th>\n",
              "      <th></th>\n",
              "      <th></th>\n",
              "      <th></th>\n",
              "    </tr>\n",
              "  </thead>\n",
              "  <tbody>\n",
              "    <tr>\n",
              "      <th>1</th>\n",
              "      <td>3.055084</td>\n",
              "      <td>4.092018</td>\n",
              "      <td>3.564130</td>\n",
              "      <td>4.502167</td>\n",
              "      <td>3.981215</td>\n",
              "      <td>1.271694</td>\n",
              "      <td>3.603274</td>\n",
              "      <td>2.333266</td>\n",
              "      <td>5.091749</td>\n",
              "      <td>3.972454</td>\n",
              "      <td>...</td>\n",
              "      <td>1.402608</td>\n",
              "      <td>4.208382</td>\n",
              "      <td>3.705957</td>\n",
              "      <td>2.720514</td>\n",
              "      <td>2.787331</td>\n",
              "      <td>3.475076</td>\n",
              "      <td>3.253458</td>\n",
              "      <td>2.161087</td>\n",
              "      <td>4.010495</td>\n",
              "      <td>0.859474</td>\n",
              "    </tr>\n",
              "    <tr>\n",
              "      <th>2</th>\n",
              "      <td>3.170119</td>\n",
              "      <td>3.657992</td>\n",
              "      <td>3.308707</td>\n",
              "      <td>4.166521</td>\n",
              "      <td>4.311890</td>\n",
              "      <td>1.275469</td>\n",
              "      <td>4.237972</td>\n",
              "      <td>1.900366</td>\n",
              "      <td>3.392859</td>\n",
              "      <td>3.647421</td>\n",
              "      <td>...</td>\n",
              "      <td>0.973811</td>\n",
              "      <td>3.528264</td>\n",
              "      <td>3.361532</td>\n",
              "      <td>2.672535</td>\n",
              "      <td>2.404456</td>\n",
              "      <td>4.232789</td>\n",
              "      <td>2.911602</td>\n",
              "      <td>1.634576</td>\n",
              "      <td>4.135735</td>\n",
              "      <td>0.725684</td>\n",
              "    </tr>\n",
              "    <tr>\n",
              "      <th>3</th>\n",
              "      <td>2.307073</td>\n",
              "      <td>1.658853</td>\n",
              "      <td>1.443538</td>\n",
              "      <td>2.208859</td>\n",
              "      <td>2.229486</td>\n",
              "      <td>0.780760</td>\n",
              "      <td>1.997043</td>\n",
              "      <td>0.924908</td>\n",
              "      <td>2.970700</td>\n",
              "      <td>2.551446</td>\n",
              "      <td>...</td>\n",
              "      <td>0.520354</td>\n",
              "      <td>1.709494</td>\n",
              "      <td>2.281596</td>\n",
              "      <td>1.782833</td>\n",
              "      <td>1.635173</td>\n",
              "      <td>1.323276</td>\n",
              "      <td>2.887580</td>\n",
              "      <td>1.042618</td>\n",
              "      <td>2.293890</td>\n",
              "      <td>0.396941</td>\n",
              "    </tr>\n",
              "  </tbody>\n",
              "</table>\n",
              "<p>3 rows × 9719 columns</p>\n",
              "</div>\n",
              "    <div class=\"colab-df-buttons\">\n",
              "\n",
              "  <div class=\"colab-df-container\">\n",
              "    <button class=\"colab-df-convert\" onclick=\"convertToInteractive('df-602388db-6b4f-4a2b-85ec-0e41d875d28d')\"\n",
              "            title=\"Convert this dataframe to an interactive table.\"\n",
              "            style=\"display:none;\">\n",
              "\n",
              "  <svg xmlns=\"http://www.w3.org/2000/svg\" height=\"24px\" viewBox=\"0 -960 960 960\">\n",
              "    <path d=\"M120-120v-720h720v720H120Zm60-500h600v-160H180v160Zm220 220h160v-160H400v160Zm0 220h160v-160H400v160ZM180-400h160v-160H180v160Zm440 0h160v-160H620v160ZM180-180h160v-160H180v160Zm440 0h160v-160H620v160Z\"/>\n",
              "  </svg>\n",
              "    </button>\n",
              "\n",
              "  <style>\n",
              "    .colab-df-container {\n",
              "      display:flex;\n",
              "      gap: 12px;\n",
              "    }\n",
              "\n",
              "    .colab-df-convert {\n",
              "      background-color: #E8F0FE;\n",
              "      border: none;\n",
              "      border-radius: 50%;\n",
              "      cursor: pointer;\n",
              "      display: none;\n",
              "      fill: #1967D2;\n",
              "      height: 32px;\n",
              "      padding: 0 0 0 0;\n",
              "      width: 32px;\n",
              "    }\n",
              "\n",
              "    .colab-df-convert:hover {\n",
              "      background-color: #E2EBFA;\n",
              "      box-shadow: 0px 1px 2px rgba(60, 64, 67, 0.3), 0px 1px 3px 1px rgba(60, 64, 67, 0.15);\n",
              "      fill: #174EA6;\n",
              "    }\n",
              "\n",
              "    .colab-df-buttons div {\n",
              "      margin-bottom: 4px;\n",
              "    }\n",
              "\n",
              "    [theme=dark] .colab-df-convert {\n",
              "      background-color: #3B4455;\n",
              "      fill: #D2E3FC;\n",
              "    }\n",
              "\n",
              "    [theme=dark] .colab-df-convert:hover {\n",
              "      background-color: #434B5C;\n",
              "      box-shadow: 0px 1px 3px 1px rgba(0, 0, 0, 0.15);\n",
              "      filter: drop-shadow(0px 1px 2px rgba(0, 0, 0, 0.3));\n",
              "      fill: #FFFFFF;\n",
              "    }\n",
              "  </style>\n",
              "\n",
              "    <script>\n",
              "      const buttonEl =\n",
              "        document.querySelector('#df-602388db-6b4f-4a2b-85ec-0e41d875d28d button.colab-df-convert');\n",
              "      buttonEl.style.display =\n",
              "        google.colab.kernel.accessAllowed ? 'block' : 'none';\n",
              "\n",
              "      async function convertToInteractive(key) {\n",
              "        const element = document.querySelector('#df-602388db-6b4f-4a2b-85ec-0e41d875d28d');\n",
              "        const dataTable =\n",
              "          await google.colab.kernel.invokeFunction('convertToInteractive',\n",
              "                                                    [key], {});\n",
              "        if (!dataTable) return;\n",
              "\n",
              "        const docLinkHtml = 'Like what you see? Visit the ' +\n",
              "          '<a target=\"_blank\" href=https://colab.research.google.com/notebooks/data_table.ipynb>data table notebook</a>'\n",
              "          + ' to learn more about interactive tables.';\n",
              "        element.innerHTML = '';\n",
              "        dataTable['output_type'] = 'display_data';\n",
              "        await google.colab.output.renderOutput(dataTable, element);\n",
              "        const docLink = document.createElement('div');\n",
              "        docLink.innerHTML = docLinkHtml;\n",
              "        element.appendChild(docLink);\n",
              "      }\n",
              "    </script>\n",
              "  </div>\n",
              "\n",
              "\n",
              "    <div id=\"df-62ec437c-0e0f-40da-b398-998548b3b265\">\n",
              "      <button class=\"colab-df-quickchart\" onclick=\"quickchart('df-62ec437c-0e0f-40da-b398-998548b3b265')\"\n",
              "                title=\"Suggest charts\"\n",
              "                style=\"display:none;\">\n",
              "\n",
              "<svg xmlns=\"http://www.w3.org/2000/svg\" height=\"24px\"viewBox=\"0 0 24 24\"\n",
              "     width=\"24px\">\n",
              "    <g>\n",
              "        <path d=\"M19 3H5c-1.1 0-2 .9-2 2v14c0 1.1.9 2 2 2h14c1.1 0 2-.9 2-2V5c0-1.1-.9-2-2-2zM9 17H7v-7h2v7zm4 0h-2V7h2v10zm4 0h-2v-4h2v4z\"/>\n",
              "    </g>\n",
              "</svg>\n",
              "      </button>\n",
              "\n",
              "<style>\n",
              "  .colab-df-quickchart {\n",
              "      --bg-color: #E8F0FE;\n",
              "      --fill-color: #1967D2;\n",
              "      --hover-bg-color: #E2EBFA;\n",
              "      --hover-fill-color: #174EA6;\n",
              "      --disabled-fill-color: #AAA;\n",
              "      --disabled-bg-color: #DDD;\n",
              "  }\n",
              "\n",
              "  [theme=dark] .colab-df-quickchart {\n",
              "      --bg-color: #3B4455;\n",
              "      --fill-color: #D2E3FC;\n",
              "      --hover-bg-color: #434B5C;\n",
              "      --hover-fill-color: #FFFFFF;\n",
              "      --disabled-bg-color: #3B4455;\n",
              "      --disabled-fill-color: #666;\n",
              "  }\n",
              "\n",
              "  .colab-df-quickchart {\n",
              "    background-color: var(--bg-color);\n",
              "    border: none;\n",
              "    border-radius: 50%;\n",
              "    cursor: pointer;\n",
              "    display: none;\n",
              "    fill: var(--fill-color);\n",
              "    height: 32px;\n",
              "    padding: 0;\n",
              "    width: 32px;\n",
              "  }\n",
              "\n",
              "  .colab-df-quickchart:hover {\n",
              "    background-color: var(--hover-bg-color);\n",
              "    box-shadow: 0 1px 2px rgba(60, 64, 67, 0.3), 0 1px 3px 1px rgba(60, 64, 67, 0.15);\n",
              "    fill: var(--button-hover-fill-color);\n",
              "  }\n",
              "\n",
              "  .colab-df-quickchart-complete:disabled,\n",
              "  .colab-df-quickchart-complete:disabled:hover {\n",
              "    background-color: var(--disabled-bg-color);\n",
              "    fill: var(--disabled-fill-color);\n",
              "    box-shadow: none;\n",
              "  }\n",
              "\n",
              "  .colab-df-spinner {\n",
              "    border: 2px solid var(--fill-color);\n",
              "    border-color: transparent;\n",
              "    border-bottom-color: var(--fill-color);\n",
              "    animation:\n",
              "      spin 1s steps(1) infinite;\n",
              "  }\n",
              "\n",
              "  @keyframes spin {\n",
              "    0% {\n",
              "      border-color: transparent;\n",
              "      border-bottom-color: var(--fill-color);\n",
              "      border-left-color: var(--fill-color);\n",
              "    }\n",
              "    20% {\n",
              "      border-color: transparent;\n",
              "      border-left-color: var(--fill-color);\n",
              "      border-top-color: var(--fill-color);\n",
              "    }\n",
              "    30% {\n",
              "      border-color: transparent;\n",
              "      border-left-color: var(--fill-color);\n",
              "      border-top-color: var(--fill-color);\n",
              "      border-right-color: var(--fill-color);\n",
              "    }\n",
              "    40% {\n",
              "      border-color: transparent;\n",
              "      border-right-color: var(--fill-color);\n",
              "      border-top-color: var(--fill-color);\n",
              "    }\n",
              "    60% {\n",
              "      border-color: transparent;\n",
              "      border-right-color: var(--fill-color);\n",
              "    }\n",
              "    80% {\n",
              "      border-color: transparent;\n",
              "      border-right-color: var(--fill-color);\n",
              "      border-bottom-color: var(--fill-color);\n",
              "    }\n",
              "    90% {\n",
              "      border-color: transparent;\n",
              "      border-bottom-color: var(--fill-color);\n",
              "    }\n",
              "  }\n",
              "</style>\n",
              "\n",
              "      <script>\n",
              "        async function quickchart(key) {\n",
              "          const quickchartButtonEl =\n",
              "            document.querySelector('#' + key + ' button');\n",
              "          quickchartButtonEl.disabled = true;  // To prevent multiple clicks.\n",
              "          quickchartButtonEl.classList.add('colab-df-spinner');\n",
              "          try {\n",
              "            const charts = await google.colab.kernel.invokeFunction(\n",
              "                'suggestCharts', [key], {});\n",
              "          } catch (error) {\n",
              "            console.error('Error during call to suggestCharts:', error);\n",
              "          }\n",
              "          quickchartButtonEl.classList.remove('colab-df-spinner');\n",
              "          quickchartButtonEl.classList.add('colab-df-quickchart-complete');\n",
              "        }\n",
              "        (() => {\n",
              "          let quickchartButtonEl =\n",
              "            document.querySelector('#df-62ec437c-0e0f-40da-b398-998548b3b265 button');\n",
              "          quickchartButtonEl.style.display =\n",
              "            google.colab.kernel.accessAllowed ? 'block' : 'none';\n",
              "        })();\n",
              "      </script>\n",
              "    </div>\n",
              "\n",
              "    </div>\n",
              "  </div>\n"
            ],
            "application/vnd.google.colaboratory.intrinsic+json": {
              "type": "dataframe",
              "variable_name": "ratings_pred_matrix"
            }
          },
          "metadata": {},
          "execution_count": 7
        }
      ]
    },
    {
      "cell_type": "markdown",
      "source": [
        "**userId = 9 인 사람에 대한 영화 추천 알고리즘**"
      ],
      "metadata": {
        "id": "DYEwSv0g3Yja"
      }
    },
    {
      "cell_type": "code",
      "source": [
        "# 사용자가 평점을 주지 않은 영화를 리스트로 반환하는 함수 생성\n",
        "def get_unseen_movies(ratings_matrix, userId):\n",
        "    user_rating = ratings_matrix.loc[userId, :]\n",
        "    # 사용자가 이미 관람한 영화 리스트\n",
        "    already_seen = user_rating[user_rating > 0].index.tolist()\n",
        "    # 모든 영화명을 리스트 객체로 생성\n",
        "    movies_list = ratings_matrix.columns.tolist()\n",
        "    # list comprehension으로 아직 관람하지 않은 영화 리스트 생성\n",
        "    unseen_list = [ movie for movie in movies_list if movie not in already_seen]\n",
        "\n",
        "    return unseen_list"
      ],
      "metadata": {
        "id": "yUmK1aw5jPjf"
      },
      "execution_count": null,
      "outputs": []
    },
    {
      "cell_type": "code",
      "source": [
        "def recomm_movie_by_user_id(pred_df, userId, unseen_list, top_n=10):\n",
        "    # 예측 평점 DataFrame에서 사용자id와 unseen list로 들어온 영화명 칼럼을 추출해\n",
        "    # 가장 예측 평점이 높은 순으로 정렬\n",
        "    recomm_movies = pred_df.loc[userId, unseen_list].sort_values(ascending=False)[:top_n]\n",
        "    return recomm_movies\n",
        "\n",
        "# 사용자가 관람하지 않은 영화명 추출\n",
        "unseen_list = get_unseen_movies(ratings_matrix, 9)\n",
        "\n",
        "# 아이템 기반의 최근접 이웃 협업 필터링으로 영화 추천\n",
        "recomm_movies = recomm_movie_by_user_id(ratings_pred_matrix, 9, unseen_list, top_n=10)\n",
        "\n",
        "# 평점 데이터를 DF로 생성\n",
        "recomm_movies = pd.DataFrame(data=recomm_movies.values, index=recomm_movies.index,\n",
        "                             columns=['pred_score'])\n",
        "\n",
        "recomm_movies\n"
      ],
      "metadata": {
        "colab": {
          "base_uri": "https://localhost:8080/",
          "height": 394
        },
        "id": "EdtTraZAkCtv",
        "outputId": "25da485c-5980-46fa-c4a5-69b7b9a763de"
      },
      "execution_count": null,
      "outputs": [
        {
          "output_type": "execute_result",
          "data": {
            "text/plain": [
              "                                                    pred_score\n",
              "title                                                         \n",
              "Rear Window (1954)                                    5.704612\n",
              "South Park: Bigger, Longer and Uncut (1999)           5.451100\n",
              "Rounders (1998)                                       5.298393\n",
              "Blade Runner (1982)                                   5.244951\n",
              "Roger & Me (1989)                                     5.191962\n",
              "Gattaca (1997)                                        5.183179\n",
              "Ben-Hur (1959)                                        5.130463\n",
              "Rosencrantz and Guildenstern Are Dead (1990)          5.087375\n",
              "Big Lebowski, The (1998)                              5.038690\n",
              "Star Wars: Episode V - The Empire Strikes Back ...    4.989601"
            ],
            "text/html": [
              "\n",
              "  <div id=\"df-9bb2cdd7-7e93-40b6-8ade-60a4a67afcaa\" class=\"colab-df-container\">\n",
              "    <div>\n",
              "<style scoped>\n",
              "    .dataframe tbody tr th:only-of-type {\n",
              "        vertical-align: middle;\n",
              "    }\n",
              "\n",
              "    .dataframe tbody tr th {\n",
              "        vertical-align: top;\n",
              "    }\n",
              "\n",
              "    .dataframe thead th {\n",
              "        text-align: right;\n",
              "    }\n",
              "</style>\n",
              "<table border=\"1\" class=\"dataframe\">\n",
              "  <thead>\n",
              "    <tr style=\"text-align: right;\">\n",
              "      <th></th>\n",
              "      <th>pred_score</th>\n",
              "    </tr>\n",
              "    <tr>\n",
              "      <th>title</th>\n",
              "      <th></th>\n",
              "    </tr>\n",
              "  </thead>\n",
              "  <tbody>\n",
              "    <tr>\n",
              "      <th>Rear Window (1954)</th>\n",
              "      <td>5.704612</td>\n",
              "    </tr>\n",
              "    <tr>\n",
              "      <th>South Park: Bigger, Longer and Uncut (1999)</th>\n",
              "      <td>5.451100</td>\n",
              "    </tr>\n",
              "    <tr>\n",
              "      <th>Rounders (1998)</th>\n",
              "      <td>5.298393</td>\n",
              "    </tr>\n",
              "    <tr>\n",
              "      <th>Blade Runner (1982)</th>\n",
              "      <td>5.244951</td>\n",
              "    </tr>\n",
              "    <tr>\n",
              "      <th>Roger &amp; Me (1989)</th>\n",
              "      <td>5.191962</td>\n",
              "    </tr>\n",
              "    <tr>\n",
              "      <th>Gattaca (1997)</th>\n",
              "      <td>5.183179</td>\n",
              "    </tr>\n",
              "    <tr>\n",
              "      <th>Ben-Hur (1959)</th>\n",
              "      <td>5.130463</td>\n",
              "    </tr>\n",
              "    <tr>\n",
              "      <th>Rosencrantz and Guildenstern Are Dead (1990)</th>\n",
              "      <td>5.087375</td>\n",
              "    </tr>\n",
              "    <tr>\n",
              "      <th>Big Lebowski, The (1998)</th>\n",
              "      <td>5.038690</td>\n",
              "    </tr>\n",
              "    <tr>\n",
              "      <th>Star Wars: Episode V - The Empire Strikes Back (1980)</th>\n",
              "      <td>4.989601</td>\n",
              "    </tr>\n",
              "  </tbody>\n",
              "</table>\n",
              "</div>\n",
              "    <div class=\"colab-df-buttons\">\n",
              "\n",
              "  <div class=\"colab-df-container\">\n",
              "    <button class=\"colab-df-convert\" onclick=\"convertToInteractive('df-9bb2cdd7-7e93-40b6-8ade-60a4a67afcaa')\"\n",
              "            title=\"Convert this dataframe to an interactive table.\"\n",
              "            style=\"display:none;\">\n",
              "\n",
              "  <svg xmlns=\"http://www.w3.org/2000/svg\" height=\"24px\" viewBox=\"0 -960 960 960\">\n",
              "    <path d=\"M120-120v-720h720v720H120Zm60-500h600v-160H180v160Zm220 220h160v-160H400v160Zm0 220h160v-160H400v160ZM180-400h160v-160H180v160Zm440 0h160v-160H620v160ZM180-180h160v-160H180v160Zm440 0h160v-160H620v160Z\"/>\n",
              "  </svg>\n",
              "    </button>\n",
              "\n",
              "  <style>\n",
              "    .colab-df-container {\n",
              "      display:flex;\n",
              "      gap: 12px;\n",
              "    }\n",
              "\n",
              "    .colab-df-convert {\n",
              "      background-color: #E8F0FE;\n",
              "      border: none;\n",
              "      border-radius: 50%;\n",
              "      cursor: pointer;\n",
              "      display: none;\n",
              "      fill: #1967D2;\n",
              "      height: 32px;\n",
              "      padding: 0 0 0 0;\n",
              "      width: 32px;\n",
              "    }\n",
              "\n",
              "    .colab-df-convert:hover {\n",
              "      background-color: #E2EBFA;\n",
              "      box-shadow: 0px 1px 2px rgba(60, 64, 67, 0.3), 0px 1px 3px 1px rgba(60, 64, 67, 0.15);\n",
              "      fill: #174EA6;\n",
              "    }\n",
              "\n",
              "    .colab-df-buttons div {\n",
              "      margin-bottom: 4px;\n",
              "    }\n",
              "\n",
              "    [theme=dark] .colab-df-convert {\n",
              "      background-color: #3B4455;\n",
              "      fill: #D2E3FC;\n",
              "    }\n",
              "\n",
              "    [theme=dark] .colab-df-convert:hover {\n",
              "      background-color: #434B5C;\n",
              "      box-shadow: 0px 1px 3px 1px rgba(0, 0, 0, 0.15);\n",
              "      filter: drop-shadow(0px 1px 2px rgba(0, 0, 0, 0.3));\n",
              "      fill: #FFFFFF;\n",
              "    }\n",
              "  </style>\n",
              "\n",
              "    <script>\n",
              "      const buttonEl =\n",
              "        document.querySelector('#df-9bb2cdd7-7e93-40b6-8ade-60a4a67afcaa button.colab-df-convert');\n",
              "      buttonEl.style.display =\n",
              "        google.colab.kernel.accessAllowed ? 'block' : 'none';\n",
              "\n",
              "      async function convertToInteractive(key) {\n",
              "        const element = document.querySelector('#df-9bb2cdd7-7e93-40b6-8ade-60a4a67afcaa');\n",
              "        const dataTable =\n",
              "          await google.colab.kernel.invokeFunction('convertToInteractive',\n",
              "                                                    [key], {});\n",
              "        if (!dataTable) return;\n",
              "\n",
              "        const docLinkHtml = 'Like what you see? Visit the ' +\n",
              "          '<a target=\"_blank\" href=https://colab.research.google.com/notebooks/data_table.ipynb>data table notebook</a>'\n",
              "          + ' to learn more about interactive tables.';\n",
              "        element.innerHTML = '';\n",
              "        dataTable['output_type'] = 'display_data';\n",
              "        await google.colab.output.renderOutput(dataTable, element);\n",
              "        const docLink = document.createElement('div');\n",
              "        docLink.innerHTML = docLinkHtml;\n",
              "        element.appendChild(docLink);\n",
              "      }\n",
              "    </script>\n",
              "  </div>\n",
              "\n",
              "\n",
              "    <div id=\"df-7be63021-d78f-4406-8e17-6f148f0a7919\">\n",
              "      <button class=\"colab-df-quickchart\" onclick=\"quickchart('df-7be63021-d78f-4406-8e17-6f148f0a7919')\"\n",
              "                title=\"Suggest charts\"\n",
              "                style=\"display:none;\">\n",
              "\n",
              "<svg xmlns=\"http://www.w3.org/2000/svg\" height=\"24px\"viewBox=\"0 0 24 24\"\n",
              "     width=\"24px\">\n",
              "    <g>\n",
              "        <path d=\"M19 3H5c-1.1 0-2 .9-2 2v14c0 1.1.9 2 2 2h14c1.1 0 2-.9 2-2V5c0-1.1-.9-2-2-2zM9 17H7v-7h2v7zm4 0h-2V7h2v10zm4 0h-2v-4h2v4z\"/>\n",
              "    </g>\n",
              "</svg>\n",
              "      </button>\n",
              "\n",
              "<style>\n",
              "  .colab-df-quickchart {\n",
              "      --bg-color: #E8F0FE;\n",
              "      --fill-color: #1967D2;\n",
              "      --hover-bg-color: #E2EBFA;\n",
              "      --hover-fill-color: #174EA6;\n",
              "      --disabled-fill-color: #AAA;\n",
              "      --disabled-bg-color: #DDD;\n",
              "  }\n",
              "\n",
              "  [theme=dark] .colab-df-quickchart {\n",
              "      --bg-color: #3B4455;\n",
              "      --fill-color: #D2E3FC;\n",
              "      --hover-bg-color: #434B5C;\n",
              "      --hover-fill-color: #FFFFFF;\n",
              "      --disabled-bg-color: #3B4455;\n",
              "      --disabled-fill-color: #666;\n",
              "  }\n",
              "\n",
              "  .colab-df-quickchart {\n",
              "    background-color: var(--bg-color);\n",
              "    border: none;\n",
              "    border-radius: 50%;\n",
              "    cursor: pointer;\n",
              "    display: none;\n",
              "    fill: var(--fill-color);\n",
              "    height: 32px;\n",
              "    padding: 0;\n",
              "    width: 32px;\n",
              "  }\n",
              "\n",
              "  .colab-df-quickchart:hover {\n",
              "    background-color: var(--hover-bg-color);\n",
              "    box-shadow: 0 1px 2px rgba(60, 64, 67, 0.3), 0 1px 3px 1px rgba(60, 64, 67, 0.15);\n",
              "    fill: var(--button-hover-fill-color);\n",
              "  }\n",
              "\n",
              "  .colab-df-quickchart-complete:disabled,\n",
              "  .colab-df-quickchart-complete:disabled:hover {\n",
              "    background-color: var(--disabled-bg-color);\n",
              "    fill: var(--disabled-fill-color);\n",
              "    box-shadow: none;\n",
              "  }\n",
              "\n",
              "  .colab-df-spinner {\n",
              "    border: 2px solid var(--fill-color);\n",
              "    border-color: transparent;\n",
              "    border-bottom-color: var(--fill-color);\n",
              "    animation:\n",
              "      spin 1s steps(1) infinite;\n",
              "  }\n",
              "\n",
              "  @keyframes spin {\n",
              "    0% {\n",
              "      border-color: transparent;\n",
              "      border-bottom-color: var(--fill-color);\n",
              "      border-left-color: var(--fill-color);\n",
              "    }\n",
              "    20% {\n",
              "      border-color: transparent;\n",
              "      border-left-color: var(--fill-color);\n",
              "      border-top-color: var(--fill-color);\n",
              "    }\n",
              "    30% {\n",
              "      border-color: transparent;\n",
              "      border-left-color: var(--fill-color);\n",
              "      border-top-color: var(--fill-color);\n",
              "      border-right-color: var(--fill-color);\n",
              "    }\n",
              "    40% {\n",
              "      border-color: transparent;\n",
              "      border-right-color: var(--fill-color);\n",
              "      border-top-color: var(--fill-color);\n",
              "    }\n",
              "    60% {\n",
              "      border-color: transparent;\n",
              "      border-right-color: var(--fill-color);\n",
              "    }\n",
              "    80% {\n",
              "      border-color: transparent;\n",
              "      border-right-color: var(--fill-color);\n",
              "      border-bottom-color: var(--fill-color);\n",
              "    }\n",
              "    90% {\n",
              "      border-color: transparent;\n",
              "      border-bottom-color: var(--fill-color);\n",
              "    }\n",
              "  }\n",
              "</style>\n",
              "\n",
              "      <script>\n",
              "        async function quickchart(key) {\n",
              "          const quickchartButtonEl =\n",
              "            document.querySelector('#' + key + ' button');\n",
              "          quickchartButtonEl.disabled = true;  // To prevent multiple clicks.\n",
              "          quickchartButtonEl.classList.add('colab-df-spinner');\n",
              "          try {\n",
              "            const charts = await google.colab.kernel.invokeFunction(\n",
              "                'suggestCharts', [key], {});\n",
              "          } catch (error) {\n",
              "            console.error('Error during call to suggestCharts:', error);\n",
              "          }\n",
              "          quickchartButtonEl.classList.remove('colab-df-spinner');\n",
              "          quickchartButtonEl.classList.add('colab-df-quickchart-complete');\n",
              "        }\n",
              "        (() => {\n",
              "          let quickchartButtonEl =\n",
              "            document.querySelector('#df-7be63021-d78f-4406-8e17-6f148f0a7919 button');\n",
              "          quickchartButtonEl.style.display =\n",
              "            google.colab.kernel.accessAllowed ? 'block' : 'none';\n",
              "        })();\n",
              "      </script>\n",
              "    </div>\n",
              "\n",
              "  <div id=\"id_dfb068d8-8733-4a60-a1aa-6558b4ae65f7\">\n",
              "    <style>\n",
              "      .colab-df-generate {\n",
              "        background-color: #E8F0FE;\n",
              "        border: none;\n",
              "        border-radius: 50%;\n",
              "        cursor: pointer;\n",
              "        display: none;\n",
              "        fill: #1967D2;\n",
              "        height: 32px;\n",
              "        padding: 0 0 0 0;\n",
              "        width: 32px;\n",
              "      }\n",
              "\n",
              "      .colab-df-generate:hover {\n",
              "        background-color: #E2EBFA;\n",
              "        box-shadow: 0px 1px 2px rgba(60, 64, 67, 0.3), 0px 1px 3px 1px rgba(60, 64, 67, 0.15);\n",
              "        fill: #174EA6;\n",
              "      }\n",
              "\n",
              "      [theme=dark] .colab-df-generate {\n",
              "        background-color: #3B4455;\n",
              "        fill: #D2E3FC;\n",
              "      }\n",
              "\n",
              "      [theme=dark] .colab-df-generate:hover {\n",
              "        background-color: #434B5C;\n",
              "        box-shadow: 0px 1px 3px 1px rgba(0, 0, 0, 0.15);\n",
              "        filter: drop-shadow(0px 1px 2px rgba(0, 0, 0, 0.3));\n",
              "        fill: #FFFFFF;\n",
              "      }\n",
              "    </style>\n",
              "    <button class=\"colab-df-generate\" onclick=\"generateWithVariable('recomm_movies')\"\n",
              "            title=\"Generate code using this dataframe.\"\n",
              "            style=\"display:none;\">\n",
              "\n",
              "  <svg xmlns=\"http://www.w3.org/2000/svg\" height=\"24px\"viewBox=\"0 0 24 24\"\n",
              "       width=\"24px\">\n",
              "    <path d=\"M7,19H8.4L18.45,9,17,7.55,7,17.6ZM5,21V16.75L18.45,3.32a2,2,0,0,1,2.83,0l1.4,1.43a1.91,1.91,0,0,1,.58,1.4,1.91,1.91,0,0,1-.58,1.4L9.25,21ZM18.45,9,17,7.55Zm-12,3A5.31,5.31,0,0,0,4.9,8.1,5.31,5.31,0,0,0,1,6.5,5.31,5.31,0,0,0,4.9,4.9,5.31,5.31,0,0,0,6.5,1,5.31,5.31,0,0,0,8.1,4.9,5.31,5.31,0,0,0,12,6.5,5.46,5.46,0,0,0,6.5,12Z\"/>\n",
              "  </svg>\n",
              "    </button>\n",
              "    <script>\n",
              "      (() => {\n",
              "      const buttonEl =\n",
              "        document.querySelector('#id_dfb068d8-8733-4a60-a1aa-6558b4ae65f7 button.colab-df-generate');\n",
              "      buttonEl.style.display =\n",
              "        google.colab.kernel.accessAllowed ? 'block' : 'none';\n",
              "\n",
              "      buttonEl.onclick = () => {\n",
              "        google.colab.notebook.generateWithVariable('recomm_movies');\n",
              "      }\n",
              "      })();\n",
              "    </script>\n",
              "  </div>\n",
              "\n",
              "    </div>\n",
              "  </div>\n"
            ],
            "application/vnd.google.colaboratory.intrinsic+json": {
              "type": "dataframe",
              "variable_name": "recomm_movies",
              "summary": "{\n  \"name\": \"recomm_movies\",\n  \"rows\": 10,\n  \"fields\": [\n    {\n      \"column\": \"title\",\n      \"properties\": {\n        \"dtype\": \"string\",\n        \"num_unique_values\": 10,\n        \"samples\": [\n          \"Big Lebowski, The (1998)\",\n          \"South Park: Bigger, Longer and Uncut (1999)\",\n          \"Gattaca (1997)\"\n        ],\n        \"semantic_type\": \"\",\n        \"description\": \"\"\n      }\n    },\n    {\n      \"column\": \"pred_score\",\n      \"properties\": {\n        \"dtype\": \"number\",\n        \"std\": 0.21272885538651393,\n        \"min\": 4.989601238872484,\n        \"max\": 5.704612469838172,\n        \"num_unique_values\": 10,\n        \"samples\": [\n          5.0386897288205725,\n          5.451100205772531,\n          5.183178550884765\n        ],\n        \"semantic_type\": \"\",\n        \"description\": \"\"\n      }\n    }\n  ]\n}"
            }
          },
          "metadata": {},
          "execution_count": 9
        }
      ]
    },
    {
      "cell_type": "code",
      "source": [
        "# 사용자가 관람하지 않은 영화명 추출\n",
        "unseen_list = get_unseen_movies(ratings_matrix, 9)\n",
        "\n",
        "# 잠재 요인 협업 필터링으로 영화 추천\n",
        "recomm_movies = recomm_movie_by_user_id(ratings_pred_matrix, 9, unseen_list, top_n=10)\n",
        "\n",
        "# 평점 데이터를 DataFrame으로 생성\n",
        "recomm_movies = pd.DataFrame(data=recomm_movies.values, index=recomm_movies.index,\n",
        "                             columns=['pred_score'])\n",
        "recomm_movies"
      ],
      "metadata": {
        "colab": {
          "base_uri": "https://localhost:8080/",
          "height": 394
        },
        "id": "bsULkJnz2hu2",
        "outputId": "c6ab9d71-fbc4-4f3f-8393-50701a9eeebd"
      },
      "execution_count": null,
      "outputs": [
        {
          "output_type": "execute_result",
          "data": {
            "text/plain": [
              "                                                    pred_score\n",
              "title                                                         \n",
              "Rear Window (1954)                                    5.704612\n",
              "South Park: Bigger, Longer and Uncut (1999)           5.451100\n",
              "Rounders (1998)                                       5.298393\n",
              "Blade Runner (1982)                                   5.244951\n",
              "Roger & Me (1989)                                     5.191962\n",
              "Gattaca (1997)                                        5.183179\n",
              "Ben-Hur (1959)                                        5.130463\n",
              "Rosencrantz and Guildenstern Are Dead (1990)          5.087375\n",
              "Big Lebowski, The (1998)                              5.038690\n",
              "Star Wars: Episode V - The Empire Strikes Back ...    4.989601"
            ],
            "text/html": [
              "\n",
              "  <div id=\"df-9e0cdc1a-93d4-4daa-93b3-c0da6a8da737\" class=\"colab-df-container\">\n",
              "    <div>\n",
              "<style scoped>\n",
              "    .dataframe tbody tr th:only-of-type {\n",
              "        vertical-align: middle;\n",
              "    }\n",
              "\n",
              "    .dataframe tbody tr th {\n",
              "        vertical-align: top;\n",
              "    }\n",
              "\n",
              "    .dataframe thead th {\n",
              "        text-align: right;\n",
              "    }\n",
              "</style>\n",
              "<table border=\"1\" class=\"dataframe\">\n",
              "  <thead>\n",
              "    <tr style=\"text-align: right;\">\n",
              "      <th></th>\n",
              "      <th>pred_score</th>\n",
              "    </tr>\n",
              "    <tr>\n",
              "      <th>title</th>\n",
              "      <th></th>\n",
              "    </tr>\n",
              "  </thead>\n",
              "  <tbody>\n",
              "    <tr>\n",
              "      <th>Rear Window (1954)</th>\n",
              "      <td>5.704612</td>\n",
              "    </tr>\n",
              "    <tr>\n",
              "      <th>South Park: Bigger, Longer and Uncut (1999)</th>\n",
              "      <td>5.451100</td>\n",
              "    </tr>\n",
              "    <tr>\n",
              "      <th>Rounders (1998)</th>\n",
              "      <td>5.298393</td>\n",
              "    </tr>\n",
              "    <tr>\n",
              "      <th>Blade Runner (1982)</th>\n",
              "      <td>5.244951</td>\n",
              "    </tr>\n",
              "    <tr>\n",
              "      <th>Roger &amp; Me (1989)</th>\n",
              "      <td>5.191962</td>\n",
              "    </tr>\n",
              "    <tr>\n",
              "      <th>Gattaca (1997)</th>\n",
              "      <td>5.183179</td>\n",
              "    </tr>\n",
              "    <tr>\n",
              "      <th>Ben-Hur (1959)</th>\n",
              "      <td>5.130463</td>\n",
              "    </tr>\n",
              "    <tr>\n",
              "      <th>Rosencrantz and Guildenstern Are Dead (1990)</th>\n",
              "      <td>5.087375</td>\n",
              "    </tr>\n",
              "    <tr>\n",
              "      <th>Big Lebowski, The (1998)</th>\n",
              "      <td>5.038690</td>\n",
              "    </tr>\n",
              "    <tr>\n",
              "      <th>Star Wars: Episode V - The Empire Strikes Back (1980)</th>\n",
              "      <td>4.989601</td>\n",
              "    </tr>\n",
              "  </tbody>\n",
              "</table>\n",
              "</div>\n",
              "    <div class=\"colab-df-buttons\">\n",
              "\n",
              "  <div class=\"colab-df-container\">\n",
              "    <button class=\"colab-df-convert\" onclick=\"convertToInteractive('df-9e0cdc1a-93d4-4daa-93b3-c0da6a8da737')\"\n",
              "            title=\"Convert this dataframe to an interactive table.\"\n",
              "            style=\"display:none;\">\n",
              "\n",
              "  <svg xmlns=\"http://www.w3.org/2000/svg\" height=\"24px\" viewBox=\"0 -960 960 960\">\n",
              "    <path d=\"M120-120v-720h720v720H120Zm60-500h600v-160H180v160Zm220 220h160v-160H400v160Zm0 220h160v-160H400v160ZM180-400h160v-160H180v160Zm440 0h160v-160H620v160ZM180-180h160v-160H180v160Zm440 0h160v-160H620v160Z\"/>\n",
              "  </svg>\n",
              "    </button>\n",
              "\n",
              "  <style>\n",
              "    .colab-df-container {\n",
              "      display:flex;\n",
              "      gap: 12px;\n",
              "    }\n",
              "\n",
              "    .colab-df-convert {\n",
              "      background-color: #E8F0FE;\n",
              "      border: none;\n",
              "      border-radius: 50%;\n",
              "      cursor: pointer;\n",
              "      display: none;\n",
              "      fill: #1967D2;\n",
              "      height: 32px;\n",
              "      padding: 0 0 0 0;\n",
              "      width: 32px;\n",
              "    }\n",
              "\n",
              "    .colab-df-convert:hover {\n",
              "      background-color: #E2EBFA;\n",
              "      box-shadow: 0px 1px 2px rgba(60, 64, 67, 0.3), 0px 1px 3px 1px rgba(60, 64, 67, 0.15);\n",
              "      fill: #174EA6;\n",
              "    }\n",
              "\n",
              "    .colab-df-buttons div {\n",
              "      margin-bottom: 4px;\n",
              "    }\n",
              "\n",
              "    [theme=dark] .colab-df-convert {\n",
              "      background-color: #3B4455;\n",
              "      fill: #D2E3FC;\n",
              "    }\n",
              "\n",
              "    [theme=dark] .colab-df-convert:hover {\n",
              "      background-color: #434B5C;\n",
              "      box-shadow: 0px 1px 3px 1px rgba(0, 0, 0, 0.15);\n",
              "      filter: drop-shadow(0px 1px 2px rgba(0, 0, 0, 0.3));\n",
              "      fill: #FFFFFF;\n",
              "    }\n",
              "  </style>\n",
              "\n",
              "    <script>\n",
              "      const buttonEl =\n",
              "        document.querySelector('#df-9e0cdc1a-93d4-4daa-93b3-c0da6a8da737 button.colab-df-convert');\n",
              "      buttonEl.style.display =\n",
              "        google.colab.kernel.accessAllowed ? 'block' : 'none';\n",
              "\n",
              "      async function convertToInteractive(key) {\n",
              "        const element = document.querySelector('#df-9e0cdc1a-93d4-4daa-93b3-c0da6a8da737');\n",
              "        const dataTable =\n",
              "          await google.colab.kernel.invokeFunction('convertToInteractive',\n",
              "                                                    [key], {});\n",
              "        if (!dataTable) return;\n",
              "\n",
              "        const docLinkHtml = 'Like what you see? Visit the ' +\n",
              "          '<a target=\"_blank\" href=https://colab.research.google.com/notebooks/data_table.ipynb>data table notebook</a>'\n",
              "          + ' to learn more about interactive tables.';\n",
              "        element.innerHTML = '';\n",
              "        dataTable['output_type'] = 'display_data';\n",
              "        await google.colab.output.renderOutput(dataTable, element);\n",
              "        const docLink = document.createElement('div');\n",
              "        docLink.innerHTML = docLinkHtml;\n",
              "        element.appendChild(docLink);\n",
              "      }\n",
              "    </script>\n",
              "  </div>\n",
              "\n",
              "\n",
              "    <div id=\"df-8b8af25c-4525-486a-9a2b-5face2909c57\">\n",
              "      <button class=\"colab-df-quickchart\" onclick=\"quickchart('df-8b8af25c-4525-486a-9a2b-5face2909c57')\"\n",
              "                title=\"Suggest charts\"\n",
              "                style=\"display:none;\">\n",
              "\n",
              "<svg xmlns=\"http://www.w3.org/2000/svg\" height=\"24px\"viewBox=\"0 0 24 24\"\n",
              "     width=\"24px\">\n",
              "    <g>\n",
              "        <path d=\"M19 3H5c-1.1 0-2 .9-2 2v14c0 1.1.9 2 2 2h14c1.1 0 2-.9 2-2V5c0-1.1-.9-2-2-2zM9 17H7v-7h2v7zm4 0h-2V7h2v10zm4 0h-2v-4h2v4z\"/>\n",
              "    </g>\n",
              "</svg>\n",
              "      </button>\n",
              "\n",
              "<style>\n",
              "  .colab-df-quickchart {\n",
              "      --bg-color: #E8F0FE;\n",
              "      --fill-color: #1967D2;\n",
              "      --hover-bg-color: #E2EBFA;\n",
              "      --hover-fill-color: #174EA6;\n",
              "      --disabled-fill-color: #AAA;\n",
              "      --disabled-bg-color: #DDD;\n",
              "  }\n",
              "\n",
              "  [theme=dark] .colab-df-quickchart {\n",
              "      --bg-color: #3B4455;\n",
              "      --fill-color: #D2E3FC;\n",
              "      --hover-bg-color: #434B5C;\n",
              "      --hover-fill-color: #FFFFFF;\n",
              "      --disabled-bg-color: #3B4455;\n",
              "      --disabled-fill-color: #666;\n",
              "  }\n",
              "\n",
              "  .colab-df-quickchart {\n",
              "    background-color: var(--bg-color);\n",
              "    border: none;\n",
              "    border-radius: 50%;\n",
              "    cursor: pointer;\n",
              "    display: none;\n",
              "    fill: var(--fill-color);\n",
              "    height: 32px;\n",
              "    padding: 0;\n",
              "    width: 32px;\n",
              "  }\n",
              "\n",
              "  .colab-df-quickchart:hover {\n",
              "    background-color: var(--hover-bg-color);\n",
              "    box-shadow: 0 1px 2px rgba(60, 64, 67, 0.3), 0 1px 3px 1px rgba(60, 64, 67, 0.15);\n",
              "    fill: var(--button-hover-fill-color);\n",
              "  }\n",
              "\n",
              "  .colab-df-quickchart-complete:disabled,\n",
              "  .colab-df-quickchart-complete:disabled:hover {\n",
              "    background-color: var(--disabled-bg-color);\n",
              "    fill: var(--disabled-fill-color);\n",
              "    box-shadow: none;\n",
              "  }\n",
              "\n",
              "  .colab-df-spinner {\n",
              "    border: 2px solid var(--fill-color);\n",
              "    border-color: transparent;\n",
              "    border-bottom-color: var(--fill-color);\n",
              "    animation:\n",
              "      spin 1s steps(1) infinite;\n",
              "  }\n",
              "\n",
              "  @keyframes spin {\n",
              "    0% {\n",
              "      border-color: transparent;\n",
              "      border-bottom-color: var(--fill-color);\n",
              "      border-left-color: var(--fill-color);\n",
              "    }\n",
              "    20% {\n",
              "      border-color: transparent;\n",
              "      border-left-color: var(--fill-color);\n",
              "      border-top-color: var(--fill-color);\n",
              "    }\n",
              "    30% {\n",
              "      border-color: transparent;\n",
              "      border-left-color: var(--fill-color);\n",
              "      border-top-color: var(--fill-color);\n",
              "      border-right-color: var(--fill-color);\n",
              "    }\n",
              "    40% {\n",
              "      border-color: transparent;\n",
              "      border-right-color: var(--fill-color);\n",
              "      border-top-color: var(--fill-color);\n",
              "    }\n",
              "    60% {\n",
              "      border-color: transparent;\n",
              "      border-right-color: var(--fill-color);\n",
              "    }\n",
              "    80% {\n",
              "      border-color: transparent;\n",
              "      border-right-color: var(--fill-color);\n",
              "      border-bottom-color: var(--fill-color);\n",
              "    }\n",
              "    90% {\n",
              "      border-color: transparent;\n",
              "      border-bottom-color: var(--fill-color);\n",
              "    }\n",
              "  }\n",
              "</style>\n",
              "\n",
              "      <script>\n",
              "        async function quickchart(key) {\n",
              "          const quickchartButtonEl =\n",
              "            document.querySelector('#' + key + ' button');\n",
              "          quickchartButtonEl.disabled = true;  // To prevent multiple clicks.\n",
              "          quickchartButtonEl.classList.add('colab-df-spinner');\n",
              "          try {\n",
              "            const charts = await google.colab.kernel.invokeFunction(\n",
              "                'suggestCharts', [key], {});\n",
              "          } catch (error) {\n",
              "            console.error('Error during call to suggestCharts:', error);\n",
              "          }\n",
              "          quickchartButtonEl.classList.remove('colab-df-spinner');\n",
              "          quickchartButtonEl.classList.add('colab-df-quickchart-complete');\n",
              "        }\n",
              "        (() => {\n",
              "          let quickchartButtonEl =\n",
              "            document.querySelector('#df-8b8af25c-4525-486a-9a2b-5face2909c57 button');\n",
              "          quickchartButtonEl.style.display =\n",
              "            google.colab.kernel.accessAllowed ? 'block' : 'none';\n",
              "        })();\n",
              "      </script>\n",
              "    </div>\n",
              "\n",
              "  <div id=\"id_5833a895-9482-42f7-acb1-5b9e759d1018\">\n",
              "    <style>\n",
              "      .colab-df-generate {\n",
              "        background-color: #E8F0FE;\n",
              "        border: none;\n",
              "        border-radius: 50%;\n",
              "        cursor: pointer;\n",
              "        display: none;\n",
              "        fill: #1967D2;\n",
              "        height: 32px;\n",
              "        padding: 0 0 0 0;\n",
              "        width: 32px;\n",
              "      }\n",
              "\n",
              "      .colab-df-generate:hover {\n",
              "        background-color: #E2EBFA;\n",
              "        box-shadow: 0px 1px 2px rgba(60, 64, 67, 0.3), 0px 1px 3px 1px rgba(60, 64, 67, 0.15);\n",
              "        fill: #174EA6;\n",
              "      }\n",
              "\n",
              "      [theme=dark] .colab-df-generate {\n",
              "        background-color: #3B4455;\n",
              "        fill: #D2E3FC;\n",
              "      }\n",
              "\n",
              "      [theme=dark] .colab-df-generate:hover {\n",
              "        background-color: #434B5C;\n",
              "        box-shadow: 0px 1px 3px 1px rgba(0, 0, 0, 0.15);\n",
              "        filter: drop-shadow(0px 1px 2px rgba(0, 0, 0, 0.3));\n",
              "        fill: #FFFFFF;\n",
              "      }\n",
              "    </style>\n",
              "    <button class=\"colab-df-generate\" onclick=\"generateWithVariable('recomm_movies')\"\n",
              "            title=\"Generate code using this dataframe.\"\n",
              "            style=\"display:none;\">\n",
              "\n",
              "  <svg xmlns=\"http://www.w3.org/2000/svg\" height=\"24px\"viewBox=\"0 0 24 24\"\n",
              "       width=\"24px\">\n",
              "    <path d=\"M7,19H8.4L18.45,9,17,7.55,7,17.6ZM5,21V16.75L18.45,3.32a2,2,0,0,1,2.83,0l1.4,1.43a1.91,1.91,0,0,1,.58,1.4,1.91,1.91,0,0,1-.58,1.4L9.25,21ZM18.45,9,17,7.55Zm-12,3A5.31,5.31,0,0,0,4.9,8.1,5.31,5.31,0,0,0,1,6.5,5.31,5.31,0,0,0,4.9,4.9,5.31,5.31,0,0,0,6.5,1,5.31,5.31,0,0,0,8.1,4.9,5.31,5.31,0,0,0,12,6.5,5.46,5.46,0,0,0,6.5,12Z\"/>\n",
              "  </svg>\n",
              "    </button>\n",
              "    <script>\n",
              "      (() => {\n",
              "      const buttonEl =\n",
              "        document.querySelector('#id_5833a895-9482-42f7-acb1-5b9e759d1018 button.colab-df-generate');\n",
              "      buttonEl.style.display =\n",
              "        google.colab.kernel.accessAllowed ? 'block' : 'none';\n",
              "\n",
              "      buttonEl.onclick = () => {\n",
              "        google.colab.notebook.generateWithVariable('recomm_movies');\n",
              "      }\n",
              "      })();\n",
              "    </script>\n",
              "  </div>\n",
              "\n",
              "    </div>\n",
              "  </div>\n"
            ],
            "application/vnd.google.colaboratory.intrinsic+json": {
              "type": "dataframe",
              "variable_name": "recomm_movies",
              "summary": "{\n  \"name\": \"recomm_movies\",\n  \"rows\": 10,\n  \"fields\": [\n    {\n      \"column\": \"title\",\n      \"properties\": {\n        \"dtype\": \"string\",\n        \"num_unique_values\": 10,\n        \"samples\": [\n          \"Big Lebowski, The (1998)\",\n          \"South Park: Bigger, Longer and Uncut (1999)\",\n          \"Gattaca (1997)\"\n        ],\n        \"semantic_type\": \"\",\n        \"description\": \"\"\n      }\n    },\n    {\n      \"column\": \"pred_score\",\n      \"properties\": {\n        \"dtype\": \"number\",\n        \"std\": 0.21272885538651393,\n        \"min\": 4.989601238872484,\n        \"max\": 5.704612469838172,\n        \"num_unique_values\": 10,\n        \"samples\": [\n          5.0386897288205725,\n          5.451100205772531,\n          5.183178550884765\n        ],\n        \"semantic_type\": \"\",\n        \"description\": \"\"\n      }\n    }\n  ]\n}"
            }
          },
          "metadata": {},
          "execution_count": 10
        }
      ]
    },
    {
      "cell_type": "markdown",
      "source": [
        "# **파이썬 추천 시스템 패키지 - Surprise**"
      ],
      "metadata": {
        "id": "A_NHWfrSWYZr"
      }
    },
    {
      "cell_type": "markdown",
      "source": [
        "## **Surprise 패키지 소개**"
      ],
      "metadata": {
        "id": "IyOyOTa0Wc9w"
      }
    },
    {
      "cell_type": "markdown",
      "source": [
        "Surprise 패키지는 API를 이용해 쉽게 추천 시스템을 구축할 수 있게 만들어짐\n",
        "\n",
        "주요 장점\n",
        "- 다양한 추천 알고리즘, 예를 들어 사용자 또는 아이템 기반 최근접 이웃 협업 필터링, SVD, SVD++, NMF 기반의 잠재요인 협업 필터링을 쉽게 적용해 추천 시스템 구축 가능\n",
        "- 사이킷런과 유사한 API명 사용\n",
        "    - `fit()`, `predict()`, `train_test_split()`, `cross_validate()` 등 사용"
      ],
      "metadata": {
        "id": "RA8XG2VXWfTU"
      }
    },
    {
      "cell_type": "markdown",
      "source": [
        "## **Surprise를 이용한 추천 시스템 구축**"
      ],
      "metadata": {
        "id": "-vRfGXgBXGoL"
      }
    },
    {
      "cell_type": "code",
      "source": [
        "# 넘파이 버전 다운그레이드\n",
        "!pip install 'numpy<2'"
      ],
      "metadata": {
        "colab": {
          "base_uri": "https://localhost:8080/"
        },
        "id": "MnLTFPdlbrZw",
        "outputId": "566718a9-c0a7-42a0-cefd-e8c513ead948"
      },
      "execution_count": 2,
      "outputs": [
        {
          "output_type": "stream",
          "name": "stdout",
          "text": [
            "Collecting numpy<2\n",
            "  Downloading numpy-1.26.4-cp311-cp311-manylinux_2_17_x86_64.manylinux2014_x86_64.whl.metadata (61 kB)\n",
            "\u001b[?25l     \u001b[90m━━━━━━━━━━━━━━━━━━━━━━━━━━━━━━━━━━━━━━━━\u001b[0m \u001b[32m0.0/61.0 kB\u001b[0m \u001b[31m?\u001b[0m eta \u001b[36m-:--:--\u001b[0m\r\u001b[2K     \u001b[90m━━━━━━━━━━━━━━━━━━━━━━━━━━━━━━━━━━━━━━━━\u001b[0m \u001b[32m61.0/61.0 kB\u001b[0m \u001b[31m4.2 MB/s\u001b[0m eta \u001b[36m0:00:00\u001b[0m\n",
            "\u001b[?25hDownloading numpy-1.26.4-cp311-cp311-manylinux_2_17_x86_64.manylinux2014_x86_64.whl (18.3 MB)\n",
            "\u001b[2K   \u001b[90m━━━━━━━━━━━━━━━━━━━━━━━━━━━━━━━━━━━━━━━━\u001b[0m \u001b[32m18.3/18.3 MB\u001b[0m \u001b[31m68.1 MB/s\u001b[0m eta \u001b[36m0:00:00\u001b[0m\n",
            "\u001b[?25hInstalling collected packages: numpy\n",
            "  Attempting uninstall: numpy\n",
            "    Found existing installation: numpy 2.0.2\n",
            "    Uninstalling numpy-2.0.2:\n",
            "      Successfully uninstalled numpy-2.0.2\n",
            "\u001b[31mERROR: pip's dependency resolver does not currently take into account all the packages that are installed. This behaviour is the source of the following dependency conflicts.\n",
            "thinc 8.3.6 requires numpy<3.0.0,>=2.0.0, but you have numpy 1.26.4 which is incompatible.\u001b[0m\u001b[31m\n",
            "\u001b[0mSuccessfully installed numpy-1.26.4\n"
          ]
        }
      ]
    },
    {
      "cell_type": "code",
      "source": [
        "!pip install scikit-surprise"
      ],
      "metadata": {
        "colab": {
          "base_uri": "https://localhost:8080/"
        },
        "id": "1K0lZkBO1PNY",
        "outputId": "08e7a301-a628-4887-c293-03f8d70bd214"
      },
      "execution_count": 3,
      "outputs": [
        {
          "output_type": "stream",
          "name": "stdout",
          "text": [
            "Collecting scikit-surprise\n",
            "  Downloading scikit_surprise-1.1.4.tar.gz (154 kB)\n",
            "\u001b[?25l     \u001b[90m━━━━━━━━━━━━━━━━━━━━━━━━━━━━━━━━━━━━━━━━\u001b[0m \u001b[32m0.0/154.4 kB\u001b[0m \u001b[31m?\u001b[0m eta \u001b[36m-:--:--\u001b[0m\r\u001b[2K     \u001b[90m━━━━━━━━━━━━━━━━━━━━━━━━━━━━━━━━━━━━━━━\u001b[0m \u001b[32m154.4/154.4 kB\u001b[0m \u001b[31m8.1 MB/s\u001b[0m eta \u001b[36m0:00:00\u001b[0m\n",
            "\u001b[?25h  Installing build dependencies ... \u001b[?25l\u001b[?25hdone\n",
            "  Getting requirements to build wheel ... \u001b[?25l\u001b[?25hdone\n",
            "  Preparing metadata (pyproject.toml) ... \u001b[?25l\u001b[?25hdone\n",
            "Requirement already satisfied: joblib>=1.2.0 in /usr/local/lib/python3.11/dist-packages (from scikit-surprise) (1.4.2)\n",
            "Requirement already satisfied: numpy>=1.19.5 in /usr/local/lib/python3.11/dist-packages (from scikit-surprise) (1.26.4)\n",
            "Requirement already satisfied: scipy>=1.6.0 in /usr/local/lib/python3.11/dist-packages (from scikit-surprise) (1.15.2)\n",
            "Building wheels for collected packages: scikit-surprise\n",
            "  Building wheel for scikit-surprise (pyproject.toml) ... \u001b[?25l\u001b[?25hdone\n",
            "  Created wheel for scikit-surprise: filename=scikit_surprise-1.1.4-cp311-cp311-linux_x86_64.whl size=2505215 sha256=5b36ed37b261e11310b97cf10e6362de97ee5e7a4ed99fca9da5143722b9b017\n",
            "  Stored in directory: /root/.cache/pip/wheels/2a/8f/6e/7e2899163e2d85d8266daab4aa1cdabec7a6c56f83c015b5af\n",
            "Successfully built scikit-surprise\n",
            "Installing collected packages: scikit-surprise\n",
            "Successfully installed scikit-surprise-1.1.4\n"
          ]
        }
      ]
    },
    {
      "cell_type": "code",
      "source": [
        "from surprise import SVD\n",
        "from surprise import Dataset\n",
        "from surprise import accuracy\n",
        "from surprise.model_selection import train_test_split"
      ],
      "metadata": {
        "id": "hiqew2RiWVij"
      },
      "execution_count": 4,
      "outputs": []
    },
    {
      "cell_type": "code",
      "source": [
        "# Surprise에서 데이터 로딩은 Dataset 클래스를 이용해서만 가능\n",
        "# load_builtin : 무비렌즈 사이트에서 제공하는 과거 버전 데이터 세트\n",
        "# ml-100k : 10만 개 평점 데이터, ml-1m : 백만 개 평점 데이터\n",
        "data = Dataset.load_builtin('ml-100k')\n",
        "\n",
        "trainset, testset = train_test_split(data, test_size=.25, random_state=0)"
      ],
      "metadata": {
        "id": "cG96on5VWYAK"
      },
      "execution_count": 5,
      "outputs": []
    },
    {
      "cell_type": "code",
      "source": [
        "# surprise는 자체적으로 로우 레벨의 데이터를 칼럼 레벨의 데이터로 변경\n",
        "# 원본 데이터 세트를 그대로 사용\n",
        "algo = SVD(random_state=0)\n",
        "algo.fit(trainset)"
      ],
      "metadata": {
        "id": "vN76Gy-V0lqu",
        "colab": {
          "base_uri": "https://localhost:8080/"
        },
        "outputId": "9dd3bb2e-e016-4b20-d226-ec2f7f9875cc"
      },
      "execution_count": 6,
      "outputs": [
        {
          "output_type": "execute_result",
          "data": {
            "text/plain": [
              "<surprise.prediction_algorithms.matrix_factorization.SVD at 0x79aa47339410>"
            ]
          },
          "metadata": {},
          "execution_count": 6
        }
      ]
    },
    {
      "cell_type": "code",
      "source": [
        "# test() : 사용자-아이템 평점 데이터 세트 전체에 대해서 추천을 예측\n",
        "# predict() : 개별 사용자와 영화에 대한 추천 평점 반환\n",
        "predictions = algo.test(testset)\n",
        "print('prediction type :', type(predictions), 'size:', len(predictions))\n",
        "print('prediction 결과의 최초 5개 추출')\n",
        "predictions[:5]"
      ],
      "metadata": {
        "colab": {
          "base_uri": "https://localhost:8080/"
        },
        "id": "j_NKh3zCdY48",
        "outputId": "c887d409-0126-482d-884f-00ac32173dc6"
      },
      "execution_count": 7,
      "outputs": [
        {
          "output_type": "stream",
          "name": "stdout",
          "text": [
            "prediction type : <class 'list'> size: 25000\n",
            "prediction 결과의 최초 5개 추출\n"
          ]
        },
        {
          "output_type": "execute_result",
          "data": {
            "text/plain": [
              "[Prediction(uid='120', iid='282', r_ui=4.0, est=3.5114147666251547, details={'was_impossible': False}),\n",
              " Prediction(uid='882', iid='291', r_ui=4.0, est=3.573872419581491, details={'was_impossible': False}),\n",
              " Prediction(uid='535', iid='507', r_ui=5.0, est=4.033583485472447, details={'was_impossible': False}),\n",
              " Prediction(uid='697', iid='244', r_ui=5.0, est=3.8463639495936905, details={'was_impossible': False}),\n",
              " Prediction(uid='751', iid='385', r_ui=4.0, est=3.1807542478219157, details={'was_impossible': False})]"
            ]
          },
          "metadata": {},
          "execution_count": 7
        }
      ]
    },
    {
      "cell_type": "markdown",
      "source": [
        "`test()` 메서드의 호출 결과 설명\n",
        "- type : 파이썬 리스트\n",
        "- size : 입력 인자 데이터 세트의 크기와 동일 (25,000개)\n",
        "- 개별 사용자 아이디(uid), 영화(아이템) 아이디(iid), 실제 평점(r_ui) 정보에 기반하여 추천 예측 평점(est) 데이터를 가짐\n",
        "- details 속성 : 내부 처리 시 추천 예측을 알 수 없는 경우에 로그용으로 데이터를 남기는 데 사용됨\n",
        "    - 'was_impossible'=True 이면 예측값을 생성할 수 없는 데이터라는 의미"
      ],
      "metadata": {
        "id": "H8cy5gEoeRKK"
      }
    },
    {
      "cell_type": "code",
      "source": [
        "[ (pred.uid, pred.iid, pred.est) for pred in predictions[:3]]"
      ],
      "metadata": {
        "colab": {
          "base_uri": "https://localhost:8080/"
        },
        "id": "4XJ3QSv9eAWn",
        "outputId": "c83e6eb1-0204-4937-9be4-b0d4cc239aa7"
      },
      "execution_count": 8,
      "outputs": [
        {
          "output_type": "execute_result",
          "data": {
            "text/plain": [
              "[('120', '282', 3.5114147666251547),\n",
              " ('882', '291', 3.573872419581491),\n",
              " ('535', '507', 4.033583485472447)]"
            ]
          },
          "metadata": {},
          "execution_count": 8
        }
      ]
    },
    {
      "cell_type": "code",
      "source": [
        "# predict() 메서드 사용법\n",
        "# 인자로 개별 사용자 아이디, 아이템 아이디 입력 시 추천 예측 평점을 반환\n",
        "# 입력 인자는 반드시 문자열!\n",
        "uid = str(196)\n",
        "iid = str(302)\n",
        "pred = algo.predict(uid, iid)\n",
        "print(pred)"
      ],
      "metadata": {
        "colab": {
          "base_uri": "https://localhost:8080/"
        },
        "id": "W98D1Y25e-B0",
        "outputId": "e93a8669-ef0c-4234-b094-8c66c3380dbe"
      },
      "execution_count": 9,
      "outputs": [
        {
          "output_type": "stream",
          "name": "stdout",
          "text": [
            "user: 196        item: 302        r_ui = None   est = 4.49   {'was_impossible': False}\n"
          ]
        }
      ]
    },
    {
      "cell_type": "code",
      "source": [
        "# 예측 평점과 실제 평점의 차이 평가 : Surprise의 accuracy 모듈 사용\n",
        "accuracy.rmse(predictions)"
      ],
      "metadata": {
        "colab": {
          "base_uri": "https://localhost:8080/"
        },
        "id": "OfrTgA3NfOFh",
        "outputId": "ab104a78-d795-4a6e-f50a-eaa1f608235c"
      },
      "execution_count": 10,
      "outputs": [
        {
          "output_type": "stream",
          "name": "stdout",
          "text": [
            "RMSE: 0.9467\n"
          ]
        },
        {
          "output_type": "execute_result",
          "data": {
            "text/plain": [
              "0.9466860806937948"
            ]
          },
          "metadata": {},
          "execution_count": 10
        }
      ]
    },
    {
      "cell_type": "markdown",
      "source": [
        "## **Surprise 주요 모듈 소개**"
      ],
      "metadata": {
        "id": "evTlXcuLfp6e"
      }
    },
    {
      "cell_type": "markdown",
      "source": [
        "### **Dataset**"
      ],
      "metadata": {
        "id": "Xl4xUwLXft63"
      }
    },
    {
      "cell_type": "markdown",
      "source": [
        "- surprise는 'user_id'(사용자 아이디), item_id(아이템 아이디), rating(평점) 데이터가 **로우 레벨로 된** 데이터 셋만 적용 가능\n",
        "\n",
        "- 만약 user_id, item_id, rating, time_stamp로 구성된 데이터가 있다면 앞 3개 컬럼만 로딩함.\n",
        "\n",
        "- 일반 데이터 파일이나 판다스 데이터 프레임도 로딩 가능하나 컬럼 순서가 반드시 사용자 아이디, 아이템 아이디, 평점 순이어야 함!!\n",
        "    - Surprise는 순서가 맞춰져 있다고 가정하고 네 번째 칼럼부터는 아예 로딩을 수행하지 않기 때문"
      ],
      "metadata": {
        "id": "XyfL8BG9fxII"
      }
    },
    {
      "cell_type": "markdown",
      "source": [
        "[주요 모듈 소개]\n",
        "\n",
        "- `load_builtin(name='ml-100k)` : 무비렌즈 데이터를 불러올 수 있음\n",
        "    - 디폴트로 ml-100k(10만 개 평점 데이터)를 불러오며 ml-1M(100만 개 평점 데이터)를 불러 올 수 있음\n",
        "- `load_from_file(file_path, reader)` : OS 파일에서 데이터를 로딩할 때 사용\n",
        "    - 콤마(,), tab으로 칼럼이 분리된 포맷의 OS 파일에서 데이터를 로딩\n",
        "\n",
        "- `load_from_df(df, reader)` : 판다스의 DataFrame에서 데이터를 로딩\n",
        "    - df 는 사용자 아이디, 아이템 아이디, 평점 순으로 칼럼 순서가 정해져 있어야 함\n",
        "\n"
      ],
      "metadata": {
        "id": "UfAGDMUeg-HR"
      }
    },
    {
      "cell_type": "markdown",
      "source": [
        "**OS 파일 데이터를 Surprise 데이터 세트로 로딩**\n",
        "\n",
        "Surprise에 OS 파일을 로딩할 때 주의할 점 : 로딩되는 데이터 파일에 칼럼명을 가지는 헤더 문자열이 있어서는 안 됨!!\n",
        "- 칼럼 Header 제거가 필요함\n",
        "\n",
        "Surprise 데이터 세트는 기본적으로 무비렌즈 데이터 형식을 따름\n",
        "- 무비렌즈 데이터 형식이 아닌 다른 OS 파일의 경우 Reader 클래스를 먼저 설정해야 함\n",
        "\n",
        "\n",
        "\n",
        "```\n",
        "Reader(line_format, sep, rating_scale)\n",
        "```\n",
        "- line_format (string) : 칼럼을 순서대로 나열, 입력된 문자열을 공백으로 분리해 칼럼으로 인식함\n",
        "- sep : 칼럼을 분리하는 문자, 판다스 DataFrame에서 입력받을 경우 기재할 필요 없음\n",
        "    - '\\t'가 디폴트\n",
        "- rating_scale (tuple, optional) : 평점값의 최소 ~ 최대 평점 설정\n",
        "    - (1,5)가 디폴트\n"
      ],
      "metadata": {
        "id": "XG14qtoeh59L"
      }
    },
    {
      "cell_type": "code",
      "source": [
        "import pandas as pd\n",
        "\n",
        "ratings = pd.read_csv('/content/drive/MyDrive/Colab Notebooks/ESAA/25-1 OB/ratings.csv')\n",
        "# 인덱스, 헤더 모두 제외한 파일 생성\n",
        "ratings.to_csv('ratings_noh.csv', index=False, header=False)"
      ],
      "metadata": {
        "id": "bGaaqqX5fam-"
      },
      "execution_count": 11,
      "outputs": []
    },
    {
      "cell_type": "code",
      "source": [
        "from surprise import Reader\n",
        "\n",
        "# Reader 클래스를 이용해 데이터 파일의 파싱 포맷을 정의\n",
        "reader = Reader(line_format='user item rating timestamp', sep=',', rating_scale=(0.5,5))\n",
        "data=Dataset.load_from_file('/content/ratings_noh.csv',reader=reader) # 앞의 3개 칼럼만 로딩됨"
      ],
      "metadata": {
        "id": "CYXEdYiJiecR"
      },
      "execution_count": 12,
      "outputs": []
    },
    {
      "cell_type": "code",
      "source": [
        "trainset, testset = train_test_split(data, test_size=0.25, random_state=0)\n",
        "\n",
        "algo = SVD(n_factors=50, random_state=0)\n",
        "\n",
        "# 학습 데이터 세트로 학습하고 나서 테스트 데이터 세트로 평점 예측 후 평가\n",
        "algo.fit(trainset)\n",
        "predictions = algo.test(testset)\n",
        "accuracy.rmse(predictions)"
      ],
      "metadata": {
        "colab": {
          "base_uri": "https://localhost:8080/"
        },
        "id": "KLZIbOiWCt9J",
        "outputId": "ed524d71-ed11-4b41-9842-a5066919eec5"
      },
      "execution_count": 13,
      "outputs": [
        {
          "output_type": "stream",
          "name": "stdout",
          "text": [
            "RMSE: 0.8682\n"
          ]
        },
        {
          "output_type": "execute_result",
          "data": {
            "text/plain": [
              "0.8681952927143516"
            ]
          },
          "metadata": {},
          "execution_count": 13
        }
      ]
    },
    {
      "cell_type": "markdown",
      "source": [
        "**판다스 DataFrame에서 Surprise 데이터 세트로 로딩**\n",
        "\n",
        "`Dataset.load_from_df()`를 이용하면 판다스의 DataFrame에서도 Surpise 데이터 세트로 로딩 가능\n",
        "- 주의할 점 : 칼럼 순서를 지켜야 함 (사용자 아이디, 아이템 아이디, 평점 순)"
      ],
      "metadata": {
        "id": "3OKLgsbHDu3Q"
      }
    },
    {
      "cell_type": "code",
      "source": [
        "import pandas as pd\n",
        "from surprise import Reader, Dataset\n",
        "\n",
        "ratings = pd.read_csv('/content/drive/MyDrive/Colab Notebooks/ESAA/25-1 OB/ratings.csv')\n",
        "reader = Reader(rating_scale=(0.5, 5.0))\n",
        "\n",
        "# 칼럼 순서 맞추기\n",
        "data = Dataset.load_from_df(ratings[['userId','movieId','rating']], reader)\n",
        "trainset, testset = train_test_split(data, test_size=0.25, random_state=0)\n",
        "\n",
        "algo = SVD(n_factors=50, random_state=0)\n",
        "algo.fit(trainset)\n",
        "predictions = algo.test(testset)\n",
        "accuracy.rmse(predictions)"
      ],
      "metadata": {
        "colab": {
          "base_uri": "https://localhost:8080/"
        },
        "id": "_chT-zswEAoW",
        "outputId": "3a0ffb79-fef6-4098-cb01-86ecd57bbc08"
      },
      "execution_count": 14,
      "outputs": [
        {
          "output_type": "stream",
          "name": "stdout",
          "text": [
            "RMSE: 0.8682\n"
          ]
        },
        {
          "output_type": "execute_result",
          "data": {
            "text/plain": [
              "0.8681952927143516"
            ]
          },
          "metadata": {},
          "execution_count": 14
        }
      ]
    },
    {
      "cell_type": "markdown",
      "source": [
        "## **Surprise 추천 알고리즘 클래스**"
      ],
      "metadata": {
        "id": "76SVsotNj7m0"
      }
    },
    {
      "cell_type": "markdown",
      "source": [
        "![surprise](https://img1.daumcdn.net/thumb/R1280x0/?scode=mtistory2&fname=https%3A%2F%2Fblog.kakaocdn.net%2Fdn%2Fs5nS7%2Fbtq5oqzAakj%2FnkFnrsWuDkCX8NZzk9xKfk%2Fimg.png)"
      ],
      "metadata": {
        "id": "iipmlxt7k02S"
      }
    },
    {
      "cell_type": "markdown",
      "source": [
        "Surprise SVD의 비용 함수 : 사용자 베이스라인 편향성을 감안한 평점 예측에 Regularization을 적용한 것\n",
        "\n",
        "[SVD 클래스 입력 파라미터]\n",
        "- n_factors : 잠재 요인 K의 개수\n",
        "    - 100이 디폴트\n",
        "    - 커질수록 정확도가 높아질 수는 있으나 과적합 문제 발생 가능\n",
        "- n_epochs : SGD 수행 시 반복 횟수\n",
        "    - 20이 디폴트\n",
        "- biased (bool) : 베이스라인 사용자 편향 적용 여부 (True가 디폴트)"
      ],
      "metadata": {
        "id": "IIAq6yeFE5ut"
      }
    },
    {
      "cell_type": "markdown",
      "source": [
        "## **베이스라인 평점**"
      ],
      "metadata": {
        "id": "2Y38jfBJkgQY"
      }
    },
    {
      "cell_type": "markdown",
      "source": [
        "베이스라인 평점(Baseline Rating)\n",
        "\n",
        "- 개인의 성향을 반영해 아이템 평가에 편향성(bias) 요소를 반영하여 평점을 부과하는 것\n",
        "- 보통 전체 평균 평점 + 사용자 편향 점수 + 아이템 편향 점수 공식으로 계산됨\n",
        "    - 전체 평균 평점 : 모든 사용자의 아이템에 대한 평점을 평균한 값\n",
        "    - 사용자 편향 점수 : 사용자별 아이템 평점 평균 값 - 전체 평균 평점\n",
        "    - 아이템 편향 점수 : 아이템별 평점 평균 값 - 전체 평균 평점"
      ],
      "metadata": {
        "id": "pD7I9Ssok9ka"
      }
    },
    {
      "cell_type": "markdown",
      "source": [
        "![baseline](https://img1.daumcdn.net/thumb/R1280x0/?scode=mtistory2&fname=https%3A%2F%2Fblog.kakaocdn.net%2Fdn%2FmKSkA%2Fbtq5kZvTtdW%2Fpkm4aU89KdkEnkBNSjzNoK%2Fimg.png)"
      ],
      "metadata": {
        "id": "IqsZHHt7k6MZ"
      }
    },
    {
      "cell_type": "markdown",
      "source": [
        "## **교차 검증과 하이퍼 파라미터 튜닝**"
      ],
      "metadata": {
        "id": "KuSix2FIlgBt"
      }
    },
    {
      "cell_type": "markdown",
      "source": [
        "Surprise는 교차 검증과 하이퍼 파라미터 튜닝을 위해 사이킷런과 유사한 `cross_validate( )`와 `GridSearchCV` 클래스를 제공함"
      ],
      "metadata": {
        "id": "Tp3lOOhClk_t"
      }
    },
    {
      "cell_type": "code",
      "source": [
        "from surprise.model_selection import cross_validate\n",
        "from surprise import Reader\n",
        "\n",
        "# 판다스 DataFrame에서 Surprise 데이터 세트로 로딩\n",
        "ratings = pd.read_csv('/content/drive/MyDrive/Colab Notebooks/ESAA/25-1 OB/ratings.csv')\n",
        "reader = Reader(rating_scale=(0.5, 5))\n",
        "data = Dataset.load_from_df(ratings[['userId','movieId','rating']], reader)\n",
        "\n",
        "algo = SVD(random_state=0)\n",
        "cross_validate(algo, data, measures=['RMSE','MAE'], cv=5, verbose=True)"
      ],
      "metadata": {
        "colab": {
          "base_uri": "https://localhost:8080/"
        },
        "id": "aQgf4kAzj_4Y",
        "outputId": "217052a7-bfae-481b-d221-72368e446bce"
      },
      "execution_count": 15,
      "outputs": [
        {
          "output_type": "stream",
          "name": "stdout",
          "text": [
            "Evaluating RMSE, MAE of algorithm SVD on 5 split(s).\n",
            "\n",
            "                  Fold 1  Fold 2  Fold 3  Fold 4  Fold 5  Mean    Std     \n",
            "RMSE (testset)    0.8791  0.8660  0.8801  0.8792  0.8679  0.8744  0.0062  \n",
            "MAE (testset)     0.6768  0.6654  0.6763  0.6760  0.6668  0.6723  0.0050  \n",
            "Fit time          2.90    1.89    2.27    1.41    1.49    1.99    0.55    \n",
            "Test time         0.23    0.17    0.11    0.10    0.14    0.15    0.05    \n"
          ]
        },
        {
          "output_type": "execute_result",
          "data": {
            "text/plain": [
              "{'test_rmse': array([0.87910334, 0.86596307, 0.88006198, 0.8791724 , 0.86791436]),\n",
              " 'test_mae': array([0.67675128, 0.66540437, 0.67632683, 0.67599688, 0.66683188]),\n",
              " 'fit_time': (2.900792121887207,\n",
              "  1.8940305709838867,\n",
              "  2.26613450050354,\n",
              "  1.4081368446350098,\n",
              "  1.4898521900177002),\n",
              " 'test_time': (0.22984623908996582,\n",
              "  0.17318940162658691,\n",
              "  0.11163926124572754,\n",
              "  0.1018829345703125,\n",
              "  0.1359539031982422)}"
            ]
          },
          "metadata": {},
          "execution_count": 15
        }
      ]
    },
    {
      "cell_type": "code",
      "source": [
        "from surprise.model_selection import GridSearchCV\n",
        "\n",
        "# 최적화할 파라미터를 딕셔너리 형태로 지정\n",
        "param_grid = {'n_epochs':[20,40,60], 'n_factors':[50,100,200]}\n",
        "\n",
        "# CV를 3개 폴드 세트로 지정, 성능 평가는 rmse, mse로 수행하도록 구성\n",
        "gs = GridSearchCV(SVD, param_grid, measures=['rmse','mae'], cv=3)\n",
        "gs.fit(data)\n",
        "\n",
        "# 최고 RMSE Evaluation 점수와 그 때의 하이퍼 파라미터 출력\n",
        "print(gs.best_score['rmse'])\n",
        "print(gs.best_params['rmse'])"
      ],
      "metadata": {
        "colab": {
          "base_uri": "https://localhost:8080/"
        },
        "id": "eGXsV_LenDbO",
        "outputId": "e97e26d6-4807-472f-a464-b997817220cb"
      },
      "execution_count": 16,
      "outputs": [
        {
          "output_type": "stream",
          "name": "stdout",
          "text": [
            "0.8762781184340706\n",
            "{'n_epochs': 20, 'n_factors': 50}\n"
          ]
        }
      ]
    },
    {
      "cell_type": "markdown",
      "source": [
        "## **Surprise를 이용한 개인화 영화 추천 시스템 구축**"
      ],
      "metadata": {
        "id": "tDtjH6gun8Pd"
      }
    },
    {
      "cell_type": "code",
      "source": [
        "# train_test_split()으로 분리되지 않는 데이터 세트에 fit()을 호출하면 오류 발생\n",
        "data=Dataset.load_from_df(ratings[['userId','movieId','rating']], reader)\n",
        "algo = SVD(n_factors=50, random_state=0)\n",
        "algo.fit(data)"
      ],
      "metadata": {
        "id": "oODRNnL3nzGW",
        "colab": {
          "base_uri": "https://localhost:8080/",
          "height": 279
        },
        "outputId": "91569975-265a-41b0-ee24-a8a65b1ce74d"
      },
      "execution_count": 18,
      "outputs": [
        {
          "output_type": "error",
          "ename": "AttributeError",
          "evalue": "'DatasetAutoFolds' object has no attribute 'n_users'",
          "traceback": [
            "\u001b[0;31m---------------------------------------------------------------------------\u001b[0m",
            "\u001b[0;31mAttributeError\u001b[0m                            Traceback (most recent call last)",
            "\u001b[0;32m<ipython-input-18-2e1ebe9fda28>\u001b[0m in \u001b[0;36m<cell line: 0>\u001b[0;34m()\u001b[0m\n\u001b[1;32m      2\u001b[0m \u001b[0mdata\u001b[0m\u001b[0;34m=\u001b[0m\u001b[0mDataset\u001b[0m\u001b[0;34m.\u001b[0m\u001b[0mload_from_df\u001b[0m\u001b[0;34m(\u001b[0m\u001b[0mratings\u001b[0m\u001b[0;34m[\u001b[0m\u001b[0;34m[\u001b[0m\u001b[0;34m'userId'\u001b[0m\u001b[0;34m,\u001b[0m\u001b[0;34m'movieId'\u001b[0m\u001b[0;34m,\u001b[0m\u001b[0;34m'rating'\u001b[0m\u001b[0;34m]\u001b[0m\u001b[0;34m]\u001b[0m\u001b[0;34m,\u001b[0m \u001b[0mreader\u001b[0m\u001b[0;34m)\u001b[0m\u001b[0;34m\u001b[0m\u001b[0;34m\u001b[0m\u001b[0m\n\u001b[1;32m      3\u001b[0m \u001b[0malgo\u001b[0m \u001b[0;34m=\u001b[0m \u001b[0mSVD\u001b[0m\u001b[0;34m(\u001b[0m\u001b[0mn_factors\u001b[0m\u001b[0;34m=\u001b[0m\u001b[0;36m50\u001b[0m\u001b[0;34m,\u001b[0m \u001b[0mrandom_state\u001b[0m\u001b[0;34m=\u001b[0m\u001b[0;36m0\u001b[0m\u001b[0;34m)\u001b[0m\u001b[0;34m\u001b[0m\u001b[0;34m\u001b[0m\u001b[0m\n\u001b[0;32m----> 4\u001b[0;31m \u001b[0malgo\u001b[0m\u001b[0;34m.\u001b[0m\u001b[0mfit\u001b[0m\u001b[0;34m(\u001b[0m\u001b[0mdata\u001b[0m\u001b[0;34m)\u001b[0m\u001b[0;34m\u001b[0m\u001b[0;34m\u001b[0m\u001b[0m\n\u001b[0m",
            "\u001b[0;32m/usr/local/lib/python3.11/dist-packages/surprise/prediction_algorithms/matrix_factorization.pyx\u001b[0m in \u001b[0;36msurprise.prediction_algorithms.matrix_factorization.SVD.fit\u001b[0;34m()\u001b[0m\n",
            "\u001b[0;32m/usr/local/lib/python3.11/dist-packages/surprise/prediction_algorithms/matrix_factorization.pyx\u001b[0m in \u001b[0;36msurprise.prediction_algorithms.matrix_factorization.SVD.sgd\u001b[0;34m()\u001b[0m\n",
            "\u001b[0;31mAttributeError\u001b[0m: 'DatasetAutoFolds' object has no attribute 'n_users'"
          ]
        }
      ]
    },
    {
      "cell_type": "code",
      "source": [
        "from surprise.dataset import DatasetAutoFolds\n",
        "\n",
        "reader = Reader(line_format='user item rating timestamp', sep=',', rating_scale=(0.5,5))\n",
        "data_folds = DatasetAutoFolds(ratings_file='/content/ratings_noh.csv', reader=reader)\n",
        "\n",
        "# 전체 데이터를 학습 데이터로 생성\n",
        "trainset = data_folds.build_full_trainset()"
      ],
      "metadata": {
        "id": "k0FZHB8HF79K"
      },
      "execution_count": 19,
      "outputs": []
    },
    {
      "cell_type": "code",
      "source": [
        "algo = SVD(n_epochs=20, n_factors=50, random_state=0)\n",
        "algo.fit(trainset)"
      ],
      "metadata": {
        "colab": {
          "base_uri": "https://localhost:8080/"
        },
        "id": "5mWnQIxvGYXB",
        "outputId": "ad17d2b5-be13-4c4c-d082-3b45fa59b338"
      },
      "execution_count": 25,
      "outputs": [
        {
          "output_type": "execute_result",
          "data": {
            "text/plain": [
              "<surprise.prediction_algorithms.matrix_factorization.SVD at 0x7864ebeb3050>"
            ]
          },
          "metadata": {},
          "execution_count": 25
        }
      ]
    },
    {
      "cell_type": "code",
      "source": [
        "# 영화에 대한 상세 속성 정보 DataFrame 로딩\n",
        "movies = pd.read_csv('/content/drive/MyDrive/Colab Notebooks/ESAA/25-1 OB/movies.csv')\n",
        "\n",
        "# userId=9의 movieId 데이터를 추출해 movieId=42 데이터가 있는지 확인\n",
        "movieIds = ratings[ratings['userId']==9]['movieId']\n",
        "\n",
        "if movieIds[movieIds==42].count() ==0:\n",
        "    print('사용자 아이디 9는 영화 아이디 42의 평점 없음')\n",
        "\n",
        "print(movies[movies['movieId']==42])"
      ],
      "metadata": {
        "colab": {
          "base_uri": "https://localhost:8080/"
        },
        "id": "BoHuRGTBG5H5",
        "outputId": "b732bf38-97f2-4c70-ef6f-1e4da71641a6"
      },
      "execution_count": 26,
      "outputs": [
        {
          "output_type": "stream",
          "name": "stdout",
          "text": [
            "사용자 아이디 9는 영화 아이디 42의 평점 없음\n",
            "    movieId                   title              genres\n",
            "38       42  Dead Presidents (1995)  Action|Crime|Drama\n"
          ]
        }
      ]
    },
    {
      "cell_type": "code",
      "source": [
        "# predict() 메서드를 이용하여 특정 사용자의 예상 평점 계산\n",
        "uid = str(9)\n",
        "iid = str(42)\n",
        "\n",
        "pred = algo.predict(uid, iid, verbose=True)"
      ],
      "metadata": {
        "colab": {
          "base_uri": "https://localhost:8080/"
        },
        "id": "QN2keiupHL0u",
        "outputId": "395c6c10-5e1d-45ac-e61e-9e3b1b9a5d3a"
      },
      "execution_count": 27,
      "outputs": [
        {
          "output_type": "stream",
          "name": "stdout",
          "text": [
            "user: 9          item: 42         r_ui = None   est = 3.13   {'was_impossible': False}\n"
          ]
        }
      ]
    },
    {
      "cell_type": "code",
      "source": [
        "# 사용자가 평점을 매기지 않은 전체 영화에 대한 예측 평점 계산\n",
        "def get_unseen_surprise(ratings, movies, userId):\n",
        "    seen_movies = ratings[ratings['userId']==userId]['movieId'].tolist()\n",
        "    total_movies = movies['movieId'].tolist()\n",
        "\n",
        "    unseen_movies = [movie for movie in total_movies if movie not in seen_movies]\n",
        "    print('평점 매긴 영화 수:', len(seen_movies), '추천 대상 영화 수:', len(unseen_movies),\n",
        "          '전체 영화 수:', len(total_movies))\n",
        "\n",
        "    return unseen_movies\n",
        "\n",
        "unseen_movies = get_unseen_surprise(ratings, movies, 9)"
      ],
      "metadata": {
        "colab": {
          "base_uri": "https://localhost:8080/"
        },
        "id": "768dhasiIP8p",
        "outputId": "0144dc0f-c530-40f6-85c2-451ab5d5c3e1"
      },
      "execution_count": 29,
      "outputs": [
        {
          "output_type": "stream",
          "name": "stdout",
          "text": [
            "평점 매긴 영화 수: 46 추천 대상 영화 수: 9696 전체 영화 수: 9742\n"
          ]
        }
      ]
    },
    {
      "cell_type": "code",
      "source": [
        "def recomm_movie_by_surprise(algo, userId, unseen_movies, top_n=10):\n",
        "    # 알고리즘 객체의 predict 메서드를 평점이 없는 영화에 반복 수행한 후 결과를 list로 저장\n",
        "    predictions = [algo.predict(str(userId), str(movieId)) for movieId in unseen_movies]\n",
        "\n",
        "    # predictions list 객체는 surprise의 Prediction 객체를 원소로 가짐\n",
        "    # 이를 est 값으로 정렬하기 위해 sortkey_est 함수 정의\n",
        "    def sortkey_est(pred):\n",
        "        return pred.est\n",
        "\n",
        "    predictions.sort(key=sortkey_est, reverse=True)\n",
        "    top_predictions = predictions[:top_n]\n",
        "\n",
        "    # top_n으로 추출된 영화의 정보 추출\n",
        "    top_movie_ids = [int(pred.iid) for pred in top_predictions]\n",
        "    top_movie_rating = [pred.est for pred in top_predictions]\n",
        "    top_movie_titles = movies[movies.movieId.isin(top_movie_ids)]['title']\n",
        "\n",
        "    top_movie_preds = [(id, title, rating) for id, title, rating in\n",
        "                       zip(top_movie_ids, top_movie_titles, top_movie_rating)]\n",
        "\n",
        "    return top_movie_preds\n",
        "\n",
        "unseen_movies = get_unseen_surprise(ratings, movies, 9)\n",
        "top_movie_preds = recomm_movie_by_surprise(algo, 9, unseen_movies, top_n=10)\n",
        "\n",
        "print('#### Top-10 추천 영화 리스트 ####')\n",
        "for top_movie in top_movie_preds:\n",
        "    print(top_movie[1], ':', top_movie[2])"
      ],
      "metadata": {
        "colab": {
          "base_uri": "https://localhost:8080/"
        },
        "id": "5pY2fH8ZI42f",
        "outputId": "59fc7b89-70f4-4a63-9034-b4c5ec2a4146"
      },
      "execution_count": 30,
      "outputs": [
        {
          "output_type": "stream",
          "name": "stdout",
          "text": [
            "평점 매긴 영화 수: 46 추천 대상 영화 수: 9696 전체 영화 수: 9742\n",
            "#### Top-10 추천 영화 리스트 ####\n",
            "Usual Suspects, The (1995) : 4.306302135700814\n",
            "Star Wars: Episode IV - A New Hope (1977) : 4.281663842987387\n",
            "Pulp Fiction (1994) : 4.278152632122759\n",
            "Silence of the Lambs, The (1991) : 4.226073566460876\n",
            "Godfather, The (1972) : 4.1918097904381995\n",
            "Streetcar Named Desire, A (1951) : 4.154746591122657\n",
            "Star Wars: Episode V - The Empire Strikes Back (1980) : 4.122016128534504\n",
            "Star Wars: Episode VI - Return of the Jedi (1983) : 4.108009609093436\n",
            "Goodfellas (1990) : 4.083464936588478\n",
            "Glory (1989) : 4.07887165526957\n"
          ]
        }
      ]
    }
  ]
}
