{
  "nbformat": 4,
  "nbformat_minor": 0,
  "metadata": {
    "colab": {
      "provenance": [],
      "authorship_tag": "ABX9TyODEZm9myZX5lNWXUvTenJq",
      "include_colab_link": true
    },
    "kernelspec": {
      "name": "python3",
      "display_name": "Python 3"
    },
    "language_info": {
      "name": "python"
    }
  },
  "cells": [
    {
      "cell_type": "markdown",
      "metadata": {
        "id": "view-in-github",
        "colab_type": "text"
      },
      "source": [
        "<a href=\"https://colab.research.google.com/github/wheemin-2/25-1-ESAA/blob/main/0509_HW_Pytorch.ipynb\" target=\"_parent\"><img src=\"https://colab.research.google.com/assets/colab-badge.svg\" alt=\"Open In Colab\"/></a>"
      ]
    },
    {
      "cell_type": "markdown",
      "source": [
        "# **파이토치 기초**"
      ],
      "metadata": {
        "id": "LzXvQnL13UaQ"
      }
    },
    {
      "cell_type": "markdown",
      "source": [],
      "metadata": {
        "id": "Lll50dDG50RH"
      }
    },
    {
      "cell_type": "markdown",
      "source": [
        "파이토치를 활용한 간단한 분류 및 회귀 모델 구현 연습\n",
        "\n",
        "car_evaluation 데이터 사용\n",
        "- feature : price, maint(유지 비용), doors(문 개수), persons(수용 인원), lug_capacity(수하물 용량), safety(안정성)\n",
        "- target : output(차 상태)\n",
        "    - unacc(허용 불가능한 수준)부터 very good(매우 좋은) 까지의 값을 가짐"
      ],
      "metadata": {
        "id": "PZ3XwAPP3heY"
      }
    },
    {
      "cell_type": "code",
      "execution_count": 1,
      "metadata": {
        "id": "M2_NqaoI291J"
      },
      "outputs": [],
      "source": [
        "# 필요한 라이브러리 호출\n",
        "import torch\n",
        "import torch.nn as nn\n",
        "import numpy as np\n",
        "import pandas as pd\n",
        "import matplotlib.pyplot as plt\n",
        "import seaborn as sns\n",
        "%matplotlib inline"
      ]
    },
    {
      "cell_type": "code",
      "source": [
        "# 데이터 로드\n",
        "from google.colab import drive\n",
        "drive.mount('/content/drive')"
      ],
      "metadata": {
        "colab": {
          "base_uri": "https://localhost:8080/"
        },
        "id": "Tji5CD8U4joF",
        "outputId": "cf631e03-5f82-4387-e46e-41b53d50b320"
      },
      "execution_count": 2,
      "outputs": [
        {
          "output_type": "stream",
          "name": "stdout",
          "text": [
            "Mounted at /content/drive\n"
          ]
        }
      ]
    },
    {
      "cell_type": "code",
      "source": [
        "dataset = pd.read_csv('/content/drive/MyDrive/Colab Notebooks/ESAA/25-1 OB/car_evaluation.csv')\n",
        "dataset.head()"
      ],
      "metadata": {
        "colab": {
          "base_uri": "https://localhost:8080/",
          "height": 206
        },
        "id": "DbC3m3fc4qfi",
        "outputId": "b0434e32-095c-474b-cd7e-666eaa7ec2c8"
      },
      "execution_count": 3,
      "outputs": [
        {
          "output_type": "execute_result",
          "data": {
            "text/plain": [
              "   price  maint doors persons lug_capacity safety output\n",
              "0  vhigh  vhigh     2       2        small    low  unacc\n",
              "1  vhigh  vhigh     2       2        small    med  unacc\n",
              "2  vhigh  vhigh     2       2        small   high  unacc\n",
              "3  vhigh  vhigh     2       2          med    low  unacc\n",
              "4  vhigh  vhigh     2       2          med    med  unacc"
            ],
            "text/html": [
              "\n",
              "  <div id=\"df-3aad0dd2-a22d-4957-8004-99a5c84551f4\" class=\"colab-df-container\">\n",
              "    <div>\n",
              "<style scoped>\n",
              "    .dataframe tbody tr th:only-of-type {\n",
              "        vertical-align: middle;\n",
              "    }\n",
              "\n",
              "    .dataframe tbody tr th {\n",
              "        vertical-align: top;\n",
              "    }\n",
              "\n",
              "    .dataframe thead th {\n",
              "        text-align: right;\n",
              "    }\n",
              "</style>\n",
              "<table border=\"1\" class=\"dataframe\">\n",
              "  <thead>\n",
              "    <tr style=\"text-align: right;\">\n",
              "      <th></th>\n",
              "      <th>price</th>\n",
              "      <th>maint</th>\n",
              "      <th>doors</th>\n",
              "      <th>persons</th>\n",
              "      <th>lug_capacity</th>\n",
              "      <th>safety</th>\n",
              "      <th>output</th>\n",
              "    </tr>\n",
              "  </thead>\n",
              "  <tbody>\n",
              "    <tr>\n",
              "      <th>0</th>\n",
              "      <td>vhigh</td>\n",
              "      <td>vhigh</td>\n",
              "      <td>2</td>\n",
              "      <td>2</td>\n",
              "      <td>small</td>\n",
              "      <td>low</td>\n",
              "      <td>unacc</td>\n",
              "    </tr>\n",
              "    <tr>\n",
              "      <th>1</th>\n",
              "      <td>vhigh</td>\n",
              "      <td>vhigh</td>\n",
              "      <td>2</td>\n",
              "      <td>2</td>\n",
              "      <td>small</td>\n",
              "      <td>med</td>\n",
              "      <td>unacc</td>\n",
              "    </tr>\n",
              "    <tr>\n",
              "      <th>2</th>\n",
              "      <td>vhigh</td>\n",
              "      <td>vhigh</td>\n",
              "      <td>2</td>\n",
              "      <td>2</td>\n",
              "      <td>small</td>\n",
              "      <td>high</td>\n",
              "      <td>unacc</td>\n",
              "    </tr>\n",
              "    <tr>\n",
              "      <th>3</th>\n",
              "      <td>vhigh</td>\n",
              "      <td>vhigh</td>\n",
              "      <td>2</td>\n",
              "      <td>2</td>\n",
              "      <td>med</td>\n",
              "      <td>low</td>\n",
              "      <td>unacc</td>\n",
              "    </tr>\n",
              "    <tr>\n",
              "      <th>4</th>\n",
              "      <td>vhigh</td>\n",
              "      <td>vhigh</td>\n",
              "      <td>2</td>\n",
              "      <td>2</td>\n",
              "      <td>med</td>\n",
              "      <td>med</td>\n",
              "      <td>unacc</td>\n",
              "    </tr>\n",
              "  </tbody>\n",
              "</table>\n",
              "</div>\n",
              "    <div class=\"colab-df-buttons\">\n",
              "\n",
              "  <div class=\"colab-df-container\">\n",
              "    <button class=\"colab-df-convert\" onclick=\"convertToInteractive('df-3aad0dd2-a22d-4957-8004-99a5c84551f4')\"\n",
              "            title=\"Convert this dataframe to an interactive table.\"\n",
              "            style=\"display:none;\">\n",
              "\n",
              "  <svg xmlns=\"http://www.w3.org/2000/svg\" height=\"24px\" viewBox=\"0 -960 960 960\">\n",
              "    <path d=\"M120-120v-720h720v720H120Zm60-500h600v-160H180v160Zm220 220h160v-160H400v160Zm0 220h160v-160H400v160ZM180-400h160v-160H180v160Zm440 0h160v-160H620v160ZM180-180h160v-160H180v160Zm440 0h160v-160H620v160Z\"/>\n",
              "  </svg>\n",
              "    </button>\n",
              "\n",
              "  <style>\n",
              "    .colab-df-container {\n",
              "      display:flex;\n",
              "      gap: 12px;\n",
              "    }\n",
              "\n",
              "    .colab-df-convert {\n",
              "      background-color: #E8F0FE;\n",
              "      border: none;\n",
              "      border-radius: 50%;\n",
              "      cursor: pointer;\n",
              "      display: none;\n",
              "      fill: #1967D2;\n",
              "      height: 32px;\n",
              "      padding: 0 0 0 0;\n",
              "      width: 32px;\n",
              "    }\n",
              "\n",
              "    .colab-df-convert:hover {\n",
              "      background-color: #E2EBFA;\n",
              "      box-shadow: 0px 1px 2px rgba(60, 64, 67, 0.3), 0px 1px 3px 1px rgba(60, 64, 67, 0.15);\n",
              "      fill: #174EA6;\n",
              "    }\n",
              "\n",
              "    .colab-df-buttons div {\n",
              "      margin-bottom: 4px;\n",
              "    }\n",
              "\n",
              "    [theme=dark] .colab-df-convert {\n",
              "      background-color: #3B4455;\n",
              "      fill: #D2E3FC;\n",
              "    }\n",
              "\n",
              "    [theme=dark] .colab-df-convert:hover {\n",
              "      background-color: #434B5C;\n",
              "      box-shadow: 0px 1px 3px 1px rgba(0, 0, 0, 0.15);\n",
              "      filter: drop-shadow(0px 1px 2px rgba(0, 0, 0, 0.3));\n",
              "      fill: #FFFFFF;\n",
              "    }\n",
              "  </style>\n",
              "\n",
              "    <script>\n",
              "      const buttonEl =\n",
              "        document.querySelector('#df-3aad0dd2-a22d-4957-8004-99a5c84551f4 button.colab-df-convert');\n",
              "      buttonEl.style.display =\n",
              "        google.colab.kernel.accessAllowed ? 'block' : 'none';\n",
              "\n",
              "      async function convertToInteractive(key) {\n",
              "        const element = document.querySelector('#df-3aad0dd2-a22d-4957-8004-99a5c84551f4');\n",
              "        const dataTable =\n",
              "          await google.colab.kernel.invokeFunction('convertToInteractive',\n",
              "                                                    [key], {});\n",
              "        if (!dataTable) return;\n",
              "\n",
              "        const docLinkHtml = 'Like what you see? Visit the ' +\n",
              "          '<a target=\"_blank\" href=https://colab.research.google.com/notebooks/data_table.ipynb>data table notebook</a>'\n",
              "          + ' to learn more about interactive tables.';\n",
              "        element.innerHTML = '';\n",
              "        dataTable['output_type'] = 'display_data';\n",
              "        await google.colab.output.renderOutput(dataTable, element);\n",
              "        const docLink = document.createElement('div');\n",
              "        docLink.innerHTML = docLinkHtml;\n",
              "        element.appendChild(docLink);\n",
              "      }\n",
              "    </script>\n",
              "  </div>\n",
              "\n",
              "\n",
              "    <div id=\"df-eabc9ff0-6444-4db9-9928-496f0ac401e6\">\n",
              "      <button class=\"colab-df-quickchart\" onclick=\"quickchart('df-eabc9ff0-6444-4db9-9928-496f0ac401e6')\"\n",
              "                title=\"Suggest charts\"\n",
              "                style=\"display:none;\">\n",
              "\n",
              "<svg xmlns=\"http://www.w3.org/2000/svg\" height=\"24px\"viewBox=\"0 0 24 24\"\n",
              "     width=\"24px\">\n",
              "    <g>\n",
              "        <path d=\"M19 3H5c-1.1 0-2 .9-2 2v14c0 1.1.9 2 2 2h14c1.1 0 2-.9 2-2V5c0-1.1-.9-2-2-2zM9 17H7v-7h2v7zm4 0h-2V7h2v10zm4 0h-2v-4h2v4z\"/>\n",
              "    </g>\n",
              "</svg>\n",
              "      </button>\n",
              "\n",
              "<style>\n",
              "  .colab-df-quickchart {\n",
              "      --bg-color: #E8F0FE;\n",
              "      --fill-color: #1967D2;\n",
              "      --hover-bg-color: #E2EBFA;\n",
              "      --hover-fill-color: #174EA6;\n",
              "      --disabled-fill-color: #AAA;\n",
              "      --disabled-bg-color: #DDD;\n",
              "  }\n",
              "\n",
              "  [theme=dark] .colab-df-quickchart {\n",
              "      --bg-color: #3B4455;\n",
              "      --fill-color: #D2E3FC;\n",
              "      --hover-bg-color: #434B5C;\n",
              "      --hover-fill-color: #FFFFFF;\n",
              "      --disabled-bg-color: #3B4455;\n",
              "      --disabled-fill-color: #666;\n",
              "  }\n",
              "\n",
              "  .colab-df-quickchart {\n",
              "    background-color: var(--bg-color);\n",
              "    border: none;\n",
              "    border-radius: 50%;\n",
              "    cursor: pointer;\n",
              "    display: none;\n",
              "    fill: var(--fill-color);\n",
              "    height: 32px;\n",
              "    padding: 0;\n",
              "    width: 32px;\n",
              "  }\n",
              "\n",
              "  .colab-df-quickchart:hover {\n",
              "    background-color: var(--hover-bg-color);\n",
              "    box-shadow: 0 1px 2px rgba(60, 64, 67, 0.3), 0 1px 3px 1px rgba(60, 64, 67, 0.15);\n",
              "    fill: var(--button-hover-fill-color);\n",
              "  }\n",
              "\n",
              "  .colab-df-quickchart-complete:disabled,\n",
              "  .colab-df-quickchart-complete:disabled:hover {\n",
              "    background-color: var(--disabled-bg-color);\n",
              "    fill: var(--disabled-fill-color);\n",
              "    box-shadow: none;\n",
              "  }\n",
              "\n",
              "  .colab-df-spinner {\n",
              "    border: 2px solid var(--fill-color);\n",
              "    border-color: transparent;\n",
              "    border-bottom-color: var(--fill-color);\n",
              "    animation:\n",
              "      spin 1s steps(1) infinite;\n",
              "  }\n",
              "\n",
              "  @keyframes spin {\n",
              "    0% {\n",
              "      border-color: transparent;\n",
              "      border-bottom-color: var(--fill-color);\n",
              "      border-left-color: var(--fill-color);\n",
              "    }\n",
              "    20% {\n",
              "      border-color: transparent;\n",
              "      border-left-color: var(--fill-color);\n",
              "      border-top-color: var(--fill-color);\n",
              "    }\n",
              "    30% {\n",
              "      border-color: transparent;\n",
              "      border-left-color: var(--fill-color);\n",
              "      border-top-color: var(--fill-color);\n",
              "      border-right-color: var(--fill-color);\n",
              "    }\n",
              "    40% {\n",
              "      border-color: transparent;\n",
              "      border-right-color: var(--fill-color);\n",
              "      border-top-color: var(--fill-color);\n",
              "    }\n",
              "    60% {\n",
              "      border-color: transparent;\n",
              "      border-right-color: var(--fill-color);\n",
              "    }\n",
              "    80% {\n",
              "      border-color: transparent;\n",
              "      border-right-color: var(--fill-color);\n",
              "      border-bottom-color: var(--fill-color);\n",
              "    }\n",
              "    90% {\n",
              "      border-color: transparent;\n",
              "      border-bottom-color: var(--fill-color);\n",
              "    }\n",
              "  }\n",
              "</style>\n",
              "\n",
              "      <script>\n",
              "        async function quickchart(key) {\n",
              "          const quickchartButtonEl =\n",
              "            document.querySelector('#' + key + ' button');\n",
              "          quickchartButtonEl.disabled = true;  // To prevent multiple clicks.\n",
              "          quickchartButtonEl.classList.add('colab-df-spinner');\n",
              "          try {\n",
              "            const charts = await google.colab.kernel.invokeFunction(\n",
              "                'suggestCharts', [key], {});\n",
              "          } catch (error) {\n",
              "            console.error('Error during call to suggestCharts:', error);\n",
              "          }\n",
              "          quickchartButtonEl.classList.remove('colab-df-spinner');\n",
              "          quickchartButtonEl.classList.add('colab-df-quickchart-complete');\n",
              "        }\n",
              "        (() => {\n",
              "          let quickchartButtonEl =\n",
              "            document.querySelector('#df-eabc9ff0-6444-4db9-9928-496f0ac401e6 button');\n",
              "          quickchartButtonEl.style.display =\n",
              "            google.colab.kernel.accessAllowed ? 'block' : 'none';\n",
              "        })();\n",
              "      </script>\n",
              "    </div>\n",
              "\n",
              "    </div>\n",
              "  </div>\n"
            ],
            "application/vnd.google.colaboratory.intrinsic+json": {
              "type": "dataframe",
              "variable_name": "dataset",
              "summary": "{\n  \"name\": \"dataset\",\n  \"rows\": 1728,\n  \"fields\": [\n    {\n      \"column\": \"price\",\n      \"properties\": {\n        \"dtype\": \"category\",\n        \"num_unique_values\": 4,\n        \"samples\": [\n          \"high\",\n          \"low\",\n          \"vhigh\"\n        ],\n        \"semantic_type\": \"\",\n        \"description\": \"\"\n      }\n    },\n    {\n      \"column\": \"maint\",\n      \"properties\": {\n        \"dtype\": \"category\",\n        \"num_unique_values\": 4,\n        \"samples\": [\n          \"high\",\n          \"low\",\n          \"vhigh\"\n        ],\n        \"semantic_type\": \"\",\n        \"description\": \"\"\n      }\n    },\n    {\n      \"column\": \"doors\",\n      \"properties\": {\n        \"dtype\": \"category\",\n        \"num_unique_values\": 4,\n        \"samples\": [\n          \"3\",\n          \"5more\",\n          \"2\"\n        ],\n        \"semantic_type\": \"\",\n        \"description\": \"\"\n      }\n    },\n    {\n      \"column\": \"persons\",\n      \"properties\": {\n        \"dtype\": \"category\",\n        \"num_unique_values\": 3,\n        \"samples\": [\n          \"2\",\n          \"4\",\n          \"more\"\n        ],\n        \"semantic_type\": \"\",\n        \"description\": \"\"\n      }\n    },\n    {\n      \"column\": \"lug_capacity\",\n      \"properties\": {\n        \"dtype\": \"category\",\n        \"num_unique_values\": 3,\n        \"samples\": [\n          \"small\",\n          \"med\",\n          \"big\"\n        ],\n        \"semantic_type\": \"\",\n        \"description\": \"\"\n      }\n    },\n    {\n      \"column\": \"safety\",\n      \"properties\": {\n        \"dtype\": \"category\",\n        \"num_unique_values\": 3,\n        \"samples\": [\n          \"low\",\n          \"med\",\n          \"high\"\n        ],\n        \"semantic_type\": \"\",\n        \"description\": \"\"\n      }\n    },\n    {\n      \"column\": \"output\",\n      \"properties\": {\n        \"dtype\": \"category\",\n        \"num_unique_values\": 4,\n        \"samples\": [\n          \"acc\",\n          \"good\",\n          \"unacc\"\n        ],\n        \"semantic_type\": \"\",\n        \"description\": \"\"\n      }\n    }\n  ]\n}"
            }
          },
          "metadata": {},
          "execution_count": 3
        }
      ]
    },
    {
      "cell_type": "code",
      "source": [
        "# target의 분포 확인\n",
        "fig_size = plt.rcParams['figure.figsize']\n",
        "fig_size[0] = 8\n",
        "fig_size[1] = 6\n",
        "plt.rcParams['figure.figsize'] = fig_size\n",
        "dataset.output.value_counts().plot(kind='pie', autopct='%0.05f%%',\n",
        "                                   colors=['lightblue','lightgreen','orange','pink'],\n",
        "                                   explode=(0.05,0.05,0.05,0.05))"
      ],
      "metadata": {
        "colab": {
          "base_uri": "https://localhost:8080/",
          "height": 517
        },
        "id": "_DQF8rmR48MM",
        "outputId": "c39009d0-f5cb-4bc1-8230-3199b1dc139b"
      },
      "execution_count": 4,
      "outputs": [
        {
          "output_type": "execute_result",
          "data": {
            "text/plain": [
              "<Axes: ylabel='count'>"
            ]
          },
          "metadata": {},
          "execution_count": 4
        },
        {
          "output_type": "display_data",
          "data": {
            "text/plain": [
              "<Figure size 800x600 with 1 Axes>"
            ],
            "image/png": "[encoded data removed]"
          },
          "metadata": {}
        }
      ]
    },
    {
      "cell_type": "markdown",
      "source": [
        "대부분의 자동차(70%)는 허용 불가능한 상태(unacc), 20%만 허용이 가능한 수준임. 즉, 양호한 상태의 자동차 비율이 매우 낮음"
      ],
      "metadata": {
        "id": "HJpC4DKT5khJ"
      }
    },
    {
      "cell_type": "markdown",
      "source": [
        "## **데이터 전처리**"
      ],
      "metadata": {
        "id": "e5A8lphe5w8H"
      }
    },
    {
      "cell_type": "markdown",
      "source": [
        "### **범주형 데이터 > 텐서 변환**"
      ],
      "metadata": {
        "id": "aO9rHT06-sNX"
      }
    },
    {
      "cell_type": "markdown",
      "source": [
        "딥러닝은 통계 알고리즘을 기반으로 하기 때문에 단어를 숫자(텐서)로 변환해야 함"
      ],
      "metadata": {
        "id": "5Z8utHpX52fs"
      }
    },
    {
      "cell_type": "markdown",
      "source": [
        "**범주형 데이터를 텐서로 변환하기 위한 과정**\n",
        "\n",
        ": 범주형 데이터 > dataset[category] > NumPy array > Tensor\n",
        "\n",
        "- 파이토치로 모델을 학습시키기 위해서는 텐서 형태로 변환해야 하는데, 넘파이 배열을 통해 텐서를 생성할 수 있음\n",
        "- `cat.codes` : 범주형 데이터(단어)를 숫자(넘파이 배열)로 변환하기 위해 사용\n",
        "    - 어떤 클래스가 어떤 숫자로 매핑되어있는지 확인하기 어려우므로 사용에 주의\n",
        "    "
      ],
      "metadata": {
        "id": "UeWSQOiH69X_"
      }
    },
    {
      "cell_type": "code",
      "source": [
        "# 범주 특성을 갖는 데이터를 범주형 타입으로 변환 (astype 메서드)\n",
        "categorical_columns = ['price','maint','doors','persons','lug_capacity','safety']\n",
        "\n",
        "for category in categorical_columns:\n",
        "    dataset[category] = dataset[category].astype('category')\n",
        "\n",
        "# 범주형 데이터를 넘파이 배열(숫자)로 변환(cat.codes)\n",
        "price = dataset['price'].cat.codes.values\n",
        "maint = dataset['maint'].cat.codes.values\n",
        "doors = dataset['doors'].cat.codes.values\n",
        "persons = dataset['persons'].cat.codes.values\n",
        "lug_capacity = dataset['lug_capacity'].cat.codes.values\n",
        "safety = dataset['safety'].cat.codes.values\n",
        "\n",
        "# stack (1차원 배열이 모여 2차원이 됨)\n",
        "categorical_data = np.stack([price, maint, doors, persons, lug_capacity, safety],axis=1)\n",
        "categorical_data[:10]"
      ],
      "metadata": {
        "colab": {
          "base_uri": "https://localhost:8080/"
        },
        "id": "TWQ-aYi_5ddJ",
        "outputId": "222303c1-742b-42c5-b5bb-51d80e72dd45"
      },
      "execution_count": 5,
      "outputs": [
        {
          "output_type": "execute_result",
          "data": {
            "text/plain": [
              "array([[3, 3, 0, 0, 2, 1],\n",
              "       [3, 3, 0, 0, 2, 2],\n",
              "       [3, 3, 0, 0, 2, 0],\n",
              "       [3, 3, 0, 0, 1, 1],\n",
              "       [3, 3, 0, 0, 1, 2],\n",
              "       [3, 3, 0, 0, 1, 0],\n",
              "       [3, 3, 0, 0, 0, 1],\n",
              "       [3, 3, 0, 0, 0, 2],\n",
              "       [3, 3, 0, 0, 0, 0],\n",
              "       [3, 3, 0, 1, 2, 1]], dtype=int8)"
            ]
          },
          "metadata": {},
          "execution_count": 5
        }
      ]
    },
    {
      "cell_type": "markdown",
      "source": [
        "**np.stack vs. np.concatenate**\n",
        "\n",
        ": 넘파이 객체를 합칠 때 사용하는 메서드, 차이점은 차원의 유지 여부!\n",
        "\n",
        "[np.concatenate]\n",
        "- 선택한 축을 기준으로 배열을 연결함\n",
        " ![concat1](https://thebook.io/img/080289/073_1.jpg)\n",
        " ![concat2](https://thebook.io/img/080289/073_2.jpg)\n",
        "\n",
        "[np.stack]\n",
        "- 새로운 축으로 배열을 합침\n",
        "    - 1차원 배열을 합쳐서 2차원 배열을 생성하거나 2차원 배열을 합쳐서 3차원 배열을 생성\n",
        "    - 반드시 두 배열의 차원이 동일해야 함\n",
        " ![stack1](https://thebook.io/img/080289/074_1.jpg)\n",
        " ![stack2](https://thebook.io/img/080289/074_2.jpg)"
      ],
      "metadata": {
        "id": "HKb3KkZK7mCN"
      }
    },
    {
      "cell_type": "code",
      "source": [
        "# 배열을 텐서로 변환\n",
        "categorical_data = torch.tensor(categorical_data, dtype=torch.int64)\n",
        "categorical_data[:10]"
      ],
      "metadata": {
        "colab": {
          "base_uri": "https://localhost:8080/"
        },
        "id": "Hu4OJ_RI6uGx",
        "outputId": "4e6093f6-c6d8-487f-a417-04f399b90c32"
      },
      "execution_count": 6,
      "outputs": [
        {
          "output_type": "execute_result",
          "data": {
            "text/plain": [
              "tensor([[3, 3, 0, 0, 2, 1],\n",
              "        [3, 3, 0, 0, 2, 2],\n",
              "        [3, 3, 0, 0, 2, 0],\n",
              "        [3, 3, 0, 0, 1, 1],\n",
              "        [3, 3, 0, 0, 1, 2],\n",
              "        [3, 3, 0, 0, 1, 0],\n",
              "        [3, 3, 0, 0, 0, 1],\n",
              "        [3, 3, 0, 0, 0, 2],\n",
              "        [3, 3, 0, 0, 0, 0],\n",
              "        [3, 3, 0, 1, 2, 1]])"
            ]
          },
          "metadata": {},
          "execution_count": 6
        }
      ]
    },
    {
      "cell_type": "code",
      "source": [
        "# target 변수도 텐서로 변환 (get_dummies 이용)\n",
        "outputs = pd.get_dummies(dataset.output)\n",
        "outputs = outputs.values\n",
        "outputs = torch.tensor(outputs).flatten() # 1차원 텐서로 변환\n",
        "\n",
        "print(categorical_data.shape)\n",
        "print(outputs.shape)"
      ],
      "metadata": {
        "colab": {
          "base_uri": "https://localhost:8080/"
        },
        "id": "t47tmXbs9k7S",
        "outputId": "42fbb9f1-b15c-4c45-8a16-a1127497fa75"
      },
      "execution_count": 7,
      "outputs": [
        {
          "output_type": "stream",
          "name": "stdout",
          "text": [
            "torch.Size([1728, 6])\n",
            "torch.Size([6912])\n"
          ]
        }
      ]
    },
    {
      "cell_type": "markdown",
      "source": [
        "*(참고) 텐서의 차원을 바꿔주는 함수* : `ravel()`, `reshape()`, `flatten()`"
      ],
      "metadata": {
        "id": "mhweypXJ-BLz"
      }
    },
    {
      "cell_type": "markdown",
      "source": [
        "### **워드 임베딩**"
      ],
      "metadata": {
        "id": "7vYSJmlf-9Fj"
      }
    },
    {
      "cell_type": "markdown",
      "source": [
        "Embedding : 단어를 벡터로 바꿔주는 과정\n",
        "\n",
        "- 컴퓨터는 인간의 언어인 단어를 인식할 수 없기 때문에 임베딩 처리가 필요함"
      ],
      "metadata": {
        "id": "NbMKMIof4_TQ"
      }
    },
    {
      "cell_type": "markdown",
      "source": [
        "워드 임베딩 : 유사한 단어끼리 유사하게 인코딩되도록 표현하는 방법\n",
        "- 높은 차원의 임베딩일수록 단어 간의 세부적인 관계를 잘 파악할 수 있음\n",
        "- 따라서 단일 숫자로 변환된 넘파이 배열을 N차원으로 변경하여 사용"
      ],
      "metadata": {
        "id": "_fDrHcI7--tM"
      }
    },
    {
      "cell_type": "markdown",
      "source": [
        "임베딩 크기(= 벡터 차원)\n",
        "- 배열을 N차원으로 변환하기 위해서는 먼저 모든 범주형 칼럼에 대한 임베딩 크기를 정의해야함\n",
        "- 정확한 규칙은 없으나 대체로 $(칼럼의 고유 값 수) / 2$  를 사용\n",
        "    - ex. price : 4개의 고유값을 가짐 > 임베딩 크기 2"
      ],
      "metadata": {
        "id": "fZQFA5Y6_RH4"
      }
    },
    {
      "cell_type": "code",
      "source": [
        "# 범주형 칼럼을 N차원으로 변환\n",
        "categorical_column_sizes = [len(dataset[column].cat.categories) for column\n",
        "                            in categorical_columns]\n",
        "categorical_embedding_sizes = [(col_size, min(50, (col_size+1)//2)) for col_size\n",
        "                               in categorical_column_sizes]\n",
        "\n",
        "# (각 범주형 칼럼의 고유값 수, 임베딩 크기) 출력\n",
        "print(categorical_embedding_sizes)"
      ],
      "metadata": {
        "colab": {
          "base_uri": "https://localhost:8080/"
        },
        "id": "Ek_LL2o491o6",
        "outputId": "9def833b-dea4-41bb-ee43-c21e4bd64fd1"
      },
      "execution_count": 8,
      "outputs": [
        {
          "output_type": "stream",
          "name": "stdout",
          "text": [
            "[(4, 2), (4, 2), (4, 2), (3, 2), (3, 2), (3, 2)]\n"
          ]
        }
      ]
    },
    {
      "cell_type": "markdown",
      "source": [
        "### **데이터셋 분리**"
      ],
      "metadata": {
        "id": "mC6UDefKASlL"
      }
    },
    {
      "cell_type": "code",
      "source": [
        "total_records = 1728\n",
        "test_records = int(total_records * 0.2) # 20%를 테스트 용도로 사용\n",
        "\n",
        "categorical_train_data = categorical_data[:total_records - test_records]\n",
        "categorical_test_data = categorical_data[total_records - test_records:total_records]\n",
        "train_outputs = outputs[:total_records - test_records]\n",
        "test_outputs = outputs[total_records - test_records:total_records]"
      ],
      "metadata": {
        "id": "yu_ajV8I-oep"
      },
      "execution_count": 9,
      "outputs": []
    },
    {
      "cell_type": "code",
      "source": [
        "# 데이터셋 분리 확인\n",
        "print(len(categorical_train_data))\n",
        "print(len(train_outputs))\n",
        "print(len(categorical_test_data))\n",
        "print(len(test_outputs))"
      ],
      "metadata": {
        "colab": {
          "base_uri": "https://localhost:8080/"
        },
        "id": "uIT2LweZAz2L",
        "outputId": "681e89ba-2280-4233-9aac-ef64bd0f4058"
      },
      "execution_count": 10,
      "outputs": [
        {
          "output_type": "stream",
          "name": "stdout",
          "text": [
            "1383\n",
            "1383\n",
            "345\n",
            "345\n"
          ]
        }
      ]
    },
    {
      "cell_type": "markdown",
      "source": [
        "## **모델 네트워크 생성**"
      ],
      "metadata": {
        "id": "LB3VNED5A93p"
      }
    },
    {
      "cell_type": "code",
      "source": [
        "class Model(nn.Module):\n",
        "    def __init__(self, embedding_size, output_size, layers, p=0.4):\n",
        "        super().__init__()\n",
        "        self.all_embeddings = nn.ModuleList([nn.Embedding(ni, nf) for ni,\n",
        "                                             nf in embedding_size])\n",
        "        self.embedding_dropout = nn.Dropout(p)\n",
        "\n",
        "        all_layers=[]\n",
        "        num_categorical_cols = sum((nf for ni, nf in embedding_size))\n",
        "        # 입력층의 크기를 찾기 위해 범주형 칼럼의 개수를 input_size 변수에 저장\n",
        "        input_size = num_categorical_cols\n",
        "\n",
        "        for i in layers:\n",
        "            all_layers.append(nn.Linear(input_size, i))\n",
        "            all_layers.append(nn.ReLU(inplace=True))\n",
        "            all_layers.append(nn.BatchNorm1d(i))\n",
        "            all_layers.append(nn.Dropout(p))\n",
        "            input_size=i\n",
        "\n",
        "        all_layers.append(nn.Linear(layers[-1], output_size))\n",
        "        # 신경망의 모든 계층이 순차적으로 실행되도록\n",
        "        # 모든 계층에 대한 목록(all_layers)를 nn.Sequential 클래스로 전달\n",
        "        self.layers = nn.Sequential(*all_layers)\n",
        "\n",
        "    def forward(self, x_categorical):\n",
        "        embeddings = []\n",
        "        for i, e in enumerate(self.all_embeddings):\n",
        "            embeddings.append(e(x_categorical[:,i]))\n",
        "        x = torch.cat(embeddings, 1) # 넘파이의 concatenate와 기능 동일\n",
        "        x = self.embedding_dropout(x)\n",
        "        x = self.layers(x)\n",
        "        return x"
      ],
      "metadata": {
        "id": "Eeh5LmreA8jx"
      },
      "execution_count": 11,
      "outputs": []
    },
    {
      "cell_type": "markdown",
      "source": [
        "[class 내 함수 설명]\n",
        "\n",
        "1. __init __ () : 모델에서 사용될 파라미터와 신경망을 초기화하기 위한 용도로 사용하며， 객체가 생성될 때 자동으로 호출됨\n",
        "\n",
        "\n",
        "- 모델의 네트워크 계층을 구축하기 위해 for 문을 이용하여 각 계층을 all_layers 목록에 추가\n",
        "\n",
        "[추가된 계층 설명]\n",
        "\n",
        "- Linear: 선형 계층(linear layer)은 입력 데이터에 선형 변환을 진행한 결과\n",
        "    \n",
        "선형 변환 수식 : $y = Wx + b$,      \n",
        "$(W: 가중치, x: 입력 값, b: bias)$\n",
        "\n",
        "- ReLU: 활성화 함수로 사용\n",
        "\n",
        "- BatchNorm1d: 배치 정규화(batch normalization) 용도로 사용\n",
        "\n",
        "- Dropout: 과적합 방지에 사용\n",
        "\n",
        "2. forward() 함수 : 학습 데이터를 입력받아 연산을 진행"
      ],
      "metadata": {
        "id": "bJI4CFPsZisx"
      }
    },
    {
      "cell_type": "code",
      "source": [
        "# Model 클래스의 객체 생성\n",
        "model = Model(categorical_embedding_sizes, 4, [200,100,50], p=0.4)\n",
        "print(model)"
      ],
      "metadata": {
        "colab": {
          "base_uri": "https://localhost:8080/"
        },
        "id": "27ewGBy3Uerx",
        "outputId": "cfb1855f-5334-4f02-8c1a-857c1d68b4b1"
      },
      "execution_count": 12,
      "outputs": [
        {
          "output_type": "stream",
          "name": "stdout",
          "text": [
            "Model(\n",
            "  (all_embeddings): ModuleList(\n",
            "    (0-2): 3 x Embedding(4, 2)\n",
            "    (3-5): 3 x Embedding(3, 2)\n",
            "  )\n",
            "  (embedding_dropout): Dropout(p=0.4, inplace=False)\n",
            "  (layers): Sequential(\n",
            "    (0): Linear(in_features=12, out_features=200, bias=True)\n",
            "    (1): ReLU(inplace=True)\n",
            "    (2): BatchNorm1d(200, eps=1e-05, momentum=0.1, affine=True, track_running_stats=True)\n",
            "    (3): Dropout(p=0.4, inplace=False)\n",
            "    (4): Linear(in_features=200, out_features=100, bias=True)\n",
            "    (5): ReLU(inplace=True)\n",
            "    (6): BatchNorm1d(100, eps=1e-05, momentum=0.1, affine=True, track_running_stats=True)\n",
            "    (7): Dropout(p=0.4, inplace=False)\n",
            "    (8): Linear(in_features=100, out_features=50, bias=True)\n",
            "    (9): ReLU(inplace=True)\n",
            "    (10): BatchNorm1d(50, eps=1e-05, momentum=0.1, affine=True, track_running_stats=True)\n",
            "    (11): Dropout(p=0.4, inplace=False)\n",
            "    (12): Linear(in_features=50, out_features=4, bias=True)\n",
            "  )\n",
            ")\n"
          ]
        }
      ]
    },
    {
      "cell_type": "markdown",
      "source": [
        "## **모델 파라미터 정의 / 모델 학습**"
      ],
      "metadata": {
        "id": "fYZB1GluU4f6"
      }
    },
    {
      "cell_type": "markdown",
      "source": [
        "모델을 훈련시키기 전, 손실 함수와 옵티마이저에 대한 정의가 필요\n",
        "- 분류 문제에서는 'cross entropy' 손실 함수 사용\n",
        "- 옵티마이저로는 'Adam' 사용"
      ],
      "metadata": {
        "id": "SgGMBJc7VArT"
      }
    },
    {
      "cell_type": "code",
      "source": [
        "# 모델 파라이터 정의\n",
        "loss_function = nn.CrossEntropyLoss()\n",
        "optimizer = torch.optim.Adam(model.parameters(), lr=0.001)"
      ],
      "metadata": {
        "id": "X_NxGmRbUpJd"
      },
      "execution_count": 13,
      "outputs": []
    },
    {
      "cell_type": "code",
      "source": [
        "# CPU/GPU 사용 지정\n",
        "# GPU가 있다면 GPU 사용, 없다면 CPU 사용하게 하는 코드\n",
        "if torch.cuda.is_available():\n",
        "    device = torch.device('cuda')\n",
        "else:\n",
        "    device = torch.device('cpu')"
      ],
      "metadata": {
        "id": "q-yyvuzDVUuq"
      },
      "execution_count": 14,
      "outputs": []
    },
    {
      "cell_type": "code",
      "source": [
        "# 모델 학습\n",
        "epochs = 500\n",
        "aggregated_losses = []\n",
        "train_outputs = train_outputs.to(device=device, dtype=torch.int64)\n",
        "\n",
        "for i in range(epochs):\n",
        "    i += 1\n",
        "    y_pred = model(categorical_train_data).to(device)\n",
        "    single_loss = loss_function(y_pred, train_outputs)\n",
        "    aggregated_losses.append(single_loss) # 반복할 때마다 오차를 추가\n",
        "\n",
        "    if i%25 == 1 :\n",
        "        print(f'epoch: {i:3} loss: {single_loss.item():10.8f}')\n",
        "\n",
        "    optimizer.zero_grad()\n",
        "    single_loss.backward()  #가중치 업데이트\n",
        "    optimizer.step()  # 기울기 업데이트\n",
        "\n",
        "print(f'epoch: {i:3} loss: {single_loss.item():10.10f}')"
      ],
      "metadata": {
        "colab": {
          "base_uri": "https://localhost:8080/"
        },
        "id": "tGPcujktVkb7",
        "outputId": "a28a5fb4-cca7-4f3e-93c0-079d254ab7e5"
      },
      "execution_count": 15,
      "outputs": [
        {
          "output_type": "stream",
          "name": "stdout",
          "text": [
            "epoch:   1 loss: 1.62586248\n",
            "epoch:  26 loss: 1.41969490\n",
            "epoch:  51 loss: 1.30866015\n",
            "epoch:  76 loss: 1.22455084\n",
            "epoch: 101 loss: 1.08296144\n",
            "epoch: 126 loss: 0.94726014\n",
            "epoch: 151 loss: 0.83011556\n",
            "epoch: 176 loss: 0.76562113\n",
            "epoch: 201 loss: 0.69569778\n",
            "epoch: 226 loss: 0.66717011\n",
            "epoch: 251 loss: 0.64390785\n",
            "epoch: 276 loss: 0.61597323\n",
            "epoch: 301 loss: 0.61584204\n",
            "epoch: 326 loss: 0.60774684\n",
            "epoch: 351 loss: 0.59099460\n",
            "epoch: 376 loss: 0.58518410\n",
            "epoch: 401 loss: 0.58948720\n",
            "epoch: 426 loss: 0.58509225\n",
            "epoch: 451 loss: 0.57381028\n",
            "epoch: 476 loss: 0.57458013\n",
            "epoch: 500 loss: 0.5759720802\n"
          ]
        }
      ]
    },
    {
      "cell_type": "markdown",
      "source": [
        "## **모델 예측**"
      ],
      "metadata": {
        "id": "02zXmvUoWqn9"
      }
    },
    {
      "cell_type": "code",
      "source": [
        "test_outputs = test_outputs.to(device=device, dtype=torch.int64)\n",
        "with torch.no_grad():\n",
        "    y_val = model(categorical_test_data)\n",
        "    loss = loss_function(y_val, test_outputs)\n",
        "print(f'Loss: {loss:.8f}')"
      ],
      "metadata": {
        "colab": {
          "base_uri": "https://localhost:8080/"
        },
        "id": "lvzyjjg5WiF_",
        "outputId": "7e7f6b90-05c5-4567-8ef4-102aa9f70620"
      },
      "execution_count": 22,
      "outputs": [
        {
          "output_type": "stream",
          "name": "stdout",
          "text": [
            "Loss: 0.57382125\n"
          ]
        }
      ]
    },
    {
      "cell_type": "code",
      "source": [
        "# 모델 예측 확인\n",
        "# 모델 객체 생성 시 output_size=4로 지정했음\n",
        "print(y_val[:5])"
      ],
      "metadata": {
        "colab": {
          "base_uri": "https://localhost:8080/"
        },
        "id": "lQw471GsW9Oz",
        "outputId": "4f5d7983-a664-442d-83ab-e4d2a5e9267e"
      },
      "execution_count": 23,
      "outputs": [
        {
          "output_type": "stream",
          "name": "stdout",
          "text": [
            "tensor([[ 2.8328,  1.6403, -3.2914, -3.3046],\n",
            "        [ 2.0942,  1.2864, -3.4191, -3.1065],\n",
            "        [ 2.6351,  1.4472, -3.3410, -3.3011],\n",
            "        [ 3.0182,  1.5282, -4.0466, -3.9451],\n",
            "        [ 2.8849,  1.7360, -3.6782, -3.4237]])\n"
          ]
        }
      ]
    },
    {
      "cell_type": "code",
      "source": [
        "# 각 행에서 가장 큰 값을 갖는 인덱스 확인 (정답 레이블과 비교)\n",
        "y_val = np.argmax(y_val, axis=1)\n",
        "print(y_val[:5])\n",
        "# 정답\n",
        "test_outputs[:5]"
      ],
      "metadata": {
        "colab": {
          "base_uri": "https://localhost:8080/"
        },
        "id": "HEdV_954XAky",
        "outputId": "975e8a36-cfc2-437a-8178-ef2d6402c2f9"
      },
      "execution_count": 24,
      "outputs": [
        {
          "output_type": "stream",
          "name": "stdout",
          "text": [
            "tensor([0, 0, 0, 0, 0])\n"
          ]
        },
        {
          "output_type": "execute_result",
          "data": {
            "text/plain": [
              "tensor([0, 0, 0, 1, 0])"
            ]
          },
          "metadata": {},
          "execution_count": 24
        }
      ]
    },
    {
      "cell_type": "code",
      "source": [
        "# 테스트 데이터셋을 이용한 정확도 확인\n",
        "from sklearn.metrics import classification_report, confusion_matrix, accuracy_score\n",
        "print(confusion_matrix(test_outputs, y_val))\n",
        "print(classification_report(test_outputs, y_val))\n",
        "print(accuracy_score(test_outputs, y_val))"
      ],
      "metadata": {
        "colab": {
          "base_uri": "https://localhost:8080/"
        },
        "id": "zPBBcH3vXhKJ",
        "outputId": "a301ce64-45a4-4029-81b8-345440687ac7"
      },
      "execution_count": 25,
      "outputs": [
        {
          "output_type": "stream",
          "name": "stdout",
          "text": [
            "[[258   1]\n",
            " [ 86   0]]\n",
            "              precision    recall  f1-score   support\n",
            "\n",
            "           0       0.75      1.00      0.86       259\n",
            "           1       0.00      0.00      0.00        86\n",
            "\n",
            "    accuracy                           0.75       345\n",
            "   macro avg       0.38      0.50      0.43       345\n",
            "weighted avg       0.56      0.75      0.64       345\n",
            "\n",
            "0.7478260869565218\n"
          ]
        }
      ]
    },
    {
      "cell_type": "markdown",
      "source": [
        "*모델 평가 지표*\n",
        "\n",
        "1. 정확도\n",
        "\n",
        "- 전체 예측 건수에서 정답을 맞힌 건수의 비율. 이때 맞힌 정답이 긍정(positive)인지, 부정(negative)인지는 상관없음.\n",
        "\n",
        " ![accuracy](https://thebook.io/img/080289/fn-12.jpg)\n",
        "\n",
        "2. 재현율\n",
        "- 실제로 정답이 1이라고 할 때 모델(분류기)도 1로 예측한 비율. 따라서 처음부터 데이터가 1일 확률이 적을 때 사용하면 좋음\n",
        " ![recall](https://thebook.io/img/080289/fn-13.jpg)\n",
        "\n",
        "3. 정밀도\n",
        "- 모델(분류기)이 1이라고 예측한 것 중에서 실제로 정답이 1인 비율\n",
        "\n",
        " ![precision](https://thebook.io/img/080289/fn-14.jpg)\n",
        "\n",
        "4. f1-score\n",
        "- 정밀도와 재현율의 트레이드오프 문제를 해결하기 위해 정밀도와 재현율의 조화 평균을 이용한 지표\n",
        "\n",
        " ![f1 score](https://thebook.io/img/080289/fn-15.jpg)\n"
      ],
      "metadata": {
        "id": "A21uqa5iYIxe"
      }
    },
    {
      "cell_type": "code",
      "source": [],
      "metadata": {
        "id": "U30mBRcJYAlx"
      },
      "execution_count": null,
      "outputs": []
    }
  ]
}