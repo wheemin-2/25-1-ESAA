{
  "nbformat": 4,
  "nbformat_minor": 0,
  "metadata": {
    "colab": {
      "provenance": [],
      "authorship_tag": "ABX9TyOqN60x4ukHZyxIMDoVOFf3",
      "include_colab_link": true
    },
    "kernelspec": {
      "name": "python3",
      "display_name": "Python 3"
    },
    "language_info": {
      "name": "python"
    }
  },
  "cells": [
    {
      "cell_type": "markdown",
      "metadata": {
        "id": "view-in-github",
        "colab_type": "text"
      },
      "source": [
        "<a href=\"https://colab.research.google.com/github/wheemin-2/25-1-ESAA/blob/main/0519_HW_CNN.ipynb\" target=\"_parent\"><img src=\"https://colab.research.google.com/assets/colab-badge.svg\" alt=\"Open In Colab\"/></a>"
      ]
    },
    {
      "cell_type": "markdown",
      "source": [
        "# **합성곱 신경망**"
      ],
      "metadata": {
        "id": "1pVOR_Q6Zwgi"
      }
    },
    {
      "cell_type": "markdown",
      "source": [
        "# fashion_mnist 데이터셋을 활용한 합성곱 신경망 구현\n",
        "\n",
        "*fashion_mnist 데이터셋 설명\n",
        "\n",
        "- 토치비전(torchvision)에 내장된 예제 데이터\n",
        "- 운동화, 셔츠, 샌들 같은 작은 이미지의 모음이며, 10가지로 분류될 수 있는 28*28 픽셀의 이미지 7만 개로 구성\n",
        "- train_images : 0~255 사이의 값을 갖는 28*28 크기의 넘파이 배열\n",
        "- test_labels : 0~9까지 정수 값을 갖는 배열"
      ],
      "metadata": {
        "id": "DmZY4zxgb77O"
      }
    },
    {
      "cell_type": "code",
      "execution_count": 1,
      "metadata": {
        "id": "9GBADD8KZI6n"
      },
      "outputs": [],
      "source": [
        "# 라이브러리 호출\n",
        "import numpy as np\n",
        "import matplotlib.pyplot as plt\n",
        "\n",
        "import torch\n",
        "import torch.nn  as nn\n",
        "from torch.autograd import Variable\n",
        "import torch.nn.functional as F\n",
        "\n",
        "import torchvision\n",
        "import torchvision.transforms as transforms  # 전처리를 위해 사용하는 라이브러리\n",
        "from torch.utils.data import Dataset, DataLoader"
      ]
    },
    {
      "cell_type": "code",
      "source": [
        "# CPU 혹은 GPU 장치 확인\n",
        "device = torch.device('cuda:0' if torch.cuda.is_available() else 'cpu')"
      ],
      "metadata": {
        "id": "0F0U1yt-clmC"
      },
      "execution_count": 2,
      "outputs": []
    },
    {
      "cell_type": "code",
      "source": [
        "device"
      ],
      "metadata": {
        "colab": {
          "base_uri": "https://localhost:8080/"
        },
        "id": "2lsybcM8cwWS",
        "outputId": "74e5e16e-499f-4609-84f3-5ca94c39e462"
      },
      "execution_count": 3,
      "outputs": [
        {
          "output_type": "execute_result",
          "data": {
            "text/plain": [
              "device(type='cpu')"
            ]
          },
          "metadata": {},
          "execution_count": 3
        }
      ]
    },
    {
      "cell_type": "markdown",
      "source": [
        "## **데이터셋 내려받기**"
      ],
      "metadata": {
        "id": "sfoq7JuafpR-"
      }
    },
    {
      "cell_type": "code",
      "source": [
        "# 데이터셋 내려받기\n",
        "train_dataset = torchvision.datasets.FashionMNIST('../chap05/data', download=True,\n",
        "                                                  transform=transforms.Compose([transforms.ToTensor()]))\n",
        "test_dataset = torchvision.datasets.FashionMNIST('../chap05/data', download=True, train=False,\n",
        "                                                  transform=transforms.Compose([transforms.ToTensor()]))"
      ],
      "metadata": {
        "colab": {
          "base_uri": "https://localhost:8080/"
        },
        "id": "-rIYMDRycxPx",
        "outputId": "c047f26f-4d8e-463b-9e91-fc8fa7b7b674"
      },
      "execution_count": 4,
      "outputs": [
        {
          "output_type": "stream",
          "name": "stderr",
          "text": [
            "100%|██████████| 26.4M/26.4M [00:01<00:00, 16.7MB/s]\n",
            "100%|██████████| 29.5k/29.5k [00:00<00:00, 267kB/s]\n",
            "100%|██████████| 4.42M/4.42M [00:00<00:00, 4.99MB/s]\n",
            "100%|██████████| 5.15k/5.15k [00:00<00:00, 9.70MB/s]\n"
          ]
        }
      ]
    },
    {
      "cell_type": "code",
      "source": [
        "# fashion_mnist 데이터를 데이터로더에 전달 (메모리로 불러오기 위함)\n",
        "train_loader = torch.utils.data.DataLoader(train_dataset, batch_size=100)\n",
        "test_loader = torch.utils.data.DataLoader(test_dataset, batch_size=100)"
      ],
      "metadata": {
        "id": "kWvDr5pSdQDA"
      },
      "execution_count": 5,
      "outputs": []
    },
    {
      "cell_type": "markdown",
      "source": [
        "`torch.utils.data.DataLoaer()`를 사용하여 원하는 크기의 배치 단위로 데이터를 불러오거나, 순서가 무작위로 섞이도록(shuffle) 할 수 있음\n",
        "- batch_size=100으로 지정하면 100개 단위로 데이터를 묶어서 불러옴"
      ],
      "metadata": {
        "id": "Stm7FUKheVUh"
      }
    },
    {
      "cell_type": "code",
      "source": [
        "# 분류에 사용될 클래스 정의\n",
        "labels_map = {0 : 'T-Shirt', 1:'Trouser', 2:'Pullover', 3: 'Dress', 4: 'Coat', 5: 'Sandal',\n",
        "              6: 'Shirt', 7: 'Sneaker', 8: 'Bag', 9: 'Ankle Boot'}\n",
        "\n",
        "fig = plt.figure(figsize=(8,8))\n",
        "columns = 4\n",
        "rows = 5\n",
        "for i in range(1, columns*rows + 1):\n",
        "    img_xy = np.random.randint(len(train_dataset))\n",
        "    img = train_dataset[img_xy][0][0,:,:]\n",
        "    fig.add_subplot(rows, columns, i)\n",
        "    plt.title(labels_map[train_dataset[img_xy][1]])\n",
        "    plt.axis('off')\n",
        "    plt.imshow(img, cmap='gray')\n",
        "plt.show()  # 20개의 이미지 데이터를 시각적으로 표현"
      ],
      "metadata": {
        "colab": {
          "base_uri": "https://localhost:8080/",
          "height": 675
        },
        "id": "38OhXY-YeSdb",
        "outputId": "40f949c2-ad8a-4d75-c198-23a8eaacf493"
      },
      "execution_count": 6,
      "outputs": [
        {
          "output_type": "display_data",
          "data": {
            "text/plain": [
              "<Figure size 800x800 with 20 Axes>"
            ],
            "image/png": "[encoded data removed]"
          },
          "metadata": {}
        }
      ]
    },
    {
      "cell_type": "markdown",
      "source": [
        "## **심층 신경망 모델 생성**\n",
        "\n",
        "합성곱 신경망 아님"
      ],
      "metadata": {
        "id": "eFtIKoMzfrVz"
      }
    },
    {
      "cell_type": "code",
      "source": [
        "class FashionDNN(nn.Module):\n",
        "    def __init__(self):\n",
        "        super(FashionDNN, self).__init__()\n",
        "        self.fc1 = nn.Linear(in_features=784, out_features=256)\n",
        "        self.drop = nn.Dropout(0.25)\n",
        "        self.fc2 = nn.Linear(in_features=256, out_features=128)\n",
        "        self.fc3 = nn.Linear(in_features=128, out_features=10)\n",
        "\n",
        "    def forward(self, input_data):\n",
        "        out = input_data.view(-1, 784)\n",
        "        out = F.relu(self.fc1(out))\n",
        "        out = self.drop(out)\n",
        "        out = F.relu(self.fc2(out))\n",
        "        out = self.fc3(out)\n",
        "        return out"
      ],
      "metadata": {
        "id": "x7dWd3UsexRh"
      },
      "execution_count": 7,
      "outputs": []
    },
    {
      "cell_type": "markdown",
      "source": [
        "`nn.functional.relu()`와 `nn.ReLU()`의 차이\n",
        "\n",
        "- 활성화 함수를 지정할 때는 다음 두 가지 방법이 가능\n",
        "    - `F.relu()`를 forward 함수에서 정의 : input, weight 자체를 직접 정의해야 함\n",
        "    - `nn.ReLU()`를 __init()__ 함수에서 정의"
      ],
      "metadata": {
        "id": "D1QJIos-gfdO"
      }
    },
    {
      "cell_type": "code",
      "source": [
        "# nn.ReLU를 사용한 코드\n",
        "import torch\n",
        "import torch.nn as nn\n",
        "\n",
        "inputs = torch.randn(64, 3, 244, 244)\n",
        "conv = nn.Conv2d(in_channels=3, out_channels=64, kernel_size=3, padding=1)\n",
        "outputs = conv(inputs)\n",
        "layer = nn.Conv2d(1,1,3)"
      ],
      "metadata": {
        "id": "vjtIBWcegUO7"
      },
      "execution_count": 8,
      "outputs": []
    },
    {
      "cell_type": "code",
      "source": [
        "# nn.functional을 사용한 코드\n",
        "import torch.nn.functional as F\n",
        "\n",
        "inputs = torch.randn(64, 3, 244, 244)\n",
        "weight = torch.randn(64,3,3,3)\n",
        "bias = torch.randn(64)\n",
        "outputs = F.conv2d(inputs, weight, bias, padding=1)"
      ],
      "metadata": {
        "id": "pC-dLOKwiZNX"
      },
      "execution_count": 9,
      "outputs": []
    },
    {
      "cell_type": "markdown",
      "source": [
        "심층 신경망 파라미터 정의 / 모델 학습"
      ],
      "metadata": {
        "id": "cOYG1pN7jnhh"
      }
    },
    {
      "cell_type": "code",
      "source": [
        "# 파라미터 정의\n",
        "learning_rate = 0.001\n",
        "model = FashionDNN()\n",
        "model.to(device)\n",
        "\n",
        "criterion = nn.CrossEntropyLoss()\n",
        "optimizer = torch.optim.Adam(model.parameters(), lr=learning_rate)\n",
        "print(model)  # 생성한 심층 신경망 모델 출력"
      ],
      "metadata": {
        "id": "HHqmgUDLir8g",
        "colab": {
          "base_uri": "https://localhost:8080/"
        },
        "outputId": "6f14f62e-b561-47be-c62d-859ef0ebe278"
      },
      "execution_count": 10,
      "outputs": [
        {
          "output_type": "stream",
          "name": "stdout",
          "text": [
            "FashionDNN(\n",
            "  (fc1): Linear(in_features=784, out_features=256, bias=True)\n",
            "  (drop): Dropout(p=0.25, inplace=False)\n",
            "  (fc2): Linear(in_features=256, out_features=128, bias=True)\n",
            "  (fc3): Linear(in_features=128, out_features=10, bias=True)\n",
            ")\n"
          ]
        }
      ]
    },
    {
      "cell_type": "code",
      "source": [
        "# 모델 학습\n",
        "num_epochs = 5\n",
        "count = 0\n",
        "loss_list = []\n",
        "iteration_list = []\n",
        "accuracy_list = []\n",
        "\n",
        "predictions_list = []\n",
        "labels_list = []\n",
        "\n",
        "for epoch in range(num_epochs):\n",
        "    for images, labels in train_loader:\n",
        "        images, labels = images.to(device), labels.to(device)\n",
        "\n",
        "        train = Variable(images.view(100,1,28,28))\n",
        "        labels = Variable(labels)\n",
        "\n",
        "        outputs = model(train)\n",
        "        loss = criterion(outputs, labels)\n",
        "        optimizer.zero_grad()\n",
        "        loss.backward()\n",
        "        optimizer.step()\n",
        "        count += 1\n",
        "\n",
        "        if not (count % 50):\n",
        "            total = 0\n",
        "            correct = 0\n",
        "            for images, labels in test_loader:\n",
        "                images, labels = images.to(device), labels.to(device)\n",
        "                labels_list.append(labels)\n",
        "                test = Variable(images.view(100,1,28,28))\n",
        "                outputs = model(test)\n",
        "                predictions = torch.max(outputs, 1)[1].to(device)\n",
        "                predictions_list.append(predictions)\n",
        "                correct += (predictions == labels).sum()\n",
        "                total += len(labels)\n",
        "\n",
        "            accuracy = correct * 100 / total\n",
        "            loss_list.append(loss.data)\n",
        "            iteration_list.append(count)\n",
        "            accuracy_list.append(accuracy)\n",
        "\n",
        "        if not (count % 500):\n",
        "            print('Iteration: {}, Loss: {}, Accuracy: {}%'.format(count, loss.data, accuracy))"
      ],
      "metadata": {
        "colab": {
          "base_uri": "https://localhost:8080/"
        },
        "id": "Dbq8uTIs5gIO",
        "outputId": "ff4e74d3-7223-4c9a-d7ae-f4a7240f1f0f"
      },
      "execution_count": 11,
      "outputs": [
        {
          "output_type": "stream",
          "name": "stdout",
          "text": [
            "Iteration: 500, Loss: 0.6124570965766907, Accuracy: 82.94000244140625%\n",
            "Iteration: 1000, Loss: 0.4818945825099945, Accuracy: 84.16000366210938%\n",
            "Iteration: 1500, Loss: 0.34125110507011414, Accuracy: 83.52999877929688%\n",
            "Iteration: 2000, Loss: 0.36464065313339233, Accuracy: 85.36000061035156%\n",
            "Iteration: 2500, Loss: 0.28170719742774963, Accuracy: 86.30000305175781%\n",
            "Iteration: 3000, Loss: 0.29387030005455017, Accuracy: 85.80999755859375%\n"
          ]
        }
      ]
    },
    {
      "cell_type": "markdown",
      "source": [
        "## **합성곱 네트워크 생성**"
      ],
      "metadata": {
        "id": "ZmfNP4jS8aZL"
      }
    },
    {
      "cell_type": "code",
      "source": [
        "class FashionCNN(nn.Module):\n",
        "    def __init__(self):\n",
        "        super(FashionCNN, self).__init__()\n",
        "        self.layer1 = nn.Sequential(\n",
        "            nn.Conv2d(in_channels=1, out_channels=32, kernel_size=3, padding=1),\n",
        "            nn.BatchNorm2d(32),\n",
        "            nn.ReLU(),\n",
        "            nn.MaxPool2d(kernel_size=2, stride=2)\n",
        "        )\n",
        "        self.layer2 = nn.Sequential(\n",
        "            nn.Conv2d(in_channels=32, out_channels=64, kernel_size=3),\n",
        "            nn.BatchNorm2d(64),\n",
        "            nn.ReLU(),\n",
        "            nn.MaxPool2d(2)\n",
        "        )\n",
        "        self.fc1 = nn.Linear(in_features=64*6*6, out_features=600)\n",
        "        self.drop = nn.Dropout2d(0.25)\n",
        "        self.fc2 = nn.Linear(in_features=600, out_features=120)\n",
        "        self.fc3 = nn.Linear(in_features=120, out_features=10)\n",
        "\n",
        "    def forward(self, x):\n",
        "        out = self.layer1(x)\n",
        "        out = self.layer2(out)\n",
        "        out = out.view(out.size(0), -1)\n",
        "        out = self.fc1(out)\n",
        "        out = self.drop(out)\n",
        "        out = self.fc2(out)\n",
        "        out = self.fc3(out)\n",
        "        return out"
      ],
      "metadata": {
        "id": "4fscAp-S8Lpo"
      },
      "execution_count": 17,
      "outputs": []
    },
    {
      "cell_type": "markdown",
      "source": [
        "(코드 설명)\n",
        "\n",
        "`nn.Conv2d(in_channels=1, out_channels=32, kernel_size=3, padding=1)`\n",
        "- in_channels : 입력 채널의 수를 의미, 흑백 이미지는 1 / RGB 값을 가진 이미지는 3\n",
        "- out_channels : 출력 채널의 수\n",
        "- kernel_size : 커널의 크기를 의미 (논문에 따라서는 필터라고도 함)\n",
        "    - 입력 데이터를 스트라이드 간격으로 순회하면서 합성곱을 계산\n",
        "    - kernel_size = 3 : 커널의 크기는 (3,3), 직사각형을 사용하고 싶은 경우 (3,5)처럼 지정\n",
        "\n",
        "`BatchNorm2d` : 학습 과정에서 각 배치 단위별로 데이터가 다양한 분포를 가지더라도 평균과 분산을 이용하여 정규화하는 것을 의미\n",
        "\n",
        "![batchNorm2d](https://thebook.io/img/080289/195_2.jpg)\n",
        "\n",
        "`nn.MaxPool2d(kernel_size=2, stride=2)`\n",
        "- 풀링 계층 : 합성곱층의 출력 데이터를 입력으로 받아 그 크기를 줄이거나 특정 데이터를 강조하는 용도로 사용됨\n",
        "- 최대 풀링, 평균 풀링, 최소 풀링 등이 있음\n",
        "- kernel_size : (m, n) 행렬로 구성된 가중치\n",
        "- stride : 이동할 간격, 이 값이 커지면 출력 크기는 작아짐\n",
        "\n",
        "`nn.Linear(in_Features=64*6*6)`\n",
        "- 클래스를 분류하기 위해서는 이미지 형태의 데이터를 배열 형태로 변환하여 작업해야 함\n",
        "- in_features : 입력 데이터 크기 (Conv2d, MaxPool2d 수행 후 크기)\n",
        "\n"
      ],
      "metadata": {
        "id": "U94TuH30I2Op"
      }
    },
    {
      "cell_type": "markdown",
      "source": [
        "**[Conv2d 계층에서의 출력 크기 구하는 공식]**\n",
        "\n",
        "출력 크기 : $(W-F+2P)/S + 1$\n",
        "- W : 입력 데이터의 크기\n",
        "- F : 커널 크기 (kernel_size)\n",
        "- P : 패딩 크기\n",
        "- S : 스트라이드\n",
        "\n",
        "ex) `nn.Conv2d(in_channels=1, out_channels=32, kernel_size=3, padding=1)`\n",
        "\n",
        "출력 크기 : $(28-3+2*1)/1 + 1 = 28$\n",
        "- 입력 데이터 크기 W 가 28 (Fashion_mnist의 입력 크기가 28*28로 정방형)\n",
        "- stride의 기본값 (1,1)\n",
        "- 결과적으로 [32,28,28] 형태가 출력됨\n"
      ],
      "metadata": {
        "id": "kgbEbmv9MwZr"
      }
    },
    {
      "cell_type": "markdown",
      "source": [
        "**[MaxPool2d 계층에서의 출력 크기 구하는 공식]**\n",
        "\n",
        "출력 크기 : $IF/F$\n",
        "- IF : 입력 필터의 크기 (= 바로 앞의 Conv2d의 출력 크기)\n",
        "- F : 커널 크기\n",
        "\n",
        "ex) `nn.MaxPool2d(kernel_size=2, stride=2)`\n",
        "\n",
        "출력 크기 : $784/2=392$\n",
        "- 784 (=28*28) : 앞의 Conv2d의 출력 크기\n",
        "- 결과적으로 [32,392,392] 출력 (32 : Conv2d의 out_channels 수)"
      ],
      "metadata": {
        "id": "MKuDGx31Ng3C"
      }
    },
    {
      "cell_type": "code",
      "source": [
        "# 합성곱 네트워크를 위한 파라미터 정의\n",
        "learning_rate = 0.001\n",
        "model = FashionCNN()\n",
        "model.to(device)\n",
        "\n",
        "criterion = nn.CrossEntropyLoss()\n",
        "optimizer = torch.optim.Adam(model.parameters(), lr=learning_rate)\n",
        "print(model)"
      ],
      "metadata": {
        "id": "PPItQQhu9eRi",
        "colab": {
          "base_uri": "https://localhost:8080/"
        },
        "outputId": "c4a00e57-2535-4b88-9533-fc36892b911b"
      },
      "execution_count": 18,
      "outputs": [
        {
          "output_type": "stream",
          "name": "stdout",
          "text": [
            "FashionCNN(\n",
            "  (layer1): Sequential(\n",
            "    (0): Conv2d(1, 32, kernel_size=(3, 3), stride=(1, 1), padding=(1, 1))\n",
            "    (1): BatchNorm2d(32, eps=1e-05, momentum=0.1, affine=True, track_running_stats=True)\n",
            "    (2): ReLU()\n",
            "    (3): MaxPool2d(kernel_size=2, stride=2, padding=0, dilation=1, ceil_mode=False)\n",
            "  )\n",
            "  (layer2): Sequential(\n",
            "    (0): Conv2d(32, 64, kernel_size=(3, 3), stride=(1, 1))\n",
            "    (1): BatchNorm2d(64, eps=1e-05, momentum=0.1, affine=True, track_running_stats=True)\n",
            "    (2): ReLU()\n",
            "    (3): MaxPool2d(kernel_size=2, stride=2, padding=0, dilation=1, ceil_mode=False)\n",
            "  )\n",
            "  (fc1): Linear(in_features=2304, out_features=600, bias=True)\n",
            "  (drop): Dropout2d(p=0.25, inplace=False)\n",
            "  (fc2): Linear(in_features=600, out_features=120, bias=True)\n",
            "  (fc3): Linear(in_features=120, out_features=10, bias=True)\n",
            ")\n"
          ]
        }
      ]
    },
    {
      "cell_type": "code",
      "source": [
        "# 모델 학습 및 성능 평가\n",
        "num_epochs = 5\n",
        "count = 0\n",
        "loss_list = []\n",
        "iteration_list = []\n",
        "accuracy_list = []\n",
        "\n",
        "predictions_list = []\n",
        "labels_list = []\n",
        "\n",
        "for epoch in range(num_epochs):\n",
        "    for images, labels in train_loader:\n",
        "        images, labels = images.to(device), labels.to(device)\n",
        "\n",
        "        train = Variable(images.view(100,1,28,28))\n",
        "        labels = Variable(labels)\n",
        "\n",
        "        outputs = model(train)\n",
        "        loss = criterion(outputs, labels)\n",
        "        optimizer.zero_grad()\n",
        "        loss.backward()\n",
        "        optimizer.step()\n",
        "        count += 1\n",
        "\n",
        "        if not (count % 50):\n",
        "            total = 0\n",
        "            correct = 0\n",
        "            for images, labels in test_loader:\n",
        "                images, labels = images.to(device), labels.to(device)\n",
        "                labels_list.append(labels)\n",
        "                test = Variable(images.view(100,1,28,28))\n",
        "                outputs = model(test)\n",
        "                predictions = torch.max(outputs, 1)[1].to(device)\n",
        "                predictions_list.append(predictions)\n",
        "                correct += (predictions == labels).sum()\n",
        "                total += len(labels)\n",
        "\n",
        "            accuracy = correct * 100 / total\n",
        "            loss_list.append(loss.data)\n",
        "            iteration_list.append(count)\n",
        "            accuracy_list.append(accuracy)\n",
        "\n",
        "        if not (count % 500):\n",
        "            print('Iteration: {}, Loss: {}, Accuracy: {}%'.format(count, loss.data, accuracy))"
      ],
      "metadata": {
        "colab": {
          "base_uri": "https://localhost:8080/"
        },
        "id": "QVY9dA63OCuu",
        "outputId": "7b598f5a-fe41-4922-cdd4-17fdddfebd2f"
      },
      "execution_count": 19,
      "outputs": [
        {
          "output_type": "stream",
          "name": "stderr",
          "text": [
            "/usr/local/lib/python3.11/dist-packages/torch/nn/functional.py:1538: UserWarning: dropout2d: Received a 2-D input to dropout2d, which is deprecated and will result in an error in a future release. To retain the behavior and silence this warning, please use dropout instead. Note that dropout2d exists to provide channel-wise dropout on inputs with 2 spatial dimensions, a channel dimension, and an optional batch dimension (i.e. 3D or 4D inputs).\n",
            "  warnings.warn(warn_msg)\n"
          ]
        },
        {
          "output_type": "stream",
          "name": "stdout",
          "text": [
            "Iteration: 500, Loss: 0.5626501441001892, Accuracy: 86.75%\n",
            "Iteration: 1000, Loss: 0.34142056107521057, Accuracy: 87.9800033569336%\n",
            "Iteration: 1500, Loss: 0.2467889040708542, Accuracy: 88.7300033569336%\n",
            "Iteration: 2000, Loss: 0.23310445249080658, Accuracy: 89.36000061035156%\n",
            "Iteration: 2500, Loss: 0.13512396812438965, Accuracy: 89.26000213623047%\n",
            "Iteration: 3000, Loss: 0.16928346455097198, Accuracy: 89.87000274658203%\n"
          ]
        }
      ]
    },
    {
      "cell_type": "code",
      "source": [],
      "metadata": {
        "id": "nJ3ET-BeQvoC"
      },
      "execution_count": null,
      "outputs": []
    }
  ]
}