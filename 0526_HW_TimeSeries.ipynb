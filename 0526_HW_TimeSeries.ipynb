{
  "nbformat": 4,
  "nbformat_minor": 0,
  "metadata": {
    "colab": {
      "provenance": [],
      "toc_visible": true,
      "include_colab_link": true
    },
    "kernelspec": {
      "name": "python3",
      "display_name": "Python 3"
    },
    "language_info": {
      "name": "python"
    }
  },
  "cells": [
    {
      "cell_type": "markdown",
      "metadata": {
        "id": "view-in-github",
        "colab_type": "text"
      },
      "source": [
        "<a href=\"https://colab.research.google.com/github/wheemin-2/25-1-ESAA/blob/main/0526_HW_TimeSeries.ipynb\" target=\"_parent\"><img src=\"https://colab.research.google.com/assets/colab-badge.svg\" alt=\"Open In Colab\"/></a>"
      ]
    },
    {
      "cell_type": "markdown",
      "source": [
        "# **시계열 분석**"
      ],
      "metadata": {
        "id": "ZRwt9xSdAvOk"
      }
    },
    {
      "cell_type": "markdown",
      "source": [
        "시계열 분석 : 시간에 따라 변하는 데이터를 사용하여 추이를 분석하는 것 (ex. 주가/환율 변동, 기온/습도 변화)\n",
        "- 추세를 파악하거나 향후 전망 등을 예측하기 위한 용도로 시계열 분석을 사용\n",
        "- 독립 변수로 시간을 사용하는 특성으로 인해 분석 방법에 일반적인 방법론들과 차이가 있음\n",
        "- AR, MA ARMA, ARIMA 모형\n",
        "\n",
        "[데이터 변동 유형에 따른 시계열 형태]\n",
        "1. 불규칙 변동 : 시간에 따른 규칙적인 움직임과 달리 규칙성이 없어 예측이 불가능하고 우연적으로 발생하는 변동\n",
        "2. 추세 변동 : 시계열 자료가 갖는 장기적인 변화 추세\n",
        "3. 순환 변동 : 일정한 기간을 주기로 순환적으로 나타나는 변동\n",
        "4. 계절 변동 : 계절적 영향과 사회적 관습에 따라 1년을 주기로 발생하는 것"
      ],
      "metadata": {
        "id": "7PUe3qHjBLQq"
      }
    },
    {
      "cell_type": "markdown",
      "source": [
        "# **AR, MA, ARMA, ARIMA**"
      ],
      "metadata": {
        "id": "c4H-7uTqmwQG"
      }
    },
    {
      "cell_type": "markdown",
      "source": [
        "## **AR 모델**\n",
        "AR(AutoRegressive)(자기 회귀) 모델: 이전 관측 값이 이후 관측 값에 영향을 준다는 아이디어에 대한 모형\n",
        "\n",
        "![AR](https://thebook.io/img/080289/fn2-2.jpg)\n",
        "\n",
        "1) 시계열 데이터에서 현재 시점\n",
        "\n",
        "2) 과거가 현재에 미치는 영향을 나타내는 모수에 시계열 데이터의 과거 시점을 곱한 것\n",
        "\n",
        "3) 시계열 분석에서 오차 항 (=백색 잡음)\n",
        "\n",
        "> *p* 시점을 기준으로 그 이전의 데이터에 의해 현재 시점의 데이터가 영향을 받는 모형"
      ],
      "metadata": {
        "id": "WDKSLnZWnLiQ"
      }
    },
    {
      "cell_type": "markdown",
      "source": [
        "## **MA 모델**\n",
        "\n",
        "MA(Moving Average)(이동 평균) 모델: 트렌드(평균 혹은 시계열 그래프에서 $y$ 값)가 변화하는 상황에 적합한 회귀 모델\n",
        "- 시계열을 따라 윈도우 크기만큼 슬라이딩(moving)됨\n",
        "\n",
        "![MA](https://thebook.io/img/080289/fn2-6.jpg)\n",
        "\n",
        "1) 시계열 데이터에서 현재 시점\n",
        "\n",
        "2) 매개변수$\\theta$에 과거 시점의 오차를 곱한 것\n",
        "\n",
        "3) 오차 항\n",
        "\n",
        "> 이전 데이터의 오차에서 현재 데이터의 상태를 추론하겠다는 의미"
      ],
      "metadata": {
        "id": "R53OZMDCn1UB"
      }
    },
    {
      "cell_type": "markdown",
      "source": [
        "## **ARMA 모델**\n",
        "\n",
        "ARMA(AutoRegressive Moving Average)(자기 회귀 이동 평균) 모델: AR+MA 모델\n",
        " - AR, MA 두 가지 관점에서 과거의 데이터를 사용\n",
        "\n",
        "![ARMA](https://thebook.io/img/080289/fn2-7.jpg)"
      ],
      "metadata": {
        "id": "hNyXmg_nX22S"
      }
    },
    {
      "cell_type": "markdown",
      "source": [
        "## **ARIMA 모델**\n",
        "ARIMA(AutoRegressive Integrated Moving Average)(자기 회귀 누적 이동 평균) 모델: 자기 회귀와 이동 평균을 둘 다 고려하는 모형\n",
        "  - ARMA와 달리 과거 데이터의 선형 관계 + 추세(cointegration)까지 고려\n",
        "1. `ARIMA(p,d,q)` 함수\n",
        "    - p: 자기 회귀 차수\n",
        "    - d: 차분 차수\n",
        "    - q: 이동 평균 처수\n",
        "2. `fit()` 메서드 : 모델에 데이터를 적용하여 훈련\n",
        "3. `predict()` 메서드 : 미래의 추세 및 동향에 대해 예측"
      ],
      "metadata": {
        "id": "qmKqA7NUo-t6"
      }
    },
    {
      "cell_type": "code",
      "execution_count": null,
      "metadata": {
        "id": "30egx6_nmj_O",
        "colab": {
          "base_uri": "https://localhost:8080/"
        },
        "outputId": "56505873-8bf9-4040-9bd8-33759cb9cb16"
      },
      "outputs": [
        {
          "output_type": "stream",
          "name": "stdout",
          "text": [
            "/bin/bash: line 1: conda: command not found\n"
          ]
        }
      ],
      "source": [
        "! conda install -c conda-forge statsmodels"
      ]
    },
    {
      "cell_type": "code",
      "source": [
        "! pip install statsmodels"
      ],
      "metadata": {
        "id": "wFLTcLaJqJxS",
        "colab": {
          "base_uri": "https://localhost:8080/"
        },
        "outputId": "747c7114-b3f4-428d-b930-689b5fe7488e"
      },
      "execution_count": null,
      "outputs": [
        {
          "output_type": "stream",
          "name": "stdout",
          "text": [
            "Requirement already satisfied: statsmodels in /usr/local/lib/python3.11/dist-packages (0.14.4)\n",
            "Requirement already satisfied: numpy<3,>=1.22.3 in /usr/local/lib/python3.11/dist-packages (from statsmodels) (2.0.2)\n",
            "Requirement already satisfied: scipy!=1.9.2,>=1.8 in /usr/local/lib/python3.11/dist-packages (from statsmodels) (1.15.3)\n",
            "Requirement already satisfied: pandas!=2.1.0,>=1.4 in /usr/local/lib/python3.11/dist-packages (from statsmodels) (2.2.2)\n",
            "Requirement already satisfied: patsy>=0.5.6 in /usr/local/lib/python3.11/dist-packages (from statsmodels) (1.0.1)\n",
            "Requirement already satisfied: packaging>=21.3 in /usr/local/lib/python3.11/dist-packages (from statsmodels) (24.2)\n",
            "Requirement already satisfied: python-dateutil>=2.8.2 in /usr/local/lib/python3.11/dist-packages (from pandas!=2.1.0,>=1.4->statsmodels) (2.9.0.post0)\n",
            "Requirement already satisfied: pytz>=2020.1 in /usr/local/lib/python3.11/dist-packages (from pandas!=2.1.0,>=1.4->statsmodels) (2025.2)\n",
            "Requirement already satisfied: tzdata>=2022.7 in /usr/local/lib/python3.11/dist-packages (from pandas!=2.1.0,>=1.4->statsmodels) (2025.2)\n",
            "Requirement already satisfied: six>=1.5 in /usr/local/lib/python3.11/dist-packages (from python-dateutil>=2.8.2->pandas!=2.1.0,>=1.4->statsmodels) (1.17.0)\n"
          ]
        }
      ]
    },
    {
      "cell_type": "code",
      "source": [
        "# 1. 저장소 전체를 clone\n",
        "!git clone https://github.com/gilbutITbook/080289.git\n",
        "\n",
        "# 2. 작업 디렉토리를 해당 폴더로 이동\n",
        "%cd 080289/chap07/data/\n",
        "\n",
        "# 3. 파일 목록 확인\n",
        "!ls"
      ],
      "metadata": {
        "colab": {
          "base_uri": "https://localhost:8080/"
        },
        "id": "2QNcd7heI0DY",
        "outputId": "f3c2f9bf-4e57-4533-a604-012bb5972e69"
      },
      "execution_count": null,
      "outputs": [
        {
          "output_type": "stream",
          "name": "stdout",
          "text": [
            "Cloning into '080289'...\n",
            "remote: Enumerating objects: 2278, done.\u001b[K\n",
            "remote: Counting objects: 100% (32/32), done.\u001b[K\n",
            "remote: Compressing objects: 100% (29/29), done.\u001b[K\n",
            "remote: Total 2278 (delta 4), reused 27 (delta 3), pack-reused 2246 (from 1)\u001b[K\n",
            "Receiving objects: 100% (2278/2278), 330.30 MiB | 17.71 MiB/s, done.\n",
            "Resolving deltas: 100% (13/13), done.\n",
            "Updating files: 100% (2591/2591), done.\n",
            "/content/080289/chap07/data\n",
            "sales.csv  SBUX.csv\n"
          ]
        }
      ]
    },
    {
      "cell_type": "code",
      "source": [
        "# ARIMA() 함수를 호출하여 sales 데이터셋에 대한 예측\n",
        "from pandas import read_csv\n",
        "from datetime import datetime\n",
        "from pandas import DataFrame\n",
        "from statsmodels.tsa.arima.model import ARIMA\n",
        "from matplotlib import pyplot\n",
        "\n",
        "def parser(x):\n",
        "    return datetime.strptime('199'+x, '%Y-%m')   # strptime() : 날짜와 시간 정보를 문자열로 바꾸어 주는 메서드\n",
        "\n",
        "df = read_csv('/content/080289/chap07/data/sales.csv', header=0, parse_dates=[0], index_col=0, date_parser=parser)\n",
        "series = df.iloc[:, 0]  # squeeze 제거 → 첫 번째 열만 Series로 추출\n",
        "\n",
        "model = ARIMA(series, order=(5, 1, 0))   # ARIMA() 함수 호출\n",
        "model_fit = model.fit()   # 모형을 적용할 때 많은 디버그 정보가 제공되는데 disp 인수를 0으로 설정하여 이 기능을 비활성화\n",
        "print(model_fit.summary())      # 모델에 정보 표시\n",
        "\n",
        "residuals = DataFrame(model_fit.resid)\n",
        "\n",
        "residuals.plot()   # residuals 정보를 시각적으로 표현\n",
        "pyplot.show()\n",
        "residuals.plot(kind='kde')\n",
        "pyplot.show()\n",
        "print(residuals.describe())"
      ],
      "metadata": {
        "id": "vdsXfEWvq3v-",
        "colab": {
          "base_uri": "https://localhost:8080/",
          "height": 1000
        },
        "outputId": "432d1dab-4213-4ea7-c64d-c005c2491dfc"
      },
      "execution_count": null,
      "outputs": [
        {
          "output_type": "stream",
          "name": "stderr",
          "text": [
            "<ipython-input-4-bcbb88f1a19b>:11: FutureWarning: The argument 'date_parser' is deprecated and will be removed in a future version. Please use 'date_format' instead, or read your data in as 'object' dtype and then call 'to_datetime'.\n",
            "  df = read_csv('/content/080289/chap07/data/sales.csv', header=0, parse_dates=[0], index_col=0, date_parser=parser)\n",
            "/usr/local/lib/python3.11/dist-packages/statsmodels/tsa/base/tsa_model.py:473: ValueWarning: No frequency information was provided, so inferred frequency MS will be used.\n",
            "  self._init_dates(dates, freq)\n",
            "/usr/local/lib/python3.11/dist-packages/statsmodels/tsa/base/tsa_model.py:473: ValueWarning: No frequency information was provided, so inferred frequency MS will be used.\n",
            "  self._init_dates(dates, freq)\n",
            "/usr/local/lib/python3.11/dist-packages/statsmodels/tsa/base/tsa_model.py:473: ValueWarning: No frequency information was provided, so inferred frequency MS will be used.\n",
            "  self._init_dates(dates, freq)\n"
          ]
        },
        {
          "output_type": "stream",
          "name": "stdout",
          "text": [
            "                               SARIMAX Results                                \n",
            "==============================================================================\n",
            "Dep. Variable:                  Sales   No. Observations:                   36\n",
            "Model:                 ARIMA(5, 1, 0)   Log Likelihood                -199.651\n",
            "Date:                Fri, 30 May 2025   AIC                            411.302\n",
            "Time:                        02:26:29   BIC                            420.634\n",
            "Sample:                    01-01-1991   HQIC                           414.523\n",
            "                         - 12-01-1993                                         \n",
            "Covariance Type:                  opg                                         \n",
            "==============================================================================\n",
            "                 coef    std err          z      P>|z|      [0.025      0.975]\n",
            "------------------------------------------------------------------------------\n",
            "ar.L1         -0.8788      0.227     -3.876      0.000      -1.323      -0.434\n",
            "ar.L2         -0.2787      0.232     -1.203      0.229      -0.733       0.176\n",
            "ar.L3         -0.0076      0.270     -0.028      0.978      -0.536       0.521\n",
            "ar.L4          0.3483      0.294      1.185      0.236      -0.228       0.924\n",
            "ar.L5          0.3772      0.207      1.826      0.068      -0.028       0.782\n",
            "sigma2      5049.2114   1540.731      3.277      0.001    2029.435    8068.988\n",
            "===================================================================================\n",
            "Ljung-Box (L1) (Q):                   0.39   Jarque-Bera (JB):                 1.60\n",
            "Prob(Q):                              0.53   Prob(JB):                         0.45\n",
            "Heteroskedasticity (H):               1.43   Skew:                             0.38\n",
            "Prob(H) (two-sided):                  0.54   Kurtosis:                         2.28\n",
            "===================================================================================\n",
            "\n",
            "Warnings:\n",
            "[1] Covariance matrix calculated using the outer product of gradients (complex-step).\n"
          ]
        },
        {
          "output_type": "display_data",
          "data": {
            "text/plain": [
              "<Figure size 640x480 with 1 Axes>"
            ],
            "image/png": "[encoded data removed]"
          },
          "metadata": {}
        },
        {
          "output_type": "display_data",
          "data": {
            "text/plain": [
              "<Figure size 640x480 with 1 Axes>"
            ],
            "image/png": "[encoded data removed]"
          },
          "metadata": {}
        },
        {
          "output_type": "stream",
          "name": "stdout",
          "text": [
            "                0\n",
            "count   36.000000\n",
            "mean    22.459086\n",
            "std     82.505331\n",
            "min   -118.213281\n",
            "25%    -33.308343\n",
            "50%      1.361178\n",
            "75%     76.704967\n",
            "max    266.000000\n"
          ]
        }
      ]
    },
    {
      "cell_type": "code",
      "source": [
        "# statsmodels 라이브러리를 이용한 sales 데이터셋 예측\n",
        "import numpy as np\n",
        "from pandas import read_csv\n",
        "from datetime import datetime\n",
        "from matplotlib import pyplot\n",
        "from statsmodels.tsa.arima.model import ARIMA\n",
        "from sklearn.metrics import mean_squared_error\n",
        "\n",
        "def parser(x):\n",
        "    return datetime.strptime('199'+x, '%Y-%m')\n",
        "\n",
        "df = read_csv('/content/080289/chap07/data/sales.csv', header=0, parse_dates=[0], index_col=0, date_parser=parser)\n",
        "series = df.iloc[:, 0]\n",
        "\n",
        "X = series.values\n",
        "X = np.nan_to_num(X)\n",
        "size = int(len(X) * 0.66)\n",
        "train, test = X[0:size], X[size:len(X)]   # train과 test로 데이터셋 분리\n",
        "history = [x for x in train]\n",
        "predictions = list()\n",
        "\n",
        "for t in range(len(test)):   # test 데이터셋의 길이(13)만큼 반복하여 수행\n",
        "    model = ARIMA(history, order=(5, 1, 0))   # ARIMA() 함수 호출\n",
        "    model_fit = model.fit()\n",
        "    output = model_fit.forecast(steps=1)   # forecast() 메서드: 예측\n",
        "    yhat = output[0]\n",
        "    predictions.append(yhat)\n",
        "    obs = test[t]\n",
        "    history.append(obs)\n",
        "    print('predicted=%.8f, expected=%.8f' % (yhat, obs))\n",
        "\n",
        "error = mean_squared_error(test, predictions)\n",
        "print('Test MSE: %.3f' % error)\n",
        "pyplot.plot(test)\n",
        "pyplot.plot(predictions, color='red')\n",
        "pyplot.show()"
      ],
      "metadata": {
        "id": "wvJ4UWChsGEs",
        "colab": {
          "base_uri": "https://localhost:8080/",
          "height": 740
        },
        "outputId": "83a00400-e8b2-45b6-dee0-916a2d37f74a"
      },
      "execution_count": null,
      "outputs": [
        {
          "output_type": "stream",
          "name": "stderr",
          "text": [
            "<ipython-input-5-e1f81babbd40>:12: FutureWarning: The argument 'date_parser' is deprecated and will be removed in a future version. Please use 'date_format' instead, or read your data in as 'object' dtype and then call 'to_datetime'.\n",
            "  df = read_csv('/content/080289/chap07/data/sales.csv', header=0, parse_dates=[0], index_col=0, date_parser=parser)\n"
          ]
        },
        {
          "output_type": "stream",
          "name": "stdout",
          "text": [
            "predicted=352.85534307, expected=346.30000000\n",
            "predicted=277.39803580, expected=329.70000000\n",
            "predicted=368.75373423, expected=445.40000000\n",
            "predicted=331.77363464, expected=325.90000000\n",
            "predicted=372.07040727, expected=449.30000000\n",
            "predicted=360.02087230, expected=411.30000000\n",
            "predicted=454.52622973, expected=417.40000000\n",
            "predicted=388.69069931, expected=545.50000000\n",
            "predicted=437.63244717, expected=477.60000000\n",
            "predicted=516.43762369, expected=687.00000000\n",
            "predicted=520.91619059, expected=435.30000000\n",
            "predicted=675.59464689, expected=587.30000000\n",
            "predicted=505.20101583, expected=676.90000000\n",
            "Test MSE: 9118.818\n"
          ]
        },
        {
          "output_type": "display_data",
          "data": {
            "text/plain": [
              "<Figure size 640x480 with 1 Axes>"
            ],
            "image/png": "[encoded data removed]"
          },
          "metadata": {}
        }
      ]
    },
    {
      "cell_type": "markdown",
      "source": [
        "\n",
        "\n",
        "---\n",
        "\n"
      ],
      "metadata": {
        "id": "zN3AFUTrsV15"
      }
    },
    {
      "cell_type": "markdown",
      "source": [
        "# **순환 신경망(RNN)**"
      ],
      "metadata": {
        "id": "wRq5bpB2tXA7"
      }
    },
    {
      "cell_type": "markdown",
      "source": [
        "RNN (Recurrent Neural Network) : 시간적으로 연속성이 있는 데이터를 처리하기 위해 고안된 안공 신경망\n",
        "- 'Recurrent' : 이전의 은닉층이 현재 은닉층의 입력이 되면서 반복되는 순환 구조를 갖는다는 의미\n",
        "- '기억'을 갖는다는 점이 기존 네트워크와 다름\n",
        "    - 기억 : 현재까지 입력 데이터를 요약한 정보\n",
        "    - 새로운 입력이 네트워크로 들어올 때마다 기억은 조금씩 수정되고, 결국 최종적으로 남겨진 기억은 모든 입력 전체를 요약한 정보가 됨\n",
        "\n",
        "![RNN](https://thebook.io/img/080289/368.jpg)\n",
        "\n",
        "- x1 : 첫 번째 입력 > h1 (첫 번째 기억) 생성\n",
        "- x2 : 두 번째 입력 + h1 > h2 (두 번째 기억)\n",
        "    - h2 : 새롭게 업데이트 된 기억"
      ],
      "metadata": {
        "id": "wXKjxmTzw47K"
      }
    },
    {
      "cell_type": "markdown",
      "source": [
        "[입력과 출력에 따른 RNN 유형]\n",
        "1. 일대일 : 순환이 X (RNN이라고 말하기 어려움)\n",
        "    - ex. 순방향 네트워크\n",
        "2. 일대다 : 입력이 하나, 출력이 다수\n",
        "    - ex. image captioning (이미지에 대한 설명을 문장으로 출력)\n",
        "3. 다대일 : 입력이 다수, 출력이 하나\n",
        "    - ex. 감성분석기\n",
        "\n",
        "\n",
        "\n",
        "```\n",
        "self.em = nn.Embedding(len(TEXT.vocab.stoi), embedding_dim)\n",
        "self.rnn = nn.RNNCell(input_dim, hidden_size)\n",
        "self.fc1 = nn.Linear(hidden_size, 256)\n",
        "self.fc2 = nn.Linear(256,3)\n",
        "```\n",
        "\n",
        "![n:1](https://thebook.io/img/080289/369_1.jpg)\n",
        "\n",
        "![n:1_1](https://thebook.io/img/080289/369_2.jpg)\n",
        "\n"
      ],
      "metadata": {
        "id": "sWgFo_hOx-vF"
      }
    },
    {
      "cell_type": "markdown",
      "source": [
        "4. 다대다 : 입력과 출력이 다수\n",
        "    - ex. 자동 번역기\n",
        "\n",
        "```\n",
        "Seq2Seq(\n",
        "  (encoder): Encoder(\n",
        "    (embedding): Embedding(7855, 256)\n",
        "    (rnn): LSTM(256, 512, num_layers=2, dropout=0.5)\n",
        "    (dropout): Dropout(p=0.5, inplace=False)\n",
        "  )\n",
        "  (decoder): Decoder(\n",
        "    (embedding): Embedding(5893, 256)\n",
        "    (rnn): LSTM(256, 512, num_layers=2, dropout=0.5)\n",
        "    (fc_out): Linear(in_features=512, out_features=5893, bias=True)\n",
        "    (dropout): Dropout(p=0.5, inplace=False)\n",
        "  )\n",
        ")\n",
        "\n",
        "```\n",
        "![n:n](https://thebook.io/img/080289/370_1.jpg)"
      ],
      "metadata": {
        "id": "lCCjNItEyzS9"
      }
    },
    {
      "cell_type": "markdown",
      "source": [
        "5. 동기화 다대다 : 입력과 출력이 다수\n",
        "    - ex. 문장에서 다음에 나올 단어를 예측하는 언어 모델"
      ],
      "metadata": {
        "id": "Oh-kjDdPzLPD"
      }
    },
    {
      "cell_type": "markdown",
      "source": [
        "![total](https://thebook.io/img/080289/370_2.jpg)"
      ],
      "metadata": {
        "id": "6nLNCL7TzSOJ"
      }
    },
    {
      "cell_type": "markdown",
      "source": [
        "## **RNN 계층과 셀**\n",
        "- RNN은 내장된(built-in) 계층뿐만 아니라 셀 레벨의 API 제공\n",
        "- RNN 계층은 입력된 배치 순서대로 모두 처리\n",
        "- RNN 셀은 오직 하나의 단계만 처리: for loop 구문\n",
        "  - nn.RNNCell: SimpleRNN 계층에 대응되는 RNN 셀\n",
        "  - nn.GRUCell: GRU 계층에 대응되는 GRU 셀\n",
        "  - nn.LSTMCell: LSTM 계층에 대응되는 LSTM 셀\n",
        "- 파이토치에서 RNN의 계층과 셀을 분리해서 구현\n",
        "\n",
        "![rnn_layer](https://thebook.io/img/080289/371.jpg)\n",
        "\n",
        "\n"
      ],
      "metadata": {
        "id": "SvTd-9M0wDxp"
      }
    },
    {
      "cell_type": "markdown",
      "source": [
        "\n",
        "\n",
        "---\n",
        "\n"
      ],
      "metadata": {
        "id": "88XD8_wFWmXH"
      }
    },
    {
      "cell_type": "markdown",
      "source": [
        "# RNN 실습"
      ],
      "metadata": {
        "id": "DHwfcZP7ygs6"
      }
    },
    {
      "cell_type": "markdown",
      "source": [
        "## **1. 문자 단위 RNN(Char RNN)**\n",
        "- 필요 도구 임포트"
      ],
      "metadata": {
        "id": "Y_1_UeJKyoyM"
      }
    },
    {
      "cell_type": "code",
      "execution_count": null,
      "metadata": {
        "id": "t5QzbZ30yZ1V"
      },
      "outputs": [],
      "source": [
        "import torch\n",
        "import torch.nn as nn\n",
        "import torch.optim as optim\n",
        "import numpy as np"
      ]
    },
    {
      "cell_type": "markdown",
      "source": [
        "**1. 훈련 데이터 전처리하기**\n",
        "- 입력 데이터와 레이블 데이터에 대해 문자 집합(vocabulary) 만듦\n",
        "  - 문자 집합: 중복을 제거한 문자들의 집합"
      ],
      "metadata": {
        "id": "BL5nW7PNyvgg"
      }
    },
    {
      "cell_type": "code",
      "source": [
        "input_str = 'apple'\n",
        "label_str = 'pple!'\n",
        "char_vocab = sorted(list(set(input_str+label_str)))\n",
        "vocab_size = len(char_vocab)\n",
        "print ('문자 집합의 크기 : {}'.format(vocab_size))"
      ],
      "metadata": {
        "colab": {
          "base_uri": "https://localhost:8080/"
        },
        "id": "gxj-R7vBy_Qn",
        "outputId": "94883ad8-3248-4bbf-b5fe-cdf9fbe86115"
      },
      "execution_count": null,
      "outputs": [
        {
          "output_type": "stream",
          "name": "stdout",
          "text": [
            "문자 집합의 크기 : 5\n"
          ]
        }
      ]
    },
    {
      "cell_type": "code",
      "source": [
        "input_size = vocab_size   # 입력의 크기는 문자 집합의 크기\n",
        "hidden_size = 5\n",
        "output_size = 5\n",
        "learning_rate = 0.1"
      ],
      "metadata": {
        "id": "hSjMs21EzBcU"
      },
      "execution_count": null,
      "outputs": []
    },
    {
      "cell_type": "code",
      "source": [
        "char_to_index = dict((c, i) for i, c in enumerate(char_vocab)) # 문자에 고유한 정수 인덱스 부여\n",
        "print(char_to_index)"
      ],
      "metadata": {
        "colab": {
          "base_uri": "https://localhost:8080/"
        },
        "id": "nXRyjIsFzI6K",
        "outputId": "704d2997-d5ec-43e3-87cd-e246084dc020"
      },
      "execution_count": null,
      "outputs": [
        {
          "output_type": "stream",
          "name": "stdout",
          "text": [
            "{'!': 0, 'a': 1, 'e': 2, 'l': 3, 'p': 4}\n"
          ]
        }
      ]
    },
    {
      "cell_type": "code",
      "source": [
        "# 정수로부터 문자를 얻을 수 있는 index_to_char 생성\n",
        "index_to_char={}\n",
        "for key, value in char_to_index.items():\n",
        "    index_to_char[value] = key\n",
        "print(index_to_char)"
      ],
      "metadata": {
        "colab": {
          "base_uri": "https://localhost:8080/"
        },
        "id": "v7o9d1djzKeB",
        "outputId": "114e09e6-39bb-494c-9d22-f2008f59ed89"
      },
      "execution_count": null,
      "outputs": [
        {
          "output_type": "stream",
          "name": "stdout",
          "text": [
            "{0: '!', 1: 'a', 2: 'e', 3: 'l', 4: 'p'}\n"
          ]
        }
      ]
    },
    {
      "cell_type": "code",
      "source": [
        "# 입력 데이터와 레이블 데이터 각 문자들을 정수로 맵핑\n",
        "x_data = [char_to_index[c] for c in input_str]\n",
        "y_data = [char_to_index[c] for c in label_str]\n",
        "print(x_data)\n",
        "print(y_data)"
      ],
      "metadata": {
        "colab": {
          "base_uri": "https://localhost:8080/"
        },
        "id": "vNhMJzwczScQ",
        "outputId": "2e31899f-5449-4812-aacc-ffad77426ffb"
      },
      "execution_count": null,
      "outputs": [
        {
          "output_type": "stream",
          "name": "stdout",
          "text": [
            "[1, 4, 4, 3, 2]\n",
            "[4, 4, 3, 2, 0]\n"
          ]
        }
      ]
    },
    {
      "cell_type": "code",
      "source": [
        "# 배치 차원 추가\n",
        "# 텐서 연산인 unsqueeze(0)를 통해 해결할 수도 있었음\n",
        "x_data = [x_data]\n",
        "y_data = [y_data]\n",
        "print(x_data)\n",
        "print(y_data)"
      ],
      "metadata": {
        "colab": {
          "base_uri": "https://localhost:8080/"
        },
        "id": "eQkX5sVlzWcM",
        "outputId": "0f289463-b1e9-4db5-9904-0dc109ca272b"
      },
      "execution_count": null,
      "outputs": [
        {
          "output_type": "stream",
          "name": "stdout",
          "text": [
            "[[1, 4, 4, 3, 2]]\n",
            "[[4, 4, 3, 2, 0]]\n"
          ]
        }
      ]
    },
    {
      "cell_type": "code",
      "source": [
        "# 입력 시퀀스 각 문자 원-핫 벡터 변환\n",
        "x_one_hot = [np.eye(vocab_size)[x] for x in x_data]\n",
        "print(x_one_hot)"
      ],
      "metadata": {
        "colab": {
          "base_uri": "https://localhost:8080/"
        },
        "id": "TfsOcTVDzYFy",
        "outputId": "63b3db70-342e-4d89-98f2-71a5c2a1a57f"
      },
      "execution_count": null,
      "outputs": [
        {
          "output_type": "stream",
          "name": "stdout",
          "text": [
            "[array([[0., 1., 0., 0., 0.],\n",
            "       [0., 0., 0., 0., 1.],\n",
            "       [0., 0., 0., 0., 1.],\n",
            "       [0., 0., 0., 1., 0.],\n",
            "       [0., 0., 1., 0., 0.]])]\n"
          ]
        }
      ]
    },
    {
      "cell_type": "code",
      "source": [
        "# 입력 데이터 레이블 데이터 텐서로 변환\n",
        "X = torch.FloatTensor(x_one_hot)\n",
        "Y = torch.LongTensor(y_data)"
      ],
      "metadata": {
        "colab": {
          "base_uri": "https://localhost:8080/"
        },
        "id": "9MGFiPouzdgu",
        "outputId": "04fc8a0b-fa3f-4518-cf94-7561ad5e68a2"
      },
      "execution_count": null,
      "outputs": [
        {
          "output_type": "stream",
          "name": "stderr",
          "text": [
            "<ipython-input-14-0d017e108e54>:2: UserWarning: Creating a tensor from a list of numpy.ndarrays is extremely slow. Please consider converting the list to a single numpy.ndarray with numpy.array() before converting to a tensor. (Triggered internally at /pytorch/torch/csrc/utils/tensor_new.cpp:254.)\n",
            "  X = torch.FloatTensor(x_one_hot)\n"
          ]
        }
      ]
    },
    {
      "cell_type": "code",
      "source": [
        "# 각 텐서의 크기 확인\n",
        "print('훈련 데이터의 크기 : {}'.format(X.shape))\n",
        "print('레이블의 크기 : {}'.format(Y.shape))"
      ],
      "metadata": {
        "colab": {
          "base_uri": "https://localhost:8080/"
        },
        "id": "vkJs0c9dzgqY",
        "outputId": "6f6023cf-2185-4e26-e867-f36bdca145b3"
      },
      "execution_count": null,
      "outputs": [
        {
          "output_type": "stream",
          "name": "stdout",
          "text": [
            "훈련 데이터의 크기 : torch.Size([1, 5, 5])\n",
            "레이블의 크기 : torch.Size([1, 5])\n"
          ]
        }
      ]
    },
    {
      "cell_type": "markdown",
      "source": [
        "**2. 모델 구현하기**\n",
        "- RNN 모델 구현"
      ],
      "metadata": {
        "id": "N8ZfoBA-zB7X"
      }
    },
    {
      "cell_type": "code",
      "source": [
        "# fc: 완전 연결층(fully-connected layer)\n",
        "class Net(torch.nn.Module):\n",
        "    def __init__(self, input_size, hidden_size, output_size):\n",
        "        super(Net, self).__init__()\n",
        "        self.rnn = torch.nn.RNN(input_size, hidden_size, batch_first=True) # RNN 셀 구현\n",
        "        self.fc = torch.nn.Linear(hidden_size, output_size, bias=True) # 출력층 구현\n",
        "\n",
        "    def forward(self, x): # 구현한 RNN 셀과 출력층을 연결\n",
        "        x, _status = self.rnn(x)\n",
        "        x = self.fc(x)\n",
        "        return x"
      ],
      "metadata": {
        "id": "ueibbcs0znkI"
      },
      "execution_count": null,
      "outputs": []
    },
    {
      "cell_type": "code",
      "source": [
        "# 클래스로 정의한 모델 저장\n",
        "net = Net(input_size, hidden_size, output_size)"
      ],
      "metadata": {
        "id": "_3VTNHDCztdm"
      },
      "execution_count": null,
      "outputs": []
    },
    {
      "cell_type": "code",
      "source": [
        "# 출력 크기 확인\n",
        "outputs = net(X)\n",
        "print(outputs.shape) # 3차원 텐서"
      ],
      "metadata": {
        "colab": {
          "base_uri": "https://localhost:8080/"
        },
        "id": "sZ6cfE0ozxYk",
        "outputId": "ffc1b088-f380-4408-a713-eaf86e6c8c2e"
      },
      "execution_count": null,
      "outputs": [
        {
          "output_type": "stream",
          "name": "stdout",
          "text": [
            "torch.Size([1, 5, 5])\n"
          ]
        }
      ]
    },
    {
      "cell_type": "code",
      "source": [
        "print(outputs.view(-1, input_size).shape) # 2차원 텐서로 변환"
      ],
      "metadata": {
        "colab": {
          "base_uri": "https://localhost:8080/"
        },
        "id": "n7E38TGGz1u0",
        "outputId": "c4dd3d31-bd50-4801-bc14-0df35bc0d1f4"
      },
      "execution_count": null,
      "outputs": [
        {
          "output_type": "stream",
          "name": "stdout",
          "text": [
            "torch.Size([5, 5])\n"
          ]
        }
      ]
    },
    {
      "cell_type": "code",
      "source": [
        "# 레이블 데이터 크기\n",
        "print(Y.shape)\n",
        "print(Y.view(-1).shape)"
      ],
      "metadata": {
        "colab": {
          "base_uri": "https://localhost:8080/"
        },
        "id": "hjEqprZgz3A3",
        "outputId": "07b09d19-48fd-4ee6-d5b7-00187ebabcf4"
      },
      "execution_count": null,
      "outputs": [
        {
          "output_type": "stream",
          "name": "stdout",
          "text": [
            "torch.Size([1, 5])\n",
            "torch.Size([5])\n"
          ]
        }
      ]
    },
    {
      "cell_type": "code",
      "source": [
        "# 옵티마이저, 손실 함수 정의\n",
        "criterion = torch.nn.CrossEntropyLoss()\n",
        "optimizer = optim.Adam(net.parameters(), learning_rate)"
      ],
      "metadata": {
        "id": "DKBnqKG6zBS0"
      },
      "execution_count": null,
      "outputs": []
    },
    {
      "cell_type": "code",
      "source": [
        "for i in range(100):\n",
        "    optimizer.zero_grad()\n",
        "    outputs = net(X)\n",
        "    loss = criterion(outputs.view(-1, input_size), Y.view(-1)) # view를 하는 이유는 Batch 차원 제거를 위해\n",
        "    loss.backward() # 기울기 계산\n",
        "    optimizer.step() # 아까 optimizer 선언 시 넣어둔 파라미터 업데이트\n",
        "\n",
        "    # 아래 세 줄은 모델이 실제 어떻게 예측했는지를 확인하기 위한 코드.\n",
        "    result = outputs.data.numpy().argmax(axis=2) # 최종 예측값인 각 time-step 별 5차원 벡터에 대해서 가장 높은 값의 인덱스를 선택\n",
        "    result_str = ''.join([index_to_char[c] for c in np.squeeze(result)])\n",
        "    print(i, \"loss: \", loss.item(), \"prediction: \", result, \"true Y: \", y_data, \"prediction str: \", result_str)"
      ],
      "metadata": {
        "colab": {
          "base_uri": "https://localhost:8080/"
        },
        "id": "k4rkqzrVzEa0",
        "outputId": "803eb28c-a162-440f-c2c3-0a8c079f1fe8"
      },
      "execution_count": null,
      "outputs": [
        {
          "output_type": "stream",
          "name": "stdout",
          "text": [
            "0 loss:  1.501065969467163 prediction:  [[4 3 3 3 3]] true Y:  [[4, 4, 3, 2, 0]] prediction str:  pllll\n",
            "1 loss:  1.2946637868881226 prediction:  [[4 4 4 2 4]] true Y:  [[4, 4, 3, 2, 0]] prediction str:  pppep\n",
            "2 loss:  1.1754817962646484 prediction:  [[4 4 4 2 4]] true Y:  [[4, 4, 3, 2, 0]] prediction str:  pppep\n",
            "3 loss:  1.0190250873565674 prediction:  [[4 4 4 2 4]] true Y:  [[4, 4, 3, 2, 0]] prediction str:  pppep\n",
            "4 loss:  0.8418864011764526 prediction:  [[4 4 4 2 0]] true Y:  [[4, 4, 3, 2, 0]] prediction str:  pppe!\n",
            "5 loss:  0.6792694926261902 prediction:  [[4 4 3 2 0]] true Y:  [[4, 4, 3, 2, 0]] prediction str:  pple!\n",
            "6 loss:  0.537882924079895 prediction:  [[4 4 3 2 0]] true Y:  [[4, 4, 3, 2, 0]] prediction str:  pple!\n",
            "7 loss:  0.4191437363624573 prediction:  [[4 4 3 2 0]] true Y:  [[4, 4, 3, 2, 0]] prediction str:  pple!\n",
            "8 loss:  0.32324832677841187 prediction:  [[4 4 3 2 0]] true Y:  [[4, 4, 3, 2, 0]] prediction str:  pple!\n",
            "9 loss:  0.25072988867759705 prediction:  [[4 4 3 2 0]] true Y:  [[4, 4, 3, 2, 0]] prediction str:  pple!\n",
            "10 loss:  0.18434305489063263 prediction:  [[4 4 3 2 0]] true Y:  [[4, 4, 3, 2, 0]] prediction str:  pple!\n",
            "11 loss:  0.13832902908325195 prediction:  [[4 4 3 2 0]] true Y:  [[4, 4, 3, 2, 0]] prediction str:  pple!\n",
            "12 loss:  0.10547143220901489 prediction:  [[4 4 3 2 0]] true Y:  [[4, 4, 3, 2, 0]] prediction str:  pple!\n",
            "13 loss:  0.07863276451826096 prediction:  [[4 4 3 2 0]] true Y:  [[4, 4, 3, 2, 0]] prediction str:  pple!\n",
            "14 loss:  0.059442538768053055 prediction:  [[4 4 3 2 0]] true Y:  [[4, 4, 3, 2, 0]] prediction str:  pple!\n",
            "15 loss:  0.047868698835372925 prediction:  [[4 4 3 2 0]] true Y:  [[4, 4, 3, 2, 0]] prediction str:  pple!\n",
            "16 loss:  0.03761554881930351 prediction:  [[4 4 3 2 0]] true Y:  [[4, 4, 3, 2, 0]] prediction str:  pple!\n",
            "17 loss:  0.028921792283654213 prediction:  [[4 4 3 2 0]] true Y:  [[4, 4, 3, 2, 0]] prediction str:  pple!\n",
            "18 loss:  0.02321697771549225 prediction:  [[4 4 3 2 0]] true Y:  [[4, 4, 3, 2, 0]] prediction str:  pple!\n",
            "19 loss:  0.019124705344438553 prediction:  [[4 4 3 2 0]] true Y:  [[4, 4, 3, 2, 0]] prediction str:  pple!\n",
            "20 loss:  0.015704799443483353 prediction:  [[4 4 3 2 0]] true Y:  [[4, 4, 3, 2, 0]] prediction str:  pple!\n",
            "21 loss:  0.012735655531287193 prediction:  [[4 4 3 2 0]] true Y:  [[4, 4, 3, 2, 0]] prediction str:  pple!\n",
            "22 loss:  0.010283064097166061 prediction:  [[4 4 3 2 0]] true Y:  [[4, 4, 3, 2, 0]] prediction str:  pple!\n",
            "23 loss:  0.00841184239834547 prediction:  [[4 4 3 2 0]] true Y:  [[4, 4, 3, 2, 0]] prediction str:  pple!\n",
            "24 loss:  0.007083166390657425 prediction:  [[4 4 3 2 0]] true Y:  [[4, 4, 3, 2, 0]] prediction str:  pple!\n",
            "25 loss:  0.006158613599836826 prediction:  [[4 4 3 2 0]] true Y:  [[4, 4, 3, 2, 0]] prediction str:  pple!\n",
            "26 loss:  0.005444880574941635 prediction:  [[4 4 3 2 0]] true Y:  [[4, 4, 3, 2, 0]] prediction str:  pple!\n",
            "27 loss:  0.004786491859704256 prediction:  [[4 4 3 2 0]] true Y:  [[4, 4, 3, 2, 0]] prediction str:  pple!\n",
            "28 loss:  0.00415562279522419 prediction:  [[4 4 3 2 0]] true Y:  [[4, 4, 3, 2, 0]] prediction str:  pple!\n",
            "29 loss:  0.00360860675573349 prediction:  [[4 4 3 2 0]] true Y:  [[4, 4, 3, 2, 0]] prediction str:  pple!\n",
            "30 loss:  0.0031798589043319225 prediction:  [[4 4 3 2 0]] true Y:  [[4, 4, 3, 2, 0]] prediction str:  pple!\n",
            "31 loss:  0.0028576578479260206 prediction:  [[4 4 3 2 0]] true Y:  [[4, 4, 3, 2, 0]] prediction str:  pple!\n",
            "32 loss:  0.0026109921745955944 prediction:  [[4 4 3 2 0]] true Y:  [[4, 4, 3, 2, 0]] prediction str:  pple!\n",
            "33 loss:  0.002411030000075698 prediction:  [[4 4 3 2 0]] true Y:  [[4, 4, 3, 2, 0]] prediction str:  pple!\n",
            "34 loss:  0.0022379658184945583 prediction:  [[4 4 3 2 0]] true Y:  [[4, 4, 3, 2, 0]] prediction str:  pple!\n",
            "35 loss:  0.002081340178847313 prediction:  [[4 4 3 2 0]] true Y:  [[4, 4, 3, 2, 0]] prediction str:  pple!\n",
            "36 loss:  0.0019373996183276176 prediction:  [[4 4 3 2 0]] true Y:  [[4, 4, 3, 2, 0]] prediction str:  pple!\n",
            "37 loss:  0.0018061883747577667 prediction:  [[4 4 3 2 0]] true Y:  [[4, 4, 3, 2, 0]] prediction str:  pple!\n",
            "38 loss:  0.0016891559353098273 prediction:  [[4 4 3 2 0]] true Y:  [[4, 4, 3, 2, 0]] prediction str:  pple!\n",
            "39 loss:  0.0015874223317950964 prediction:  [[4 4 3 2 0]] true Y:  [[4, 4, 3, 2, 0]] prediction str:  pple!\n",
            "40 loss:  0.0015012313378974795 prediction:  [[4 4 3 2 0]] true Y:  [[4, 4, 3, 2, 0]] prediction str:  pple!\n",
            "41 loss:  0.0014295176370069385 prediction:  [[4 4 3 2 0]] true Y:  [[4, 4, 3, 2, 0]] prediction str:  pple!\n",
            "42 loss:  0.001370217651128769 prediction:  [[4 4 3 2 0]] true Y:  [[4, 4, 3, 2, 0]] prediction str:  pple!\n",
            "43 loss:  0.0013208140153437853 prediction:  [[4 4 3 2 0]] true Y:  [[4, 4, 3, 2, 0]] prediction str:  pple!\n",
            "44 loss:  0.0012782638659700751 prediction:  [[4 4 3 2 0]] true Y:  [[4, 4, 3, 2, 0]] prediction str:  pple!\n",
            "45 loss:  0.001240143203176558 prediction:  [[4 4 3 2 0]] true Y:  [[4, 4, 3, 2, 0]] prediction str:  pple!\n",
            "46 loss:  0.0012043822789564729 prediction:  [[4 4 3 2 0]] true Y:  [[4, 4, 3, 2, 0]] prediction str:  pple!\n",
            "47 loss:  0.0011699815513566136 prediction:  [[4 4 3 2 0]] true Y:  [[4, 4, 3, 2, 0]] prediction str:  pple!\n",
            "48 loss:  0.001136678270995617 prediction:  [[4 4 3 2 0]] true Y:  [[4, 4, 3, 2, 0]] prediction str:  pple!\n",
            "49 loss:  0.001104994909837842 prediction:  [[4 4 3 2 0]] true Y:  [[4, 4, 3, 2, 0]] prediction str:  pple!\n",
            "50 loss:  0.0010754300747066736 prediction:  [[4 4 3 2 0]] true Y:  [[4, 4, 3, 2, 0]] prediction str:  pple!\n",
            "51 loss:  0.0010486015817150474 prediction:  [[4 4 3 2 0]] true Y:  [[4, 4, 3, 2, 0]] prediction str:  pple!\n",
            "52 loss:  0.0010246285237371922 prediction:  [[4 4 3 2 0]] true Y:  [[4, 4, 3, 2, 0]] prediction str:  pple!\n",
            "53 loss:  0.0010034391889348626 prediction:  [[4 4 3 2 0]] true Y:  [[4, 4, 3, 2, 0]] prediction str:  pple!\n",
            "54 loss:  0.000984748126938939 prediction:  [[4 4 3 2 0]] true Y:  [[4, 4, 3, 2, 0]] prediction str:  pple!\n",
            "55 loss:  0.0009681036463007331 prediction:  [[4 4 3 2 0]] true Y:  [[4, 4, 3, 2, 0]] prediction str:  pple!\n",
            "56 loss:  0.0009529582457616925 prediction:  [[4 4 3 2 0]] true Y:  [[4, 4, 3, 2, 0]] prediction str:  pple!\n",
            "57 loss:  0.0009390026098117232 prediction:  [[4 4 3 2 0]] true Y:  [[4, 4, 3, 2, 0]] prediction str:  pple!\n",
            "58 loss:  0.0009257371420972049 prediction:  [[4 4 3 2 0]] true Y:  [[4, 4, 3, 2, 0]] prediction str:  pple!\n",
            "59 loss:  0.0009130191174335778 prediction:  [[4 4 3 2 0]] true Y:  [[4, 4, 3, 2, 0]] prediction str:  pple!\n",
            "60 loss:  0.0009006817708723247 prediction:  [[4 4 3 2 0]] true Y:  [[4, 4, 3, 2, 0]] prediction str:  pple!\n",
            "61 loss:  0.0008886776631698012 prediction:  [[4 4 3 2 0]] true Y:  [[4, 4, 3, 2, 0]] prediction str:  pple!\n",
            "62 loss:  0.0008770306594669819 prediction:  [[4 4 3 2 0]] true Y:  [[4, 4, 3, 2, 0]] prediction str:  pple!\n",
            "63 loss:  0.0008659311570227146 prediction:  [[4 4 3 2 0]] true Y:  [[4, 4, 3, 2, 0]] prediction str:  pple!\n",
            "64 loss:  0.0008553314837627113 prediction:  [[4 4 3 2 0]] true Y:  [[4, 4, 3, 2, 0]] prediction str:  pple!\n",
            "65 loss:  0.0008453270420432091 prediction:  [[4 4 3 2 0]] true Y:  [[4, 4, 3, 2, 0]] prediction str:  pple!\n",
            "66 loss:  0.0008360130013898015 prediction:  [[4 4 3 2 0]] true Y:  [[4, 4, 3, 2, 0]] prediction str:  pple!\n",
            "67 loss:  0.0008272465202026069 prediction:  [[4 4 3 2 0]] true Y:  [[4, 4, 3, 2, 0]] prediction str:  pple!\n",
            "68 loss:  0.0008191469241864979 prediction:  [[4 4 3 2 0]] true Y:  [[4, 4, 3, 2, 0]] prediction str:  pple!\n",
            "69 loss:  0.0008114998927339911 prediction:  [[4 4 3 2 0]] true Y:  [[4, 4, 3, 2, 0]] prediction str:  pple!\n",
            "70 loss:  0.0008042340050451458 prediction:  [[4 4 3 2 0]] true Y:  [[4, 4, 3, 2, 0]] prediction str:  pple!\n",
            "71 loss:  0.0007972304010763764 prediction:  [[4 4 3 2 0]] true Y:  [[4, 4, 3, 2, 0]] prediction str:  pple!\n",
            "72 loss:  0.0007903935620561242 prediction:  [[4 4 3 2 0]] true Y:  [[4, 4, 3, 2, 0]] prediction str:  pple!\n",
            "73 loss:  0.0007837476441636682 prediction:  [[4 4 3 2 0]] true Y:  [[4, 4, 3, 2, 0]] prediction str:  pple!\n",
            "74 loss:  0.0007771971868351102 prediction:  [[4 4 3 2 0]] true Y:  [[4, 4, 3, 2, 0]] prediction str:  pple!\n",
            "75 loss:  0.0007707421900704503 prediction:  [[4 4 3 2 0]] true Y:  [[4, 4, 3, 2, 0]] prediction str:  pple!\n",
            "76 loss:  0.0007644779398106039 prediction:  [[4 4 3 2 0]] true Y:  [[4, 4, 3, 2, 0]] prediction str:  pple!\n",
            "77 loss:  0.0007583567057736218 prediction:  [[4 4 3 2 0]] true Y:  [[4, 4, 3, 2, 0]] prediction str:  pple!\n",
            "78 loss:  0.0007523545064032078 prediction:  [[4 4 3 2 0]] true Y:  [[4, 4, 3, 2, 0]] prediction str:  pple!\n",
            "79 loss:  0.0007465904345735908 prediction:  [[4 4 3 2 0]] true Y:  [[4, 4, 3, 2, 0]] prediction str:  pple!\n",
            "80 loss:  0.0007409692625515163 prediction:  [[4 4 3 2 0]] true Y:  [[4, 4, 3, 2, 0]] prediction str:  pple!\n",
            "81 loss:  0.0007355386042036116 prediction:  [[4 4 3 2 0]] true Y:  [[4, 4, 3, 2, 0]] prediction str:  pple!\n",
            "82 loss:  0.0007302268058992922 prediction:  [[4 4 3 2 0]] true Y:  [[4, 4, 3, 2, 0]] prediction str:  pple!\n",
            "83 loss:  0.0007251531933434308 prediction:  [[4 4 3 2 0]] true Y:  [[4, 4, 3, 2, 0]] prediction str:  pple!\n",
            "84 loss:  0.000720103329513222 prediction:  [[4 4 3 2 0]] true Y:  [[4, 4, 3, 2, 0]] prediction str:  pple!\n",
            "85 loss:  0.0007151723839342594 prediction:  [[4 4 3 2 0]] true Y:  [[4, 4, 3, 2, 0]] prediction str:  pple!\n",
            "86 loss:  0.0007102889940142632 prediction:  [[4 4 3 2 0]] true Y:  [[4, 4, 3, 2, 0]] prediction str:  pple!\n",
            "87 loss:  0.0007055246969684958 prediction:  [[4 4 3 2 0]] true Y:  [[4, 4, 3, 2, 0]] prediction str:  pple!\n",
            "88 loss:  0.000700736534781754 prediction:  [[4 4 3 2 0]] true Y:  [[4, 4, 3, 2, 0]] prediction str:  pple!\n",
            "89 loss:  0.000695972063113004 prediction:  [[4 4 3 2 0]] true Y:  [[4, 4, 3, 2, 0]] prediction str:  pple!\n",
            "90 loss:  0.0006913504912517965 prediction:  [[4 4 3 2 0]] true Y:  [[4, 4, 3, 2, 0]] prediction str:  pple!\n",
            "91 loss:  0.0006868002819828689 prediction:  [[4 4 3 2 0]] true Y:  [[4, 4, 3, 2, 0]] prediction str:  pple!\n",
            "92 loss:  0.0006822739960625768 prediction:  [[4 4 3 2 0]] true Y:  [[4, 4, 3, 2, 0]] prediction str:  pple!\n",
            "93 loss:  0.0006778428214602172 prediction:  [[4 4 3 2 0]] true Y:  [[4, 4, 3, 2, 0]] prediction str:  pple!\n",
            "94 loss:  0.0006734830676577985 prediction:  [[4 4 3 2 0]] true Y:  [[4, 4, 3, 2, 0]] prediction str:  pple!\n",
            "95 loss:  0.0006691472372040153 prediction:  [[4 4 3 2 0]] true Y:  [[4, 4, 3, 2, 0]] prediction str:  pple!\n",
            "96 loss:  0.0006649304996244609 prediction:  [[4 4 3 2 0]] true Y:  [[4, 4, 3, 2, 0]] prediction str:  pple!\n",
            "97 loss:  0.0006607138202525675 prediction:  [[4 4 3 2 0]] true Y:  [[4, 4, 3, 2, 0]] prediction str:  pple!\n",
            "98 loss:  0.0006565446965396404 prediction:  [[4 4 3 2 0]] true Y:  [[4, 4, 3, 2, 0]] prediction str:  pple!\n",
            "99 loss:  0.0006524470518343151 prediction:  [[4 4 3 2 0]] true Y:  [[4, 4, 3, 2, 0]] prediction str:  pple!\n"
          ]
        }
      ]
    },
    {
      "cell_type": "markdown",
      "source": [
        "## **2. 더 많은 데이터로 학습한 문자 단위 RNN(Char RNN)**"
      ],
      "metadata": {
        "id": "__XKR0A4zYUZ"
      }
    },
    {
      "cell_type": "code",
      "source": [
        "import torch\n",
        "import torch.nn as nn\n",
        "import torch.optim as optim"
      ],
      "metadata": {
        "id": "J2bh3O6Vzjih"
      },
      "execution_count": null,
      "outputs": []
    },
    {
      "cell_type": "markdown",
      "source": [
        "**1. 훈련 데이터 전처리하기**"
      ],
      "metadata": {
        "id": "3sJ09Sb0zm4U"
      }
    },
    {
      "cell_type": "code",
      "source": [
        "sentence = (\"if you want to build a ship, don't drum up people together to \"\n",
        "            \"collect wood and don't assign them tasks and work, but rather \"\n",
        "            \"teach them to long for the endless immensity of the sea.\")"
      ],
      "metadata": {
        "id": "MXsW97RzzqrX"
      },
      "execution_count": null,
      "outputs": []
    },
    {
      "cell_type": "markdown",
      "source": [
        "문자 집합을 생성, 각 문자에 고유한 정수 부여"
      ],
      "metadata": {
        "id": "9UrBAtsyzsAf"
      }
    },
    {
      "cell_type": "code",
      "source": [
        "char_set = list(set(sentence)) # 중복을 제거한 문자 집합 생성\n",
        "char_dic = {c: i for i, c in enumerate(char_set)} # 각 문자에 정수 인코딩"
      ],
      "metadata": {
        "id": "pWyK874FzrWm"
      },
      "execution_count": null,
      "outputs": []
    },
    {
      "cell_type": "code",
      "source": [
        "print(char_dic) # 공백도 여기서는 하나의 원소"
      ],
      "metadata": {
        "colab": {
          "base_uri": "https://localhost:8080/"
        },
        "id": "sa_8L5tTzwkh",
        "outputId": "6c0a04be-2836-4747-a6ac-d3c2255bb057"
      },
      "execution_count": null,
      "outputs": [
        {
          "output_type": "stream",
          "name": "stdout",
          "text": [
            "{'t': 0, 'h': 1, \"'\": 2, 'r': 3, 'w': 4, 'e': 5, 'n': 6, 'f': 7, '.': 8, 'u': 9, 'i': 10, 'c': 11, 's': 12, ',': 13, 'l': 14, 'k': 15, 'o': 16, 'b': 17, 'a': 18, 'd': 19, 'g': 20, ' ': 21, 'm': 22, 'y': 23, 'p': 24}\n"
          ]
        }
      ]
    },
    {
      "cell_type": "code",
      "source": [
        "dic_size = len(char_dic)\n",
        "print('문자 집합의 크기 : {}'.format(dic_size))"
      ],
      "metadata": {
        "colab": {
          "base_uri": "https://localhost:8080/"
        },
        "id": "bOWX-Yq_z0Mw",
        "outputId": "24a1f863-57f9-43ba-c3a5-77a4228c3579"
      },
      "execution_count": null,
      "outputs": [
        {
          "output_type": "stream",
          "name": "stdout",
          "text": [
            "문자 집합의 크기 : 25\n"
          ]
        }
      ]
    },
    {
      "cell_type": "code",
      "source": [
        "# 하이퍼파라미터 설정\n",
        "hidden_size = dic_size\n",
        "sequence_length = 10  # 임의 숫자 지정\n",
        "learning_rate = 0.1"
      ],
      "metadata": {
        "id": "GmCXbHR80WbW"
      },
      "execution_count": null,
      "outputs": []
    },
    {
      "cell_type": "code",
      "source": [
        "# 데이터 구성\n",
        "x_data = []\n",
        "y_data = []\n",
        "\n",
        "for i in range(0, len(sentence) - sequence_length):\n",
        "    x_str = sentence[i:i + sequence_length]\n",
        "    y_str = sentence[i + 1: i + sequence_length + 1]\n",
        "    print(i, x_str, '->', y_str)\n",
        "\n",
        "    x_data.append([char_dic[c] for c in x_str])  # x str to index\n",
        "    y_data.append([char_dic[c] for c in y_str])  # y str to index"
      ],
      "metadata": {
        "colab": {
          "base_uri": "https://localhost:8080/"
        },
        "id": "S73h5exY0X0k",
        "outputId": "008ffd36-7fe3-410e-ad7b-f7e5cddcd1d9"
      },
      "execution_count": null,
      "outputs": [
        {
          "output_type": "stream",
          "name": "stdout",
          "text": [
            "0 if you wan -> f you want\n",
            "1 f you want ->  you want \n",
            "2  you want  -> you want t\n",
            "3 you want t -> ou want to\n",
            "4 ou want to -> u want to \n",
            "5 u want to  ->  want to b\n",
            "6  want to b -> want to bu\n",
            "7 want to bu -> ant to bui\n",
            "8 ant to bui -> nt to buil\n",
            "9 nt to buil -> t to build\n",
            "10 t to build ->  to build \n",
            "11  to build  -> to build a\n",
            "12 to build a -> o build a \n",
            "13 o build a  ->  build a s\n",
            "14  build a s -> build a sh\n",
            "15 build a sh -> uild a shi\n",
            "16 uild a shi -> ild a ship\n",
            "17 ild a ship -> ld a ship,\n",
            "18 ld a ship, -> d a ship, \n",
            "19 d a ship,  ->  a ship, d\n",
            "20  a ship, d -> a ship, do\n",
            "21 a ship, do ->  ship, don\n",
            "22  ship, don -> ship, don'\n",
            "23 ship, don' -> hip, don't\n",
            "24 hip, don't -> ip, don't \n",
            "25 ip, don't  -> p, don't d\n",
            "26 p, don't d -> , don't dr\n",
            "27 , don't dr ->  don't dru\n",
            "28  don't dru -> don't drum\n",
            "29 don't drum -> on't drum \n",
            "30 on't drum  -> n't drum u\n",
            "31 n't drum u -> 't drum up\n",
            "32 't drum up -> t drum up \n",
            "33 t drum up  ->  drum up p\n",
            "34  drum up p -> drum up pe\n",
            "35 drum up pe -> rum up peo\n",
            "36 rum up peo -> um up peop\n",
            "37 um up peop -> m up peopl\n",
            "38 m up peopl ->  up people\n",
            "39  up people -> up people \n",
            "40 up people  -> p people t\n",
            "41 p people t ->  people to\n",
            "42  people to -> people tog\n",
            "43 people tog -> eople toge\n",
            "44 eople toge -> ople toget\n",
            "45 ople toget -> ple togeth\n",
            "46 ple togeth -> le togethe\n",
            "47 le togethe -> e together\n",
            "48 e together ->  together \n",
            "49  together  -> together t\n",
            "50 together t -> ogether to\n",
            "51 ogether to -> gether to \n",
            "52 gether to  -> ether to c\n",
            "53 ether to c -> ther to co\n",
            "54 ther to co -> her to col\n",
            "55 her to col -> er to coll\n",
            "56 er to coll -> r to colle\n",
            "57 r to colle ->  to collec\n",
            "58  to collec -> to collect\n",
            "59 to collect -> o collect \n",
            "60 o collect  ->  collect w\n",
            "61  collect w -> collect wo\n",
            "62 collect wo -> ollect woo\n",
            "63 ollect woo -> llect wood\n",
            "64 llect wood -> lect wood \n",
            "65 lect wood  -> ect wood a\n",
            "66 ect wood a -> ct wood an\n",
            "67 ct wood an -> t wood and\n",
            "68 t wood and ->  wood and \n",
            "69  wood and  -> wood and d\n",
            "70 wood and d -> ood and do\n",
            "71 ood and do -> od and don\n",
            "72 od and don -> d and don'\n",
            "73 d and don' ->  and don't\n",
            "74  and don't -> and don't \n",
            "75 and don't  -> nd don't a\n",
            "76 nd don't a -> d don't as\n",
            "77 d don't as ->  don't ass\n",
            "78  don't ass -> don't assi\n",
            "79 don't assi -> on't assig\n",
            "80 on't assig -> n't assign\n",
            "81 n't assign -> 't assign \n",
            "82 't assign  -> t assign t\n",
            "83 t assign t ->  assign th\n",
            "84  assign th -> assign the\n",
            "85 assign the -> ssign them\n",
            "86 ssign them -> sign them \n",
            "87 sign them  -> ign them t\n",
            "88 ign them t -> gn them ta\n",
            "89 gn them ta -> n them tas\n",
            "90 n them tas ->  them task\n",
            "91  them task -> them tasks\n",
            "92 them tasks -> hem tasks \n",
            "93 hem tasks  -> em tasks a\n",
            "94 em tasks a -> m tasks an\n",
            "95 m tasks an ->  tasks and\n",
            "96  tasks and -> tasks and \n",
            "97 tasks and  -> asks and w\n",
            "98 asks and w -> sks and wo\n",
            "99 sks and wo -> ks and wor\n",
            "100 ks and wor -> s and work\n",
            "101 s and work ->  and work,\n",
            "102  and work, -> and work, \n",
            "103 and work,  -> nd work, b\n",
            "104 nd work, b -> d work, bu\n",
            "105 d work, bu ->  work, but\n",
            "106  work, but -> work, but \n",
            "107 work, but  -> ork, but r\n",
            "108 ork, but r -> rk, but ra\n",
            "109 rk, but ra -> k, but rat\n",
            "110 k, but rat -> , but rath\n",
            "111 , but rath ->  but rathe\n",
            "112  but rathe -> but rather\n",
            "113 but rather -> ut rather \n",
            "114 ut rather  -> t rather t\n",
            "115 t rather t ->  rather te\n",
            "116  rather te -> rather tea\n",
            "117 rather tea -> ather teac\n",
            "118 ather teac -> ther teach\n",
            "119 ther teach -> her teach \n",
            "120 her teach  -> er teach t\n",
            "121 er teach t -> r teach th\n",
            "122 r teach th ->  teach the\n",
            "123  teach the -> teach them\n",
            "124 teach them -> each them \n",
            "125 each them  -> ach them t\n",
            "126 ach them t -> ch them to\n",
            "127 ch them to -> h them to \n",
            "128 h them to  ->  them to l\n",
            "129  them to l -> them to lo\n",
            "130 them to lo -> hem to lon\n",
            "131 hem to lon -> em to long\n",
            "132 em to long -> m to long \n",
            "133 m to long  ->  to long f\n",
            "134  to long f -> to long fo\n",
            "135 to long fo -> o long for\n",
            "136 o long for ->  long for \n",
            "137  long for  -> long for t\n",
            "138 long for t -> ong for th\n",
            "139 ong for th -> ng for the\n",
            "140 ng for the -> g for the \n",
            "141 g for the  ->  for the e\n",
            "142  for the e -> for the en\n",
            "143 for the en -> or the end\n",
            "144 or the end -> r the endl\n",
            "145 r the endl ->  the endle\n",
            "146  the endle -> the endles\n",
            "147 the endles -> he endless\n",
            "148 he endless -> e endless \n",
            "149 e endless  ->  endless i\n",
            "150  endless i -> endless im\n",
            "151 endless im -> ndless imm\n",
            "152 ndless imm -> dless imme\n",
            "153 dless imme -> less immen\n",
            "154 less immen -> ess immens\n",
            "155 ess immens -> ss immensi\n",
            "156 ss immensi -> s immensit\n",
            "157 s immensit ->  immensity\n",
            "158  immensity -> immensity \n",
            "159 immensity  -> mmensity o\n",
            "160 mmensity o -> mensity of\n",
            "161 mensity of -> ensity of \n",
            "162 ensity of  -> nsity of t\n",
            "163 nsity of t -> sity of th\n",
            "164 sity of th -> ity of the\n",
            "165 ity of the -> ty of the \n",
            "166 ty of the  -> y of the s\n",
            "167 y of the s ->  of the se\n",
            "168  of the se -> of the sea\n",
            "169 of the sea -> f the sea.\n"
          ]
        }
      ]
    },
    {
      "cell_type": "code",
      "source": [
        "print(x_data[0])\n",
        "print(y_data[0])"
      ],
      "metadata": {
        "colab": {
          "base_uri": "https://localhost:8080/"
        },
        "id": "pl51zMzv0dbE",
        "outputId": "fb629742-aa45-4c55-a9fc-addc7b2357af"
      },
      "execution_count": null,
      "outputs": [
        {
          "output_type": "stream",
          "name": "stdout",
          "text": [
            "[10, 7, 21, 23, 16, 9, 21, 4, 18, 6]\n",
            "[7, 21, 23, 16, 9, 21, 4, 18, 6, 0]\n"
          ]
        }
      ]
    },
    {
      "cell_type": "code",
      "source": [
        "# 입력 데이터, 레이블 데이터 텐서로 변환\n",
        "x_one_hot = [np.eye(dic_size)[x] for x in x_data] # x 데이터는 원-핫 인코딩\n",
        "X = torch.FloatTensor(x_one_hot)\n",
        "Y = torch.LongTensor(y_data)"
      ],
      "metadata": {
        "id": "HoA6904F0fbn"
      },
      "execution_count": null,
      "outputs": []
    },
    {
      "cell_type": "code",
      "source": [
        "print('훈련 데이터의 크기 : {}'.format(X.shape))\n",
        "print('레이블의 크기 : {}'.format(Y.shape))"
      ],
      "metadata": {
        "colab": {
          "base_uri": "https://localhost:8080/"
        },
        "id": "sFsCT2Ab0ie7",
        "outputId": "aca78c7f-cbf2-4d26-a34a-7d1492fe51e7"
      },
      "execution_count": null,
      "outputs": [
        {
          "output_type": "stream",
          "name": "stdout",
          "text": [
            "훈련 데이터의 크기 : torch.Size([170, 10, 25])\n",
            "레이블의 크기 : torch.Size([170, 10])\n"
          ]
        }
      ]
    },
    {
      "cell_type": "code",
      "source": [
        "# 원-핫 인코딩 결과 확인\n",
        "print(X[0])"
      ],
      "metadata": {
        "colab": {
          "base_uri": "https://localhost:8080/"
        },
        "id": "ca0hkIKX0kGg",
        "outputId": "55cb1f56-182b-4ef4-ea2f-c13175f28a5e"
      },
      "execution_count": null,
      "outputs": [
        {
          "output_type": "stream",
          "name": "stdout",
          "text": [
            "tensor([[0., 0., 0., 0., 0., 0., 0., 0., 0., 0., 1., 0., 0., 0., 0., 0., 0., 0.,\n",
            "         0., 0., 0., 0., 0., 0., 0.],\n",
            "        [0., 0., 0., 0., 0., 0., 0., 1., 0., 0., 0., 0., 0., 0., 0., 0., 0., 0.,\n",
            "         0., 0., 0., 0., 0., 0., 0.],\n",
            "        [0., 0., 0., 0., 0., 0., 0., 0., 0., 0., 0., 0., 0., 0., 0., 0., 0., 0.,\n",
            "         0., 0., 0., 1., 0., 0., 0.],\n",
            "        [0., 0., 0., 0., 0., 0., 0., 0., 0., 0., 0., 0., 0., 0., 0., 0., 0., 0.,\n",
            "         0., 0., 0., 0., 0., 1., 0.],\n",
            "        [0., 0., 0., 0., 0., 0., 0., 0., 0., 0., 0., 0., 0., 0., 0., 0., 1., 0.,\n",
            "         0., 0., 0., 0., 0., 0., 0.],\n",
            "        [0., 0., 0., 0., 0., 0., 0., 0., 0., 1., 0., 0., 0., 0., 0., 0., 0., 0.,\n",
            "         0., 0., 0., 0., 0., 0., 0.],\n",
            "        [0., 0., 0., 0., 0., 0., 0., 0., 0., 0., 0., 0., 0., 0., 0., 0., 0., 0.,\n",
            "         0., 0., 0., 1., 0., 0., 0.],\n",
            "        [0., 0., 0., 0., 1., 0., 0., 0., 0., 0., 0., 0., 0., 0., 0., 0., 0., 0.,\n",
            "         0., 0., 0., 0., 0., 0., 0.],\n",
            "        [0., 0., 0., 0., 0., 0., 0., 0., 0., 0., 0., 0., 0., 0., 0., 0., 0., 0.,\n",
            "         1., 0., 0., 0., 0., 0., 0.],\n",
            "        [0., 0., 0., 0., 0., 0., 1., 0., 0., 0., 0., 0., 0., 0., 0., 0., 0., 0.,\n",
            "         0., 0., 0., 0., 0., 0., 0.]])\n"
          ]
        }
      ]
    },
    {
      "cell_type": "code",
      "source": [
        "# 레이블 데이터 첫번째 샘플 출력\n",
        "print(Y[0])"
      ],
      "metadata": {
        "colab": {
          "base_uri": "https://localhost:8080/"
        },
        "id": "0ap7m2dv0ntM",
        "outputId": "9cdda55e-1b26-4b16-9bf6-76f046f4669a"
      },
      "execution_count": null,
      "outputs": [
        {
          "output_type": "stream",
          "name": "stdout",
          "text": [
            "tensor([ 7, 21, 23, 16,  9, 21,  4, 18,  6,  0])\n"
          ]
        }
      ]
    },
    {
      "cell_type": "markdown",
      "source": [
        "**2. 모델 구현**\n",
        "- RNN과 거의 동일하나 은닉층을 두개 쌓음"
      ],
      "metadata": {
        "id": "kUINUL6c0tH4"
      }
    },
    {
      "cell_type": "code",
      "source": [
        "class Net(torch.nn.Module):\n",
        "    def __init__(self, input_dim, hidden_dim, layers): # 현재 hidden_size는 dic_size와 같음.\n",
        "        super(Net, self).__init__()\n",
        "        self.rnn = torch.nn.RNN(input_dim, hidden_dim, num_layers=layers, batch_first=True)\n",
        "        self.fc = torch.nn.Linear(hidden_dim, hidden_dim, bias=True)\n",
        "\n",
        "    def forward(self, x):\n",
        "        x, _status = self.rnn(x)\n",
        "        x = self.fc(x)\n",
        "        return x"
      ],
      "metadata": {
        "id": "rI09wxIN0yJS"
      },
      "execution_count": null,
      "outputs": []
    },
    {
      "cell_type": "code",
      "source": [
        "net = Net(dic_size, hidden_size, 2) # 층 2개"
      ],
      "metadata": {
        "id": "vJxED2LK0z9W"
      },
      "execution_count": null,
      "outputs": []
    },
    {
      "cell_type": "code",
      "source": [
        "criterion = torch.nn.CrossEntropyLoss()\n",
        "optimizer = optim.Adam(net.parameters(), learning_rate)"
      ],
      "metadata": {
        "id": "Beqz10tp00-D"
      },
      "execution_count": null,
      "outputs": []
    },
    {
      "cell_type": "code",
      "source": [
        "outputs = net(X)\n",
        "print(outputs.shape) # 3차원 텐서"
      ],
      "metadata": {
        "colab": {
          "base_uri": "https://localhost:8080/"
        },
        "id": "mmky6bjo02HU",
        "outputId": "4ddd07b5-dc3d-4877-c9ec-8cb8fa93e075"
      },
      "execution_count": null,
      "outputs": [
        {
          "output_type": "stream",
          "name": "stdout",
          "text": [
            "torch.Size([170, 10, 25])\n"
          ]
        }
      ]
    },
    {
      "cell_type": "code",
      "source": [
        "print(outputs.view(-1, dic_size).shape) # 2차원 텐서로 변환."
      ],
      "metadata": {
        "colab": {
          "base_uri": "https://localhost:8080/"
        },
        "id": "cUSyDWAi03kr",
        "outputId": "67a6f698-071d-4263-98a8-1b5e3583a8b2"
      },
      "execution_count": null,
      "outputs": [
        {
          "output_type": "stream",
          "name": "stdout",
          "text": [
            "torch.Size([1700, 25])\n"
          ]
        }
      ]
    },
    {
      "cell_type": "code",
      "source": [
        "# 레이블 데이터의 크기 학인\n",
        "print(Y.shape)\n",
        "print(Y.view(-1).shape)"
      ],
      "metadata": {
        "colab": {
          "base_uri": "https://localhost:8080/"
        },
        "id": "S7a2L5UQ05Nc",
        "outputId": "58a0960b-5d0a-4466-cd95-3fad71a17c73"
      },
      "execution_count": null,
      "outputs": [
        {
          "output_type": "stream",
          "name": "stdout",
          "text": [
            "torch.Size([170, 10])\n",
            "torch.Size([1700])\n"
          ]
        }
      ]
    },
    {
      "cell_type": "code",
      "source": [
        "for i in range(100):\n",
        "    optimizer.zero_grad()\n",
        "    outputs = net(X) # (170, 10, 25) 크기를 가진 텐서를 매 에포크마다 모델의 입력으로 사용\n",
        "    loss = criterion(outputs.view(-1, dic_size), Y.view(-1))\n",
        "    loss.backward()\n",
        "    optimizer.step()\n",
        "\n",
        "    # results의 텐서 크기는 (170, 10)\n",
        "    results = outputs.argmax(dim=2)\n",
        "    predict_str = \"\"\n",
        "    for j, result in enumerate(results):\n",
        "        if j == 0: # 처음에는 예측 결과를 전부 가져오지만\n",
        "            predict_str += ''.join([char_set[t] for t in result])\n",
        "        else: # 그 다음에는 마지막 글자만 반복 추가\n",
        "            predict_str += char_set[result[-1]]\n",
        "\n",
        "    print(predict_str)"
      ],
      "metadata": {
        "colab": {
          "base_uri": "https://localhost:8080/"
        },
        "id": "aEv5h3Si08pJ",
        "outputId": "4422de7c-346e-4861-cfdc-aef4f529f035"
      },
      "execution_count": null,
      "outputs": [
        {
          "output_type": "stream",
          "name": "stdout",
          "text": [
            "uuuuuuuuuuuuuuuuuuuuuuuuuu'uuuuuuuuuuuuuuuu'uuuuuuuuuuuuuuuuuuuuuuuuuuuuuuuuuuuuuuuuuuuuuuuuuuuuuuuuuuuuuuuuuuuuuuuuuuuuuuuuuuuuuuuuuuuuuuuuuuuuuuuuuuuuuuuuuuuuuuuuuuuouuuuuuuuuuu\n",
            "    o  mo   oo  o o omo o    o    o      o o  o  moo  mo  m o  mo  o  oo   mo   o   o o o   o   o o o o o   o   o o o   o  m o o   o  m o o o   o  mo  moo  mooo     o  o o     mm \n",
            "                        o                                                                                         o t                     o                                        \n",
            "  t'ols a'olo'rl o'oll'pop.'dlnp '.'ope'olnl'orol'oll 'nrllo.'npolollrl''llo'ol ''nln'opo'orol'llor.lpo'olnll's n'ols's'o'ororonpn'o'oll'rlpololo.l ''nle'oln.lll.oolll '.olll'nll'\n",
            "  tot toe'ttoo ttolkttot ttotosktototttr ttttttkttttttotattto ttto ttsot'tttd tho.tta tttokttttttoo ttttttttt ttalttoot tt tht tttottttts'tttttoa thomttto ttottt tottttdtktttlttto\n",
            "e toe donl ohn hn  lohd ernnnn  n tnh nd ndnt nnonhenn ed thnrnnrntohdhn nthnlthhldht h nd nhn nthn onrnn dhn thd h tht n  dht nndnn nthn onlnton thhd ohn onn nr nh nhhthn on nhen\n",
            "e t e the    e    r th  i  e    r t e e  e    i    em  e otee ee       e t ee t e t t eet  tee  the e  e  t e to  t t e e  toe t the    t oe t oe toedooe         oe et  he ie ,   \n",
            " it t tonm t e  n t t thed  d e t t e othid t    t e   e  t e on  t    e  tor t e t t e   ,r er thtm  t e t ect t t t e    t tmtht em t e  np     t em o        , t n t ti doem on \n",
            "l t nmt  d t nm n t tht em  m nmt t  m toim np   th ct  m them np t  t np to  t nct t      to m th m   od t  pt t t t      t em  m  m them nd t e toem nr   thi          n t nm n p\n",
            "l toimtonc   nm n t tot  d  ton t t  m t  m t    toi t nm toem   om  tonp tor t nct ton  m to m toic  a d t   t tot t n  m toip  to m to m  d tor tonm  d   th    t     tn toim n  \n",
            "' ton tonco  nm n , toto '  ton t t  m ta d      to '  nm to k l     tonp tod t nkt ton    to m to   maod ton't t t t t  m to p  to m to  o p todkto rand   in  t       tn toiman  \n",
            "' ton'tond tonm n totato g, t n't t  m to d nd   to '   m to  on   a tong aod ton't ta   t to m todpn aod tan't t n tas  m to po t  m to  on' tod'to rand  oss    ta d  an to mani \n",
            "' ton tond to gun totatheg, ton'thd  m th dong   thd them thdton   a tong ahd ton'thd n g  ah m thdkn and ton't t s tos em th po t em thd on', od th rand e s s d ta    an to ranig\n",
            "' ton tond toerun d totheg, ton't t nm to toig   the toem toemon ems tong tod ton't t s    ahem tonke ahd tonkt t s tos em thsto toem thdcon t or themsnr e sos d to    an themshn \n",
            "l ton tond toerun d totheg, ton't t nm to tonl,  toe toem toemon  ms tong tod ton't tpo    aoem todke tod tonkt t n tod em tosto toem toecon ttod themsnd e  ss t to    on toemsoi \n",
            "l ton tonc to pun d tothep, ton't t nm ts toae e to  them toemoelems toel tod ton t tpoigt to m tod e tnd tonk, toi tod em tosco toem toetong,fod themend em silt tp    on toemenil\n",
            "l toeltonc toepui d tsthep, tondt t om ts toip   to  th m teemoele s tond tnd wonpt tsoip  to m tosci aod wonk, toi tothem tesco toem toetonp,tod th msod em si t ap ty on th meoip\n",
            "l tonl ond woepui d tothep, tondt t nm ts r sp e tod them th monlers tonl and won't tssigt to m toski tnd wonk, toi tothem thscs them to con' for themeod em si t ap ty on th mehis\n",
            "k tonltond wo punkd tsth p, ton't toum ts p ip e tog them th porlers wond and won't tssigs th m toski and wonk, tot tothem thscs them to pon' for th msnd em hi t ap ty on th mshis\n",
            "k toolwond wo puild asthip, don't asum as p iple tog them th po lero wond and won't assigu them tonki and wonk, tui tothem tesch them to por' for themsnd esihi t snyty on themship\n",
            "' toolwond to pui d asthip, don't asum as p aple tog them te morlemt wond and won't assiga them tanko and wonk, dut tothem tesch them to cor' for themsnd enihr t as ty on themshis\n",
            "' toomwond to pus d asthig, don't arum as p aple togethem to collert wond and won't assiga them tonko and wonk, dut tothem tesch them to cor' for theme d esshi d asmty on themehio\n",
            "' toomwont to cusld asthig, don't arum as p nple togethem to co lert wond and won't assign them tonko and wonk, bus tothem toschethem to corg for themend ess i t anity on themehao\n",
            "d toomwont to cutld asthig, don't arut ao people togethem te collert wond and won't assign them toski and wonk, dut tather tesch them to corg for themend ems imm asity on themehas\n",
            "d tormwont to cut d asshig, don't arum ap people togethem to collect wond and won't assign them tosko and work, dut wathe  tosch them to corg for themendless imt asity on themthas\n",
            "d tor wont to cutld a shig, don't arum ap people togethem to collect wond and won't assign them toske and wonk, dut wathe  to ch them to cong for themeod ess imm asity on themthas\n",
            "d toomwont to cutld a thip, don't arum tp people togethem te collect wond ant won't a sign them tasks and work, dut wathe  to ch them ta cong for themendless imm asity of themenap\n",
            "p toomwont to butld a thip, dun't arum tp people togethem to collect word and won't a sign them tosks and work, but wathem to ch them to cong for themendless imm asity of themehap\n",
            "ditoo wont to build a ship, don't arum up people togethem toecollect wood and won't assign them tosks and work, but rather toach them to cong for themendless immeasity of themehap\n",
            "ditoo wont to luild a ship, don't arum tp people together to collect word and won't assign them tosks and work, but rather toach them to cong for themendless immedsity of themeoap\n",
            "di oo wont to luild a ship, don't arum tp people togethem to collect wond and won't assign them tosks and work, but rather toach them to cong for the endless immensity of the eoap\n",
            "di oo wont to luild asship, don't arum up people togethem te collect wood and won't assign them tosks and work, but rather toach them to cong for the sndless immensity of the soac\n",
            "l tuo wont to luild a ship, don't arum tp people togethem te collect wood and don't assign them tosks and work, but rather teach them to cong for the endless immensity of the eoac\n",
            "l tuo want to luild a ship, don't arum tp people togethem te collect wood and don't assign them tasks and dork, but rather teach ther ta cong for the endless immensity of the eeac\n",
            "l foo want to luild a ship, don't arum tp people togethem teelollect wood and don't assign them tosks and dork, but rather teach ther to long for the endless immensity of the seas\n",
            "l foo want to luild a ship, don't arum up people togethem te collect wood and don't assign them tosks and dork, but rather teach them to long for the endless immensity of the eeac\n",
            "l foo want to build a ship, don't arum up people togethem te collect wood and don't assign them tosks and dork, but rather teach them to long for the endless immensity of the eeap\n",
            "l foo want to build a ship, don't arum up people together te collect wood and don't assign them tosks and work, but rather teach them to long for the endless immensity of the seas\n",
            "d foo want to build a ship, don't arum up people together to collect wood and don't assign them tosks and work, but rather teach them to long for the endless immensity of the eeap\n",
            "p foo want to build a ship, don't arum up people together to collect wood and don't assign them tosks and work, but rather toach them to long for the endless immensity of the eeap\n",
            "p foo want to build a ship, don't arum up people together to collect wood and don't assign them tosks and work, but rather toach them to long for the endless immensity of the seap\n",
            "p foo want to build a ship, don't arum up people together to collect wood and don't assign them tosks and work, but rather teach them to long for the endless immensity of the seap\n",
            "g foo want to build a ship, don't arum up people together to collect wood and don't assign them tosks and work, but rather teach them to long for the endless immensity of the seap\n",
            "g foo want to build a ship, don't arum up people together to collect wood and don't assign them tosks and work, but rather teach them to long for the endless immensity of the seap\n",
            "l foo want to build a ship, don't arum up people together to collect wood and don't assign them tosks and work, but rather teach them to long for the endless immensity of the seaf\n",
            "l foo want to build a ship, don't arum up people together to collect wood and don't assign them tosks and work, but rather teach them to long for the endless immensity of the seaf\n",
            "l foo want to build a ship, don't arum up people together to collect wood and don't assign them tosks and work, but rather teach them to long for the endless immensity of the seaf\n",
            "t foo want to build a ship, don't arum up people together to collect wood and don't assign them tosks and work, but rather teach them to long for the endless immensity of the seaf\n",
            "t foo want to build a ship, don't arum up people together to collect wood and don't assign them tosks and work, but rather teach them to long for the endless immensity of the sea.\n",
            "t foo want to build a ship, don't arum up people together to collect wood and don't assign them tasks and work, but rather teach them to long for the endless immensity of the sea.\n",
            "t foo want to build a ship, don't arum up people together to collect wood and don't assign them tasks and work, but rather teach them ta long for the endless immensity of the sea.\n",
            "d foo want to build a ship, don't arum up people together to collect wood and don't assign them tosks and work, but rather teach them to long for the endless immensity of the sea.\n",
            "l foo want to build a ship, don't arum up people together to collect wood and don't assign them tosks and work, but rather teach them to long for the endless immensity of the eeae\n",
            "l foo want to build a ship, don't arum up people together to collect wood and don't assign them tasks and work, but rather teach them to long for the sndless immensity of the sea.\n",
            "l foo want to build a ship, don't arum up people together to collect wood and don't assign them tasks and work, but rather teach them to long for the sndless immensity of the sea.\n",
            "m fou want to build a ship, don't arum up people together to collect wood and don't assign them tasks and work, but rather teach them to long for the endless immensity of the sea.\n",
            "m you want to build a ship, don't drum up people together to collect wood and don't dssign them tasks and work, but rather teach them to long for the endless immensity of the eea.\n",
            "m you want to build a ship, don't drum up people together to collect wood and don't dssign them tasks and work, but rather teach them to long for the endless immensity of the sea.\n",
            "m you want to build a ship, don't drum up people together to collect wood and don't dssign them tasks and work, but rather teach them to long for the endless immensity of the sea.\n",
            "l you want to build a ship, don't drum up people together to collect wood and don't dssign them tasks and work, but rather teach them to long for the endless immensity of the sea.\n",
            "l you want to build a ship, don't drum up people together to collect wood and don't assign them tasks and work, but rather teach them to long for the endless immensity of the sea.\n",
            "l you want to build a ship, don't arum up people together to collect wood and don't assign them tasks and work, but rather teach them to long for the endless immensity of the sea.\n",
            "l you want to build a ship, don't arum up people together te collect wood and don't assign them tasks and work, but rather teach them to long for the endless immensity of the sea.\n",
            "l you want to build a ship, don't drum up people together to collect wood and don't dssign them tasks and work, but rather teach them to long for the endless immensity of the sea.\n",
            "t you want to build a ship, don't drum up people together to collect wood and don't dssign them tasks and work, but rather teach them to long for the endless immensity of the sea.\n",
            "t you want to build a ship, don't drum up people together to collect wood and don't dssign them tasks and work, but rather teach them to long for the endless immensity of the sea.\n",
            "t you want to build a ship, don't drum up people together to collect wood and don't dssign them tasks and work, but rather teach them to long for the endless immensity of the sea.\n",
            "p you want to build a ship, don't drum up people together to collect wood and don't dssign them tasks and work, but rather teach them to long for the endless immensity of the sea.\n",
            "l you want to build a ship, don't arum up people together to collect wood and don't assign them tasks and work, but rather teach them to long for the endless immensity of the sea.\n",
            "l you want to build a ship, don't arum up people together to collect wood and don't assign them tasks and work, but rather teach them to long for the endless immensity of the sea.\n",
            "l you want to build a ship, don't drum up people together to collect wood and don't dssign them tosks and work, but rather teach them to long for the endless immensity of the sea.\n",
            "l you want to build a ship, don't drum up people together to collect wood and don't dssign them tasks and work, but rather teach them to long for the endless immensity of the sea.\n",
            "t you want to build a ship, don't drum up people together to collect wood and don't assign them tasks and work, but rather teach them to long for the endless immensity of the sea.\n",
            "t you want to build a ship, don't drum up people together to collect wood and don't assign them tasks and work, but rather teach them to long for the endless immensity of the sea.\n",
            "t you want to build a ship, don't drum up people together to collect wood and don't dssign them tasks and work, but rather teach them to long for the endless immensity of the sea.\n",
            "l you want to build a ship, don't drum up people together to collect wood and don't dssign them tasks and work, but rather teach them to long for the endless immensity of the sea.\n",
            "l you want to build a ship, don't drum up people together to collect wood and don't assign them tasks and work, but rather teach them to long for the endless immensity of the sea.\n",
            "l you want to build a ship, don't drum up people together to collect wood and don't assign them tasks and work, but rather teach them to long for the endless immensity of the sea.\n",
            "l you want to build a ship, don't drum up people together to collect wood and don't assign them tasks and work, but rather teach them to long for the endless immensity of the sea.\n",
            "t you want to build a ship, don't drum up people together to collect wood and don't assign them tasks and work, but rather teach them to long for the endless immensity of the sea.\n",
            "t you want to build a ship, don't drum up people together to collect wood and don't assign them tasks and work, but rather teach them to long for the endless immensity of the sea.\n",
            "t you want to build a ship, don't drum up people together to collect wood and don't assign them tasks and work, but rather teach them to long for the endless immensity of the sea.\n",
            "p you want to build a ship, don't drum up people together to collect wood and don't assign them tasks and work, but rather teach them to long for the endless immensity of the sea.\n",
            "m you want to build a ship, don't drum up people together to collect wood and don't assign them tasks and work, but rather teach them to long for the endless immensity of the sea.\n",
            "m you want to build a ship, don't drum up people together to collect wood and don't assign them tasks and work, but rather teach them to long for the endless immensity of the sea.\n",
            "l you want to build a ship, don't drum up people together to collect wood and don't assign them tasks and work, but rather teach them to long for the endless immensity of the sea.\n",
            "m you want to build a ship, don't drum up people together to collect wood and don't assign them tasks and work, but rather teach them to long for the endless immensity of the sea.\n",
            "g you want to build a ship, don't drum up people together to collect wood and don't assign them tasks and work, but rather teach them to long for the endless immensity of the sea.\n",
            "t you want to build a ship, don't drum up people together to collect wood and don't assign them tasks and work, but rather teach them to long for the endless immensity of the sea.\n",
            "l you want to build a ship, don't drum up people together to collect wood and don't assign them tasks and work, but rather teach them to long for the endless immensity of the sea.\n",
            "l you want to build a ship, don't drum up people together to collect wood and don't assign them tasks and work, but rather teach them to long for the endless immensity of the sea.\n",
            "p you want to build a ship, don't drum up people together to collect wood and don't assign them tasks and work, but rather teach them to long for the endless immensity of the sea.\n",
            "p you want to build a ship, don't drum up people together to collect wood and don't assign them tasks and work, but rather teach them to long for the endless immensity of the sea.\n",
            "p you want to build a ship, don't drum up people together to collect wood and don't dssign them tasks and work, but rather teach them to long for the endless immensity of the sea.\n",
            "p you want to build a ship, don't drum up people together to collect wood and don't dssign them tasks and work, but rather teach them to long for the endless immensity of the sea.\n",
            "p you want to build a ship, don't drum up people together to collect wood and don't assign them tasks and work, but rather teach them to long for the endless immensity of the sea.\n",
            "p you want to build a ship, don't drum up people together to collect wood and don't assign them tasks and work, but rather teach them to long for the endless immensity of the sea.\n",
            "p you want to build a ship, don't drum up people together to collect wood and don't assign them tasks and work, but rather teach them to long for the endless immensity of the sea.\n",
            "p you want to build a ship, don't drum up people together to collect wood and don't assign them tasks and work, but rather teach them to long for the endless immensity of the sea.\n",
            "l you want to build a ship, don't drum up people together to collect wood and don't assign them tasks and work, but rather teach them to long for the endless immensity of the sea.\n"
          ]
        }
      ]
    }
  ]
}